{
 "cells": [
  {
   "cell_type": "code",
   "execution_count": 1,
   "metadata": {},
   "outputs": [],
   "source": [
    "#https://www.machinelearningplus.com/nlp/topic-modeling-visualization-how-to-present-results-lda-models/\n",
    "#https://www.machinelearningplus.com/nlp/topic-modeling-gensim-python/\n",
    "from vaderSentiment.vaderSentiment import SentimentIntensityAnalyzer\n",
    "analyser = SentimentIntensityAnalyzer()"
   ]
  },
  {
   "cell_type": "code",
   "execution_count": 2,
   "metadata": {},
   "outputs": [],
   "source": [
    "def sentiment_analyzer_scores(sentence):\n",
    "    score = analyser.polarity_scores(sentence)\n",
    "    return score\n",
    "    #print(\"{:-<40} {}\".format(sentence, str(score)))"
   ]
  },
  {
   "cell_type": "code",
   "execution_count": 3,
   "metadata": {},
   "outputs": [],
   "source": [
    "import pandas as pd\n",
    "import numpy as np\n",
    "from pandas.io.json import json_normalize\n",
    "from gensim import corpora, models\n",
    "from scipy import stats,mean\n",
    "import math\n",
    "from scipy.stats import sem, t"
   ]
  },
  {
   "cell_type": "code",
   "execution_count": 4,
   "metadata": {},
   "outputs": [],
   "source": [
    "df=pd.read_csv('NLP part 1.csv')"
   ]
  },
  {
   "cell_type": "code",
   "execution_count": 5,
   "metadata": {},
   "outputs": [],
   "source": [
    "# Part 1 analysis independent to everything"
   ]
  },
  {
   "cell_type": "code",
   "execution_count": 6,
   "metadata": {},
   "outputs": [],
   "source": [
    "df_for_1=pd.read_csv('NLP part 1 for analysis.csv')\n",
    "df_final=df_for_1[['No of parts answered for Q17','No of parts answered for Q9','No of parts answered for Q10','No of parts answered for Q16','No of parts answered for Q11','No of parts answered for Q8','No of parts answered for Q14','No of parts answered for Q15','No of parts answered for Q7','No of parts answered for Q13','No of parts answered for Q6','No of parts answered for Q1']]"
   ]
  },
  {
   "cell_type": "code",
   "execution_count": 7,
   "metadata": {},
   "outputs": [],
   "source": [
    "df_final = df_final.iloc[6:]"
   ]
  },
  {
   "cell_type": "code",
   "execution_count": 8,
   "metadata": {},
   "outputs": [
    {
     "data": {
      "text/plain": [
       "No of parts answered for Q17    3.733108\n",
       "No of parts answered for Q9     3.557432\n",
       "No of parts answered for Q10    4.081081\n",
       "No of parts answered for Q16    4.101351\n",
       "No of parts answered for Q11    3.932432\n",
       "No of parts answered for Q8     4.570946\n",
       "No of parts answered for Q14    4.162162\n",
       "No of parts answered for Q15    4.209459\n",
       "No of parts answered for Q7     4.425676\n",
       "No of parts answered for Q13    5.070946\n",
       "No of parts answered for Q6     5.179054\n",
       "No of parts answered for Q1     5.942568\n",
       "dtype: float64"
      ]
     },
     "execution_count": 8,
     "metadata": {},
     "output_type": "execute_result"
    }
   ],
   "source": [
    "m=mean(df_final)\n",
    "m"
   ]
  },
  {
   "cell_type": "code",
   "execution_count": 9,
   "metadata": {},
   "outputs": [
    {
     "data": {
      "text/plain": [
       "array([0.17893906, 0.179677  , 0.1789435 , 0.17736555, 0.18087209,\n",
       "       0.17402665, 0.18381039, 0.18464329, 0.18136895, 0.17918193,\n",
       "       0.17699553, 0.1655798 ])"
      ]
     },
     "execution_count": 9,
     "metadata": {},
     "output_type": "execute_result"
    }
   ],
   "source": [
    "std_err = sem(df_final)\n",
    "std_err"
   ]
  },
  {
   "cell_type": "code",
   "execution_count": 10,
   "metadata": {},
   "outputs": [
    {
     "data": {
      "text/plain": [
       "296"
      ]
     },
     "execution_count": 10,
     "metadata": {},
     "output_type": "execute_result"
    }
   ],
   "source": [
    "confidence=.95\n",
    "n=len(df_final)\n",
    "h = std_err * t.ppf((1 + confidence) / 2, n - 1)\n",
    "n"
   ]
  },
  {
   "cell_type": "code",
   "execution_count": 11,
   "metadata": {},
   "outputs": [
    {
     "data": {
      "text/plain": [
       "Ttest_relResult(statistic=11.392993857929614, pvalue=3.650386699293624e-25)"
      ]
     },
     "execution_count": 11,
     "metadata": {},
     "output_type": "execute_result"
    }
   ],
   "source": [
    "stats.ttest_rel(df_final['No of parts answered for Q1'],df_final['No of parts answered for Q7'])"
   ]
  },
  {
   "cell_type": "code",
   "execution_count": 12,
   "metadata": {},
   "outputs": [
    {
     "data": {
      "text/plain": [
       "Ttest_indResult(statistic=6.176679202778881, pvalue=1.2198102734263898e-09)"
      ]
     },
     "execution_count": 12,
     "metadata": {},
     "output_type": "execute_result"
    }
   ],
   "source": [
    "stats.ttest_ind(df_final.dropna()['No of parts answered for Q1'], df_final.dropna()['No of parts answered for Q7'])"
   ]
  },
  {
   "cell_type": "code",
   "execution_count": null,
   "metadata": {},
   "outputs": [],
   "source": []
  },
  {
   "cell_type": "code",
   "execution_count": null,
   "metadata": {},
   "outputs": [],
   "source": []
  },
  {
   "cell_type": "code",
   "execution_count": null,
   "metadata": {},
   "outputs": [],
   "source": []
  },
  {
   "cell_type": "code",
   "execution_count": null,
   "metadata": {},
   "outputs": [],
   "source": []
  },
  {
   "cell_type": "code",
   "execution_count": null,
   "metadata": {},
   "outputs": [],
   "source": []
  },
  {
   "cell_type": "code",
   "execution_count": 13,
   "metadata": {},
   "outputs": [],
   "source": [
    "# Part 2 analysis"
   ]
  },
  {
   "cell_type": "code",
   "execution_count": 14,
   "metadata": {},
   "outputs": [],
   "source": [
    "ndf=df.drop(columns=['StartDate', 'EndDate','Status','Progress','Duration (in seconds)','Finished','RecordedDate','ResponseId','RecipientLastName','RecipientFirstName','RecipientEmail','ExternalReference','LocationLatitude','LocationLongitude','DistributionChannel','UserLanguage'])"
   ]
  },
  {
   "cell_type": "code",
   "execution_count": 15,
   "metadata": {},
   "outputs": [],
   "source": [
    "ndf[\"Q1\"] = ndf[\"Q1_1\"].map(str) + ' ' + ndf[\"Q1_2\"] +' ' +  ndf[\"Q1_3\"] + ' ' + ndf[\"Q1_4\"]+' ' +  ndf[\"Q1_5\"]+ ' ' + ndf[\"Q1_6\"]+ ' ' + ndf[\"Q1_7\"]+' ' +  ndf[\"Q1_8\"]\n",
    "ndf[\"Q6\"] = ndf[\"Q6_1\"].map(str) + ' ' + ndf[\"Q6_2\"] + ' ' + ndf[\"Q6_3\"] + ' ' + ndf[\"Q6_4\"]+ ' ' + ndf[\"Q6_5\"]+' ' +  ndf[\"Q6_6\"]+ ' ' + ndf[\"Q6_7\"]+ ' ' + ndf[\"Q6_8\"]\n",
    "ndf[\"Q13\"] = ndf[\"Q13_1\"].map(str) + ' ' + ndf[\"Q13_2\"] +' ' +  ndf[\"Q13_3\"] +' ' +  ndf[\"Q13_4\"]+ ' ' + ndf[\"Q13_5\"]+' ' +  ndf[\"Q13_6\"]+ ' ' + ndf[\"Q13_7\"]+' ' +  ndf[\"Q13_8\"]\n",
    "ndf[\"Q7\"] = ndf[\"Q7_1\"].map(str) +' ' +  ndf[\"Q7_2\"] +' ' +  ndf[\"Q7_3\"] + ' ' + ndf[\"Q7_4\"]+ ' ' + ndf[\"Q7_5\"]+' ' +  ndf[\"Q7_6\"]+' ' +  ndf[\"Q7_7\"]+' ' +  ndf[\"Q7_8\"]\n",
    "ndf[\"Q15\"] = ndf[\"Q15_1\"].map(str) + ' ' + ndf[\"Q15_2\"] +' ' +  ndf[\"Q15_3\"] + ' ' + ndf[\"Q15_4\"]+' ' +  ndf[\"Q15_5\"]+ ' ' + ndf[\"Q15_6\"]+ ' ' + ndf[\"Q15_7\"]+ ' ' + ndf[\"Q15_8\"]\n",
    "ndf[\"Q14\"] = ndf[\"Q14_1\"].map(str) + ' ' + ndf[\"Q14_2\"] +' ' +  ndf[\"Q14_3\"] + ' ' + ndf[\"Q14_4\"]+' ' +  ndf[\"Q14_5\"]+ ' ' + ndf[\"Q14_6\"]+ ' ' + ndf[\"Q14_7\"]+' ' +  ndf[\"Q14_8\"]\n",
    "ndf[\"Q8\"] = ndf[\"Q8_1\"].map(str) + ' ' + ndf[\"Q8_2\"] +' ' +  ndf[\"Q8_3\"] + ' ' + ndf[\"Q8_4\"]+' ' +  ndf[\"Q8_5\"]+' ' +  ndf[\"Q8_6\"]+' ' +  ndf[\"Q8_7\"]+' ' +  ndf[\"Q8_8\"]\n",
    "ndf[\"Q11\"] = ndf[\"Q11_1\"].map(str) + ' ' + ndf[\"Q11_2\"] +' ' +  ndf[\"Q11_3\"] +' ' +  ndf[\"Q11_4\"]+' ' +  ndf[\"Q11_5\"]+ ' ' + ndf[\"Q11_6\"]+' ' +  ndf[\"Q11_7\"]+ ' ' + ndf[\"Q11_8\"]\n",
    "ndf[\"Q16\"] = ndf[\"Q16_1\"].map(str) +' ' +  ndf[\"Q16_2\"] +' ' +  ndf[\"Q16_3\"] +' ' +  ndf[\"Q16_4\"]+ ' ' + ndf[\"Q16_5\"]+' ' +  ndf[\"Q16_6\"]+ ' ' + ndf[\"Q16_7\"]+' ' +  ndf[\"Q16_8\"]\n",
    "ndf[\"Q10\"] = ndf[\"Q10_1\"].map(str) + ' ' + ndf[\"Q10_2\"] + ' ' + ndf[\"Q10_3\"] + ' ' + ndf[\"Q10_4\"]+ ' ' + ndf[\"Q10_5\"]+ ' ' + ndf[\"Q10_6\"]+ ' ' + ndf[\"Q10_7\"]+ ' ' + ndf[\"Q10_8\"]\n",
    "ndf[\"Q9\"] = ndf[\"Q9_1\"].map(str) +' ' +  ndf[\"Q9_2\"] +' ' +  ndf[\"Q9_3\"] + ' ' + ndf[\"Q9_4\"]+ ' ' + ndf[\"Q9_5\"]+ ' ' + ndf[\"Q9_6\"]+ ' ' + ndf[\"Q9_7\"]+' ' +  ndf[\"Q9_8\"]\n",
    "ndf[\"Q17\"] = ndf[\"Q17_1\"].map(str) + ' ' + ndf[\"Q17_2\"] + ' ' + ndf[\"Q17_3\"] +' ' +  ndf[\"Q17_4\"]+ ' ' + ndf[\"Q17_5\"]+' ' +  ndf[\"Q17_6\"]+ ' ' + ndf[\"Q17_7\"]+' ' +  ndf[\"Q17_8\"]"
   ]
  },
  {
   "cell_type": "code",
   "execution_count": 16,
   "metadata": {},
   "outputs": [],
   "source": [
    "mdf=ndf.drop(columns=['No of parts not answered for Q1','No of parts not answered for Q17','No of parts not answered for Q9','No of parts not answered for Q10','No of parts not answered for Q16','No of parts not answered for Q11','No of parts not answered for Q8','No of parts not answered for Q14','No of parts not answered for Q15','No of parts not answered for Q7','No of parts not answered for Q1','No of parts not answered for Q7','No of parts not answered for Q1','No of parts not answered for Q6','No of parts not answered for Q13','Q19','Q1_1','Q1_2','Q1_3','Q1_4','Q1_5','Q1_6','Q1_7','Q1_8','Q6_1','Q6_2','Q6_3','Q6_4','Q6_5','Q6_6','Q6_7','Q6_8','Q13_1','Q13_2','Q13_3','Q13_4','Q13_5','Q13_6','Q13_7','Q13_8','Q7_1','Q7_2','Q7_3','Q7_4','Q7_5','Q7_6','Q7_7','Q7_8','Q15_1','Q15_2','Q15_3','Q15_4','Q15_5','Q15_6','Q15_7','Q15_8','Q14_1','Q14_2','Q14_3','Q14_4','Q14_5','Q14_6','Q14_7','Q14_8','Q8_1','Q8_2','Q8_3','Q8_4','Q8_5','Q8_6','Q8_7','Q8_8','Q11_1','Q11_2','Q11_3','Q11_4','Q11_5','Q11_6','Q11_7','Q11_8','Q16_1','Q16_2','Q16_3','Q16_4','Q16_5','Q16_6','Q16_7','Q16_8','Q10_1','Q10_2','Q10_3','Q10_4','Q10_5','Q10_6','Q10_7','Q10_8','Q9_1','Q9_2','Q9_3','Q9_4','Q9_5','Q9_6','Q9_7','Q9_8','Q17_1','Q17_2','Q17_3','Q17_4','Q17_5','Q17_6','Q17_7','Q17_8'])"
   ]
  },
  {
   "cell_type": "code",
   "execution_count": 17,
   "metadata": {},
   "outputs": [],
   "source": [
    "jdf=mdf.drop([0, 1, 2, 64,74,85,138,150,144,198,199,239,242,250,292 ])"
   ]
  },
  {
   "cell_type": "code",
   "execution_count": 18,
   "metadata": {},
   "outputs": [],
   "source": [
    "jdf.to_csv(r'C:\\Users\\avich\\python-projects\\UIUC\\PreComputing.csv')"
   ]
  },
  {
   "cell_type": "code",
   "execution_count": 19,
   "metadata": {},
   "outputs": [
    {
     "data": {
      "text/plain": [
       "\"jdf['Q1f']=jdf['Q1'].str.cat(sep=' ')\\njdf['Q6f']=jdf['Q6'].str.cat(sep=' ')\\njdf['Q13f']=jdf['Q13'].str.cat(sep=' ')\\njdf['Q7f']=jdf['Q7'].str.cat(sep=' ')\\njdf['Q15f']=jdf['Q15'].str.cat(sep=' ')\\njdf['Q14f']=jdf['Q14'].str.cat(sep=' ')\\njdf['Q8f']=jdf['Q8'].str.cat(sep=' ')\\njdf['Q11f']=jdf['Q11'].str.cat(sep=' ')\\njdf['Q16f']=jdf['Q16'].str.cat(sep=' ')\\njdf['Q10f']=jdf['Q10'].str.cat(sep=' ')\\njdf['Q9f']=jdf['Q9'].str.cat(sep=' ')\\njdf['Q17f']=jdf['Q17'].str.cat(sep=' ')\\n\\n\\n\\n#sentiment_analyzer_scores(jdf['Q1f'].iloc[0])\\n#sentiment_analyzer_scores(jdf['Q6f'].iloc[0])... \\nfrom this..\\nwe get this result ->{'neg': 0.053, 'neu': 0.666, 'pos': 0.281, 'compound': 1.0}\\n\""
      ]
     },
     "execution_count": 19,
     "metadata": {},
     "output_type": "execute_result"
    }
   ],
   "source": [
    "'''jdf['Q1f']=jdf['Q1'].str.cat(sep=' ')\n",
    "jdf['Q6f']=jdf['Q6'].str.cat(sep=' ')\n",
    "jdf['Q13f']=jdf['Q13'].str.cat(sep=' ')\n",
    "jdf['Q7f']=jdf['Q7'].str.cat(sep=' ')\n",
    "jdf['Q15f']=jdf['Q15'].str.cat(sep=' ')\n",
    "jdf['Q14f']=jdf['Q14'].str.cat(sep=' ')\n",
    "jdf['Q8f']=jdf['Q8'].str.cat(sep=' ')\n",
    "jdf['Q11f']=jdf['Q11'].str.cat(sep=' ')\n",
    "jdf['Q16f']=jdf['Q16'].str.cat(sep=' ')\n",
    "jdf['Q10f']=jdf['Q10'].str.cat(sep=' ')\n",
    "jdf['Q9f']=jdf['Q9'].str.cat(sep=' ')\n",
    "jdf['Q17f']=jdf['Q17'].str.cat(sep=' ')\n",
    "\n",
    "\n",
    "\n",
    "#sentiment_analyzer_scores(jdf['Q1f'].iloc[0])\n",
    "#sentiment_analyzer_scores(jdf['Q6f'].iloc[0])... \n",
    "from this..\n",
    "we get this result ->{'neg': 0.053, 'neu': 0.666, 'pos': 0.281, 'compound': 1.0}\n",
    "'''"
   ]
  },
  {
   "cell_type": "code",
   "execution_count": null,
   "metadata": {},
   "outputs": [],
   "source": []
  },
  {
   "cell_type": "code",
   "execution_count": 20,
   "metadata": {},
   "outputs": [
    {
     "name": "stderr",
     "output_type": "stream",
     "text": [
      "C:\\Users\\avich\\Anaconda3\\lib\\site-packages\\ipykernel_launcher.py:2: SettingWithCopyWarning: \n",
      "A value is trying to be set on a copy of a slice from a DataFrame.\n",
      "Try using .loc[row_indexer,col_indexer] = value instead\n",
      "\n",
      "See the caveats in the documentation: http://pandas.pydata.org/pandas-docs/stable/user_guide/indexing.html#returning-a-view-versus-a-copy\n",
      "  \n"
     ]
    }
   ],
   "source": [
    "df_new = jdf[jdf['Q1'].notnull()]\n",
    "df_new['scores for Q1'] = df_new.apply(lambda x: sentiment_analyzer_scores(x.Q1), axis=1)"
   ]
  },
  {
   "cell_type": "code",
   "execution_count": 21,
   "metadata": {},
   "outputs": [],
   "source": [
    "df_new = df_new[df_new['Q6'].notnull()]\n",
    "df_new['scores for Q6'] = df_new.apply(lambda x: sentiment_analyzer_scores(x.Q6), axis=1)"
   ]
  },
  {
   "cell_type": "code",
   "execution_count": 22,
   "metadata": {},
   "outputs": [],
   "source": [
    "df_new = df_new[df_new['Q13'].notnull()]\n",
    "df_new['scores for Q13'] = df_new.apply(lambda x: sentiment_analyzer_scores(x.Q13), axis=1)"
   ]
  },
  {
   "cell_type": "code",
   "execution_count": 23,
   "metadata": {},
   "outputs": [],
   "source": [
    "df_new = df_new[df_new['Q15'].notnull()]\n",
    "df_new['scores for Q15'] = df_new.apply(lambda x: sentiment_analyzer_scores(x.Q15), axis=1)"
   ]
  },
  {
   "cell_type": "code",
   "execution_count": 24,
   "metadata": {},
   "outputs": [],
   "source": [
    "df_new = df_new[df_new['Q7'].notnull()]\n",
    "df_new['scores for Q7'] = df_new.apply(lambda x: sentiment_analyzer_scores(x.Q7), axis=1)"
   ]
  },
  {
   "cell_type": "code",
   "execution_count": 25,
   "metadata": {},
   "outputs": [],
   "source": [
    "df_new = df_new[df_new['Q14'].notnull()]\n",
    "df_new['scores for Q14'] = df_new.apply(lambda x: sentiment_analyzer_scores(x.Q14), axis=1)"
   ]
  },
  {
   "cell_type": "code",
   "execution_count": 26,
   "metadata": {},
   "outputs": [],
   "source": [
    "df_new = df_new[df_new['Q8'].notnull()]\n",
    "df_new['scores for Q8'] = df_new.apply(lambda x: sentiment_analyzer_scores(x.Q8), axis=1)"
   ]
  },
  {
   "cell_type": "code",
   "execution_count": 27,
   "metadata": {},
   "outputs": [],
   "source": [
    "df_new = df_new[df_new['Q11'].notnull()]\n",
    "df_new['scores for Q11'] = df_new.apply(lambda x: sentiment_analyzer_scores(x.Q11), axis=1)"
   ]
  },
  {
   "cell_type": "code",
   "execution_count": 28,
   "metadata": {},
   "outputs": [],
   "source": [
    "df_new = df_new[df_new['Q16'].notnull()]\n",
    "df_new['scores for Q16'] = df_new.apply(lambda x: sentiment_analyzer_scores(x.Q16), axis=1)"
   ]
  },
  {
   "cell_type": "code",
   "execution_count": 29,
   "metadata": {},
   "outputs": [],
   "source": [
    "df_new = df_new[df_new['Q10'].notnull()]\n",
    "df_new['scores for Q10'] = df_new.apply(lambda x: sentiment_analyzer_scores(x.Q10), axis=1)"
   ]
  },
  {
   "cell_type": "code",
   "execution_count": 30,
   "metadata": {},
   "outputs": [],
   "source": [
    "df_new = df_new[df_new['Q9'].notnull()]\n",
    "df_new['scores for Q9'] = df_new.apply(lambda x: sentiment_analyzer_scores(x.Q9), axis=1)"
   ]
  },
  {
   "cell_type": "code",
   "execution_count": 31,
   "metadata": {},
   "outputs": [],
   "source": [
    "df_new = df_new[df_new['Q17'].notnull()]\n",
    "df_new['scores for Q17'] = df_new.apply(lambda x: sentiment_analyzer_scores(x.Q17), axis=1)"
   ]
  },
  {
   "cell_type": "code",
   "execution_count": 32,
   "metadata": {},
   "outputs": [],
   "source": [
    "df_new.to_csv(r'C:\\Users\\avich\\python-projects\\UIUC\\Final A1.csv')"
   ]
  },
  {
   "cell_type": "code",
   "execution_count": 33,
   "metadata": {},
   "outputs": [],
   "source": [
    "# for part 2"
   ]
  },
  {
   "cell_type": "code",
   "execution_count": 34,
   "metadata": {},
   "outputs": [],
   "source": [
    "# Segregates all the scores into different columns\n",
    "\n",
    "k0df=json_normalize(df_new['scores for Q1'])\n",
    "\n",
    "kdf=json_normalize(df_new['scores for Q6'])\n",
    "\n",
    "k1df=json_normalize(df_new['scores for Q13'])\n",
    "\n",
    "k2df=json_normalize(df_new['scores for Q15'])\n",
    "\n",
    "k3df=json_normalize(df_new['scores for Q7'])\n",
    "\n",
    "k4df=json_normalize(df_new['scores for Q14'])\n",
    "\n",
    "k5df=json_normalize(df_new['scores for Q8'])\n",
    "\n",
    "k6df=json_normalize(df_new['scores for Q11'])\n",
    "\n",
    "k7df=json_normalize(df_new['scores for Q16'])\n",
    "\n",
    "k8df=json_normalize(df_new['scores for Q10'])\n",
    "\n",
    "k9df=json_normalize(df_new['scores for Q9'])\n",
    "\n",
    "k10df=json_normalize(df_new['scores for Q17'])"
   ]
  },
  {
   "cell_type": "code",
   "execution_count": 35,
   "metadata": {},
   "outputs": [
    {
     "data": {
      "text/plain": [
       "0.582257575757576"
      ]
     },
     "execution_count": 35,
     "metadata": {},
     "output_type": "execute_result"
    }
   ],
   "source": [
    "k10df['neu'].mean()"
   ]
  },
  {
   "cell_type": "code",
   "execution_count": 36,
   "metadata": {},
   "outputs": [
    {
     "data": {
      "text/plain": [
       "0.24235744392204267"
      ]
     },
     "execution_count": 36,
     "metadata": {},
     "output_type": "execute_result"
    }
   ],
   "source": [
    "np.std(k10df['neu'])"
   ]
  },
  {
   "cell_type": "code",
   "execution_count": 37,
   "metadata": {},
   "outputs": [],
   "source": [
    "# Paired T tests\n",
    "tn17, pn17 = stats.ttest_rel(k0df['neg'], k3df['neg'])\n",
    "tp17, pp17 = stats.ttest_rel(k0df['pos'], k3df['pos'])\n",
    "tu17, pu17 = stats.ttest_rel(k0df['neu'], k3df['neu'])\n",
    "\n",
    "tn615, pn615 = stats.ttest_rel(kdf['neg'], k2df['neg'])\n",
    "tp615, pp615 = stats.ttest_rel(kdf['pos'], k2df['pos'])\n",
    "tu615, pu615 = stats.ttest_rel(kdf['neu'], k2df['neu'])\n",
    "\n",
    "tn1314, pn1314 = stats.ttest_rel(k1df['neg'], k4df['neg'])\n",
    "tp1314, pp1314 = stats.ttest_rel(k1df['pos'], k4df['pos'])\n",
    "tu1314, pu1314 = stats.ttest_rel(k1df['neu'], k4df['neu'])\n",
    "\n",
    "tn810, pn810 = stats.ttest_rel(k5df['neg'], k8df['neg'])\n",
    "tp810, pp810 = stats.ttest_rel(k5df['pos'], k8df['pos'])\n",
    "tu810, pu810 = stats.ttest_rel(k5df['neu'], k8df['neu'])\n",
    "\n",
    "tn119, pn119 = stats.ttest_rel(k6df['neg'], k9df['neg'])\n",
    "tp119, pp119 = stats.ttest_rel(k6df['pos'], k9df['pos'])\n",
    "tu119, pu119 = stats.ttest_rel(k6df['neu'], k9df['neu'])\n",
    "\n",
    "tn1617, pn1617 = stats.ttest_rel(k7df['neg'], k10df['neg'])\n",
    "tp1617, pp1617 = stats.ttest_rel(k7df['pos'], k10df['pos'])\n",
    "tu1617, pu1617 = stats.ttest_rel(k7df['neu'], k10df['neu'])"
   ]
  },
  {
   "cell_type": "code",
   "execution_count": 38,
   "metadata": {},
   "outputs": [
    {
     "data": {
      "text/plain": [
       "-0.6196711378127602"
      ]
     },
     "execution_count": 38,
     "metadata": {},
     "output_type": "execute_result"
    }
   ],
   "source": [
    "tu1617"
   ]
  },
  {
   "cell_type": "code",
   "execution_count": 39,
   "metadata": {},
   "outputs": [],
   "source": [
    "# Text analysis\n",
    "# https://www.datacamp.com/community/tutorials/text-analytics-beginners-nltk"
   ]
  },
  {
   "cell_type": "code",
   "execution_count": 40,
   "metadata": {},
   "outputs": [],
   "source": [
    "ldf=df_new.drop(['IPAddress','scores for Q1','scores for Q6','scores for Q13','scores for Q15','scores for Q7','scores for Q14','scores for Q8','scores for Q11','scores for Q16','scores for Q10','scores for Q9','scores for Q17'],axis=1)\n",
    "text = ldf.to_string(index = False)\n",
    "str1 = ''.join(text)\n",
    "strf=str1.lower()"
   ]
  },
  {
   "cell_type": "code",
   "execution_count": 87,
   "metadata": {},
   "outputs": [],
   "source": [
    "import nltk\n",
    "from nltk.tokenize import sent_tokenize\n",
    "\n",
    "tokenized_text=sent_tokenize(strf)"
   ]
  },
  {
   "cell_type": "code",
   "execution_count": 88,
   "metadata": {},
   "outputs": [],
   "source": [
    "from nltk.tokenize import word_tokenize\n",
    "tokenized_word=word_tokenize(strf)"
   ]
  },
  {
   "cell_type": "code",
   "execution_count": 89,
   "metadata": {},
   "outputs": [
    {
     "name": "stdout",
     "output_type": "stream",
     "text": [
      "<FreqDist with 1750 samples and 7030 outcomes>\n"
     ]
    }
   ],
   "source": [
    "from nltk.probability import FreqDist\n",
    "fdist = FreqDist(tokenized_word)\n",
    "print(fdist)"
   ]
  },
  {
   "cell_type": "code",
   "execution_count": 90,
   "metadata": {},
   "outputs": [
    {
     "data": {
      "text/plain": [
       "[('...', 729), ('good', 207)]"
      ]
     },
     "execution_count": 90,
     "metadata": {},
     "output_type": "execute_result"
    }
   ],
   "source": [
    "fdist.most_common(2)"
   ]
  },
  {
   "cell_type": "code",
   "execution_count": 91,
   "metadata": {},
   "outputs": [
    {
     "data": {
      "image/png": "[encoded data removed]",
      "text/plain": [
       "<Figure size 432x288 with 1 Axes>"
      ]
     },
     "metadata": {
      "needs_background": "light"
     },
     "output_type": "display_data"
    }
   ],
   "source": [
    "import matplotlib.pyplot as plt\n",
    "fdist.plot(30,cumulative=False)\n",
    "plt.show()"
   ]
  },
  {
   "cell_type": "code",
   "execution_count": 92,
   "metadata": {},
   "outputs": [],
   "source": [
    "# Spell Checker\n",
    "#https://stackoverflow.com/questions/13928155/spell-checker-for-python\n",
    "#http://norvig.com/spell-correct.html"
   ]
  },
  {
   "cell_type": "code",
   "execution_count": 93,
   "metadata": {},
   "outputs": [],
   "source": [
    "from nltk.corpus import stopwords\n",
    "stop_words=set(stopwords.words(\"english\"))"
   ]
  },
  {
   "cell_type": "code",
   "execution_count": 94,
   "metadata": {},
   "outputs": [
    {
     "name": "stdout",
     "output_type": "stream",
     "text": [
      "Tokenized Sentence: ['q1', 'q6', 'q13', 'q7', 'q15', 'q14', 'q8', 'q11', 'q16', 'q10', 'q9', 'q17', 'you', 'are', 'doing', 'something', 'active', 'can', 'result', 'in', 'a', '...', 'could', 'make', 'the', 'wrong', 'choice', 'could', 'lead', 'to', 'wors', '...', 'drive', 'understanding', 'plan', 'effort', 'desire', 'skill', 't', '...', 'rest', 'no', 'need', 'to', 'plan', 'no', 'need', 'to', 'design', 'free', 'ti', '...', 'things', 'could', 'get', 'worse', 'might', 'miss', 'something', 'mi', '...', 'lazy', 'depression', 'no', 'drive', 'no', 'motivation', 'no', 'desi', '...', 'healthy', 'strong', 'build', 'muscle', 'burn', 'calories', 'gain', '...', 'takes', 'time', 'takes', 'energy', 'can', 'cause', 'pain', 'deal', 'wi', '...', 'good', 'routine', 'good', 'energy', 'levels', 'good', 'sleep', 'goo', '...', 'better', 'health', 'feeling', 'rested', 'better', 'mental', 'hea', '...', 'back', 'can', 'hurt', 'can', 'wake', 'up', 'not', 'feeling', 'rested', 't', '...', 'good', 'lighting', 'good', 'air', 'good', 'temp', 'good', 'blankets', '...', 'promotes', 'process', 'testing', 'ideas', 'encourage', 'chang', '...', 'strenthen', 'self', 'esttem', 'strenthen', 'self', 'esttem', 'st', '...', 'goal', 'and', 'steps', 'should', 'be', 'measurable', 'to', 'create', '...', 'dont', 'do', 'that', 'anything', 'inactivity', ',', 'inactivity', ',', '...', 'inactiondo', 'that', 'specify', 'note', 'inactiondo', 'that', 's', '...', 'good', 'inactiondo', 'that', 'specify', 'note', 'inactiondo', 't', '...', 'running', 'advantage', 'sterenthern', 'musle', 'running', 'ad', '...', 'pain', 'it', 'will', 'be', 'occur', 'pain', 'it', 'will', 'be', 'occur', 'pa', '...', 'not', 'to', 'handle', 'not', 'to', 'handle', 'not', 'to', 'handle', 'not', '...', 'relax', 'the', 'work', 'relax', 'the', 'work', 'relax', 'the', 'work', '...', 'work', 'delaya', 'work', 'delaya', 'work', 'delaya', 'work', 'delay', '...', 'time', 'spend', 'and', 'take', 'it', 'rest', 'time', 'spend', 'and', 'tak', '...', 'things', 'get', 'done', 'answers', 'can', 'be', 'found', 'progress', '...', 'only', 'fools', 'rush', 'in', 'a', 'well', 'thought', 'out', 'plan', 'is', '...', 'thought', 'motivation', 'desire', 'drive', 'will', 'gusto', 'pas', '...', 'more', 'time', 'to', 'think', 'wait', 'and', 'see', 'other', 'results', '...', 'passed', 'my', 'early', 'adopters', 'missed', 'opprotunitites', '...', 'nothing', 'lack', 'of', 'will', 'lack', 'of', 'desire', 'lack', 'of', 'st', '...', 'health', 'strength', 'fresh', 'air', 'wellbeing', 'alone', 'time', '...', 'time', 'consuming', 'hard', 'on', 'joints', 'boring', 'tiresome', '...', 'drive', 'desire', 'strength', 'mental', 'fortitude', 'will', 'av', '...', 'rest', 'mental', 'strength', 'necesity', 'clarity', 'rechargi', '...', 'loss', 'of', 'productivity', 'bad', 'dreams', 'time', 'with', 'sign', '...', 'bed', 'time', 'tired', 'location', 'comfort', 'exaustion', 'will', '...', 'change', 'movement', 'improvement', 'justice', 'start', 'chan', '...', 'change', 'unknown', 'force', 'painful', 'fear', 'sudden', 'scare', '...', 'force', 'idea', 'movement', 'change', 'need', 'sudden', 'reactio', '...', 'unchanged', 'same', 'no', 'disruption', 'calm', 'no', 'surprises', '...', 'dull', 'stagnent', 'obsolete', 'dated', 'falling', 'behind', 'd', '...', 'nothing', 'stay', 'the', 'same', 'no', 'plan', 'no', 'vision', 'no', 'fut', '...', 'exercise', 'healthy', 'stay', 'in', 'shape', 'heart', 'rate', 'los', '...', 'no', 'time', 'back', 'pain', 'foot', 'pain', 'ankle', 'pain', 'dull', 'bo', '...', 'put', 'on', 'shoes', 'start', 'running', 'buy', 'shoes', 'put', 'on', 'cl', '...', 'energy', 'rest', 'feel', 'better', 'reduces', 'stress', 'improve', '...', 'depression', '.', 'pain', 'obesity', 'heart', 'disease', 'lazy', 'u', '...', 'bed', 'pillow', 'close', 'eyes', 'tired', 'darkness', 'quiet', 'ex', '...', 'desired', 'manifestations', 'desires', 'met', 'needs', 'met', 'f', '...', 'mistakes', 'undesired', 'results', 'regrets', 'time', 'wasted', '...', 'plan', 'accountability', 'time', 'confidence', 'peace', 'of', 'm', '...', 'protection', 'time', 'to', 'think', 'time', 'to', 'plan', 'no', 'mista', '...', 'losing', 'out', 'missed', 'opportunities', 'lack', 'of', 'resour', '...', 'doubting', 'self', 'doubting', 'others', 'not', 'trusting', 'se', '...', 'healthy', 'lungs', 'healthy', 'muscles', 'healthy', 'heart', 'he', '...', 'knee', 'joints', 'wear', 'and', 'tear', 'muscle', 'wear', 'and', 'tear', '...', 'good', 'pair', 'of', 'running', 'shoes', 'athletic/running', 'ap', '...', 'healthy', 'healing', 'good', 'for', 'memory', 'good', 'for', 'prope', '...', 'missed', 'opportunities', 'not', 'enough', 'time', 'in', 'the', 'da', '...', 'hard', 'work', 'worry', 'depression', 'irritability', 'sickne', '...', 'you', 'accomplish', 'goals', 'i', \"'m\", 'happier', 'when', 'i', \"'m\", 'prod', '...', 'you', 'may', 'get', 'stressed', 'easily', 'you', 'may', 'burn', 'out', 'f', '...', 'form', 'a', 'plan', 'align', 'yourself', 'with', 'the', 'right', 'peop', '...', 'you', 'have', 'more', 'time', 'to', 'reflect', 'on', 'new', 'ideas', 'you', '...', 'nothing', 'new', 'gets', 'accomplished', 'you', 'do', \"n't\", 'maximi', '...', 'you', 'need', 'to', 'control', 'impulses', '.', 'you', 'need', 'to', 'reco', '...', 'you', 'maintain', 'strength', '.', 'you', 'can', 'lose', 'weight', '.', 'yo', '...', 'it', 'is', 'tiring', '.', 'it', 'creates', 'soreness', '.', 'a', 'lot', 'of', 'ac', '...', 'you', 'should', 'have', 'proper', 'running', 'clothes', 'and', 'sho', '...', 'you', 'are', 'refreshed', 'the', 'next', 'day', '.', 'you', 'build', 'your', '...', 'you', 'are', 'less', 'productive', '.', 'you', 'might', 'miss', 'out', 'on', '...', 'you', 'need', 'to', 'be', 'tired', '.', 'you', 'need', 'to', 'be', 'in', 'a', 'dark', '...', 'strength', 'intuitiveness', 'movement', 'exercise', 'forwa', '...', 'pain', 'frustration', 'anxiety', 'depression', 'suffocatio', '...', 'movement', 'thought', 'brain', 'connections', 'frustration', '...', 'calmness', 'peace', 'serinity', 'love', 'for', 'self', 'mindfull', '...', 'not', 'being', 'social', 'bad', 'thoughts', 'muscle', 'fatigue', 'b', '...', 'sleep', 'stay', 'in', 'bed', 'depression', 'anxiety', 'shutting', '...', 'exercise', 'moves', 'lymphatic', 'system', 'pain', 'aching', 'ga', '...', 'sores', 'on', 'feet', 'sores', 'on', 'thighs', 'sweat', 'muscle', 'fat', '...', 'good', 'shoes', 'will', 'to', 'move', 'socks', 'no', 'headaches', 'no', '...', 'clear', 'mind', 'not', 'have', 'to', 'think', 'no', 'suicide', 'attemp', '...', 'hearing', 'my', 'husbnd', 'snore', 'wake', 'up', 'achy', 'no', 'bed', 'co', '...', 'no', 'light', 'comfortable', 'bed', 'cool', 'temperatures', 'bla', '...', 'achieving', 'a', 'goal', 'completing', 'a', 'project', 'ensuring', '...', 'chance', 'of', 'harming', 'someone', 'chance', 'of', 'a', 'material', '...', 'an', 'agent', 'an', 'abstract', 'reason', 'or', 'principle', 'a', 'mat', '...', 'saving', 'face', 'preserving', 'time', 'preserving', 'money', 'p', '...', 'loss', 'of', 'potential', 'material', 'gain', 'loss', 'of', 'potent', '...', 'fear', 'of', 'loss', 'of', 'mental', 'energy', 'fear', 'of', 'loss', 'of', '...', 'learning', 'to', 'be', 'at', 'peace', 'with', 'oneself', 'learning', '...', 'possible', 'injury', 'to', 'knees', 'possible', 'injury', 'to', 'fe', '...', 'the', 'will', 'or', 'motivation', 'to', 'begin', 'the', 'discipline', '...', 'physical', 'health', 'mental', 'health', 'energy', 'regularit', '...', 'time', 'spent', 'not', 'working', 'on', 'a', 'critical', 'task', 'time', '...', 'quiet', 'darkness', 'comfort', 'tiredness', 'available', 'tim', '...', 'self', 'confidence', 'good', 'physique', 'assertiveness', 'le', '...', 'bad', 'image', 'fighter', 'character', 'responsibilty', 'fear', '...', 'good', 'body', 'talent', 'confidence', 'mental', 'stability', 'b', '...', 'be', 'safe', 'no', 'enemy', 'stable', 'calm', 'good', 'direction', 'li', '...', 'fear', 'disbelief', 'dependent', 'no', 'good', 'physique', 'warn', '...', 'mental', 'stablity', 'calm', 'peace', 'inactive', 'disbelief', '...', 'healthy', 'good', 'body', 'maintanence', 'live', 'life', 'happy', '...', 'time', 'consuming', 'back', 'pain', 'weight', 'bearing', 'risk', 'o', '...', 'effort', 'focus', 'time', 'managemnet', 'good', 'shoes', 'good', 'p', '...', 'good', 'function', 'in', 'body', 'reduces', 'stress', 'peace', 'hap', '...', 'depression', 'inflammation', 'diabetes', 'pain', 'heart', 'di', '...', 'avoid', 'irregular', 'naps', 'good', 'place', 'peaceful', 'mind', '...', 'doing', 'something', 'doing', 'productive', 'things', 'fight', '...', 'can', 'be', 'attacked', 'can', 'be', 'destroyed', 'fast', 'wrong', 'se', '...', 'tends', 'to', 'war', 'fight', 'destroy', 'lost', 'slap', 'push', 'hit', '...', 'like', 'love', 'pull', 'affection', 'brave', 'courage', 'sister', '...', 'passion', 'aim', 'love', 'affection', 'entrepreneur', 'being', '...', 'loser', 'not', 'winner', 'procrastinator', 'lover', 'lazy', 'was', '...', 'exercise', 'lose', 'fat', 'decrease', 'calorie', 'fit', 'gym', 'dur', '...', 'time', 'waste', 'continuous', 'work', 'waste', 'of', 'place', 'wast', '...', 'fit', 'body', 'fitness', 'gym', 'body', 'body', 'builder', 'lover', 'f', '...', 'rest', 'heart', 'healthy', 'alert', 'improves', 'memory', 'reduc', '...', 'time', 'waste', 'dumbs', 'you', 'down', 'accident', 'less', 'attent', '...', 'death', 'uneasy', 'less', 'attention', 'heart', 'disease', 'irr', '...', 'getting', 'things', 'done', 'on', 'time', 'accomplishing', 'a', 'go', '...', 'rushing', 'not', 'being', 'able', 'to', 'complete', 'all', 'tasks', '...', 'focusing', 'on', 'specific', 'details', 'stop', ',', 'listen', ',', 'and', '...', 'lack', 'of', 'movement', 'hypnotism', 'in', 'the', 'mind', 'lack', 'of', '...', 'not', 'getting', 'tasks', 'done', 'ontime', 'making', 'a', 'mistake', '...', 'listening', 'to', 'reason', 'putting', 'on', 'a', 'good', 'smile', 'be', '...', 'feeling', 'better', 'letting', 'of', 'steam', 'letting', 'of', 'str', '...', 'going', 'overboard', 'getting', 'hurt', 'can', 'develop', 'heart', '...', 'stretch', 'your', 'body', 'good', 'running', 'shoes', 'comfortab', '...', 'getting', 'rest', 'regulates', 'your', 'blood', 'sugar', 'levels', '...', 'being', 'overtired', 'depression', 'higher', 'risk', 'of', 'diab', '...', 'find', 'a', 'comfortable', 'place', 'to', 'lay', 'down', 'have', 'musi', '...', 'it', 'gets', 'things', 'done', 'it', 'has', 'movement', 'better', 'tha', '...', 'it', 'can', 'be', 'done', 'wrongly', 'you', 'can', 'rush', 'too', 'much', 'y', '...', 'your', 'mind', 'to', 'open', 'morals', 'a', 'plan', 'being', 'brave', 'ha', '...', 'you', \"'re\", 'looked', 'at', 'as', 'lazy', 'you', 'risk', 'disease', 'you', '...', 'you', 'can', 'look', 'like', 'a', 'fool', 'nothing', 'will', 'get', 'done', '...', 'sleep', 'low', 'energy', 'confusion', 'on', 'what', 'to', 'do', 'bad', 'f', '...', 'being', 'healthy', 'using', 'your', 'potential', 'being', 'mobil', '...', 'you', 'can', 'hurt', 'yourself', 'feeling', 'tired', 'over', 'doing', '...', 'mindset', 'to', 'do', 'it', 'good', 'starts', 'plans', 'to', 'be', 'skinn', '...', 'rest', 'energy', 'afterward', 'immune', 'system', 'betterment', '...', 'you', 'sleep', 'too', 'long', 'and', 'miss', 'an', 'apointment', 'you', '...', 'tiredness', 'relaxation', 'prior', 'sleep', 'aides', 'sometim', '...', 'effectiveness', 'productivity', 'experience', 'soft', 'ski', '...', 'emotions', 'difficulties', 'problems', 'solution', 'irrita', '...', 'make', 'it', 'plan', 'measurable', 'take', 'action', 'consider', 't', '...', 'lazy', 'sleeping', 'meaningless', 'life', 'bad', 'irresponsib', '...', 'lazy', 'irresposibility', 'week', 'sleeping', 'illness', 'ten', '...', 'sleeping', 'lazy', 'lie', 'feelings', 'relax', 'joyfull', 'happy', '...', 'burn', 'colories', 'strength', 'muscles', 'strength', 'genera', '...', 'damaged', 'bearing', 'joints', 'increasing', 'risk', 'heart', 'a', '...', 'have', 'a', 'plan', 'get', 'on', 'mot', 'consider', 'a', 'club', 'gait', 'an', '...', 'prevent', 'cancer', 'heart', 'healthy', 'reduce', 'stress', 'red', '...', 'depression', 'increased', 'inflamation', 'increased', 'pai', '...', 'increasing', 'the', 'bright', 'light', 'reduce', 'blue', 'light', '...', 'motivication', 'build', 'objective', 'present', 'community', '...', 'cool', 'learn', 'space', 'heat', 'leave', 'learn', 'speen', 'piece', 'good', 'bye', 'love', 'availabe', 'carrier', 'gave', 'give', 'space', 'good', 'good', 'good', 'good', 'good', 'good', 'good', 'good', 'good', 'good', 'good', 'good', 'good', 'good', 'good', 'good', 'good', 'good', 'good', 'good', 'good', 'good', 'good', 'good', 'good', 'good', 'good', 'good', 'good', 'good', 'good', 'good', 'slow', 'slow', 'slow', 'slow', 'slow', 'slow', 'slow', 'slow', 'good', 'good', 'good', 'good', 'good', 'good', 'good', 'good', 'good', 'good', 'good', 'good', 'good', 'good', 'good', 'good', 'good', 'good', 'good', 'good', 'good', 'good', 'good', 'good', 'good', 'good', 'good', 'good', 'good', 'good', 'good', 'good', 'creates', 'ownership', 'people', 'are', 'involved', 'in', 'devel', '...', 'considering', 'its', 'suitability', 'for', 'any', 'given', 'stu', '...', 'believe', 'is', 'true', 'about', 'yourself', 'and', 'your', 'future', '...', 'we', 'get', 'a', 'clue', 'what', 'constitutes', 'action', 'in', 'inact', '...', 'without', 'desires', 'feel', 'oppressed', 'by', 'it', 'the', 'issue', '...', 'i', 'do', 'not', 'know', 'if', 'you', 'have', 'really', 'understood', ',', 'w', '...', 'mind', 'relax', 'decreases', 'symptoms', 'of', 'depression', 'de', '...', 'increased', 'risk', 'of', 'heart', 'attack', 'potential', 'for', 'b', '...', 'increases', 'endurance', ',', 'builds', 'muscle', 'to', 'maintain', '...', 'healthy', 'better', 'regulate', 'blood', 'sugar', 'levels', 'im', '...', 'short', 'temper', 'diabetes', 'obesity', 'headaches', 'back', 'p', '...', 'cognitive', 'impairments', 'irritability', 'delusions', 'a', '...', 'an', 'interactive', 'form', 'has', 'fields', 'spaces', ',', 'to', 'ente', '...', 'click', 'to', 'download', 'a', 'copy', '...', 'how', 'to', 'write', 'info', '...', 'the', 'form', 'can', 'also', 'be', 'printed', ',', 'either', 'blank', 'to', '...', 'an', 'interactive', 'form', 'has', 'fields', ',', 'or', 'spaces', ',', 'to', '...', 'coercion', 'and', 'public', 'punishment', ',', 'and', 'in', 'the', 'fie', '...', 'none', 'type', 'form', 'for', 'requesting', 'services', 'of', 'the', '...', 'what', 'are', 'the', 'benefits', 'of', 'running', '?', 'physical', 'ben', '...', 'going', 'for', 'a', 'run', 'is', 'a', 'fashion', 'sport', 'that', 'has', 'mo', '...', 'this', 'guide', 'to', 'start', 'running', 'from', 'scratch', 'is', 'di', '...', 'in', 'addition', 'to', 'being', 'a', 'great', 'pleasure', ',', 'sleepin', '...', 'what', 'consequences', 'does', 'little', 'sleep', 'have', '?', '...', '...', 'sleep', 'has', 'become', 'a', 'fundamental', 'issue', 'for', 'those', '...', 'very', 'good', 'very', 'good', 'is', 'very', 'good', 'all', 'good', 'very', '...', 'is', 'very', 'good', 'all', 'is', 'very', 'good', 'all', 'is', 'very', 'good', '...', 'is', 'very', 'good', 'all', 'is', 'very', 'good', 'all', 'is', 'very', 'good', '...', 'is', 'very', 'good', 'all', 'very', 'good', 'very', 'good', 'good', 'very', '...', 'is', 'very', 'good', 'all', 'is', 'very', 'good', 'all', 'is', 'very', 'good', '...', 'is', 'very', 'good', 'all', 'is', 'very', 'good', 'all', 'is', 'very', 'good', '...', 'is', 'very', 'good', 'all', 'is', 'very', 'good', 'all', 'is', 'very', 'good', '...', 'is', 'very', 'good', 'all', 'is', 'very', 'good', 'all', 'is', 'very', 'good', '...', 'is', 'very', 'good', 'all', 'is', 'very', 'good', 'all', 'is', 'very', 'good', '...', 'is', 'very', 'good', 'all', 'is', 'very', 'good', 'all', 'is', 'very', 'good', '...', 'is', 'very', 'good', 'all', 'is', 'very', 'good', 'all', 'is', 'very', 'good', '...', 'is', 'very', 'good', 'all', 'is', 'very', 'good', 'all', 'is', 'very', 'good', '...', 'eating', 'drinking', 'playing', 'sleeping', 'roaming', 'swi', '...', 'sad', 'depress', 'dull', 'sweat', 'lazy', 'tired', 'bad', 'not', 'well', 'terrible', 'honour', 'clever', 'knowledge', 'gain', 'lost', 'swi', '...', 'swap', 'passion', 'wiped', 'seized', 'well', 'disappoint', 'plea', '...', 'ca', \"n't\", 'digest', 'terrible', 'dishonour', 'nice', 'discomfor', '...', 'did', \"n't\", 'worst', 'bagon', 'best', 'gather', 'themselves', 'not', '...', 'fitness', 'healthy', 'weight-loss', 'diet', 'goodness', 'swea', '...', 'sweat', 'discomfort', 'dull', 'dirty', 'worse', 'pain', 'notice', '...', 'energy', 'well', 'good', 'freak', 'wisher', 'passion', 'best', 'fine', 'good', 'fine', 'no', 'worry', 'best', 'super', 'feel', 'rest', 'soul', 'lazy', 'worse', 'not', 'good', 'not', 'even', 'not', 'one', 'not', 'one', '...', 'none', 'nonee', 'none', 'none', 'none', 'none', 'none', 'none', 'feeling', 'good', 'being', 'satisfied', 'with', 'what', 'you', 'did', '...', 'cause', 'more', 'harm', 'draw', 'attention', 'to', 'you', 'or', 'the', 's', '...', 'you', 'have', 'to', 'be', 'able', 'to', 'think', 'you', 'have', 'to', 'have', '...', 'you', 'can', 'claim', 'that', 'you', 'did', \"n't\", 'do', 'it', '!', 'you', 'can', 'f', '...', 'you', 'might', 'be', 'in', 'trouble', 'for', 'not', 'acting', 'you', 'wou', '...', 'a', 'certain', 'amount', 'of', 'stability', 'plenty', 'of', 'food', 'p', '...', 'health', 'better', 'cardiovascular', 'system', 'look', 'bette', '...', 'injuries', 'hurting', 'your', 'achiles', 'repetitive', 'stres', '...', 'good', 'sports', 'bra', 'good', 'shoes', 'safe', 'place', 'okay', 'wea', '...', 'being', 'your', 'best', 'rest', 'mental', 'wellness', 'being', 'h', '...', 'lost', 'time', 'bad', 'dreams', 'unsafe', 'do', \"n't\", 'know', 'whats', 'h', '...', 'safe', 'place', 'being', 'tired', 'dark', 'good', 'temp', 'control', '...', 'getting', 'good', 'join', 'in', 'core', 'field', 'settled', 'in', 'wea', '...', 'ride', 'with', 'dream', 'bike', 'go', 'to', 'tour', 'spend', 'with', 'fam', '...', 'missing', 'school', 'life', 'missing', 'school', 'friends', 'mis', '...', 'i', 'hate', 'private', 'jobs', 'i', 'have', 'only', 'low', 'amount', 'i', 'h', '...', 'i', 'for', 'mesmerising', 'i', 'got', 'angry', 'i', 'have', 'long', 'frie', '...', 'i', 'like', 'to', 'buy', 'dream', 'car', 'i', 'like', 'to', 'drive', 'it', 'on', '...', 'good', 'health', 'fitness', 'mind', 'freshness', 'body', 'wealth', '...', 'nil', 'good', 'health', 'only', 'nil', 'nil', 'nil', 'nil', 'nil', 'nil', 'good', 'action', 'great', 'health', 'good', 'body', 'condition', 'g', '...', 'good', 'health', 'great', 'wealth', 'good', 'mine', 'have', 'good', 'f', '...', 'anytime', 'thinking', 'cause', 'headache', 'affect', 'health', '...', 'nil', 'nil', 'nil', 'nil', 'nil', 'nil', 'nil', 'nil', 'work', 'love', 'experience', 'run', 'swim', 'write', 'dance', 'speak', 'sad', 'work', 'fuck', 'suck', 'look', 'book', 'read', 'write', 'book', 'write', 'wrote', 'stusy', 'dance', 'type', 'stay', 'act', 'work', 'work', 'work', 'work', 'work', 'work', 'work', 'work', 'work', 'work', 'work', 'work', 'work', 'work', 'work', 'work', 'work', 'work', 'work', 'work', 'work', 'work', 'work', 'work', 'work', 'work', 'work', 'work', 'work', 'work', 'work', 'work', 'work', 'work', 'work', 'work', 'work', 'work', 'work', 'work', 'work', 'work', 'work', 'work', 'work', 'work', 'work', 'work', 'work', 'work', 'work', 'work', 'work', 'work', 'work', 'work', 'work', 'work', 'work', 'work', 'work', 'work', 'work', 'work', 'work', 'work', 'work', 'work', 'work', 'work', 'work', 'work', 'changing', 'things', 'in', 'the', 'real', 'world', 'improving', 'ps', '...', 'living', 'with', 'regret', 'feeling', 'helpless', 'losing', 'a', '...', 'motivation', 'strength', 'of', 'character', 'desire', 'to', 'cha', '...', 'not', 'becoming', 'a', 'target', 'not', 'exposing', 'oneself', 'to', '...', 'not', 'achieving', 'goals', 'losing', 'out', 'on', 'life', 'not', 'hav', '...', 'apathy', 'listlessness', 'indifference', 'uninvolved', 'fe', '...', 'strong', 'legs', 'toned', 'physique', 'cardiovascular', 'heal', '...', 'injury', 'to', 'feet', 'over', '-exertion', 'excessive', 'weigh', '...', 'place', 'to', 'run', 'good', 'legs', 'endurance', 'good', 'shoes', 'no', '...', 'good', 'physical', 'health', 'good', 'mental', 'health', 'feeli', '...', 'potentially', 'achieving', 'less', 'feeling', 'left', 'out', 'no', '...', 'being', 'tired', 'having', 'a', 'bed', 'having', 'a', 'house', 'turnin', '...', 'enhance', 'personal', 'effectiveness', 'and', 'productivit', '...', 'time', 'consuming', '.', 'difficulties', 'planning', 'too', 'clos', '...', 'confidence', 'self', 'esteem', 'an', 'action', 'list', 'forces', '...', 'economic', 'and', 'social', 'benefits', 'of', 'climate', 'inform', '...', 'no', 'gain', 'result', 'is', 'not', 'favour', 'economic', 'loss', 'so', '...', 'because', 'of', 'nothing', 'oyu', 'know', 'depend', 'on', 'someone', '...', 'strengthen', 'muscles', '.', 'help', 'to', 'build', 'strong', 'bones', '...', 'increased', 'risk', 'of', 'heart', 'attack', '.', '...', 'potential', '...', 'run', 'in', 'early', 'morning', 'eat', 'healthy', 'increase', 'the', '...', 'sleep', 'keeps', 'your', 'heart', 'healthy', '.', '...', 'may', 'help', 'p', '...', 'cognitive', 'impairment', '.', 'depression', '.', 'increased', 'in', '...', 'eat', 'more', 'eat', 'at', 'proper', 'time', 'dont', 'use', 'cell', 'phon', '...', 'better', 'health', 'making', 'changes', 'being', 'proactive', 'm', '...', 'fear', 'impulsivity', 'unnecessary', 'changes', 'disconten', '...', 'good', 'health', 'energy', 'will', 'motivation', 'boldness', 'cl', '...', 'stagnating', 'living', 'in', 'the', 'past', 'smoldering', 'depre', '...', 'fear', 'anxiety', 'depression', 'not', 'changing', 'no', 'progre', '...', 'fear', 'anger', 'financial', 'insecurity', 'fear', 'of', 'embarr', '...', 'better', 'health', 'better', 'fitness', 'increased', 'energy', '...', 'exhaustion', 'muscle', 'pain', 'strain', 'tiredness', 'burnou', '...', 'good', 'health', 'overall', 'good', 'outlook', 'drive', 'determ', '...', 'better', 'mood', 'better', 'health', 'more', 'energy', 'more', 'cal', '...', 'depression', 'bad', 'habits', 'addiction', 'anxiety', 'sadnes', '...', 'relaxation', 'tea', 'soothing', 'music', 'silence', 'patience', '...', 'bad', 'not', 'at', 'all', 'important', 'it', 'is', 'a', 'wast', 'of', 'time', '...', 'it', 'reduces', 'time', 'it', 'reduces', 'stress', 'it', 'is', 'an', 'alt', '...', 'being', 'alone', 'waste', 'of', 'time', 'good', 'for', 'the', 'childre', '...', 'ok', 'nice', 'none', 'sad', 'angry', 'fun', 'excellent', 'excited', 'i', 'do', \"n't\", 'know', 'ok', 'excellent', 'very', 'important', 'very', '...', 'ok', 'good', 'ok', 'bad', 'ok', 'ok', 'ok', 'ok', 'k', 'k', 'k', 'k', 'k', 'k', 'k', 'k', 'it', 'is', 'too', 'much', 'i', 'do', \"n't\", 'have', 'time', 'to', 'answer', 'the', '...', 'k', 'k', 'k', 'k', 'k', 'k', 'k', 'k', 'k', 'k', 'k', 'k', 'k', 'k', 'k', 'k', 'ujj', 'yh', 'f', 'gg', 'f', 'tf', 'g', 'f', 'h', 'h', 'y', 'g', 'r', 't', 't', 'g', 'getting', 'healthy', 'getting', 'things', 'done', 'staying', 'on', '...', 'losing', 'time', 'becoming', 'overtired', 'becoming', 'overwo', '...', 'you', 'need', 'to', 'have', 'motivation', 'you', 'need', 'to', 'have', 'w', '...', 'getting', 'enough', 'rest', 'having', 'time', 'for', 'family', 'and', '...', 'gaining', 'weight', 'getting', 'bored', 'with', 'life', 'getting', '...', 'you', 'need', 'to', 'stay', 'still', 'you', 'need', 'an', 'environment', '...', 'being', 'healthier', 'losing', 'weight', 'having', 'more', 'endu', '...', 'getting', 'hurt', 'giving', 'up', 'after', 'starting', 'having', 'b', '...', 'motivation', 'the', 'right', 'shoes', 'certain', 'clothes', 'tim', '...', 'becoming', 'healthy', 'having', 'energy', 'for', 'the', 'day', 'let', '...', 'sleeping', 'too', 'much', 'feeling', 'groggy', 'getting', 'heada', '...', 'the', 'right', 'environment', 'bed', 'pillow', 'blankets', 'bein', '...', 'health', 'excitement', 'progress', 'movement', 'adventure', '...', 'exhaustion', 'risk', 'pain', 'wrong', 'decision', 'failure', 'sh', '...', 'mindset', 'finances', 'strength', 'emotion', 'passion', 'dedi', '...', 'rest', 'sanity', 'lack', 'of', 'responsibility', 'for', 'wrong', 'c', '...', 'no', 'ownership', 'no', 'rewards', 'no', 'benefits', 'no', 'glory', 'n', '...', 'fear', 'lack', 'of', 'skills', 'lack', 'of', 'intelligence', 'lack', '...', 'strenth', 'weight', 'loss', 'bone', 'growth', 'mental', 'sanity', '...', 'pain', 'injuries', 'exhaustion', 'tired', 'expensive', 'sneak', '...', 'health', 'sneakers', 'mental', 'strength', 'good', 'form', 'dedi', '...', 'rest', 'healing', 'mental', 'relaxation', 'muscle', 'repair', 'p', '...', 'risk', 'of', 'diabetes', 'heart', 'disease', 'stroke', 'less', 'pro', '...', 'bed', 'tired', 'pillow', 'sheets', 'cool', 'temperature', 'desir', '...', 'you', 'can', 'try', 'new', 'things', 'you', 'do', \"n't\", 'stay', 'stuck', 'yo', '...', 'can', 'be', 'hard', 'can', 'take', 'work', 'may', 'choose', 'the', 'wrong', '...', 'a', 'force', 'will', 'power', 'resources', 'perseverence', 'disc', '...', 'may', 'not', 'get', 'worse', 'less', 'effort', 'takes', 'less', 'time', '...', 'less', 'growth', 'ca', \"n't\", 'move', 'forward', 'things', 'may', 'get', '...', 'boredom', 'stress', 'overwhelmed', 'no', 'force', 'no', 'will', 'fe', '...', 'get', 'away', 'good', 'health', 'more', 'muscular', 'lose', 'weight', '...', 'hard', 'on', 'joints', 'injuries', 'takes', 'time', 'loose', 'too', 'm', '...', 'muscles', 'joints', 'movement', 'feet', 'legs', 'strength', 'lun', '...', 'more', 'energy', 'more', 'alert', 'better', 'cognition', 'better', '...', 'takes', 'time', 'not', 'social', 'get', 'less', 'done', 'might', 'over', '...', 'circadian', 'rythmns', 'sunlight', 'darkness', 'quiet', 'mela', '...', 'health', 'learning', 'defense', 'accomplishment', 'conduct', '...', 'war', 'poverty', 'sickness', 'death', 'disasters', 'accidents', '...', 'brain', 'intelligence', 'intention', 'accident', 'nature', '...', 'rest', 'relaxation', 'thinking', 'meditation', 'ponderin', '...', 'lazy', 'inactive', 'stale', 'mental', 'loss', 'unhealthy', 'sore', '...', 'imagination', 'force', 'intention', 'laziness', 'mindless', '...', 'health', 'tone', 'mood', 'destress', 'strength', 'muscle', 'frie', '...', 'breathing', 'heart', 'attack', 'foot', 'problems', 'shin', 'spli', '...', 'healthy', 'shoes', 'location', 'warmup', 'clothing', 'enduran', '...', 'resting', 'beauty', 'destress', 'repair', 'calm', 'energize', '...', 'groggy', 'headache', 'nightmares', 'sleep', 'apena', 'bad', 'mat', '...', 'bed', 'pillow', 'temperature', 'dark', 'silence', 'tired', 'cal', '...', 'get', 'something', 'done', 'produce', 'results', 'better', 'your', '...', 'make', 'mistake', 'not', 'help', 'yourself', 'be', 'detrimental', '...', 'initiative', 'motivation', 'good', 'intentions', 'competen', '...', 'do', \"n't\", 'have', 'to', 'expend', 'energy', 'can', 'be', 'lazy', 'do', \"n't\", '...', 'you', 'are', 'lazy', 'people', 'do', \"n't\", 'have', 'respect', 'for', 'you', '...', 'laziness', 'no', 'motivation', 'not', 'competent', 'do', \"n't\", 'car', '...', 'cardio', 'health', 'heart', 'health', 'better', 'fitness', 'good', '...', 'could', 'be', 'injured', 'hurt', 'your', 'knees', 'have', 'a', 'heart', '...', 'determination', 'fitness', 'you', 'want', 'to', 'do', 'it', 'motiva', '...', 'mental', 'clarity', 'restorative', 'for', 'the', 'body', 'good', 'r', '...', 'missing', 'events', 'ca', \"n't\", 'work', 'while', 'sleeping', 'missi', '...', 'quiet', 'room', 'comfy', 'bed', 'cool', 'room', 'black', 'out', 'curta', '...', 'ability', 'to', 'get', 'something', 'accomplished', 'not', 'stag', '...', 'rejection', 'possible', 'harm', 'bad', 'repercussions', 'mig', '...', 'initiative', 'moving', 'writing', 'voicing', 'getting', 'in', '...', 'safe', 'comfort', 'zone', 'routine', 'opinions', 'made', 'for', 'yo', '...', 'complacent', 'dont', 'get', 'to', 'voice', 'opinion', 'cant', 'ma', '...', 'do', 'nothing', 'dont', 'speak', 'dont', 'move', 'let', 'things', 'pas', '...', 'healthy', 'get', 'in', 'shape', 'not', 'lazy', 'not', 'complacent', '...', 'hurt', 'physically', 'hurt', 'mentally', 'hurt', 'relationshi', '...', 'moving', 'getting', 'up', 'shoes', 'clothes', 'somewhere', 'to', 'r', '...', 'rest', 'repair', 'good', 'physically', 'good', 'mentally', 'good', '...', 'wasted', 'time', 'lazy', 'unhealthy', 'hurt', 'physically', 'hur', '...', 'laying', 'down', 'closing', 'eyes', 'time', 'bed', 'surface', 'to', 'l', '...', 'the', 'advantages', 'of', 'reading', 'instructions', 'is', 'that', '...', 'consequences', 'of', 'impulsivity', 'stress', 'self', 'doubt', '...', 'brain', 'synapses', 'decision', 'making', 'reasoning', 'self', '...', 'no', 'risk', 'of', 'loss', 'no', 'risk', 'of', 'injury', 'peace', 'no', 'str', '...', 'loss', 'of', 'personal', 'growth', 'loss', 'of', 'emotional', 'grow', '...', 'low', 'self', 'esteem', 'anxiety', 'fear', 'depression', 'unwill', '...', 'runner', \"'s\", 'high', 'is', 'real', '!', 'weight', 'loss', 'stamina', 'phy', '...', 'stress', 'on', 'your', 'knees', 'stress', 'on', 'your', 'gi', 'system', '...', 'a', 'decision', 'to', 'start', 'running', 'a', 'physical', 'threat', '...', 'rest', 'for', 'your', 'brain', 'rest', 'for', 'your', 'body', 'allows', '...', 'vulnerability', 'to', 'the', 'outside', 'world', 'loss', 'of', 'tim', '...', 'being', 'tired', 'being', 'able', 'to', 'release', 'body', 'tension', '...', 'can', 'be', 'informative', 'can', 'help', 'you', 'to', 'relax', 'lea', '...', 'can', 'be', 'a', 'waste', 'of', 'time', 'and', 'take', 'up', 'you', 'day', 'no', '...', 'personal', 'commitment', 'technology', 'that', 'tells', 'you', '...', 'less', 'work', 'on', 'your', 'part', 'it', \"'s\", 'not', 'that', 'big', 'of', 'a', '...', 'nothing', 'will', 'change', 'your', 'reflection', 'means', 'not', '...', 'do', 'the', 'same', 'thing', 'you', 'always', 'do', 'ignore', 'the', 'pr', '...', 'healthy', 'feel', 'good', 'about', 'yourself', 'sense', 'of', 'ac', '...', 'can', 'be', 'hard', 'on', 'your', 'knees', 'can', 'be', 'dangerous', 'de', '...', 'a', 'place', 'to', 'run', 'a', 'desire', 'to', 'run', 'a', 'good', 'pair', 'o', '...', 'you', 'need', 'it', 'to', 'live', 'it', 'refreshes', 'you', 'it', 'is', 'a', '...', 'you', 'have', 'things', 'to', 'do', 'and', 'not', 'enough', 'time', 'to', 'd', '...', 'you', 'need', 'to', 'be', 'comfortable', 'you', 'need', 'to', 'feel', 's', '...', 'acting', 'helps', 'overcome', 'laziness', 'the', 'action', 'allo', '...', 'the', 'action', 'takes', 'time', 'action', 'requires', 'commitme', '...', 'it', 'takes', 'willpower', 'it', 'takes', 'money', 'it', 'takes', 'fre', '...', 'laziness', 'leisure', 'comfortable', 'life', 'slowness', 'you', '...', 'the', 'body', 'ages', 'faster', 'you', 'get', 'fat', 'increases', 'cho', '...', 'little', 'imagination', 'little', 'money', 'little', 'health', '...', 'the', 'muscles', 'become', 'stronger', 'increases', 'serotoni', '...', 'spine', 'problems', 'knees', 'problems', 'the', 'race', 'is', 'addi', '...', 'athletic', 'preparation', 'proper', 'shoes', 'free', 'time', 'co', '...', 'recharge', 'your', 'energy', 'rest', 'your', 'brain', 'rest', 'your', '...', 'take', 'away', 'time', 'from', 'other', 'activities', 'distracte', '...', 'time', 'a', 'bed', 'a', 'comfortable', 'sofa', 'be', 'tired', 'being', 's', '...', 'it', 'is', 'a', 'critical', 'one', 'action', 'is', 'a', 'situation', 'whi', '...', 'if', 'we', 'did', 'not', 'take', 'action', 'in', 'correct', 'time', 'bad', '...', 'actions', 'are', 'possible', 'time', 'creates', 'action', 'corre', '...', 'good', 'great', 'correct', 'right', 'surprise', 'great', 'deal', '...', 'bad', 'adventuare', 'difficult', 'danger', 'not', 'accepted', 'f', '...', 'quick', 'easy', 'happy', 'gather', 'oppurtunity', 'helpful', 'b', '...', 'good', 'exercise', 'greatful', 'wonderful', 'best', 'happy', 'mo', '...', 'no', 'no', 'no', 'no', 'no', 'no', 'no', 'no', 'good', 'exercise', 'reduce', 'obesity', 'makes', 'man', 'perfec', '...', 'free', 'dream', 'fresh', 'keeps', 'man', 'perfect', 'gather', 'man', '...', 'unfree', 'unfree', 'unfree', 'unfree', 'unfree', 'unfree', 'unfr', '...', 'rest', 'rest', 'rest', 'rest', 'rest', 'rest', 'rest', 'rest', 'work', 'field', 'table', 'happy', 'behavoiur', 'happy', 'statifi', '...', 'happy', 'want', 'field', 'could', 'cloudy', 'write', 'fill', 'happy', 'hi', 'want', 'to', 'see', 'have', 'a', 'happy', 'things', 'happy', 'see', 'have', 'a', 'field', 'to', 'do', 'the', 'things', 'what', 'have', 'a', 'bag', 'things', 'in', 'a', 'live', 'happiee', 'seee', 'a', 'things', 'in', 'a', 'world', 'things', 'good', 'for', 'heart', 'reduce', 'the', 'cholestrol', 'reduce', 'th', '...', 'sudden', 'heart', 'attack', 'leg', 'pain', 'heart', 'pain', 'should', '...', 'it', 'should', 'be', 'good', 'for', 'heart', 'and', 'whole', 'body', 'it', 'should', 'be', 'full', 'body', 'rest', 'bresk', 'active', 'for', '...', 'high', 'chloestrol', 'weight', 'increase', 'dull', 'the', 'day', 'u', '...', 'it', 'should', 'be', 'work', 'as', 'it', 'been', 'possible', 'accomplishment', 'achievement', 'getting', 'chores', 'done', '...', 'not', 'enough', 'time', 'for', 'inner', 'reflection', 'lack', 'of', 'c', '...', 'motivation', 'energy', 'drive', 'time', 'no', 'distractions', 'g', '...', 'lack', 'of', 'self-esteem', 'feeling', 'stuck', 'depression', 'l', '...', 'feeling', 'helpless', 'not', 'moving', 'forward', 'in', 'life', 'la', '...', 'fear', 'of', 'failure', 'depression', 'being', 'afraid', 'to', 'mov', '...', 'increase', 'heart', 'rate', 'increase', 'circulation', 'good', '...', 'physical', 'injuries', 'rainy', 'weather', 'time', 'consuming', '...', 'motivation', 'energy', 'stamina', 'good', 'health', 'time', 'goo', '...', 'rejuvination', 'clear', 'your', 'head', 'more', 'energy', 'dream', '...', 'laziness', 'not', 'motivated', 'not', 'accomplishing', 'enoug', '...', 'comfort', 'good', 'bed', 'good', 'pillows', 'not', 'to', 'warm', 'or', 'c', '...', 'getting', 'something', 'done', 'getting', 'exercise', 'losing', '...', 'do', 'too', 'much', '-', 'get', 'tired', 'do', 'too', 'much', '-', 'get', 'hurt', '...', 'determination', 'energy', 'time', 'patience', 'money', 'luck', '...', 'wont', \"'\", 'get', 'tired', 'can', 'do', 'whatever', 'you', 'want', 'avoid', '...', 'being', 'called', 'lazy', 'not', 'getting', 'enough', 'done', 'in', 't', '...', 'depression', 'anxiety', 'panic', 'laziness', 'too', 'much', 'wor', '...', 'exercise', 'supposedly', 'get', 'you', 'healthier', 'strength', '...', 'high', 'impact', 'exercise', 'wear', 'and', 'tear', 'on', 'your', 'joi', '...', 'high', 'tolerance', 'for', 'pain', 'no', 'care', 'of', 'what', 'will', 'h', '...', 'less', 'tired', 'less', 'stressed', 'studies', 'show', 'helps', 'to', '...', 'wasting', 'time', 'that', 'you', 'could', 'be', 'doing', 'other', 'thi', '...', 'tired', 'comfortable', 'bed', 'pillow', 'blankets', 'quiet', 'da', '...', 'healthy', 'excited', 'fun', 'friendly', 'eager', 'enthusiast', '...', 'tired', 'sleepy', 'enthusiastic', 'exhausted', 'drain', 'wear', '...', 'act', 'move', 'run', 'work', 'active', 'energetic', 'spirited', 'sp', '...', 'rest', 'relax', 'nap', 'loosen', 'unbend', 'unwind', 'decrease', 'm', '...', 'fat', 'fatness', 'grease', 'large', 'chubby', 'sleepy', 'ineffec', '...', 'lazy', 'idle', 'inactive', 'slow', 'heavy', 'dull', 'lifeless', 'in', '...', 'strengthen', 'muscle', 'burn', 'calories', 'stay', 'fit', 'build', '...', 'sun', 'exposure', 'impact', 'on', 'ankle', 'possible', 'injury', 'b', '...', 'get', 'out', 'of', 'the', 'house', 'action', 'strong', 'mentality', 'd', '...', 'keep', 'you', 'healthy', 'prevent', 'cancer', 'reduce', 'stress', '...', 'back', 'pain', 'headachs', 'make', 'you', 'lazy', 'depression', 'hi', '...', 'in', 'calm', 'mood', 'in', 'comfortable', 'setting', 'good', 'mood', '...', 'you', 'get', 'exercise', 'things', 'get', 'done', 'people', 'are', 'sa', '...', 'someone', 'gets', 'hurt', 'someone', 'gets', 'discriminated', 'a', '...', 'it', 'takes', 'movement', 'getting', 'out', 'the', 'bed', 'turning', '...', 'rest', 'wo', \"n't\", 'get', 'caught', 'in', 'a', 'fight', 'eat', 'do', \"n't\", 'pro', '...', 'laziness', 'no', 'work', 'is', 'done', 'someone', 'dies', 'in', 'accid', '...', 'lack', 'of', 'will', 'lack', 'of', 'trying', 'fear', 'worry', 'timid', 'a', '...', 'health', 'muscles', 'digestion', 'system', 'nature', 'running', '...', 'injure', 'self', 'bad', 'heart', 'issues', 'tiredness', 'sweat', 'h', '...', 'willpower', 'running', 'shoes', 'park', 'with', 'a', 'running', 'pa', '...', 'brain', 'repair', 'rest', 'recharge', 'bed', 'break', 'from', 'a', 'ha', '...', 'oversleep', 'hard', 'getting', 'up', 'miss', 'something', 'alarm', '...', 'pajamas', 'tea', 'turning', 'off', 'phones', 'and', 'mobile', 'devi', '...', 'you', 'can', 'get', 'ahead', 'you', 'can', 'succeed', 'you', 'can', 'be', '...', 'you', 'can', 'lose', 'something', 'valuable', 'you', 'can', 'have', '...', 'energy', 'willpower', 'determination', 'perseverance', '...', 'no', 'regret', 'no', 'misgivings', 'no', 'shame', 'no', 'anger', 'no', '...', 'remain', 'stagnant', 'never', 'get', 'ahead', 'stuck', 'in', 'same', '...', 'loss', 'of', 'control', 'loss', 'of', 'confidence', 'loss', 'of', 'se', '...', 'health', 'strength', 'vitality', 'energy', 'rejuvenation', '...', 'tired', 'overworked', 'pain', 'depleted', 'aches', 'lack', 'of', '...', 'inspiration', 'willpower', 'confidence', 'determinatio', '...', 'rest', 'health', 'vitality', 'rejuvenation', 'well', 'reste', '...', 'oversleep', 'tiredness', 'fatigue', 'laziness', 'bored', 'do', '...', 'make', 'schedule', 'make', 'it', 'a', 'plan', 'same', 'time', 'every', 'n', '...', 'making', 'positive', 'change', 'getting', 'things', 'done', 'mak', '...', 'takes', 'work', 'can', 'be', 'tiring', 'can', 'be', 'anxiety', 'invoki', '...', 'mental', 'clarity', 'internal', 'motivation', 'setting', 'goa', '...', 'does', \"n't\", 'take', 'effort', 'is', 'not', 'tiring', 'can', 'do', 'thing', '...', 'do', \"n't\", 'get', 'things', 'done', 'do', \"n't\", 'move', 'forward', 'in', 'li', '...', 'enabling', 'having', 'enough', 'money', 'being', 'unmotivated', '...', 'energy', 'physical', 'activity', 'positive', 'mood', 'good', 'fo', '...', 'can', 'get', 'injured', 'can', 'get', 'hit', 'by', 'a', 'car', 'must', 'buy', '...', 'motivation', 'a', 'treadmill', 'or', 'street', 'to', 'run', 'on', 'run', '...', 'can', 'function', 'better', 'the', 'next', 'day', 'dreaming', 'is', 'f', '...', 'never', 'enough', 'time', 'hard', 'to', 'fall', 'asleep', 'sometime', '...', 'being', 'tired', 'sometimes', 'a', 'sleeping', 'pill', 'relaxati', '...', 'inaction', 'tends', 'to', 'reinforce', 'itself', 'action', 'incr', '...', 'actions', 'have', 'unintended', 'consequences', 'unthought', '...', 'physical', 'freedom', 'intellectual', 'freedom', 'self', 'con', '...', 'no', 'responsibility', 'for', 'the', 'outcome', 'physical', 'saf', '...', 'feeling', 'of', 'helplessness', 'lack', 'of', 'motivation', 'pow', '...', 'sometimes', 'quiet', 'is', 'best', 'there', 'will', 'be', 'no', 'addit', '...', 'escape', 'danger', 'keep', 'fit', 'dopamine', 'manage', 'weight', '...', 'shin', 'splints', 'foot', 'injuries', 'boring', 'expense', 'of', 's', '...', 'safe', 'place', 'to', 'run', 'time', 'good', 'feet', 'physical', 'abil', '...', 'dreams', 'reset', 'your', 'brain', 'rejuvenate', 'your', 'body', 'w', '...', 'not', 'enough', 'time', 'important', 'things', 'happen', 'when', 'y', '...', 'time', 'calm', 'lack', 'of', 'stress', 'blanket', 'no', 'strangers', '...', 'to', 'gain', 'something', 'complete', 'something', 'move', 'towa', '...', 'things', 'can', 'happen', 'to', 'quick', 'not', 'thinking', 'it', 'thr', '...', 'a', 'person', 'listening', 'analyzing', 'thinking', 'plannin', '...', 'no', 'changes', 'things', 'stay', 'the', 'same', 'easy', 'do', \"n't\", 'hav', '...', 'things', 'never', 'change', 'causes', 'minor', 'problems', 'to', 'g', '...', 'no', 'drive', 'no', 'desire', 'like', 'the', 'way', 'things', 'are', 'laz', '...', 'health', 'cardio', 'lungs', 'heart', 'weight', 'looks', 'blood', 'p', '...', 'knee', 'pain', 'ankle', 'pain', 'shin', 'splints', 'toe', 'problems', '...', 'shoes', 'clothes', 'healthy', 'heart', 'health', 'lungs', 'no', 'kn', '...', 'rest', 'reenergize', 'repair', 'feel', 'better', 'help', 'with', 's', '...', 'bed', 'sores', 'rashes', 'bed', 'bugs', 'fleas', 'dirty', 'sheets', 'd', '...', 'bed', 'pillows', 'sheets', 'blankets', 'right', 'temperature', '...', 'get', 'faster', 'results', 'with', 'action', 'get', 'faster', 'resu', '...', 'action', 'could', 'cause', 'a', 'disaster', 'action', 'could', 'lea', '...', 'quick', 'thinking', 'reasoning', 'out', 'the', 'outcome', 'good', '...', 'can', 'think', 'before', 'the', 'action', 'slower', 'time', 'before', '...', 'could', 'lose', 'out', 'on', 'a', 'good', 'thing', 'could', 'produce', 'a', '...', 'unwise', 'thinking', 'slow', 'behavior', 'no', 'action', 'taken', '...', 'good', 'heart', 'health', 'good', 'lung', 'health', 'healthy', 'leg', '...', 'too', 'difficult', 'for', 'some', 'people', 'hard', 'on', 'the', 'legs', '...', 'good', 'heart', 'condition', 'good', 'lung', 'condition', 'healt', '...', 'better', 'health', 'better', 'brain', 'health', 'energy', 'for', 'e', '...', 'no', 'time', 'to', 'get', 'work', 'done', 'can', 'sleep', 'too', 'much', 'ha', '...', 'good', 'mattress', 'good', 'bed', 'sheets', 'quiet', 'room', 'no', 'sc', '...', 'speed', 'money', 'time', 'travel', 'saftey', 'attention', 'will', '...', 'adjustments', 'saving', 'counters', 'besting', 'network', '...', 'will', 'strength', 'stamima', 'proccess', 'configurati', '...', 'gain', 'insentive', 'people', 'gross', 'feild', 'heart', 'adv', '...', 'loss', 'pressure', 'fear', 'friction', 'distration', 'failu', '...', 'hope', 'clarity', 'gain', 'taking', 'speed', 'gears', 'food', 'manage', 'loss', 'pressure', 'spears', 'hemerging', 'corruption', 'da', '...', 'loss', 'gain', 'failure', 'money', 'time', 'incestmemts', 'pre', '...', 'hope', 'love', 'destiny', 'dam', 'dammage', 'get', 'some', 'confid', '...', 'time', 'money', 'pain', 'dreams', 'headach', 'ratchetness', 'ugl', '...', 'crust', 'pain', 'hope', 'joy', 'handle', 'tune', 'flow', 'long', 'drink', 'sex', 'food', 'good', 'vibes', 'comfy', 'joy', 'salas', 'action', 'results', 'in', 'outcomes', 'results', 'occure', 'chan', '...', 'outcomes', 'are', 'unknown', 'change', 'is', 'not', 'always', 'goo', '...', 'energy', 'movement', 'thought', 'coordination', 'cognitio', '...', 'variables', 'remain', 'constant', 'you', 'do', \"n't\", 'need', 'to', 'w', '...', 'change', 'can', 'not', 'occur', 'without', 'it', 'problems', 'can', 'ge', '...', 'ignorance', 'willful', 'negligence', 'misunderstandin', '...', 'heart', 'rate', 'increases', 'builds', 'lean', 'muscle', 'creat', '...', 'it', 'is', 'limited', 'by', 'energy', 'and', 'ability', 'you', 'can', 'g', '...', 'you', 'need', 'a', 'healthy', 'heart', 'you', 'need', 'a', 'healthy', 'p', '...', 'you', 'feel', 'rested', 'reduces', 'stress', 'makes', 'you', 'feel', '...', 'takes', 'time', 'you', \"'re\", 'unproductive', 'during', 'that', 'sta', '...', 'typically', 'your', 'eyes', 'must', 'be', 'closed', 'you', \"'re\", 'in', 'a', '...', 'action', 'can', 'cause', 'progress', 'in', 'social', 'issues', 'thr', '...', 'action', 'can', 'lead', 'to', 'failure', 'action', 'can', 'lead', 'to', '...', 'desire', 'drive', 'will', 'energy', 'imagination', 'goals', 'com', '...', 'safety', 'from', 'danger', 'security', 'in', 'status', 'quo', 'pers', '...', 'missed', 'opportunities', 'status', 'quo', 'physical', 'deter', '...', 'lack', 'of', 'desire', 'to', 'do', 'it', 'lack', 'of', 'will', 'to', 'do', 'it', '...', 'health', 'increase', 'can', 'ward', 'off', 'disease', 'weight', 'co', '...', 'physical', 'ailments', 'body', 'oder', 'isolation', 'long', 'ter', '...', 'desire', 'to', 'run', 'desire', 'to', 'compete', 'with', 'oneself', 'd', '...', 'refreshes', 'the', 'body', 'resets', 'your', 'natural', 'clock', 'a', '...', 'time', 'it', 'takes', 'lack', 'of', 'accomplishments', 'vulnerab', '...', 'quiet', 'room', 'dark', 'room', 'time', 'hunger', 'addressed', 'pro', '...', 'action', 'is', 'living', 'action', 'produces', 'consequences', '...', 'action', 'can', 'lead', 'to', 'bad', 'outcomes', 'action', 'can', 'har', '...', 'recognition', 'that', 'action', 'is', 'required', 'self-contr', '...', 'easier', 'safe', 'comforting', 'predictable', 'known', 'cauti', '...', 'risky', 'lazy', 'clueless', 'unaware', 'selfish', 'slothful', 'u', '...', 'nothing', 'steadfast', 'stubbornness', 'denial', 'closed-m', '...', 'improves', 'health', 'lose', 'weight', 'lowers', 'blood', 'press', '...', 'risk', 'of', 'injury', 'heat', 'stroke', 'plantar', 'fascitis', 'co', '...', 'energy', 'shoes', 'motivation', 'stamina', 'self-control', 'w', '...', 'good', 'for', 'brain', 'improves', 'memory', 'reduces', 'diabete', '...', 'less', 'time', 'to', 'work', 'less', 'time', 'exercise', 'less', 'time', '...', 'calm', 'bed', 'nighttime', 'low', 'light', 'low', 'temperature', 'q', '...', 'getting', 'things', 'done', 'being', 'productive', 'feeling', 'a', '...', 'not', 'thinking', 'long', 'enough', 'to', 'make', 'a', 'decision', 'ha', '...', 'thinking', 'time', 'initiative', 'charcter', 'personality', '...', 'time', 'relax', 'piece', 'of', 'mind', 'pondering', 'happyness', 'c', '...', 'not', 'acting', 'not', 'thinking', 'letting', 'things', 'pass', 'si', '...', 'lazy', 'confidence', 'content', 'not', 'thinking', 'not', 'doing', '...', 'healthy', 'getting', 'somewhere', 'losing', 'weight', 'feelin', '...', 'injury', 'takes', 'time', 'it', \"'s\", 'hard', 'it', \"'s\", 'not', 'fun', 'it', 'm', '...', 'initiative', 'time', 'athleticism', 'ability', 'to', 'stand', 'a', '...', 'getting', 'rechached', 'getting', 'rest', 'feeling', 'fresh', 'f', '...', 'losing', 'time', 'nightmares', 'too', 'tired', 'to', 'wake', 'up', 'mi', '...', 'relaxing', 'comfort', 'time', 'piece', 'of', 'mind', 'a', 'bed', 'a', 'pi', '...', 'you', 'feel', 'like', 'you', 'are', 'in', 'control', 'you', 'can', 'make', '...', 'takes', 'up', 'your', 'time', 'takes', 'up', 'your', 'money', 'people', '...', 'you', 'have', 'to', 'feel', 'compelled', 'to', 'take', 'the', 'action', '...', 'you', 'dont', 'have', 'to', 'change', 'you', 'dont', 'have', 'to', 'sacri', '...', 'nothing', 'changes', 'for', 'the', 'good', 'you', 'loose', 'your', 'vo', '...', 'apathy', 'fear', 'lazyness', 'subjegation', 'no', 'motivation', '...', 'get', 'into', 'shape', 'healthy', 'joining', 'groups', 'maintain', '...', 'time', 'commitment', 'aches', 'injuries', 'change', 'in', 'lifes', '...', 'commitment', 'determination', 'small', 'goals', 'willing', 't', '...', 'helps', 'loose', 'weight', 'helps', 'mental', 'health', 'feeling', '...', 'time', 'weigh', 'gain', 'unable', 'to', 'control', 'what', 'you', 'dre', '...', 'dark', 'room', 'disconnect', 'from', 'electronics', 'dont', 'wor', '...', 'you', 'control', 'what', 'happens', 'to', 'you', '.', 'more', 'things', 'g', '...', 'actions', 'may', 'not', 'be', 'adequately', 'planned', '.', 'mistake', '...', 'purpose', 'needs', 'to', 'be', 'identified', '.', 'those', 'impacted', '...', 'you', 'can', 'think', 'of', 'better', 'ways', 'to', 'do', 'things', '.', 'peo', '...', 'problems', 'might', 'get', 'worse', '.', 'money', 'can', 'be', 'lost', '.', 'w', '...', 'nobody', 'takes', 'responsibility', '.', 'resources', 'need', 'to', '...', 'you', 'improve', 'your', 'cardiovascular', 'fitness', '.', 'you', 's', '...', 'you', 'can', 'injure', 'your', 'legs', '.', 'you', 'waste', 'time', 'that', '...', 'motivation', 'proper', 'shoes', 'a', 'place', 'to', 'run', 'a', 'plan', '...', 'you', 'avoid', 'getting', 'in', 'trouble', 'at', 'night', 'you', 'do', 'b', '...', 'you', 'waste', 'too', 'much', 'time', '.', 'it', 'can', 'lead', 'to', 'slothf', '...', 'have', 'a', 'comfortable', 'spot', 'to', 'sleep', '.', 'have', 'the', 'tem', '...', 'moving', 'forward', 'learning', 'doing', 'something', 'better', '...', 'can', 'be', 'slow', 'and', 'unproductive', 'no', 'relaxation', 's', '...', 'you', 'decide', 'to', 'take', 'action', 'right', 'time', 'right', 'pl', '...', 'leisure', 'time', 'you', 'do', \"n't\", 'have', 'to', 'move', 'no', 'obliga', '...', 'missing', 'on', 'life', 'possibilities', 'not', 'earning', 'mone', '...', 'if', 'i', 'do', \"n't\", 'have', 'to', 'go', 'to', 'work', 'i', 'have', 'enough', 't', '...', 'outside', ',', 'fresh', 'air', 'heart', 'benefits', 'less', 'possibl', '...', 'have', 'to', 'move', 'even', 'if', 'you', 'do', \"n't\", 'want', 'to', 'knees', '...', 'have', 'good', 'shoes', 'for', 'it', 'have', 'time', 'be', 'motivated', '...', 'replenishing', 'healing', 'depression', 'healing', 'anxi', '...', 'waisting', 'time', 'if', 'sleeping', 'too', 'long', 'not', 'able', 't', '...', 'be', 'tired', 'enough', 'have', 'time', 'not', 'worry', 'about', 'pr', '...', 'active', 'alert', 'knowledge', 'education', 'moral', 'lively', '...', 'death', 'boring', 'enemy', 'cheat', 'jealousy', 'envy', 'pain', 'agony', 'energy', 'alert', 'strength', 'active', 'lively', 'knowledge', '...', 'lazy', 'slow', 'cheat', 'poor', 'booring', 'weak', 'low', 'bad', 'save', 'friends', 'sweet', 'boring', 'nice', 'suspence', 'confus', '...', 'slow', 'poor', 'weak', 'lazy', 'slender', 'low', 'poor', 'nice', 'fast', 'training', 'stamina', 'strength', 'physique', 'body', 'b', '...', 'injury', 'muscle', 'tear', 'pains', 'time', 'comfort', 'stress', 'd', '...', 'active', 'strength', 'physique', 'body', 'balance', 'alert', 'st', '...', 'rest', 'healthy', 'good', 'strong', 'relaxed', 'fast', 'strong', '...', 'lazy', 'weak', 'poor', 'slow', 'low', 'less', 'energertic', 'bad', 'bo', '...', 'fatique', 'lazy', 'rest', 'stress', 'hadrwork', 'active', 'body', '...', 'you', 'have', 'to', 'take', 'action', 'to', 'elicit', 'a', 'change', '.', 'ac', '...', 'you', 'may', 'fail', 'in', 'the', 'action', 'you', 'took', '.', 'you', 'may', 'b', '...', 'somebody', 'has', 'to', 'be', 'the', 'prime', 'mover', '.', 'it', 'has', 'to', '...', 'you', 'will', 'not', 'lose', 'any', 'physical', 'asset', '.', 'you', 'will', '...', 'you', 'may', 'have', 'a', 'what-if', 'scenario', '.', 'whatever', 'acti', '...', 'somebody', 'has', 'to', 'think', 'about', 'taking', 'action', 'and', '...', 'weight', 'loss', '.', 'quality', 'of', 'life', '.', 'ability', 'to', 'compe', '...', 'physical', 'injury', 'death', 'getting', 'lost', 'how', 'much', 'it', '...', 'somebody', 'wants', 'to', 'do', 'it', '.', 'somebody', 'is', 'able', 'to', 'd', '...', 'physical', 'regeneration', 'mental', 'sanity', 'it', 'is', 'fun', '...', 'takes', 'time', 'not', 'accomplishing', 'things', 'you', 'may', 'ne', '...', 'a', 'conciousness', 'a', 'biological', 'need', 'being', 'tired', 'a', '...', 'results', 'progress', 'motivation', 'achievement', 'sucess', '...', 'not', 'succeeding', 'failing', 'to', 'do', 'what', 'you', 'tried', 'co', '...', 'self', 'determination', 'motivation', 'goals', 'gain', 'from', '...', 'less', 'involved', 'not', 'risking', 'anything', 'having', 'a', 'ne', '...', 'letting', 'someone', 'down', 'hurting', 'someone', \"'s\", 'feeling', '...', 'knowing', 'you', 'might', 'get', 'hurt', 'if', 'you', 'took', 'action', '...', 'health', 'losing', 'weight', 'gaining', 'muscle', 'longevity', '...', 'hurts', 'your', 'knees', 'might', 'lose', 'too', 'much', 'weight', 'g', '...', 'good', 'form', 'motivation', 'to', 'go', 'the', 'length', 'you', 'want', '...', 'mental', 'health', 'physical', 'health', 'reset', 'your', 'body', '...', 'sleeping', 'too', 'much', 'is', \"n't\", 'good', 'for', 'you', 'losing', 'ti', '...', 'comfortable', 'bed', 'soft', 'sheets', 'great', 'pillow', 'no', 'ca', '...', 'i', 'can', 'acquire', 'what', 'i', 'desire', '.', 'i', 'can', 'interact', 'wi', '...', 'action', 'takes', 'energy', '.', 'action', 'can', 'be', 'met', 'with', 'op', '...', 'action', 'requires', 'an', 'idea', '.', 'action', 'requires', 'a', 'dec', '...', 'inaction', 'prevents', 'failure', '.', 'inaction', 'prevents', 'p', '...', 'one', 'ca', \"n't\", 'acquire', 'one', \"'s\", 'desires', 'by', 'inaction', '.', 'o', '...', 'inaction', 'requires', 'an', 'idea', '.', 'inaction', 'requires', 'a', '...', 'running', 'is', 'good', 'for', 'one', \"'s\", 'overall', 'health', '.', 'runn', '...', 'running', 'takes', 'time', '.', 'running', 'requires', 'spending', '...', 'one', 'must', 'have', 'at', 'least', 'basic', 'knowledge', 'about', 'r', '...', 'sleeping', 'restores', 'energy', '.', 'sleeping', 'repairs', 'the', '...', 'sleeping', 'takes', 'time', '.', 'sleeping', 'can', 'leave', 'one', 'fe', '...', 'sleep', 'requires', 'a', 'place', 'to', 'sit', 'or', 'lie', 'down', '.', 'sle', '...', 'being', 'able', 'to', 'get', 'exercise', 'or', 'be', 'active', 'accomp', '...', 'becoming', 'overly', 'taxed', 'not', 'allowing', 'your', 'body', 't', '...', 'acceptance', 'understanding', 'belief', 'movement', 'agree', '...', 'rest', 'relaxation', 'refreshment', 'peace', 'tranquility', '...', 'loss', 'fear', 'avoidance', 'selfishness', 'laziness', 'welfa', '...', 'loss', 'feeling', 'self', 'importance', 'shame', 'not', 'caring', '...', 'exercise', 'muscle', 'increased', 'heart', 'rate', 'stamina', 'd', '...', 'hurt', 'shock', 'to', 'knees', 'tiredsome', 'winded', 'damage', 'to', '...', 'action', 'support', 'stamina', 'determination', 'dedicatio', '...', 'rest', 'refreshment', 'renewal', 'health', 'dreams', 'relaxat', '...', 'unrest', 'not', 'getting', 'things', 'done', 'inactivity', 'loss', '...', 'place', 'to', 'sleep', 'quiet', 'coolness', 'inaction', 'blanket', '...', 'good', 'good', 'good', 'good', 'good', 'good', 'good', 'good', 'bad', 'bad', 'bad', 'bad', 'bad', 'bad', 'bad', 'bad', 'happy', 'happy', 'happy', 'happy', 'happy', 'happy', 'happy', 'happy', 'interesting', 'interesting', 'interesting', 'interestin', '...', 'boring', 'boring', 'boring', 'boring', 'boring', 'boring', 'bori', '...', 'good', 'good', 'good', 'good', 'good', 'good', 'good', 'good', 'fitness', 'fitness', 'fitness', 'fitness', 'fitness', 'fitnes', '...', 'tiredness', 'tiredness', 'tiredness', 'tiredness', 'tiredn', '...', 'yes', 'yes', 'yes', 'yes', 'yes', 'yes', 'yes', 'yes', 'freshness', 'freshness', 'freshness', 'freshness', 'freshn', '...', 'inactive', 'inactive', 'inactive', 'inactive', 'inactive', 'i', '...', 'yes', 'yes', 'yes', 'yes', 'yes', 'yes', 'yes', 'yes', 'exitement', 'joyful', 'drugs', 'comedy', 'some', 'sorrow', 'twis', '...', 'dry', 'money', 'dollars', 'water', 'wet', 'land', 'ground', 'house', '...', 'revenge', 'time', 'good', 'bad', 'erecton', 'water', 'tube', 'talk', 'anger', 'comedy', 'trigger', 'field', 'house', 'will', 'ground', 'rice', 'jug', 'tiger', 'epic', 'her', 'he', 'she', 'bill', 'rice', 'yelp', 'queen', 'king', 'liquid', 'bun', 'bread', 'jam', 'silver', '`', 'slim', 'fit', 'blood', 'circulation', 'leg', 'strong', 'breathe', '...', 'tiles', 'hiphop', 'hills', 'tree', 'highest', 'big', 'small', 'tri', '...', 'tripple', 'mouse', 'figure', 'tall', 'ginger', 'fall', 'small', 'hops', 'tyre', 'queen', 'pig', 'high', 'jug', 'green', 'hello', 'yellow', 'lazy', 'fat', 'mind', 'dead', 'low', 'blood', 'circulation', 'waste', '...', 'ginger', 'green', 'yellow', 'figure', 'tall', 'violet', 'nick', 'm', '...', 'happiness', 'moeny', 'time', 'joy', 'suprise', 'wealth', 'food', 'f', '...', 'sad', 'fear', 'angry', 'hungry', 'lose', 'deprewssion', 'knots', 'f', '...', 'thought', 'work', 'thinking', 'time', 'money', 'happy', 'grit', 'guts', 'nothing', 'sad', 'fear', 'time', 'money', 'loniilneess', 'awe', 'spent', 'nothign', 'sadness', 'fear', 'anger', 'hungriness', 'lonilnes', '...', 'fear', 'sadness', 'nothing', 'empty', 'loose', 'moeny', 'taxes', 'a', '...', 'loosing', 'weight', 'happy', 'hope', 'good', 'positive', 'slim', 'h', '...', 'pain', 'tired', 'sad', 'hunger', 'heat', 'cold', 'time', 'money', 'money', 'shoes', 'support', 'cheers', 'time', 'tredmill', 'hope', '...', 'resting', 'happy', 'goals', 'refreshed', 'relax', 'hope', 'prett', '...', 'time', 'not', 'doing', 'anything', 'sore', 'not', 'reading', 'not', 'd', '...', 'bed', 'blankets', 'time', 'dark', 'cool', 'rquiet', 'free', 'night', 'having', 'fun', 'being', 'adventurous', 'getting', 'somethi', '...', 'doing', 'too', 'much', 'making', 'yourself', 'tired', 'not', 'mindi', '...', 'commitment', 'willingness', 'devotion', 'dedication', '...', 'relaxing', 'comfort', 'being', 'mellow', 'not', 'taking', 'on', 'to', '...', 'being', 'lazy', 'being', 'unimportant', 'doing', 'nothing', 'f', '...', 'unwillingless', 'lazyness', 'careless', 'immorality', 'b', '...', 'exercise', 'health', 'losing', 'weight', 'gaining', 'musc', '...', 'tiring', 'yourself', 'out', 'sun', 'exposure', 'pressure', 'o', '...', 'the', 'will', 'to', 'run', 'dedication', 'running', 'shoes', 'a', 'pla', '...', 'less', 'stress', 'helps', 'your', 'memory', 'lower', 'blood', 'pr', '...', 'depression', 'pain', 'risk', 'of', 'obesity', 'risk', 'of', '...', 'comfortable', 'bed', 'no', 'caffeine', 'before', 'bed', 'peacefu', '...', 'form', 'routine', 'get', 'results', 'body', 'building', 'achieve', '...', 'time', 'consuming', 'mistakes', 'made', 'bad', 'consequences', '...', 'do', 'it', 'think', 'goal', 'setting', 'planning', 'have', 'money', '...', 'rest', 'more', 'time', 'more', 'money', 'more', 'planning', 'not', 'bu', '...', 'no', 'achievement', 'no', 'fulfillment', 'no', 'price', 'no', 'goal', '...', 'goal', 'planning', 'achievement', 'risk', 'threat', 'push', 'pre', '...', 'health', 'muscles', 'strenght', 'cardio', 'training', 'goal', 's', '...', 'tiredness', 'soreness', 'muscular', 'strain', 'muscular', 'sp', '...', 'goals', 'plans', 'health', 'threat', 'pressure', 'friends', 'imp', '...', 'rest', 'recharge', 'calm', 'destress', 'energy', 'revamp', 'heal', '...', 'boring', 'no', 'work', 'done', 'time', 'consuming', 'no', 'activity', '...', 'tiredness', 'health', 'stress', 'busyness', 'need', 'for', 'calm', '...', 'action', 'is', 'the', 'actual', 'response', 'it', \"'s\", 'the', 'end', 're', '...', 'once', 'started', 'has', 'an', 'endless', 'effect', '.', 'one', 'who', 'ac', '...', 'action', 'is', 'always', 'the', 'combined', 'effect', 'of', 'smalle', '...', 'no', 'loss', 'of', 'energy', '.', 'chance', 'of', 'mishap', 'zero', '.', 'no', 'r', '...', 'nothing', 'gets', 'done', '.', 'creates', 'confusion', '.', 'inaction', '...', 'previous', 'action', 'not', 'done', 'right', '.', 'no', 'energy', 'for', '...', 'faster', 'way', 'to', 'move', '.', 'fastest', 'a', 'human', 'can', 'move', '.', '...', 'get', 'tired', 'easily', '.', 'can', 'cause', 'breathlessness', 'ca', '...', 'walking', 'is', 'a', 'slow', 'option', '.', 'to', 'catch', 'a', 'bus', 'and', 't', '...', 'body', 'gets', 'rest', '.', 'repairs', 'can', 'be', 'done', '.', 'be', 'ready', '...', 'it', 'wastes', 'time', '.', 'it', 'causes', 'snooring', '.', 'it', 'can', 'be', '...', 'be', 'tired', '.', 'usually', 'its', 'night', 'time', 'sometimes', 'sed', '...', 'learning', 'new', 'thing', 'challenging', 'new', 'thing', 'enga', '...', 'stop', 'discourage', 'feeling', 'sad', 'feeling', 'blue', 'medit', '...', 'plan', 'courage', 'test', 'time', 'development', 'meeting', 'hop', '...', 'cancel', 'misleading', 'stop', 'discourage', 'disappointme', '...', 'hopeless', 'cancel', 'stop', 'disappoint', 'destroy', 'closed', '...', 'plan', 'order', 'call', 'stop', 'meet', 'disapporve', 'cancel', 'de', '...', 'plan', 'see', 'test', 'take', 'action', 'challenge', 'goal', 'rewar', '...', 'sick', 'hopeless', 'stop', 'dicourage', 'kick', 'out', 'cancel', 'p', '...', 'carry', 'out', 'passion', 'work', 'hard', 'set', 'a', 'goal', 'hope', 'le', '...', 'nuturine', 'relax', 'take', 'a', 'rest', 'health', 'reset', 'healin', '...', 'being', 'tired', 'wasting', 'time', 'depression', 'increase', 'p', '...', 'relax', 'reading', 'a', 'book', 'comfortable', 'temperature', 'c', '...', 'safety', 'deportment', 'mechanical', 'technology', 'commun', '...', 'time', 'and', 'energy', '.', 'people', 'are', 'seldom', 'aware', 'of', 'th', '...', 'software', 'design', 'growth', 'formal', 'methods', '.', 'instinc', '...', 'significant', 'progress', 'has', 'been', 'made', 'over', 'the', 'pa', '...', 'balancing', 'thought', 'and', 'action', 'will', 'always', 'be', 'a', '...', 'the', 'cost', 'of', 'inaction', 'playing', 'it', 'safe', 'in', 'medici', '...', 'running', 'burns', 'more', 'calories', 'than', 'most', 'exercise', '...', 'damage', 'to', 'weight-bearing', 'joints', 'increased', 'risk', '...', 'running', 'remains', 'one', 'of', 'the', 'best', 'and', 'fastest', 'wa', '...', 'sleep', 'keeps', 'your', 'heart', 'healthy', 'sleep', 'may', 'help', '...', 'sleepiness', 'causes', 'accidents', 'sleep', 'loss', 'dumbs', 'y', '...', 'increase', 'bright', 'light', 'exposure', 'during', 'the', 'day', '...']"
     ]
    },
    {
     "name": "stdout",
     "output_type": "stream",
     "text": [
      "\n"
     ]
    },
    {
     "name": "stdout",
     "output_type": "stream",
     "text": [
      "Filterd Sentence: ['q1', 'q6', 'q13', 'q7', 'q15', 'q14', 'q8', 'q11', 'q16', 'q10', 'q9', 'q17', 'something', 'active', 'result', '...', 'could', 'make', 'wrong', 'choice', 'could', 'lead', 'wors', '...', 'drive', 'understanding', 'plan', 'effort', 'desire', 'skill', '...', 'rest', 'need', 'plan', 'need', 'design', 'free', 'ti', '...', 'things', 'could', 'get', 'worse', 'might', 'miss', 'something', 'mi', '...', 'lazy', 'depression', 'drive', 'motivation', 'desi', '...', 'healthy', 'strong', 'build', 'muscle', 'burn', 'calories', 'gain', '...', 'takes', 'time', 'takes', 'energy', 'cause', 'pain', 'deal', 'wi', '...', 'good', 'routine', 'good', 'energy', 'levels', 'good', 'sleep', 'goo', '...', 'better', 'health', 'feeling', 'rested', 'better', 'mental', 'hea', '...', 'back', 'hurt', 'wake', 'feeling', 'rested', '...', 'good', 'lighting', 'good', 'air', 'good', 'temp', 'good', 'blankets', '...', 'promotes', 'process', 'testing', 'ideas', 'encourage', 'chang', '...', 'strenthen', 'self', 'esttem', 'strenthen', 'self', 'esttem', 'st', '...', 'goal', 'steps', 'measurable', 'create', '...', 'dont', 'anything', 'inactivity', ',', 'inactivity', ',', '...', 'inactiondo', 'specify', 'note', 'inactiondo', '...', 'good', 'inactiondo', 'specify', 'note', 'inactiondo', '...', 'running', 'advantage', 'sterenthern', 'musle', 'running', 'ad', '...', 'pain', 'occur', 'pain', 'occur', 'pa', '...', 'handle', 'handle', 'handle', '...', 'relax', 'work', 'relax', 'work', 'relax', 'work', '...', 'work', 'delaya', 'work', 'delaya', 'work', 'delaya', 'work', 'delay', '...', 'time', 'spend', 'take', 'rest', 'time', 'spend', 'tak', '...', 'things', 'get', 'done', 'answers', 'found', 'progress', '...', 'fools', 'rush', 'well', 'thought', 'plan', '...', 'thought', 'motivation', 'desire', 'drive', 'gusto', 'pas', '...', 'time', 'think', 'wait', 'see', 'results', '...', 'passed', 'early', 'adopters', 'missed', 'opprotunitites', '...', 'nothing', 'lack', 'lack', 'desire', 'lack', 'st', '...', 'health', 'strength', 'fresh', 'air', 'wellbeing', 'alone', 'time', '...', 'time', 'consuming', 'hard', 'joints', 'boring', 'tiresome', '...', 'drive', 'desire', 'strength', 'mental', 'fortitude', 'av', '...', 'rest', 'mental', 'strength', 'necesity', 'clarity', 'rechargi', '...', 'loss', 'productivity', 'bad', 'dreams', 'time', 'sign', '...', 'bed', 'time', 'tired', 'location', 'comfort', 'exaustion', '...', 'change', 'movement', 'improvement', 'justice', 'start', 'chan', '...', 'change', 'unknown', 'force', 'painful', 'fear', 'sudden', 'scare', '...', 'force', 'idea', 'movement', 'change', 'need', 'sudden', 'reactio', '...', 'unchanged', 'disruption', 'calm', 'surprises', '...', 'dull', 'stagnent', 'obsolete', 'dated', 'falling', 'behind', '...', 'nothing', 'stay', 'plan', 'vision', 'fut', '...', 'exercise', 'healthy', 'stay', 'shape', 'heart', 'rate', 'los', '...', 'time', 'back', 'pain', 'foot', 'pain', 'ankle', 'pain', 'dull', 'bo', '...', 'put', 'shoes', 'start', 'running', 'buy', 'shoes', 'put', 'cl', '...', 'energy', 'rest', 'feel', 'better', 'reduces', 'stress', 'improve', '...', 'depression', '.', 'pain', 'obesity', 'heart', 'disease', 'lazy', 'u', '...', 'bed', 'pillow', 'close', 'eyes', 'tired', 'darkness', 'quiet', 'ex', '...', 'desired', 'manifestations', 'desires', 'met', 'needs', 'met', 'f', '...', 'mistakes', 'undesired', 'results', 'regrets', 'time', 'wasted', '...', 'plan', 'accountability', 'time', 'confidence', 'peace', '...', 'protection', 'time', 'think', 'time', 'plan', 'mista', '...', 'losing', 'missed', 'opportunities', 'lack', 'resour', '...', 'doubting', 'self', 'doubting', 'others', 'trusting', 'se', '...', 'healthy', 'lungs', 'healthy', 'muscles', 'healthy', 'heart', '...', 'knee', 'joints', 'wear', 'tear', 'muscle', 'wear', 'tear', '...', 'good', 'pair', 'running', 'shoes', 'athletic/running', 'ap', '...', 'healthy', 'healing', 'good', 'memory', 'good', 'prope', '...', 'missed', 'opportunities', 'enough', 'time', 'da', '...', 'hard', 'work', 'worry', 'depression', 'irritability', 'sickne', '...', 'accomplish', 'goals', \"'m\", 'happier', \"'m\", 'prod', '...', 'may', 'get', 'stressed', 'easily', 'may', 'burn', 'f', '...', 'form', 'plan', 'align', 'right', 'peop', '...', 'time', 'reflect', 'new', 'ideas', '...', 'nothing', 'new', 'gets', 'accomplished', \"n't\", 'maximi', '...', 'need', 'control', 'impulses', '.', 'need', 'reco', '...', 'maintain', 'strength', '.', 'lose', 'weight', '.', 'yo', '...', 'tiring', '.', 'creates', 'soreness', '.', 'lot', 'ac', '...', 'proper', 'running', 'clothes', 'sho', '...', 'refreshed', 'next', 'day', '.', 'build', '...', 'less', 'productive', '.', 'might', 'miss', '...', 'need', 'tired', '.', 'need', 'dark', '...', 'strength', 'intuitiveness', 'movement', 'exercise', 'forwa', '...', 'pain', 'frustration', 'anxiety', 'depression', 'suffocatio', '...', 'movement', 'thought', 'brain', 'connections', 'frustration', '...', 'calmness', 'peace', 'serinity', 'love', 'self', 'mindfull', '...', 'social', 'bad', 'thoughts', 'muscle', 'fatigue', 'b', '...', 'sleep', 'stay', 'bed', 'depression', 'anxiety', 'shutting', '...', 'exercise', 'moves', 'lymphatic', 'system', 'pain', 'aching', 'ga', '...', 'sores', 'feet', 'sores', 'thighs', 'sweat', 'muscle', 'fat', '...', 'good', 'shoes', 'move', 'socks', 'headaches', '...', 'clear', 'mind', 'think', 'suicide', 'attemp', '...', 'hearing', 'husbnd', 'snore', 'wake', 'achy', 'bed', 'co', '...', 'light', 'comfortable', 'bed', 'cool', 'temperatures', 'bla', '...', 'achieving', 'goal', 'completing', 'project', 'ensuring', '...', 'chance', 'harming', 'someone', 'chance', 'material', '...', 'agent', 'abstract', 'reason', 'principle', 'mat', '...', 'saving', 'face', 'preserving', 'time', 'preserving', 'money', 'p', '...', 'loss', 'potential', 'material', 'gain', 'loss', 'potent', '...', 'fear', 'loss', 'mental', 'energy', 'fear', 'loss', '...', 'learning', 'peace', 'oneself', 'learning', '...', 'possible', 'injury', 'knees', 'possible', 'injury', 'fe', '...', 'motivation', 'begin', 'discipline', '...', 'physical', 'health', 'mental', 'health', 'energy', 'regularit', '...', 'time', 'spent', 'working', 'critical', 'task', 'time', '...', 'quiet', 'darkness', 'comfort', 'tiredness', 'available', 'tim', '...', 'self', 'confidence', 'good', 'physique', 'assertiveness', 'le', '...', 'bad', 'image', 'fighter', 'character', 'responsibilty', 'fear', '...', 'good', 'body', 'talent', 'confidence', 'mental', 'stability', 'b', '...', 'safe', 'enemy', 'stable', 'calm', 'good', 'direction', 'li', '...', 'fear', 'disbelief', 'dependent', 'good', 'physique', 'warn', '...', 'mental', 'stablity', 'calm', 'peace', 'inactive', 'disbelief', '...', 'healthy', 'good', 'body', 'maintanence', 'live', 'life', 'happy', '...', 'time', 'consuming', 'back', 'pain', 'weight', 'bearing', 'risk', '...', 'effort', 'focus', 'time', 'managemnet', 'good', 'shoes', 'good', 'p', '...', 'good', 'function', 'body', 'reduces', 'stress', 'peace', 'hap', '...', 'depression', 'inflammation', 'diabetes', 'pain', 'heart', 'di', '...', 'avoid', 'irregular', 'naps', 'good', 'place', 'peaceful', 'mind', '...', 'something', 'productive', 'things', 'fight', '...', 'attacked', 'destroyed', 'fast', 'wrong', 'se', '...', 'tends', 'war', 'fight', 'destroy', 'lost', 'slap', 'push', 'hit', '...', 'like', 'love', 'pull', 'affection', 'brave', 'courage', 'sister', '...', 'passion', 'aim', 'love', 'affection', 'entrepreneur', '...', 'loser', 'winner', 'procrastinator', 'lover', 'lazy', '...', 'exercise', 'lose', 'fat', 'decrease', 'calorie', 'fit', 'gym', 'dur', '...', 'time', 'waste', 'continuous', 'work', 'waste', 'place', 'wast', '...', 'fit', 'body', 'fitness', 'gym', 'body', 'body', 'builder', 'lover', 'f', '...', 'rest', 'heart', 'healthy', 'alert', 'improves', 'memory', 'reduc', '...', 'time', 'waste', 'dumbs', 'accident', 'less', 'attent', '...', 'death', 'uneasy', 'less', 'attention', 'heart', 'disease', 'irr', '...', 'getting', 'things', 'done', 'time', 'accomplishing', 'go', '...', 'rushing', 'able', 'complete', 'tasks', '...', 'focusing', 'specific', 'details', 'stop', ',', 'listen', ',', '...', 'lack', 'movement', 'hypnotism', 'mind', 'lack', '...', 'getting', 'tasks', 'done', 'ontime', 'making', 'mistake', '...', 'listening', 'reason', 'putting', 'good', 'smile', '...', 'feeling', 'better', 'letting', 'steam', 'letting', 'str', '...', 'going', 'overboard', 'getting', 'hurt', 'develop', 'heart', '...', 'stretch', 'body', 'good', 'running', 'shoes', 'comfortab', '...', 'getting', 'rest', 'regulates', 'blood', 'sugar', 'levels', '...', 'overtired', 'depression', 'higher', 'risk', 'diab', '...', 'find', 'comfortable', 'place', 'lay', 'musi', '...', 'gets', 'things', 'done', 'movement', 'better', 'tha', '...', 'done', 'wrongly', 'rush', 'much', '...', 'mind', 'open', 'morals', 'plan', 'brave', 'ha', '...', \"'re\", 'looked', 'lazy', 'risk', 'disease', '...', 'look', 'like', 'fool', 'nothing', 'get', 'done', '...', 'sleep', 'low', 'energy', 'confusion', 'bad', 'f', '...', 'healthy', 'using', 'potential', 'mobil', '...', 'hurt', 'feeling', 'tired', '...', 'mindset', 'good', 'starts', 'plans', 'skinn', '...', 'rest', 'energy', 'afterward', 'immune', 'system', 'betterment', '...', 'sleep', 'long', 'miss', 'apointment', '...', 'tiredness', 'relaxation', 'prior', 'sleep', 'aides', 'sometim', '...', 'effectiveness', 'productivity', 'experience', 'soft', 'ski', '...', 'emotions', 'difficulties', 'problems', 'solution', 'irrita', '...', 'make', 'plan', 'measurable', 'take', 'action', 'consider', '...', 'lazy', 'sleeping', 'meaningless', 'life', 'bad', 'irresponsib', '...', 'lazy', 'irresposibility', 'week', 'sleeping', 'illness', 'ten', '...', 'sleeping', 'lazy', 'lie', 'feelings', 'relax', 'joyfull', 'happy', '...', 'burn', 'colories', 'strength', 'muscles', 'strength', 'genera', '...', 'damaged', 'bearing', 'joints', 'increasing', 'risk', 'heart', '...', 'plan', 'get', 'mot', 'consider', 'club', 'gait', '...', 'prevent', 'cancer', 'heart', 'healthy', 'reduce', 'stress', 'red', '...', 'depression', 'increased', 'inflamation', 'increased', 'pai', '...', 'increasing', 'bright', 'light', 'reduce', 'blue', 'light', '...', 'motivication', 'build', 'objective', 'present', 'community', '...', 'cool', 'learn', 'space', 'heat', 'leave', 'learn', 'speen', 'piece', 'good', 'bye', 'love', 'availabe', 'carrier', 'gave', 'give', 'space', 'good', 'good', 'good', 'good', 'good', 'good', 'good', 'good', 'good', 'good', 'good', 'good', 'good', 'good', 'good', 'good', 'good', 'good', 'good', 'good', 'good', 'good', 'good', 'good', 'good', 'good', 'good', 'good', 'good', 'good', 'good', 'good', 'slow', 'slow', 'slow', 'slow', 'slow', 'slow', 'slow', 'slow', 'good', 'good', 'good', 'good', 'good', 'good', 'good', 'good', 'good', 'good', 'good', 'good', 'good', 'good', 'good', 'good', 'good', 'good', 'good', 'good', 'good', 'good', 'good', 'good', 'good', 'good', 'good', 'good', 'good', 'good', 'good', 'good', 'creates', 'ownership', 'people', 'involved', 'devel', '...', 'considering', 'suitability', 'given', 'stu', '...', 'believe', 'true', 'future', '...', 'get', 'clue', 'constitutes', 'action', 'inact', '...', 'without', 'desires', 'feel', 'oppressed', 'issue', '...', 'know', 'really', 'understood', ',', 'w', '...', 'mind', 'relax', 'decreases', 'symptoms', 'depression', 'de', '...', 'increased', 'risk', 'heart', 'attack', 'potential', 'b', '...', 'increases', 'endurance', ',', 'builds', 'muscle', 'maintain', '...', 'healthy', 'better', 'regulate', 'blood', 'sugar', 'levels', 'im', '...', 'short', 'temper', 'diabetes', 'obesity', 'headaches', 'back', 'p', '...', 'cognitive', 'impairments', 'irritability', 'delusions', '...', 'interactive', 'form', 'fields', 'spaces', ',', 'ente', '...', 'click', 'download', 'copy', '...', 'write', 'info', '...', 'form', 'also', 'printed', ',', 'either', 'blank', '...', 'interactive', 'form', 'fields', ',', 'spaces', ',', '...', 'coercion', 'public', 'punishment', ',', 'fie', '...', 'none', 'type', 'form', 'requesting', 'services', '...', 'benefits', 'running', '?', 'physical', 'ben', '...', 'going', 'run', 'fashion', 'sport', 'mo', '...', 'guide', 'start', 'running', 'scratch', 'di', '...', 'addition', 'great', 'pleasure', ',', 'sleepin', '...', 'consequences', 'little', 'sleep', '?', '...', '...', 'sleep', 'become', 'fundamental', 'issue', '...', 'good', 'good', 'good', 'good', '...', 'good', 'good', 'good', '...', 'good', 'good', 'good', '...', 'good', 'good', 'good', 'good', '...', 'good', 'good', 'good', '...', 'good', 'good', 'good', '...', 'good', 'good', 'good', '...', 'good', 'good', 'good', '...', 'good', 'good', 'good', '...', 'good', 'good', 'good', '...', 'good', 'good', 'good', '...', 'good', 'good', 'good', '...', 'eating', 'drinking', 'playing', 'sleeping', 'roaming', 'swi', '...', 'sad', 'depress', 'dull', 'sweat', 'lazy', 'tired', 'bad', 'well', 'terrible', 'honour', 'clever', 'knowledge', 'gain', 'lost', 'swi', '...', 'swap', 'passion', 'wiped', 'seized', 'well', 'disappoint', 'plea', '...', 'ca', \"n't\", 'digest', 'terrible', 'dishonour', 'nice', 'discomfor', '...', \"n't\", 'worst', 'bagon', 'best', 'gather', '...', 'fitness', 'healthy', 'weight-loss', 'diet', 'goodness', 'swea', '...', 'sweat', 'discomfort', 'dull', 'dirty', 'worse', 'pain', 'notice', '...', 'energy', 'well', 'good', 'freak', 'wisher', 'passion', 'best', 'fine', 'good', 'fine', 'worry', 'best', 'super', 'feel', 'rest', 'soul', 'lazy', 'worse', 'good', 'even', 'one', 'one', '...', 'none', 'nonee', 'none', 'none', 'none', 'none', 'none', 'none', 'feeling', 'good', 'satisfied', '...', 'cause', 'harm', 'draw', 'attention', '...', 'able', 'think', '...', 'claim', \"n't\", '!', 'f', '...', 'might', 'trouble', 'acting', 'wou', '...', 'certain', 'amount', 'stability', 'plenty', 'food', 'p', '...', 'health', 'better', 'cardiovascular', 'system', 'look', 'bette', '...', 'injuries', 'hurting', 'achiles', 'repetitive', 'stres', '...', 'good', 'sports', 'bra', 'good', 'shoes', 'safe', 'place', 'okay', 'wea', '...', 'best', 'rest', 'mental', 'wellness', 'h', '...', 'lost', 'time', 'bad', 'dreams', 'unsafe', \"n't\", 'know', 'whats', 'h', '...', 'safe', 'place', 'tired', 'dark', 'good', 'temp', 'control', '...', 'getting', 'good', 'join', 'core', 'field', 'settled', 'wea', '...', 'ride', 'dream', 'bike', 'go', 'tour', 'spend', 'fam', '...', 'missing', 'school', 'life', 'missing', 'school', 'friends', 'mis', '...', 'hate', 'private', 'jobs', 'low', 'amount', 'h', '...', 'mesmerising', 'got', 'angry', 'long', 'frie', '...', 'like', 'buy', 'dream', 'car', 'like', 'drive', '...', 'good', 'health', 'fitness', 'mind', 'freshness', 'body', 'wealth', '...', 'nil', 'good', 'health', 'nil', 'nil', 'nil', 'nil', 'nil', 'nil', 'good', 'action', 'great', 'health', 'good', 'body', 'condition', 'g', '...', 'good', 'health', 'great', 'wealth', 'good', 'mine', 'good', 'f', '...', 'anytime', 'thinking', 'cause', 'headache', 'affect', 'health', '...', 'nil', 'nil', 'nil', 'nil', 'nil', 'nil', 'nil', 'nil', 'work', 'love', 'experience', 'run', 'swim', 'write', 'dance', 'speak', 'sad', 'work', 'fuck', 'suck', 'look', 'book', 'read', 'write', 'book', 'write', 'wrote', 'stusy', 'dance', 'type', 'stay', 'act', 'work', 'work', 'work', 'work', 'work', 'work', 'work', 'work', 'work', 'work', 'work', 'work', 'work', 'work', 'work', 'work', 'work', 'work', 'work', 'work', 'work', 'work', 'work', 'work', 'work', 'work', 'work', 'work', 'work', 'work', 'work', 'work', 'work', 'work', 'work', 'work', 'work', 'work', 'work', 'work', 'work', 'work', 'work', 'work', 'work', 'work', 'work', 'work', 'work', 'work', 'work', 'work', 'work', 'work', 'work', 'work', 'work', 'work', 'work', 'work', 'work', 'work', 'work', 'work', 'work', 'work', 'work', 'work', 'work', 'work', 'work', 'work', 'changing', 'things', 'real', 'world', 'improving', 'ps', '...', 'living', 'regret', 'feeling', 'helpless', 'losing', '...', 'motivation', 'strength', 'character', 'desire', 'cha', '...', 'becoming', 'target', 'exposing', 'oneself', '...', 'achieving', 'goals', 'losing', 'life', 'hav', '...', 'apathy', 'listlessness', 'indifference', 'uninvolved', 'fe', '...', 'strong', 'legs', 'toned', 'physique', 'cardiovascular', 'heal', '...', 'injury', 'feet', '-exertion', 'excessive', 'weigh', '...', 'place', 'run', 'good', 'legs', 'endurance', 'good', 'shoes', '...', 'good', 'physical', 'health', 'good', 'mental', 'health', 'feeli', '...', 'potentially', 'achieving', 'less', 'feeling', 'left', '...', 'tired', 'bed', 'house', 'turnin', '...', 'enhance', 'personal', 'effectiveness', 'productivit', '...', 'time', 'consuming', '.', 'difficulties', 'planning', 'clos', '...', 'confidence', 'self', 'esteem', 'action', 'list', 'forces', '...', 'economic', 'social', 'benefits', 'climate', 'inform', '...', 'gain', 'result', 'favour', 'economic', 'loss', '...', 'nothing', 'oyu', 'know', 'depend', 'someone', '...', 'strengthen', 'muscles', '.', 'help', 'build', 'strong', 'bones', '...', 'increased', 'risk', 'heart', 'attack', '.', '...', 'potential', '...', 'run', 'early', 'morning', 'eat', 'healthy', 'increase', '...', 'sleep', 'keeps', 'heart', 'healthy', '.', '...', 'may', 'help', 'p', '...', 'cognitive', 'impairment', '.', 'depression', '.', 'increased', '...', 'eat', 'eat', 'proper', 'time', 'dont', 'use', 'cell', 'phon', '...', 'better', 'health', 'making', 'changes', 'proactive', '...', 'fear', 'impulsivity', 'unnecessary', 'changes', 'disconten', '...', 'good', 'health', 'energy', 'motivation', 'boldness', 'cl', '...', 'stagnating', 'living', 'past', 'smoldering', 'depre', '...', 'fear', 'anxiety', 'depression', 'changing', 'progre', '...', 'fear', 'anger', 'financial', 'insecurity', 'fear', 'embarr', '...', 'better', 'health', 'better', 'fitness', 'increased', 'energy', '...', 'exhaustion', 'muscle', 'pain', 'strain', 'tiredness', 'burnou', '...', 'good', 'health', 'overall', 'good', 'outlook', 'drive', 'determ', '...', 'better', 'mood', 'better', 'health', 'energy', 'cal', '...', 'depression', 'bad', 'habits', 'addiction', 'anxiety', 'sadnes', '...', 'relaxation', 'tea', 'soothing', 'music', 'silence', 'patience', '...', 'bad', 'important', 'wast', 'time', '...', 'reduces', 'time', 'reduces', 'stress', 'alt', '...', 'alone', 'waste', 'time', 'good', 'childre', '...', 'ok', 'nice', 'none', 'sad', 'angry', 'fun', 'excellent', 'excited', \"n't\", 'know', 'ok', 'excellent', 'important', '...', 'ok', 'good', 'ok', 'bad', 'ok', 'ok', 'ok', 'ok', 'k', 'k', 'k', 'k', 'k', 'k', 'k', 'k', 'much', \"n't\", 'time', 'answer', '...', 'k', 'k', 'k', 'k', 'k', 'k', 'k', 'k', 'k', 'k', 'k', 'k', 'k', 'k', 'k', 'k', 'ujj', 'yh', 'f', 'gg', 'f', 'tf', 'g', 'f', 'h', 'h', 'g', 'r', 'g', 'getting', 'healthy', 'getting', 'things', 'done', 'staying', '...', 'losing', 'time', 'becoming', 'overtired', 'becoming', 'overwo', '...', 'need', 'motivation', 'need', 'w', '...', 'getting', 'enough', 'rest', 'time', 'family', '...', 'gaining', 'weight', 'getting', 'bored', 'life', 'getting', '...', 'need', 'stay', 'still', 'need', 'environment', '...', 'healthier', 'losing', 'weight', 'endu', '...', 'getting', 'hurt', 'giving', 'starting', 'b', '...', 'motivation', 'right', 'shoes', 'certain', 'clothes', 'tim', '...', 'becoming', 'healthy', 'energy', 'day', 'let', '...', 'sleeping', 'much', 'feeling', 'groggy', 'getting', 'heada', '...', 'right', 'environment', 'bed', 'pillow', 'blankets', 'bein', '...', 'health', 'excitement', 'progress', 'movement', 'adventure', '...', 'exhaustion', 'risk', 'pain', 'wrong', 'decision', 'failure', 'sh', '...', 'mindset', 'finances', 'strength', 'emotion', 'passion', 'dedi', '...', 'rest', 'sanity', 'lack', 'responsibility', 'wrong', 'c', '...', 'ownership', 'rewards', 'benefits', 'glory', 'n', '...', 'fear', 'lack', 'skills', 'lack', 'intelligence', 'lack', '...', 'strenth', 'weight', 'loss', 'bone', 'growth', 'mental', 'sanity', '...', 'pain', 'injuries', 'exhaustion', 'tired', 'expensive', 'sneak', '...', 'health', 'sneakers', 'mental', 'strength', 'good', 'form', 'dedi', '...', 'rest', 'healing', 'mental', 'relaxation', 'muscle', 'repair', 'p', '...', 'risk', 'diabetes', 'heart', 'disease', 'stroke', 'less', 'pro', '...', 'bed', 'tired', 'pillow', 'sheets', 'cool', 'temperature', 'desir', '...', 'try', 'new', 'things', \"n't\", 'stay', 'stuck', 'yo', '...', 'hard', 'take', 'work', 'may', 'choose', 'wrong', '...', 'force', 'power', 'resources', 'perseverence', 'disc', '...', 'may', 'get', 'worse', 'less', 'effort', 'takes', 'less', 'time', '...', 'less', 'growth', 'ca', \"n't\", 'move', 'forward', 'things', 'may', 'get', '...', 'boredom', 'stress', 'overwhelmed', 'force', 'fe', '...', 'get', 'away', 'good', 'health', 'muscular', 'lose', 'weight', '...', 'hard', 'joints', 'injuries', 'takes', 'time', 'loose', '...', 'muscles', 'joints', 'movement', 'feet', 'legs', 'strength', 'lun', '...', 'energy', 'alert', 'better', 'cognition', 'better', '...', 'takes', 'time', 'social', 'get', 'less', 'done', 'might', '...', 'circadian', 'rythmns', 'sunlight', 'darkness', 'quiet', 'mela', '...', 'health', 'learning', 'defense', 'accomplishment', 'conduct', '...', 'war', 'poverty', 'sickness', 'death', 'disasters', 'accidents', '...', 'brain', 'intelligence', 'intention', 'accident', 'nature', '...', 'rest', 'relaxation', 'thinking', 'meditation', 'ponderin', '...', 'lazy', 'inactive', 'stale', 'mental', 'loss', 'unhealthy', 'sore', '...', 'imagination', 'force', 'intention', 'laziness', 'mindless', '...', 'health', 'tone', 'mood', 'destress', 'strength', 'muscle', 'frie', '...', 'breathing', 'heart', 'attack', 'foot', 'problems', 'shin', 'spli', '...', 'healthy', 'shoes', 'location', 'warmup', 'clothing', 'enduran', '...', 'resting', 'beauty', 'destress', 'repair', 'calm', 'energize', '...', 'groggy', 'headache', 'nightmares', 'sleep', 'apena', 'bad', 'mat', '...', 'bed', 'pillow', 'temperature', 'dark', 'silence', 'tired', 'cal', '...', 'get', 'something', 'done', 'produce', 'results', 'better', '...', 'make', 'mistake', 'help', 'detrimental', '...', 'initiative', 'motivation', 'good', 'intentions', 'competen', '...', \"n't\", 'expend', 'energy', 'lazy', \"n't\", '...', 'lazy', 'people', \"n't\", 'respect', '...', 'laziness', 'motivation', 'competent', \"n't\", 'car', '...', 'cardio', 'health', 'heart', 'health', 'better', 'fitness', 'good', '...', 'could', 'injured', 'hurt', 'knees', 'heart', '...', 'determination', 'fitness', 'want', 'motiva', '...', 'mental', 'clarity', 'restorative', 'body', 'good', 'r', '...', 'missing', 'events', 'ca', \"n't\", 'work', 'sleeping', 'missi', '...', 'quiet', 'room', 'comfy', 'bed', 'cool', 'room', 'black', 'curta', '...', 'ability', 'get', 'something', 'accomplished', 'stag', '...', 'rejection', 'possible', 'harm', 'bad', 'repercussions', 'mig', '...', 'initiative', 'moving', 'writing', 'voicing', 'getting', '...', 'safe', 'comfort', 'zone', 'routine', 'opinions', 'made', 'yo', '...', 'complacent', 'dont', 'get', 'voice', 'opinion', 'cant', '...', 'nothing', 'dont', 'speak', 'dont', 'move', 'let', 'things', 'pas', '...', 'healthy', 'get', 'shape', 'lazy', 'complacent', '...', 'hurt', 'physically', 'hurt', 'mentally', 'hurt', 'relationshi', '...', 'moving', 'getting', 'shoes', 'clothes', 'somewhere', 'r', '...', 'rest', 'repair', 'good', 'physically', 'good', 'mentally', 'good', '...', 'wasted', 'time', 'lazy', 'unhealthy', 'hurt', 'physically', 'hur', '...', 'laying', 'closing', 'eyes', 'time', 'bed', 'surface', 'l', '...', 'advantages', 'reading', 'instructions', '...', 'consequences', 'impulsivity', 'stress', 'self', 'doubt', '...', 'brain', 'synapses', 'decision', 'making', 'reasoning', 'self', '...', 'risk', 'loss', 'risk', 'injury', 'peace', 'str', '...', 'loss', 'personal', 'growth', 'loss', 'emotional', 'grow', '...', 'low', 'self', 'esteem', 'anxiety', 'fear', 'depression', 'unwill', '...', 'runner', \"'s\", 'high', 'real', '!', 'weight', 'loss', 'stamina', 'phy', '...', 'stress', 'knees', 'stress', 'gi', 'system', '...', 'decision', 'start', 'running', 'physical', 'threat', '...', 'rest', 'brain', 'rest', 'body', 'allows', '...', 'vulnerability', 'outside', 'world', 'loss', 'tim', '...', 'tired', 'able', 'release', 'body', 'tension', '...', 'informative', 'help', 'relax', 'lea', '...', 'waste', 'time', 'take', 'day', '...', 'personal', 'commitment', 'technology', 'tells', '...', 'less', 'work', 'part', \"'s\", 'big', '...', 'nothing', 'change', 'reflection', 'means', '...', 'thing', 'always', 'ignore', 'pr', '...', 'healthy', 'feel', 'good', 'sense', 'ac', '...', 'hard', 'knees', 'dangerous', 'de', '...', 'place', 'run', 'desire', 'run', 'good', 'pair', '...', 'need', 'live', 'refreshes', '...', 'things', 'enough', 'time', '...', 'need', 'comfortable', 'need', 'feel', '...', 'acting', 'helps', 'overcome', 'laziness', 'action', 'allo', '...', 'action', 'takes', 'time', 'action', 'requires', 'commitme', '...', 'takes', 'willpower', 'takes', 'money', 'takes', 'fre', '...', 'laziness', 'leisure', 'comfortable', 'life', 'slowness', '...', 'body', 'ages', 'faster', 'get', 'fat', 'increases', 'cho', '...', 'little', 'imagination', 'little', 'money', 'little', 'health', '...', 'muscles', 'become', 'stronger', 'increases', 'serotoni', '...', 'spine', 'problems', 'knees', 'problems', 'race', 'addi', '...', 'athletic', 'preparation', 'proper', 'shoes', 'free', 'time', 'co', '...', 'recharge', 'energy', 'rest', 'brain', 'rest', '...', 'take', 'away', 'time', 'activities', 'distracte', '...', 'time', 'bed', 'comfortable', 'sofa', 'tired', '...', 'critical', 'one', 'action', 'situation', 'whi', '...', 'take', 'action', 'correct', 'time', 'bad', '...', 'actions', 'possible', 'time', 'creates', 'action', 'corre', '...', 'good', 'great', 'correct', 'right', 'surprise', 'great', 'deal', '...', 'bad', 'adventuare', 'difficult', 'danger', 'accepted', 'f', '...', 'quick', 'easy', 'happy', 'gather', 'oppurtunity', 'helpful', 'b', '...', 'good', 'exercise', 'greatful', 'wonderful', 'best', 'happy', 'mo', '...', 'good', 'exercise', 'reduce', 'obesity', 'makes', 'man', 'perfec', '...', 'free', 'dream', 'fresh', 'keeps', 'man', 'perfect', 'gather', 'man', '...', 'unfree', 'unfree', 'unfree', 'unfree', 'unfree', 'unfree', 'unfr', '...', 'rest', 'rest', 'rest', 'rest', 'rest', 'rest', 'rest', 'rest', 'work', 'field', 'table', 'happy', 'behavoiur', 'happy', 'statifi', '...', 'happy', 'want', 'field', 'could', 'cloudy', 'write', 'fill', 'happy', 'hi', 'want', 'see', 'happy', 'things', 'happy', 'see', 'field', 'things', 'bag', 'things', 'live', 'happiee', 'seee', 'things', 'world', 'things', 'good', 'heart', 'reduce', 'cholestrol', 'reduce', 'th', '...', 'sudden', 'heart', 'attack', 'leg', 'pain', 'heart', 'pain', '...', 'good', 'heart', 'whole', 'body', 'full', 'body', 'rest', 'bresk', 'active', '...', 'high', 'chloestrol', 'weight', 'increase', 'dull', 'day', 'u', '...', 'work', 'possible', 'accomplishment', 'achievement', 'getting', 'chores', 'done', '...', 'enough', 'time', 'inner', 'reflection', 'lack', 'c', '...', 'motivation', 'energy', 'drive', 'time', 'distractions', 'g', '...', 'lack', 'self-esteem', 'feeling', 'stuck', 'depression', 'l', '...', 'feeling', 'helpless', 'moving', 'forward', 'life', 'la', '...', 'fear', 'failure', 'depression', 'afraid', 'mov', '...', 'increase', 'heart', 'rate', 'increase', 'circulation', 'good', '...', 'physical', 'injuries', 'rainy', 'weather', 'time', 'consuming', '...', 'motivation', 'energy', 'stamina', 'good', 'health', 'time', 'goo', '...', 'rejuvination', 'clear', 'head', 'energy', 'dream', '...', 'laziness', 'motivated', 'accomplishing', 'enoug', '...', 'comfort', 'good', 'bed', 'good', 'pillows', 'warm', 'c', '...', 'getting', 'something', 'done', 'getting', 'exercise', 'losing', '...', 'much', '-', 'get', 'tired', 'much', '-', 'get', 'hurt', '...', 'determination', 'energy', 'time', 'patience', 'money', 'luck', '...', 'wont', \"'\", 'get', 'tired', 'whatever', 'want', 'avoid', '...', 'called', 'lazy', 'getting', 'enough', 'done', '...', 'depression', 'anxiety', 'panic', 'laziness', 'much', 'wor', '...', 'exercise', 'supposedly', 'get', 'healthier', 'strength', '...', 'high', 'impact', 'exercise', 'wear', 'tear', 'joi', '...', 'high', 'tolerance', 'pain', 'care', 'h', '...', 'less', 'tired', 'less', 'stressed', 'studies', 'show', 'helps', '...', 'wasting', 'time', 'could', 'thi', '...', 'tired', 'comfortable', 'bed', 'pillow', 'blankets', 'quiet', 'da', '...', 'healthy', 'excited', 'fun', 'friendly', 'eager', 'enthusiast', '...', 'tired', 'sleepy', 'enthusiastic', 'exhausted', 'drain', 'wear', '...', 'act', 'move', 'run', 'work', 'active', 'energetic', 'spirited', 'sp', '...', 'rest', 'relax', 'nap', 'loosen', 'unbend', 'unwind', 'decrease', '...', 'fat', 'fatness', 'grease', 'large', 'chubby', 'sleepy', 'ineffec', '...', 'lazy', 'idle', 'inactive', 'slow', 'heavy', 'dull', 'lifeless', '...', 'strengthen', 'muscle', 'burn', 'calories', 'stay', 'fit', 'build', '...', 'sun', 'exposure', 'impact', 'ankle', 'possible', 'injury', 'b', '...', 'get', 'house', 'action', 'strong', 'mentality', '...', 'keep', 'healthy', 'prevent', 'cancer', 'reduce', 'stress', '...', 'back', 'pain', 'headachs', 'make', 'lazy', 'depression', 'hi', '...', 'calm', 'mood', 'comfortable', 'setting', 'good', 'mood', '...', 'get', 'exercise', 'things', 'get', 'done', 'people', 'sa', '...', 'someone', 'gets', 'hurt', 'someone', 'gets', 'discriminated', '...', 'takes', 'movement', 'getting', 'bed', 'turning', '...', 'rest', 'wo', \"n't\", 'get', 'caught', 'fight', 'eat', \"n't\", 'pro', '...', 'laziness', 'work', 'done', 'someone', 'dies', 'accid', '...', 'lack', 'lack', 'trying', 'fear', 'worry', 'timid', '...', 'health', 'muscles', 'digestion', 'system', 'nature', 'running', '...', 'injure', 'self', 'bad', 'heart', 'issues', 'tiredness', 'sweat', 'h', '...', 'willpower', 'running', 'shoes', 'park', 'running', 'pa', '...', 'brain', 'repair', 'rest', 'recharge', 'bed', 'break', 'ha', '...', 'oversleep', 'hard', 'getting', 'miss', 'something', 'alarm', '...', 'pajamas', 'tea', 'turning', 'phones', 'mobile', 'devi', '...', 'get', 'ahead', 'succeed', '...', 'lose', 'something', 'valuable', '...', 'energy', 'willpower', 'determination', 'perseverance', '...', 'regret', 'misgivings', 'shame', 'anger', '...', 'remain', 'stagnant', 'never', 'get', 'ahead', 'stuck', '...', 'loss', 'control', 'loss', 'confidence', 'loss', 'se', '...', 'health', 'strength', 'vitality', 'energy', 'rejuvenation', '...', 'tired', 'overworked', 'pain', 'depleted', 'aches', 'lack', '...', 'inspiration', 'willpower', 'confidence', 'determinatio', '...', 'rest', 'health', 'vitality', 'rejuvenation', 'well', 'reste', '...', 'oversleep', 'tiredness', 'fatigue', 'laziness', 'bored', '...', 'make', 'schedule', 'make', 'plan', 'time', 'every', 'n', '...', 'making', 'positive', 'change', 'getting', 'things', 'done', 'mak', '...', 'takes', 'work', 'tiring', 'anxiety', 'invoki', '...', 'mental', 'clarity', 'internal', 'motivation', 'setting', 'goa', '...', \"n't\", 'take', 'effort', 'tiring', 'thing', '...', \"n't\", 'get', 'things', 'done', \"n't\", 'move', 'forward', 'li', '...', 'enabling', 'enough', 'money', 'unmotivated', '...', 'energy', 'physical', 'activity', 'positive', 'mood', 'good', 'fo', '...', 'get', 'injured', 'get', 'hit', 'car', 'must', 'buy', '...', 'motivation', 'treadmill', 'street', 'run', 'run', '...', 'function', 'better', 'next', 'day', 'dreaming', 'f', '...', 'never', 'enough', 'time', 'hard', 'fall', 'asleep', 'sometime', '...', 'tired', 'sometimes', 'sleeping', 'pill', 'relaxati', '...', 'inaction', 'tends', 'reinforce', 'action', 'incr', '...', 'actions', 'unintended', 'consequences', 'unthought', '...', 'physical', 'freedom', 'intellectual', 'freedom', 'self', 'con', '...', 'responsibility', 'outcome', 'physical', 'saf', '...', 'feeling', 'helplessness', 'lack', 'motivation', 'pow', '...', 'sometimes', 'quiet', 'best', 'addit', '...', 'escape', 'danger', 'keep', 'fit', 'dopamine', 'manage', 'weight', '...', 'shin', 'splints', 'foot', 'injuries', 'boring', 'expense', '...', 'safe', 'place', 'run', 'time', 'good', 'feet', 'physical', 'abil', '...', 'dreams', 'reset', 'brain', 'rejuvenate', 'body', 'w', '...', 'enough', 'time', 'important', 'things', 'happen', '...', 'time', 'calm', 'lack', 'stress', 'blanket', 'strangers', '...', 'gain', 'something', 'complete', 'something', 'move', 'towa', '...', 'things', 'happen', 'quick', 'thinking', 'thr', '...', 'person', 'listening', 'analyzing', 'thinking', 'plannin', '...', 'changes', 'things', 'stay', 'easy', \"n't\", 'hav', '...', 'things', 'never', 'change', 'causes', 'minor', 'problems', 'g', '...', 'drive', 'desire', 'like', 'way', 'things', 'laz', '...', 'health', 'cardio', 'lungs', 'heart', 'weight', 'looks', 'blood', 'p', '...', 'knee', 'pain', 'ankle', 'pain', 'shin', 'splints', 'toe', 'problems', '...', 'shoes', 'clothes', 'healthy', 'heart', 'health', 'lungs', 'kn', '...', 'rest', 'reenergize', 'repair', 'feel', 'better', 'help', '...', 'bed', 'sores', 'rashes', 'bed', 'bugs', 'fleas', 'dirty', 'sheets', '...', 'bed', 'pillows', 'sheets', 'blankets', 'right', 'temperature', '...', 'get', 'faster', 'results', 'action', 'get', 'faster', 'resu', '...', 'action', 'could', 'cause', 'disaster', 'action', 'could', 'lea', '...', 'quick', 'thinking', 'reasoning', 'outcome', 'good', '...', 'think', 'action', 'slower', 'time', '...', 'could', 'lose', 'good', 'thing', 'could', 'produce', '...', 'unwise', 'thinking', 'slow', 'behavior', 'action', 'taken', '...', 'good', 'heart', 'health', 'good', 'lung', 'health', 'healthy', 'leg', '...', 'difficult', 'people', 'hard', 'legs', '...', 'good', 'heart', 'condition', 'good', 'lung', 'condition', 'healt', '...', 'better', 'health', 'better', 'brain', 'health', 'energy', 'e', '...', 'time', 'get', 'work', 'done', 'sleep', 'much', 'ha', '...', 'good', 'mattress', 'good', 'bed', 'sheets', 'quiet', 'room', 'sc', '...', 'speed', 'money', 'time', 'travel', 'saftey', 'attention', '...', 'adjustments', 'saving', 'counters', 'besting', 'network', '...', 'strength', 'stamima', 'proccess', 'configurati', '...', 'gain', 'insentive', 'people', 'gross', 'feild', 'heart', 'adv', '...', 'loss', 'pressure', 'fear', 'friction', 'distration', 'failu', '...', 'hope', 'clarity', 'gain', 'taking', 'speed', 'gears', 'food', 'manage', 'loss', 'pressure', 'spears', 'hemerging', 'corruption', 'da', '...', 'loss', 'gain', 'failure', 'money', 'time', 'incestmemts', 'pre', '...', 'hope', 'love', 'destiny', 'dam', 'dammage', 'get', 'confid', '...', 'time', 'money', 'pain', 'dreams', 'headach', 'ratchetness', 'ugl', '...', 'crust', 'pain', 'hope', 'joy', 'handle', 'tune', 'flow', 'long', 'drink', 'sex', 'food', 'good', 'vibes', 'comfy', 'joy', 'salas', 'action', 'results', 'outcomes', 'results', 'occure', 'chan', '...', 'outcomes', 'unknown', 'change', 'always', 'goo', '...', 'energy', 'movement', 'thought', 'coordination', 'cognitio', '...', 'variables', 'remain', 'constant', \"n't\", 'need', 'w', '...', 'change', 'occur', 'without', 'problems', 'ge', '...', 'ignorance', 'willful', 'negligence', 'misunderstandin', '...', 'heart', 'rate', 'increases', 'builds', 'lean', 'muscle', 'creat', '...', 'limited', 'energy', 'ability', 'g', '...', 'need', 'healthy', 'heart', 'need', 'healthy', 'p', '...', 'feel', 'rested', 'reduces', 'stress', 'makes', 'feel', '...', 'takes', 'time', \"'re\", 'unproductive', 'sta', '...', 'typically', 'eyes', 'must', 'closed', \"'re\", '...', 'action', 'cause', 'progress', 'social', 'issues', 'thr', '...', 'action', 'lead', 'failure', 'action', 'lead', '...', 'desire', 'drive', 'energy', 'imagination', 'goals', 'com', '...', 'safety', 'danger', 'security', 'status', 'quo', 'pers', '...', 'missed', 'opportunities', 'status', 'quo', 'physical', 'deter', '...', 'lack', 'desire', 'lack', '...', 'health', 'increase', 'ward', 'disease', 'weight', 'co', '...', 'physical', 'ailments', 'body', 'oder', 'isolation', 'long', 'ter', '...', 'desire', 'run', 'desire', 'compete', 'oneself', '...', 'refreshes', 'body', 'resets', 'natural', 'clock', '...', 'time', 'takes', 'lack', 'accomplishments', 'vulnerab', '...', 'quiet', 'room', 'dark', 'room', 'time', 'hunger', 'addressed', 'pro', '...', 'action', 'living', 'action', 'produces', 'consequences', '...', 'action', 'lead', 'bad', 'outcomes', 'action', 'har', '...', 'recognition', 'action', 'required', 'self-contr', '...', 'easier', 'safe', 'comforting', 'predictable', 'known', 'cauti', '...', 'risky', 'lazy', 'clueless', 'unaware', 'selfish', 'slothful', 'u', '...', 'nothing', 'steadfast', 'stubbornness', 'denial', 'closed-m', '...', 'improves', 'health', 'lose', 'weight', 'lowers', 'blood', 'press', '...', 'risk', 'injury', 'heat', 'stroke', 'plantar', 'fascitis', 'co', '...', 'energy', 'shoes', 'motivation', 'stamina', 'self-control', 'w', '...', 'good', 'brain', 'improves', 'memory', 'reduces', 'diabete', '...', 'less', 'time', 'work', 'less', 'time', 'exercise', 'less', 'time', '...', 'calm', 'bed', 'nighttime', 'low', 'light', 'low', 'temperature', 'q', '...', 'getting', 'things', 'done', 'productive', 'feeling', '...', 'thinking', 'long', 'enough', 'make', 'decision', 'ha', '...', 'thinking', 'time', 'initiative', 'charcter', 'personality', '...', 'time', 'relax', 'piece', 'mind', 'pondering', 'happyness', 'c', '...', 'acting', 'thinking', 'letting', 'things', 'pass', 'si', '...', 'lazy', 'confidence', 'content', 'thinking', '...', 'healthy', 'getting', 'somewhere', 'losing', 'weight', 'feelin', '...', 'injury', 'takes', 'time', \"'s\", 'hard', \"'s\", 'fun', '...', 'initiative', 'time', 'athleticism', 'ability', 'stand', '...', 'getting', 'rechached', 'getting', 'rest', 'feeling', 'fresh', 'f', '...', 'losing', 'time', 'nightmares', 'tired', 'wake', 'mi', '...', 'relaxing', 'comfort', 'time', 'piece', 'mind', 'bed', 'pi', '...', 'feel', 'like', 'control', 'make', '...', 'takes', 'time', 'takes', 'money', 'people', '...', 'feel', 'compelled', 'take', 'action', '...', 'dont', 'change', 'dont', 'sacri', '...', 'nothing', 'changes', 'good', 'loose', 'vo', '...', 'apathy', 'fear', 'lazyness', 'subjegation', 'motivation', '...', 'get', 'shape', 'healthy', 'joining', 'groups', 'maintain', '...', 'time', 'commitment', 'aches', 'injuries', 'change', 'lifes', '...', 'commitment', 'determination', 'small', 'goals', 'willing', '...', 'helps', 'loose', 'weight', 'helps', 'mental', 'health', 'feeling', '...', 'time', 'weigh', 'gain', 'unable', 'control', 'dre', '...', 'dark', 'room', 'disconnect', 'electronics', 'dont', 'wor', '...', 'control', 'happens', '.', 'things', 'g', '...', 'actions', 'may', 'adequately', 'planned', '.', 'mistake', '...', 'purpose', 'needs', 'identified', '.', 'impacted', '...', 'think', 'better', 'ways', 'things', '.', 'peo', '...', 'problems', 'might', 'get', 'worse', '.', 'money', 'lost', '.', 'w', '...', 'nobody', 'takes', 'responsibility', '.', 'resources', 'need', '...', 'improve', 'cardiovascular', 'fitness', '.', '...', 'injure', 'legs', '.', 'waste', 'time', '...', 'motivation', 'proper', 'shoes', 'place', 'run', 'plan', '...', 'avoid', 'getting', 'trouble', 'night', 'b', '...', 'waste', 'much', 'time', '.', 'lead', 'slothf', '...', 'comfortable', 'spot', 'sleep', '.', 'tem', '...', 'moving', 'forward', 'learning', 'something', 'better', '...', 'slow', 'unproductive', 'relaxation', '...', 'decide', 'take', 'action', 'right', 'time', 'right', 'pl', '...', 'leisure', 'time', \"n't\", 'move', 'obliga', '...', 'missing', 'life', 'possibilities', 'earning', 'mone', '...', \"n't\", 'go', 'work', 'enough', '...', 'outside', ',', 'fresh', 'air', 'heart', 'benefits', 'less', 'possibl', '...', 'move', 'even', \"n't\", 'want', 'knees', '...', 'good', 'shoes', 'time', 'motivated', '...', 'replenishing', 'healing', 'depression', 'healing', 'anxi', '...', 'waisting', 'time', 'sleeping', 'long', 'able', '...', 'tired', 'enough', 'time', 'worry', 'pr', '...', 'active', 'alert', 'knowledge', 'education', 'moral', 'lively', '...', 'death', 'boring', 'enemy', 'cheat', 'jealousy', 'envy', 'pain', 'agony', 'energy', 'alert', 'strength', 'active', 'lively', 'knowledge', '...', 'lazy', 'slow', 'cheat', 'poor', 'booring', 'weak', 'low', 'bad', 'save', 'friends', 'sweet', 'boring', 'nice', 'suspence', 'confus', '...', 'slow', 'poor', 'weak', 'lazy', 'slender', 'low', 'poor', 'nice', 'fast', 'training', 'stamina', 'strength', 'physique', 'body', 'b', '...', 'injury', 'muscle', 'tear', 'pains', 'time', 'comfort', 'stress', '...', 'active', 'strength', 'physique', 'body', 'balance', 'alert', 'st', '...', 'rest', 'healthy', 'good', 'strong', 'relaxed', 'fast', 'strong', '...', 'lazy', 'weak', 'poor', 'slow', 'low', 'less', 'energertic', 'bad', 'bo', '...', 'fatique', 'lazy', 'rest', 'stress', 'hadrwork', 'active', 'body', '...', 'take', 'action', 'elicit', 'change', '.', 'ac', '...', 'may', 'fail', 'action', 'took', '.', 'may', 'b', '...', 'somebody', 'prime', 'mover', '.', '...', 'lose', 'physical', 'asset', '.', '...', 'may', 'what-if', 'scenario', '.', 'whatever', 'acti', '...', 'somebody', 'think', 'taking', 'action', '...', 'weight', 'loss', '.', 'quality', 'life', '.', 'ability', 'compe', '...', 'physical', 'injury', 'death', 'getting', 'lost', 'much', '...', 'somebody', 'wants', '.', 'somebody', 'able', '...', 'physical', 'regeneration', 'mental', 'sanity', 'fun', '...', 'takes', 'time', 'accomplishing', 'things', 'may', 'ne', '...', 'conciousness', 'biological', 'need', 'tired', '...', 'results', 'progress', 'motivation', 'achievement', 'sucess', '...', 'succeeding', 'failing', 'tried', 'co', '...', 'self', 'determination', 'motivation', 'goals', 'gain', '...', 'less', 'involved', 'risking', 'anything', 'ne', '...', 'letting', 'someone', 'hurting', 'someone', \"'s\", 'feeling', '...', 'knowing', 'might', 'get', 'hurt', 'took', 'action', '...', 'health', 'losing', 'weight', 'gaining', 'muscle', 'longevity', '...', 'hurts', 'knees', 'might', 'lose', 'much', 'weight', 'g', '...', 'good', 'form', 'motivation', 'go', 'length', 'want', '...', 'mental', 'health', 'physical', 'health', 'reset', 'body', '...', 'sleeping', 'much', \"n't\", 'good', 'losing', 'ti', '...', 'comfortable', 'bed', 'soft', 'sheets', 'great', 'pillow', 'ca', '...', 'acquire', 'desire', '.', 'interact', 'wi', '...', 'action', 'takes', 'energy', '.', 'action', 'met', 'op', '...', 'action', 'requires', 'idea', '.', 'action', 'requires', 'dec', '...', 'inaction', 'prevents', 'failure', '.', 'inaction', 'prevents', 'p', '...', 'one', 'ca', \"n't\", 'acquire', 'one', \"'s\", 'desires', 'inaction', '.', '...', 'inaction', 'requires', 'idea', '.', 'inaction', 'requires', '...', 'running', 'good', 'one', \"'s\", 'overall', 'health', '.', 'runn', '...', 'running', 'takes', 'time', '.', 'running', 'requires', 'spending', '...', 'one', 'must', 'least', 'basic', 'knowledge', 'r', '...', 'sleeping', 'restores', 'energy', '.', 'sleeping', 'repairs', '...', 'sleeping', 'takes', 'time', '.', 'sleeping', 'leave', 'one', 'fe', '...', 'sleep', 'requires', 'place', 'sit', 'lie', '.', 'sle', '...', 'able', 'get', 'exercise', 'active', 'accomp', '...', 'becoming', 'overly', 'taxed', 'allowing', 'body', '...', 'acceptance', 'understanding', 'belief', 'movement', 'agree', '...', 'rest', 'relaxation', 'refreshment', 'peace', 'tranquility', '...', 'loss', 'fear', 'avoidance', 'selfishness', 'laziness', 'welfa', '...', 'loss', 'feeling', 'self', 'importance', 'shame', 'caring', '...', 'exercise', 'muscle', 'increased', 'heart', 'rate', 'stamina', '...', 'hurt', 'shock', 'knees', 'tiredsome', 'winded', 'damage', '...', 'action', 'support', 'stamina', 'determination', 'dedicatio', '...', 'rest', 'refreshment', 'renewal', 'health', 'dreams', 'relaxat', '...', 'unrest', 'getting', 'things', 'done', 'inactivity', 'loss', '...', 'place', 'sleep', 'quiet', 'coolness', 'inaction', 'blanket', '...', 'good', 'good', 'good', 'good', 'good', 'good', 'good', 'good', 'bad', 'bad', 'bad', 'bad', 'bad', 'bad', 'bad', 'bad', 'happy', 'happy', 'happy', 'happy', 'happy', 'happy', 'happy', 'happy', 'interesting', 'interesting', 'interesting', 'interestin', '...', 'boring', 'boring', 'boring', 'boring', 'boring', 'boring', 'bori', '...', 'good', 'good', 'good', 'good', 'good', 'good', 'good', 'good', 'fitness', 'fitness', 'fitness', 'fitness', 'fitness', 'fitnes', '...', 'tiredness', 'tiredness', 'tiredness', 'tiredness', 'tiredn', '...', 'yes', 'yes', 'yes', 'yes', 'yes', 'yes', 'yes', 'yes', 'freshness', 'freshness', 'freshness', 'freshness', 'freshn', '...', 'inactive', 'inactive', 'inactive', 'inactive', 'inactive', '...', 'yes', 'yes', 'yes', 'yes', 'yes', 'yes', 'yes', 'yes', 'exitement', 'joyful', 'drugs', 'comedy', 'sorrow', 'twis', '...', 'dry', 'money', 'dollars', 'water', 'wet', 'land', 'ground', 'house', '...', 'revenge', 'time', 'good', 'bad', 'erecton', 'water', 'tube', 'talk', 'anger', 'comedy', 'trigger', 'field', 'house', 'ground', 'rice', 'jug', 'tiger', 'epic', 'bill', 'rice', 'yelp', 'queen', 'king', 'liquid', 'bun', 'bread', 'jam', 'silver', '`', 'slim', 'fit', 'blood', 'circulation', 'leg', 'strong', 'breathe', '...', 'tiles', 'hiphop', 'hills', 'tree', 'highest', 'big', 'small', 'tri', '...', 'tripple', 'mouse', 'figure', 'tall', 'ginger', 'fall', 'small', 'hops', 'tyre', 'queen', 'pig', 'high', 'jug', 'green', 'hello', 'yellow', 'lazy', 'fat', 'mind', 'dead', 'low', 'blood', 'circulation', 'waste', '...', 'ginger', 'green', 'yellow', 'figure', 'tall', 'violet', 'nick', '...', 'happiness', 'moeny', 'time', 'joy', 'suprise', 'wealth', 'food', 'f', '...', 'sad', 'fear', 'angry', 'hungry', 'lose', 'deprewssion', 'knots', 'f', '...', 'thought', 'work', 'thinking', 'time', 'money', 'happy', 'grit', 'guts', 'nothing', 'sad', 'fear', 'time', 'money', 'loniilneess', 'awe', 'spent', 'nothign', 'sadness', 'fear', 'anger', 'hungriness', 'lonilnes', '...', 'fear', 'sadness', 'nothing', 'empty', 'loose', 'moeny', 'taxes', '...', 'loosing', 'weight', 'happy', 'hope', 'good', 'positive', 'slim', 'h', '...', 'pain', 'tired', 'sad', 'hunger', 'heat', 'cold', 'time', 'money', 'money', 'shoes', 'support', 'cheers', 'time', 'tredmill', 'hope', '...', 'resting', 'happy', 'goals', 'refreshed', 'relax', 'hope', 'prett', '...', 'time', 'anything', 'sore', 'reading', '...', 'bed', 'blankets', 'time', 'dark', 'cool', 'rquiet', 'free', 'night', 'fun', 'adventurous', 'getting', 'somethi', '...', 'much', 'making', 'tired', 'mindi', '...', 'commitment', 'willingness', 'devotion', 'dedication', '...', 'relaxing', 'comfort', 'mellow', 'taking', '...', 'lazy', 'unimportant', 'nothing', 'f', '...', 'unwillingless', 'lazyness', 'careless', 'immorality', 'b', '...', 'exercise', 'health', 'losing', 'weight', 'gaining', 'musc', '...', 'tiring', 'sun', 'exposure', 'pressure', '...', 'run', 'dedication', 'running', 'shoes', 'pla', '...', 'less', 'stress', 'helps', 'memory', 'lower', 'blood', 'pr', '...', 'depression', 'pain', 'risk', 'obesity', 'risk', '...', 'comfortable', 'bed', 'caffeine', 'bed', 'peacefu', '...', 'form', 'routine', 'get', 'results', 'body', 'building', 'achieve', '...', 'time', 'consuming', 'mistakes', 'made', 'bad', 'consequences', '...', 'think', 'goal', 'setting', 'planning', 'money', '...', 'rest', 'time', 'money', 'planning', 'bu', '...', 'achievement', 'fulfillment', 'price', 'goal', '...', 'goal', 'planning', 'achievement', 'risk', 'threat', 'push', 'pre', '...', 'health', 'muscles', 'strenght', 'cardio', 'training', 'goal', '...', 'tiredness', 'soreness', 'muscular', 'strain', 'muscular', 'sp', '...', 'goals', 'plans', 'health', 'threat', 'pressure', 'friends', 'imp', '...', 'rest', 'recharge', 'calm', 'destress', 'energy', 'revamp', 'heal', '...', 'boring', 'work', 'done', 'time', 'consuming', 'activity', '...', 'tiredness', 'health', 'stress', 'busyness', 'need', 'calm', '...', 'action', 'actual', 'response', \"'s\", 'end', '...', 'started', 'endless', 'effect', '.', 'one', 'ac', '...', 'action', 'always', 'combined', 'effect', 'smalle', '...', 'loss', 'energy', '.', 'chance', 'mishap', 'zero', '.', 'r', '...', 'nothing', 'gets', 'done', '.', 'creates', 'confusion', '.', 'inaction', '...', 'previous', 'action', 'done', 'right', '.', 'energy', '...', 'faster', 'way', 'move', '.', 'fastest', 'human', 'move', '.', '...', 'get', 'tired', 'easily', '.', 'cause', 'breathlessness', 'ca', '...', 'walking', 'slow', 'option', '.', 'catch', 'bus', '...', 'body', 'gets', 'rest', '.', 'repairs', 'done', '.', 'ready', '...', 'wastes', 'time', '.', 'causes', 'snooring', '.', '...', 'tired', '.', 'usually', 'night', 'time', 'sometimes', 'sed', '...', 'learning', 'new', 'thing', 'challenging', 'new', 'thing', 'enga', '...', 'stop', 'discourage', 'feeling', 'sad', 'feeling', 'blue', 'medit', '...', 'plan', 'courage', 'test', 'time', 'development', 'meeting', 'hop', '...', 'cancel', 'misleading', 'stop', 'discourage', 'disappointme', '...', 'hopeless', 'cancel', 'stop', 'disappoint', 'destroy', 'closed', '...', 'plan', 'order', 'call', 'stop', 'meet', 'disapporve', 'cancel', 'de', '...', 'plan', 'see', 'test', 'take', 'action', 'challenge', 'goal', 'rewar', '...', 'sick', 'hopeless', 'stop', 'dicourage', 'kick', 'cancel', 'p', '...', 'carry', 'passion', 'work', 'hard', 'set', 'goal', 'hope', 'le', '...', 'nuturine', 'relax', 'take', 'rest', 'health', 'reset', 'healin', '...', 'tired', 'wasting', 'time', 'depression', 'increase', 'p', '...', 'relax', 'reading', 'book', 'comfortable', 'temperature', 'c', '...', 'safety', 'deportment', 'mechanical', 'technology', 'commun', '...', 'time', 'energy', '.', 'people', 'seldom', 'aware', 'th', '...', 'software', 'design', 'growth', 'formal', 'methods', '.', 'instinc', '...', 'significant', 'progress', 'made', 'pa', '...', 'balancing', 'thought', 'action', 'always', '...', 'cost', 'inaction', 'playing', 'safe', 'medici', '...', 'running', 'burns', 'calories', 'exercise', '...', 'damage', 'weight-bearing', 'joints', 'increased', 'risk', '...', 'running', 'remains', 'one', 'best', 'fastest', 'wa', '...', 'sleep', 'keeps', 'heart', 'healthy', 'sleep', 'may', 'help', '...', 'sleepiness', 'causes', 'accidents', 'sleep', 'loss', 'dumbs', '...', 'increase', 'bright', 'light', 'exposure', 'day', '...']\n"
     ]
    }
   ],
   "source": [
    "filtered_sent=[]\n",
    "for w in tokenized_word:\n",
    "    if w not in stop_words:\n",
    "        filtered_sent.append(w)\n",
    "print(\"Tokenized Sentence:\",tokenized_word)\n",
    "print(\"Filterd Sentence:\",filtered_sent)"
   ]
  },
  {
   "cell_type": "code",
   "execution_count": 95,
   "metadata": {},
   "outputs": [
    {
     "name": "stdout",
     "output_type": "stream",
     "text": [
      "Filtered Sentence: ['q1', 'q6', 'q13', 'q7', 'q15', 'q14', 'q8', 'q11', 'q16', 'q10', 'q9', 'q17', 'something', 'active', 'result', '...', 'could', 'make', 'wrong', 'choice', 'could', 'lead', 'wors', '...', 'drive', 'understanding', 'plan', 'effort', 'desire', 'skill', '...', 'rest', 'need', 'plan', 'need', 'design', 'free', 'ti', '...', 'things', 'could', 'get', 'worse', 'might', 'miss', 'something', 'mi', '...', 'lazy', 'depression', 'drive', 'motivation', 'desi', '...', 'healthy', 'strong', 'build', 'muscle', 'burn', 'calories', 'gain', '...', 'takes', 'time', 'takes', 'energy', 'cause', 'pain', 'deal', 'wi', '...', 'good', 'routine', 'good', 'energy', 'levels', 'good', 'sleep', 'goo', '...', 'better', 'health', 'feeling', 'rested', 'better', 'mental', 'hea', '...', 'back', 'hurt', 'wake', 'feeling', 'rested', '...', 'good', 'lighting', 'good', 'air', 'good', 'temp', 'good', 'blankets', '...', 'promotes', 'process', 'testing', 'ideas', 'encourage', 'chang', '...', 'strenthen', 'self', 'esttem', 'strenthen', 'self', 'esttem', 'st', '...', 'goal', 'steps', 'measurable', 'create', '...', 'dont', 'anything', 'inactivity', ',', 'inactivity', ',', '...', 'inactiondo', 'specify', 'note', 'inactiondo', '...', 'good', 'inactiondo', 'specify', 'note', 'inactiondo', '...', 'running', 'advantage', 'sterenthern', 'musle', 'running', 'ad', '...', 'pain', 'occur', 'pain', 'occur', 'pa', '...', 'handle', 'handle', 'handle', '...', 'relax', 'work', 'relax', 'work', 'relax', 'work', '...', 'work', 'delaya', 'work', 'delaya', 'work', 'delaya', 'work', 'delay', '...', 'time', 'spend', 'take', 'rest', 'time', 'spend', 'tak', '...', 'things', 'get', 'done', 'answers', 'found', 'progress', '...', 'fools', 'rush', 'well', 'thought', 'plan', '...', 'thought', 'motivation', 'desire', 'drive', 'gusto', 'pas', '...', 'time', 'think', 'wait', 'see', 'results', '...', 'passed', 'early', 'adopters', 'missed', 'opprotunitites', '...', 'nothing', 'lack', 'lack', 'desire', 'lack', 'st', '...', 'health', 'strength', 'fresh', 'air', 'wellbeing', 'alone', 'time', '...', 'time', 'consuming', 'hard', 'joints', 'boring', 'tiresome', '...', 'drive', 'desire', 'strength', 'mental', 'fortitude', 'av', '...', 'rest', 'mental', 'strength', 'necesity', 'clarity', 'rechargi', '...', 'loss', 'productivity', 'bad', 'dreams', 'time', 'sign', '...', 'bed', 'time', 'tired', 'location', 'comfort', 'exaustion', '...', 'change', 'movement', 'improvement', 'justice', 'start', 'chan', '...', 'change', 'unknown', 'force', 'painful', 'fear', 'sudden', 'scare', '...', 'force', 'idea', 'movement', 'change', 'need', 'sudden', 'reactio', '...', 'unchanged', 'disruption', 'calm', 'surprises', '...', 'dull', 'stagnent', 'obsolete', 'dated', 'falling', 'behind', '...', 'nothing', 'stay', 'plan', 'vision', 'fut', '...', 'exercise', 'healthy', 'stay', 'shape', 'heart', 'rate', 'los', '...', 'time', 'back', 'pain', 'foot', 'pain', 'ankle', 'pain', 'dull', 'bo', '...', 'put', 'shoes', 'start', 'running', 'buy', 'shoes', 'put', 'cl', '...', 'energy', 'rest', 'feel', 'better', 'reduces', 'stress', 'improve', '...', 'depression', '.', 'pain', 'obesity', 'heart', 'disease', 'lazy', 'u', '...', 'bed', 'pillow', 'close', 'eyes', 'tired', 'darkness', 'quiet', 'ex', '...', 'desired', 'manifestations', 'desires', 'met', 'needs', 'met', 'f', '...', 'mistakes', 'undesired', 'results', 'regrets', 'time', 'wasted', '...', 'plan', 'accountability', 'time', 'confidence', 'peace', '...', 'protection', 'time', 'think', 'time', 'plan', 'mista', '...', 'losing', 'missed', 'opportunities', 'lack', 'resour', '...', 'doubting', 'self', 'doubting', 'others', 'trusting', 'se', '...', 'healthy', 'lungs', 'healthy', 'muscles', 'healthy', 'heart', '...', 'knee', 'joints', 'wear', 'tear', 'muscle', 'wear', 'tear', '...', 'good', 'pair', 'running', 'shoes', 'athletic/running', 'ap', '...', 'healthy', 'healing', 'good', 'memory', 'good', 'prope', '...', 'missed', 'opportunities', 'enough', 'time', 'da', '...', 'hard', 'work', 'worry', 'depression', 'irritability', 'sickne', '...', 'accomplish', 'goals', \"'m\", 'happier', \"'m\", 'prod', '...', 'may', 'get', 'stressed', 'easily', 'may', 'burn', 'f', '...', 'form', 'plan', 'align', 'right', 'peop', '...', 'time', 'reflect', 'new', 'ideas', '...', 'nothing', 'new', 'gets', 'accomplished', \"n't\", 'maximi', '...', 'need', 'control', 'impulses', '.', 'need', 'reco', '...', 'maintain', 'strength', '.', 'lose', 'weight', '.', 'yo', '...', 'tiring', '.', 'creates', 'soreness', '.', 'lot', 'ac', '...', 'proper', 'running', 'clothes', 'sho', '...', 'refreshed', 'next', 'day', '.', 'build', '...', 'less', 'productive', '.', 'might', 'miss', '...', 'need', 'tired', '.', 'need', 'dark', '...', 'strength', 'intuitiveness', 'movement', 'exercise', 'forwa', '...', 'pain', 'frustration', 'anxiety', 'depression', 'suffocatio', '...', 'movement', 'thought', 'brain', 'connections', 'frustration', '...', 'calmness', 'peace', 'serinity', 'love', 'self', 'mindfull', '...', 'social', 'bad', 'thoughts', 'muscle', 'fatigue', 'b', '...', 'sleep', 'stay', 'bed', 'depression', 'anxiety', 'shutting', '...', 'exercise', 'moves', 'lymphatic', 'system', 'pain', 'aching', 'ga', '...', 'sores', 'feet', 'sores', 'thighs', 'sweat', 'muscle', 'fat', '...', 'good', 'shoes', 'move', 'socks', 'headaches', '...', 'clear', 'mind', 'think', 'suicide', 'attemp', '...', 'hearing', 'husbnd', 'snore', 'wake', 'achy', 'bed', 'co', '...', 'light', 'comfortable', 'bed', 'cool', 'temperatures', 'bla', '...', 'achieving', 'goal', 'completing', 'project', 'ensuring', '...', 'chance', 'harming', 'someone', 'chance', 'material', '...', 'agent', 'abstract', 'reason', 'principle', 'mat', '...', 'saving', 'face', 'preserving', 'time', 'preserving', 'money', 'p', '...', 'loss', 'potential', 'material', 'gain', 'loss', 'potent', '...', 'fear', 'loss', 'mental', 'energy', 'fear', 'loss', '...', 'learning', 'peace', 'oneself', 'learning', '...', 'possible', 'injury', 'knees', 'possible', 'injury', 'fe', '...', 'motivation', 'begin', 'discipline', '...', 'physical', 'health', 'mental', 'health', 'energy', 'regularit', '...', 'time', 'spent', 'working', 'critical', 'task', 'time', '...', 'quiet', 'darkness', 'comfort', 'tiredness', 'available', 'tim', '...', 'self', 'confidence', 'good', 'physique', 'assertiveness', 'le', '...', 'bad', 'image', 'fighter', 'character', 'responsibilty', 'fear', '...', 'good', 'body', 'talent', 'confidence', 'mental', 'stability', 'b', '...', 'safe', 'enemy', 'stable', 'calm', 'good', 'direction', 'li', '...', 'fear', 'disbelief', 'dependent', 'good', 'physique', 'warn', '...', 'mental', 'stablity', 'calm', 'peace', 'inactive', 'disbelief', '...', 'healthy', 'good', 'body', 'maintanence', 'live', 'life', 'happy', '...', 'time', 'consuming', 'back', 'pain', 'weight', 'bearing', 'risk', '...', 'effort', 'focus', 'time', 'managemnet', 'good', 'shoes', 'good', 'p', '...', 'good', 'function', 'body', 'reduces', 'stress', 'peace', 'hap', '...', 'depression', 'inflammation', 'diabetes', 'pain', 'heart', 'di', '...', 'avoid', 'irregular', 'naps', 'good', 'place', 'peaceful', 'mind', '...', 'something', 'productive', 'things', 'fight', '...', 'attacked', 'destroyed', 'fast', 'wrong', 'se', '...', 'tends', 'war', 'fight', 'destroy', 'lost', 'slap', 'push', 'hit', '...', 'like', 'love', 'pull', 'affection', 'brave', 'courage', 'sister', '...', 'passion', 'aim', 'love', 'affection', 'entrepreneur', '...', 'loser', 'winner', 'procrastinator', 'lover', 'lazy', '...', 'exercise', 'lose', 'fat', 'decrease', 'calorie', 'fit', 'gym', 'dur', '...', 'time', 'waste', 'continuous', 'work', 'waste', 'place', 'wast', '...', 'fit', 'body', 'fitness', 'gym', 'body', 'body', 'builder', 'lover', 'f', '...', 'rest', 'heart', 'healthy', 'alert', 'improves', 'memory', 'reduc', '...', 'time', 'waste', 'dumbs', 'accident', 'less', 'attent', '...', 'death', 'uneasy', 'less', 'attention', 'heart', 'disease', 'irr', '...', 'getting', 'things', 'done', 'time', 'accomplishing', 'go', '...', 'rushing', 'able', 'complete', 'tasks', '...', 'focusing', 'specific', 'details', 'stop', ',', 'listen', ',', '...', 'lack', 'movement', 'hypnotism', 'mind', 'lack', '...', 'getting', 'tasks', 'done', 'ontime', 'making', 'mistake', '...', 'listening', 'reason', 'putting', 'good', 'smile', '...', 'feeling', 'better', 'letting', 'steam', 'letting', 'str', '...', 'going', 'overboard', 'getting', 'hurt', 'develop', 'heart', '...', 'stretch', 'body', 'good', 'running', 'shoes', 'comfortab', '...', 'getting', 'rest', 'regulates', 'blood', 'sugar', 'levels', '...', 'overtired', 'depression', 'higher', 'risk', 'diab', '...', 'find', 'comfortable', 'place', 'lay', 'musi', '...', 'gets', 'things', 'done', 'movement', 'better', 'tha', '...', 'done', 'wrongly', 'rush', 'much', '...', 'mind', 'open', 'morals', 'plan', 'brave', 'ha', '...', \"'re\", 'looked', 'lazy', 'risk', 'disease', '...', 'look', 'like', 'fool', 'nothing', 'get', 'done', '...', 'sleep', 'low', 'energy', 'confusion', 'bad', 'f', '...', 'healthy', 'using', 'potential', 'mobil', '...', 'hurt', 'feeling', 'tired', '...', 'mindset', 'good', 'starts', 'plans', 'skinn', '...', 'rest', 'energy', 'afterward', 'immune', 'system', 'betterment', '...', 'sleep', 'long', 'miss', 'apointment', '...', 'tiredness', 'relaxation', 'prior', 'sleep', 'aides', 'sometim', '...', 'effectiveness', 'productivity', 'experience', 'soft', 'ski', '...', 'emotions', 'difficulties', 'problems', 'solution', 'irrita', '...', 'make', 'plan', 'measurable', 'take', 'action', 'consider', '...', 'lazy', 'sleeping', 'meaningless', 'life', 'bad', 'irresponsib', '...', 'lazy', 'irresposibility', 'week', 'sleeping', 'illness', 'ten', '...', 'sleeping', 'lazy', 'lie', 'feelings', 'relax', 'joyfull', 'happy', '...', 'burn', 'colories', 'strength', 'muscles', 'strength', 'genera', '...', 'damaged', 'bearing', 'joints', 'increasing', 'risk', 'heart', '...', 'plan', 'get', 'mot', 'consider', 'club', 'gait', '...', 'prevent', 'cancer', 'heart', 'healthy', 'reduce', 'stress', 'red', '...', 'depression', 'increased', 'inflamation', 'increased', 'pai', '...', 'increasing', 'bright', 'light', 'reduce', 'blue', 'light', '...', 'motivication', 'build', 'objective', 'present', 'community', '...', 'cool', 'learn', 'space', 'heat', 'leave', 'learn', 'speen', 'piece', 'good', 'bye', 'love', 'availabe', 'carrier', 'gave', 'give', 'space', 'good', 'good', 'good', 'good', 'good', 'good', 'good', 'good', 'good', 'good', 'good', 'good', 'good', 'good', 'good', 'good', 'good', 'good', 'good', 'good', 'good', 'good', 'good', 'good', 'good', 'good', 'good', 'good', 'good', 'good', 'good', 'good', 'slow', 'slow', 'slow', 'slow', 'slow', 'slow', 'slow', 'slow', 'good', 'good', 'good', 'good', 'good', 'good', 'good', 'good', 'good', 'good', 'good', 'good', 'good', 'good', 'good', 'good', 'good', 'good', 'good', 'good', 'good', 'good', 'good', 'good', 'good', 'good', 'good', 'good', 'good', 'good', 'good', 'good', 'creates', 'ownership', 'people', 'involved', 'devel', '...', 'considering', 'suitability', 'given', 'stu', '...', 'believe', 'true', 'future', '...', 'get', 'clue', 'constitutes', 'action', 'inact', '...', 'without', 'desires', 'feel', 'oppressed', 'issue', '...', 'know', 'really', 'understood', ',', 'w', '...', 'mind', 'relax', 'decreases', 'symptoms', 'depression', 'de', '...', 'increased', 'risk', 'heart', 'attack', 'potential', 'b', '...', 'increases', 'endurance', ',', 'builds', 'muscle', 'maintain', '...', 'healthy', 'better', 'regulate', 'blood', 'sugar', 'levels', 'im', '...', 'short', 'temper', 'diabetes', 'obesity', 'headaches', 'back', 'p', '...', 'cognitive', 'impairments', 'irritability', 'delusions', '...', 'interactive', 'form', 'fields', 'spaces', ',', 'ente', '...', 'click', 'download', 'copy', '...', 'write', 'info', '...', 'form', 'also', 'printed', ',', 'either', 'blank', '...', 'interactive', 'form', 'fields', ',', 'spaces', ',', '...', 'coercion', 'public', 'punishment', ',', 'fie', '...', 'none', 'type', 'form', 'requesting', 'services', '...', 'benefits', 'running', '?', 'physical', 'ben', '...', 'going', 'run', 'fashion', 'sport', 'mo', '...', 'guide', 'start', 'running', 'scratch', 'di', '...', 'addition', 'great', 'pleasure', ',', 'sleepin', '...', 'consequences', 'little', 'sleep', '?', '...', '...', 'sleep', 'become', 'fundamental', 'issue', '...', 'good', 'good', 'good', 'good', '...', 'good', 'good', 'good', '...', 'good', 'good', 'good', '...', 'good', 'good', 'good', 'good', '...', 'good', 'good', 'good', '...', 'good', 'good', 'good', '...', 'good', 'good', 'good', '...', 'good', 'good', 'good', '...', 'good', 'good', 'good', '...', 'good', 'good', 'good', '...', 'good', 'good', 'good', '...', 'good', 'good', 'good', '...', 'eating', 'drinking', 'playing', 'sleeping', 'roaming', 'swi', '...', 'sad', 'depress', 'dull', 'sweat', 'lazy', 'tired', 'bad', 'well', 'terrible', 'honour', 'clever', 'knowledge', 'gain', 'lost', 'swi', '...', 'swap', 'passion', 'wiped', 'seized', 'well', 'disappoint', 'plea', '...', 'ca', \"n't\", 'digest', 'terrible', 'dishonour', 'nice', 'discomfor', '...', \"n't\", 'worst', 'bagon', 'best', 'gather', '...', 'fitness', 'healthy', 'weight-loss', 'diet', 'goodness', 'swea', '...', 'sweat', 'discomfort', 'dull', 'dirty', 'worse', 'pain', 'notice', '...', 'energy', 'well', 'good', 'freak', 'wisher', 'passion', 'best', 'fine', 'good', 'fine', 'worry', 'best', 'super', 'feel', 'rest', 'soul', 'lazy', 'worse', 'good', 'even', 'one', 'one', '...', 'none', 'nonee', 'none', 'none', 'none', 'none', 'none', 'none', 'feeling', 'good', 'satisfied', '...', 'cause', 'harm', 'draw', 'attention', '...', 'able', 'think', '...', 'claim', \"n't\", '!', 'f', '...', 'might', 'trouble', 'acting', 'wou', '...', 'certain', 'amount', 'stability', 'plenty', 'food', 'p', '...', 'health', 'better', 'cardiovascular', 'system', 'look', 'bette', '...', 'injuries', 'hurting', 'achiles', 'repetitive', 'stres', '...', 'good', 'sports', 'bra', 'good', 'shoes', 'safe', 'place', 'okay', 'wea', '...', 'best', 'rest', 'mental', 'wellness', 'h', '...', 'lost', 'time', 'bad', 'dreams', 'unsafe', \"n't\", 'know', 'whats', 'h', '...', 'safe', 'place', 'tired', 'dark', 'good', 'temp', 'control', '...', 'getting', 'good', 'join', 'core', 'field', 'settled', 'wea', '...', 'ride', 'dream', 'bike', 'go', 'tour', 'spend', 'fam', '...', 'missing', 'school', 'life', 'missing', 'school', 'friends', 'mis', '...', 'hate', 'private', 'jobs', 'low', 'amount', 'h', '...', 'mesmerising', 'got', 'angry', 'long', 'frie', '...', 'like', 'buy', 'dream', 'car', 'like', 'drive', '...', 'good', 'health', 'fitness', 'mind', 'freshness', 'body', 'wealth', '...', 'nil', 'good', 'health', 'nil', 'nil', 'nil', 'nil', 'nil', 'nil', 'good', 'action', 'great', 'health', 'good', 'body', 'condition', 'g', '...', 'good', 'health', 'great', 'wealth', 'good', 'mine', 'good', 'f', '...', 'anytime', 'thinking', 'cause', 'headache', 'affect', 'health', '...', 'nil', 'nil', 'nil', 'nil', 'nil', 'nil', 'nil', 'nil', 'work', 'love', 'experience', 'run', 'swim', 'write', 'dance', 'speak', 'sad', 'work', 'fuck', 'suck', 'look', 'book', 'read', 'write', 'book', 'write', 'wrote', 'stusy', 'dance', 'type', 'stay', 'act', 'work', 'work', 'work', 'work', 'work', 'work', 'work', 'work', 'work', 'work', 'work', 'work', 'work', 'work', 'work', 'work', 'work', 'work', 'work', 'work', 'work', 'work', 'work', 'work', 'work', 'work', 'work', 'work', 'work', 'work', 'work', 'work', 'work', 'work', 'work', 'work', 'work', 'work', 'work', 'work', 'work', 'work', 'work', 'work', 'work', 'work', 'work', 'work', 'work', 'work', 'work', 'work', 'work', 'work', 'work', 'work', 'work', 'work', 'work', 'work', 'work', 'work', 'work', 'work', 'work', 'work', 'work', 'work', 'work', 'work', 'work', 'work', 'changing', 'things', 'real', 'world', 'improving', 'ps', '...', 'living', 'regret', 'feeling', 'helpless', 'losing', '...', 'motivation', 'strength', 'character', 'desire', 'cha', '...', 'becoming', 'target', 'exposing', 'oneself', '...', 'achieving', 'goals', 'losing', 'life', 'hav', '...', 'apathy', 'listlessness', 'indifference', 'uninvolved', 'fe', '...', 'strong', 'legs', 'toned', 'physique', 'cardiovascular', 'heal', '...', 'injury', 'feet', '-exertion', 'excessive', 'weigh', '...', 'place', 'run', 'good', 'legs', 'endurance', 'good', 'shoes', '...', 'good', 'physical', 'health', 'good', 'mental', 'health', 'feeli', '...', 'potentially', 'achieving', 'less', 'feeling', 'left', '...', 'tired', 'bed', 'house', 'turnin', '...', 'enhance', 'personal', 'effectiveness', 'productivit', '...', 'time', 'consuming', '.', 'difficulties', 'planning', 'clos', '...', 'confidence', 'self', 'esteem', 'action', 'list', 'forces', '...', 'economic', 'social', 'benefits', 'climate', 'inform', '...', 'gain', 'result', 'favour', 'economic', 'loss', '...', 'nothing', 'oyu', 'know', 'depend', 'someone', '...', 'strengthen', 'muscles', '.', 'help', 'build', 'strong', 'bones', '...', 'increased', 'risk', 'heart', 'attack', '.', '...', 'potential', '...', 'run', 'early', 'morning', 'eat', 'healthy', 'increase', '...', 'sleep', 'keeps', 'heart', 'healthy', '.', '...', 'may', 'help', 'p', '...', 'cognitive', 'impairment', '.', 'depression', '.', 'increased', '...', 'eat', 'eat', 'proper', 'time', 'dont', 'use', 'cell', 'phon', '...', 'better', 'health', 'making', 'changes', 'proactive', '...', 'fear', 'impulsivity', 'unnecessary', 'changes', 'disconten', '...', 'good', 'health', 'energy', 'motivation', 'boldness', 'cl', '...', 'stagnating', 'living', 'past', 'smoldering', 'depre', '...', 'fear', 'anxiety', 'depression', 'changing', 'progre', '...', 'fear', 'anger', 'financial', 'insecurity', 'fear', 'embarr', '...', 'better', 'health', 'better', 'fitness', 'increased', 'energy', '...', 'exhaustion', 'muscle', 'pain', 'strain', 'tiredness', 'burnou', '...', 'good', 'health', 'overall', 'good', 'outlook', 'drive', 'determ', '...', 'better', 'mood', 'better', 'health', 'energy', 'cal', '...', 'depression', 'bad', 'habits', 'addiction', 'anxiety', 'sadnes', '...', 'relaxation', 'tea', 'soothing', 'music', 'silence', 'patience', '...', 'bad', 'important', 'wast', 'time', '...', 'reduces', 'time', 'reduces', 'stress', 'alt', '...', 'alone', 'waste', 'time', 'good', 'childre', '...', 'ok', 'nice', 'none', 'sad', 'angry', 'fun', 'excellent', 'excited', \"n't\", 'know', 'ok', 'excellent', 'important', '...', 'ok', 'good', 'ok', 'bad', 'ok', 'ok', 'ok', 'ok', 'k', 'k', 'k', 'k', 'k', 'k', 'k', 'k', 'much', \"n't\", 'time', 'answer', '...', 'k', 'k', 'k', 'k', 'k', 'k', 'k', 'k', 'k', 'k', 'k', 'k', 'k', 'k', 'k', 'k', 'ujj', 'yh', 'f', 'gg', 'f', 'tf', 'g', 'f', 'h', 'h', 'g', 'r', 'g', 'getting', 'healthy', 'getting', 'things', 'done', 'staying', '...', 'losing', 'time', 'becoming', 'overtired', 'becoming', 'overwo', '...', 'need', 'motivation', 'need', 'w', '...', 'getting', 'enough', 'rest', 'time', 'family', '...', 'gaining', 'weight', 'getting', 'bored', 'life', 'getting', '...', 'need', 'stay', 'still', 'need', 'environment', '...', 'healthier', 'losing', 'weight', 'endu', '...', 'getting', 'hurt', 'giving', 'starting', 'b', '...', 'motivation', 'right', 'shoes', 'certain', 'clothes', 'tim', '...', 'becoming', 'healthy', 'energy', 'day', 'let', '...', 'sleeping', 'much', 'feeling', 'groggy', 'getting', 'heada', '...', 'right', 'environment', 'bed', 'pillow', 'blankets', 'bein', '...', 'health', 'excitement', 'progress', 'movement', 'adventure', '...', 'exhaustion', 'risk', 'pain', 'wrong', 'decision', 'failure', 'sh', '...', 'mindset', 'finances', 'strength', 'emotion', 'passion', 'dedi', '...', 'rest', 'sanity', 'lack', 'responsibility', 'wrong', 'c', '...', 'ownership', 'rewards', 'benefits', 'glory', 'n', '...', 'fear', 'lack', 'skills', 'lack', 'intelligence', 'lack', '...', 'strenth', 'weight', 'loss', 'bone', 'growth', 'mental', 'sanity', '...', 'pain', 'injuries', 'exhaustion', 'tired', 'expensive', 'sneak', '...', 'health', 'sneakers', 'mental', 'strength', 'good', 'form', 'dedi', '...', 'rest', 'healing', 'mental', 'relaxation', 'muscle', 'repair', 'p', '...', 'risk', 'diabetes', 'heart', 'disease', 'stroke', 'less', 'pro', '...', 'bed', 'tired', 'pillow', 'sheets', 'cool', 'temperature', 'desir', '...', 'try', 'new', 'things', \"n't\", 'stay', 'stuck', 'yo', '...', 'hard', 'take', 'work', 'may', 'choose', 'wrong', '...', 'force', 'power', 'resources', 'perseverence', 'disc', '...', 'may', 'get', 'worse', 'less', 'effort', 'takes', 'less', 'time', '...', 'less', 'growth', 'ca', \"n't\", 'move', 'forward', 'things', 'may', 'get', '...', 'boredom', 'stress', 'overwhelmed', 'force', 'fe', '...', 'get', 'away', 'good', 'health', 'muscular', 'lose', 'weight', '...', 'hard', 'joints', 'injuries', 'takes', 'time', 'loose', '...', 'muscles', 'joints', 'movement', 'feet', 'legs', 'strength', 'lun', '...', 'energy', 'alert', 'better', 'cognition', 'better', '...', 'takes', 'time', 'social', 'get', 'less', 'done', 'might', '...', 'circadian', 'rythmns', 'sunlight', 'darkness', 'quiet', 'mela', '...', 'health', 'learning', 'defense', 'accomplishment', 'conduct', '...', 'war', 'poverty', 'sickness', 'death', 'disasters', 'accidents', '...', 'brain', 'intelligence', 'intention', 'accident', 'nature', '...', 'rest', 'relaxation', 'thinking', 'meditation', 'ponderin', '...', 'lazy', 'inactive', 'stale', 'mental', 'loss', 'unhealthy', 'sore', '...', 'imagination', 'force', 'intention', 'laziness', 'mindless', '...', 'health', 'tone', 'mood', 'destress', 'strength', 'muscle', 'frie', '...', 'breathing', 'heart', 'attack', 'foot', 'problems', 'shin', 'spli', '...', 'healthy', 'shoes', 'location', 'warmup', 'clothing', 'enduran', '...', 'resting', 'beauty', 'destress', 'repair', 'calm', 'energize', '...', 'groggy', 'headache', 'nightmares', 'sleep', 'apena', 'bad', 'mat', '...', 'bed', 'pillow', 'temperature', 'dark', 'silence', 'tired', 'cal', '...', 'get', 'something', 'done', 'produce', 'results', 'better', '...', 'make', 'mistake', 'help', 'detrimental', '...', 'initiative', 'motivation', 'good', 'intentions', 'competen', '...', \"n't\", 'expend', 'energy', 'lazy', \"n't\", '...', 'lazy', 'people', \"n't\", 'respect', '...', 'laziness', 'motivation', 'competent', \"n't\", 'car', '...', 'cardio', 'health', 'heart', 'health', 'better', 'fitness', 'good', '...', 'could', 'injured', 'hurt', 'knees', 'heart', '...', 'determination', 'fitness', 'want', 'motiva', '...', 'mental', 'clarity', 'restorative', 'body', 'good', 'r', '...', 'missing', 'events', 'ca', \"n't\", 'work', 'sleeping', 'missi', '...', 'quiet', 'room', 'comfy', 'bed', 'cool', 'room', 'black', 'curta', '...', 'ability', 'get', 'something', 'accomplished', 'stag', '...', 'rejection', 'possible', 'harm', 'bad', 'repercussions', 'mig', '...', 'initiative', 'moving', 'writing', 'voicing', 'getting', '...', 'safe', 'comfort', 'zone', 'routine', 'opinions', 'made', 'yo', '...', 'complacent', 'dont', 'get', 'voice', 'opinion', 'cant', '...', 'nothing', 'dont', 'speak', 'dont', 'move', 'let', 'things', 'pas', '...', 'healthy', 'get', 'shape', 'lazy', 'complacent', '...', 'hurt', 'physically', 'hurt', 'mentally', 'hurt', 'relationshi', '...', 'moving', 'getting', 'shoes', 'clothes', 'somewhere', 'r', '...', 'rest', 'repair', 'good', 'physically', 'good', 'mentally', 'good', '...', 'wasted', 'time', 'lazy', 'unhealthy', 'hurt', 'physically', 'hur', '...', 'laying', 'closing', 'eyes', 'time', 'bed', 'surface', 'l', '...', 'advantages', 'reading', 'instructions', '...', 'consequences', 'impulsivity', 'stress', 'self', 'doubt', '...', 'brain', 'synapses', 'decision', 'making', 'reasoning', 'self', '...', 'risk', 'loss', 'risk', 'injury', 'peace', 'str', '...', 'loss', 'personal', 'growth', 'loss', 'emotional', 'grow', '...', 'low', 'self', 'esteem', 'anxiety', 'fear', 'depression', 'unwill', '...', 'runner', \"'s\", 'high', 'real', '!', 'weight', 'loss', 'stamina', 'phy', '...', 'stress', 'knees', 'stress', 'gi', 'system', '...', 'decision', 'start', 'running', 'physical', 'threat', '...', 'rest', 'brain', 'rest', 'body', 'allows', '...', 'vulnerability', 'outside', 'world', 'loss', 'tim', '...', 'tired', 'able', 'release', 'body', 'tension', '...', 'informative', 'help', 'relax', 'lea', '...', 'waste', 'time', 'take', 'day', '...', 'personal', 'commitment', 'technology', 'tells', '...', 'less', 'work', 'part', \"'s\", 'big', '...', 'nothing', 'change', 'reflection', 'means', '...', 'thing', 'always', 'ignore', 'pr', '...', 'healthy', 'feel', 'good', 'sense', 'ac', '...', 'hard', 'knees', 'dangerous', 'de', '...', 'place', 'run', 'desire', 'run', 'good', 'pair', '...', 'need', 'live', 'refreshes', '...', 'things', 'enough', 'time', '...', 'need', 'comfortable', 'need', 'feel', '...', 'acting', 'helps', 'overcome', 'laziness', 'action', 'allo', '...', 'action', 'takes', 'time', 'action', 'requires', 'commitme', '...', 'takes', 'willpower', 'takes', 'money', 'takes', 'fre', '...', 'laziness', 'leisure', 'comfortable', 'life', 'slowness', '...', 'body', 'ages', 'faster', 'get', 'fat', 'increases', 'cho', '...', 'little', 'imagination', 'little', 'money', 'little', 'health', '...', 'muscles', 'become', 'stronger', 'increases', 'serotoni', '...', 'spine', 'problems', 'knees', 'problems', 'race', 'addi', '...', 'athletic', 'preparation', 'proper', 'shoes', 'free', 'time', 'co', '...', 'recharge', 'energy', 'rest', 'brain', 'rest', '...', 'take', 'away', 'time', 'activities', 'distracte', '...', 'time', 'bed', 'comfortable', 'sofa', 'tired', '...', 'critical', 'one', 'action', 'situation', 'whi', '...', 'take', 'action', 'correct', 'time', 'bad', '...', 'actions', 'possible', 'time', 'creates', 'action', 'corre', '...', 'good', 'great', 'correct', 'right', 'surprise', 'great', 'deal', '...', 'bad', 'adventuare', 'difficult', 'danger', 'accepted', 'f', '...', 'quick', 'easy', 'happy', 'gather', 'oppurtunity', 'helpful', 'b', '...', 'good', 'exercise', 'greatful', 'wonderful', 'best', 'happy', 'mo', '...', 'good', 'exercise', 'reduce', 'obesity', 'makes', 'man', 'perfec', '...', 'free', 'dream', 'fresh', 'keeps', 'man', 'perfect', 'gather', 'man', '...', 'unfree', 'unfree', 'unfree', 'unfree', 'unfree', 'unfree', 'unfr', '...', 'rest', 'rest', 'rest', 'rest', 'rest', 'rest', 'rest', 'rest', 'work', 'field', 'table', 'happy', 'behavoiur', 'happy', 'statifi', '...', 'happy', 'want', 'field', 'could', 'cloudy', 'write', 'fill', 'happy', 'hi', 'want', 'see', 'happy', 'things', 'happy', 'see', 'field', 'things', 'bag', 'things', 'live', 'happiee', 'seee', 'things', 'world', 'things', 'good', 'heart', 'reduce', 'cholestrol', 'reduce', 'th', '...', 'sudden', 'heart', 'attack', 'leg', 'pain', 'heart', 'pain', '...', 'good', 'heart', 'whole', 'body', 'full', 'body', 'rest', 'bresk', 'active', '...', 'high', 'chloestrol', 'weight', 'increase', 'dull', 'day', 'u', '...', 'work', 'possible', 'accomplishment', 'achievement', 'getting', 'chores', 'done', '...', 'enough', 'time', 'inner', 'reflection', 'lack', 'c', '...', 'motivation', 'energy', 'drive', 'time', 'distractions', 'g', '...', 'lack', 'self-esteem', 'feeling', 'stuck', 'depression', 'l', '...', 'feeling', 'helpless', 'moving', 'forward', 'life', 'la', '...', 'fear', 'failure', 'depression', 'afraid', 'mov', '...', 'increase', 'heart', 'rate', 'increase', 'circulation', 'good', '...', 'physical', 'injuries', 'rainy', 'weather', 'time', 'consuming', '...', 'motivation', 'energy', 'stamina', 'good', 'health', 'time', 'goo', '...', 'rejuvination', 'clear', 'head', 'energy', 'dream', '...', 'laziness', 'motivated', 'accomplishing', 'enoug', '...', 'comfort', 'good', 'bed', 'good', 'pillows', 'warm', 'c', '...', 'getting', 'something', 'done', 'getting', 'exercise', 'losing', '...', 'much', '-', 'get', 'tired', 'much', '-', 'get', 'hurt', '...', 'determination', 'energy', 'time', 'patience', 'money', 'luck', '...', 'wont', \"'\", 'get', 'tired', 'whatever', 'want', 'avoid', '...', 'called', 'lazy', 'getting', 'enough', 'done', '...', 'depression', 'anxiety', 'panic', 'laziness', 'much', 'wor', '...', 'exercise', 'supposedly', 'get', 'healthier', 'strength', '...', 'high', 'impact', 'exercise', 'wear', 'tear', 'joi', '...', 'high', 'tolerance', 'pain', 'care', 'h', '...', 'less', 'tired', 'less', 'stressed', 'studies', 'show', 'helps', '...', 'wasting', 'time', 'could', 'thi', '...', 'tired', 'comfortable', 'bed', 'pillow', 'blankets', 'quiet', 'da', '...', 'healthy', 'excited', 'fun', 'friendly', 'eager', 'enthusiast', '...', 'tired', 'sleepy', 'enthusiastic', 'exhausted', 'drain', 'wear', '...', 'act', 'move', 'run', 'work', 'active', 'energetic', 'spirited', 'sp', '...', 'rest', 'relax', 'nap', 'loosen', 'unbend', 'unwind', 'decrease', '...', 'fat', 'fatness', 'grease', 'large', 'chubby', 'sleepy', 'ineffec', '...', 'lazy', 'idle', 'inactive', 'slow', 'heavy', 'dull', 'lifeless', '...', 'strengthen', 'muscle', 'burn', 'calories', 'stay', 'fit', 'build', '...', 'sun', 'exposure', 'impact', 'ankle', 'possible', 'injury', 'b', '...', 'get', 'house', 'action', 'strong', 'mentality', '...', 'keep', 'healthy', 'prevent', 'cancer', 'reduce', 'stress', '...', 'back', 'pain', 'headachs', 'make', 'lazy', 'depression', 'hi', '...', 'calm', 'mood', 'comfortable', 'setting', 'good', 'mood', '...', 'get', 'exercise', 'things', 'get', 'done', 'people', 'sa', '...', 'someone', 'gets', 'hurt', 'someone', 'gets', 'discriminated', '...', 'takes', 'movement', 'getting', 'bed', 'turning', '...', 'rest', 'wo', \"n't\", 'get', 'caught', 'fight', 'eat', \"n't\", 'pro', '...', 'laziness', 'work', 'done', 'someone', 'dies', 'accid', '...', 'lack', 'lack', 'trying', 'fear', 'worry', 'timid', '...', 'health', 'muscles', 'digestion', 'system', 'nature', 'running', '...', 'injure', 'self', 'bad', 'heart', 'issues', 'tiredness', 'sweat', 'h', '...', 'willpower', 'running', 'shoes', 'park', 'running', 'pa', '...', 'brain', 'repair', 'rest', 'recharge', 'bed', 'break', 'ha', '...', 'oversleep', 'hard', 'getting', 'miss', 'something', 'alarm', '...', 'pajamas', 'tea', 'turning', 'phones', 'mobile', 'devi', '...', 'get', 'ahead', 'succeed', '...', 'lose', 'something', 'valuable', '...', 'energy', 'willpower', 'determination', 'perseverance', '...', 'regret', 'misgivings', 'shame', 'anger', '...', 'remain', 'stagnant', 'never', 'get', 'ahead', 'stuck', '...', 'loss', 'control', 'loss', 'confidence', 'loss', 'se', '...', 'health', 'strength', 'vitality', 'energy', 'rejuvenation', '...', 'tired', 'overworked', 'pain', 'depleted', 'aches', 'lack', '...', 'inspiration', 'willpower', 'confidence', 'determinatio', '...', 'rest', 'health', 'vitality', 'rejuvenation', 'well', 'reste', '...', 'oversleep', 'tiredness', 'fatigue', 'laziness', 'bored', '...', 'make', 'schedule', 'make', 'plan', 'time', 'every', 'n', '...', 'making', 'positive', 'change', 'getting', 'things', 'done', 'mak', '...', 'takes', 'work', 'tiring', 'anxiety', 'invoki', '...', 'mental', 'clarity', 'internal', 'motivation', 'setting', 'goa', '...', \"n't\", 'take', 'effort', 'tiring', 'thing', '...', \"n't\", 'get', 'things', 'done', \"n't\", 'move', 'forward', 'li', '...', 'enabling', 'enough', 'money', 'unmotivated', '...', 'energy', 'physical', 'activity', 'positive', 'mood', 'good', 'fo', '...', 'get', 'injured', 'get', 'hit', 'car', 'must', 'buy', '...', 'motivation', 'treadmill', 'street', 'run', 'run', '...', 'function', 'better', 'next', 'day', 'dreaming', 'f', '...', 'never', 'enough', 'time', 'hard', 'fall', 'asleep', 'sometime', '...', 'tired', 'sometimes', 'sleeping', 'pill', 'relaxati', '...', 'inaction', 'tends', 'reinforce', 'action', 'incr', '...', 'actions', 'unintended', 'consequences', 'unthought', '...', 'physical', 'freedom', 'intellectual', 'freedom', 'self', 'con', '...', 'responsibility', 'outcome', 'physical', 'saf', '...', 'feeling', 'helplessness', 'lack', 'motivation', 'pow', '...', 'sometimes', 'quiet', 'best', 'addit', '...', 'escape', 'danger', 'keep', 'fit', 'dopamine', 'manage', 'weight', '...', 'shin', 'splints', 'foot', 'injuries', 'boring', 'expense', '...', 'safe', 'place', 'run', 'time', 'good', 'feet', 'physical', 'abil', '...', 'dreams', 'reset', 'brain', 'rejuvenate', 'body', 'w', '...', 'enough', 'time', 'important', 'things', 'happen', '...', 'time', 'calm', 'lack', 'stress', 'blanket', 'strangers', '...', 'gain', 'something', 'complete', 'something', 'move', 'towa', '...', 'things', 'happen', 'quick', 'thinking', 'thr', '...', 'person', 'listening', 'analyzing', 'thinking', 'plannin', '...', 'changes', 'things', 'stay', 'easy', \"n't\", 'hav', '...', 'things', 'never', 'change', 'causes', 'minor', 'problems', 'g', '...', 'drive', 'desire', 'like', 'way', 'things', 'laz', '...', 'health', 'cardio', 'lungs', 'heart', 'weight', 'looks', 'blood', 'p', '...', 'knee', 'pain', 'ankle', 'pain', 'shin', 'splints', 'toe', 'problems', '...', 'shoes', 'clothes', 'healthy', 'heart', 'health', 'lungs', 'kn', '...', 'rest', 'reenergize', 'repair', 'feel', 'better', 'help', '...', 'bed', 'sores', 'rashes', 'bed', 'bugs', 'fleas', 'dirty', 'sheets', '...', 'bed', 'pillows', 'sheets', 'blankets', 'right', 'temperature', '...', 'get', 'faster', 'results', 'action', 'get', 'faster', 'resu', '...', 'action', 'could', 'cause', 'disaster', 'action', 'could', 'lea', '...', 'quick', 'thinking', 'reasoning', 'outcome', 'good', '...', 'think', 'action', 'slower', 'time', '...', 'could', 'lose', 'good', 'thing', 'could', 'produce', '...', 'unwise', 'thinking', 'slow', 'behavior', 'action', 'taken', '...', 'good', 'heart', 'health', 'good', 'lung', 'health', 'healthy', 'leg', '...', 'difficult', 'people', 'hard', 'legs', '...', 'good', 'heart', 'condition', 'good', 'lung', 'condition', 'healt', '...', 'better', 'health', 'better', 'brain', 'health', 'energy', 'e', '...', 'time', 'get', 'work', 'done', 'sleep', 'much', 'ha', '...', 'good', 'mattress', 'good', 'bed', 'sheets', 'quiet', 'room', 'sc', '...', 'speed', 'money', 'time', 'travel', 'saftey', 'attention', '...', 'adjustments', 'saving', 'counters', 'besting', 'network', '...', 'strength', 'stamima', 'proccess', 'configurati', '...', 'gain', 'insentive', 'people', 'gross', 'feild', 'heart', 'adv', '...', 'loss', 'pressure', 'fear', 'friction', 'distration', 'failu', '...', 'hope', 'clarity', 'gain', 'taking', 'speed', 'gears', 'food', 'manage', 'loss', 'pressure', 'spears', 'hemerging', 'corruption', 'da', '...', 'loss', 'gain', 'failure', 'money', 'time', 'incestmemts', 'pre', '...', 'hope', 'love', 'destiny', 'dam', 'dammage', 'get', 'confid', '...', 'time', 'money', 'pain', 'dreams', 'headach', 'ratchetness', 'ugl', '...', 'crust', 'pain', 'hope', 'joy', 'handle', 'tune', 'flow', 'long', 'drink', 'sex', 'food', 'good', 'vibes', 'comfy', 'joy', 'salas', 'action', 'results', 'outcomes', 'results', 'occure', 'chan', '...', 'outcomes', 'unknown', 'change', 'always', 'goo', '...', 'energy', 'movement', 'thought', 'coordination', 'cognitio', '...', 'variables', 'remain', 'constant', \"n't\", 'need', 'w', '...', 'change', 'occur', 'without', 'problems', 'ge', '...', 'ignorance', 'willful', 'negligence', 'misunderstandin', '...', 'heart', 'rate', 'increases', 'builds', 'lean', 'muscle', 'creat', '...', 'limited', 'energy', 'ability', 'g', '...', 'need', 'healthy', 'heart', 'need', 'healthy', 'p', '...', 'feel', 'rested', 'reduces', 'stress', 'makes', 'feel', '...', 'takes', 'time', \"'re\", 'unproductive', 'sta', '...', 'typically', 'eyes', 'must', 'closed', \"'re\", '...', 'action', 'cause', 'progress', 'social', 'issues', 'thr', '...', 'action', 'lead', 'failure', 'action', 'lead', '...', 'desire', 'drive', 'energy', 'imagination', 'goals', 'com', '...', 'safety', 'danger', 'security', 'status', 'quo', 'pers', '...', 'missed', 'opportunities', 'status', 'quo', 'physical', 'deter', '...', 'lack', 'desire', 'lack', '...', 'health', 'increase', 'ward', 'disease', 'weight', 'co', '...', 'physical', 'ailments', 'body', 'oder', 'isolation', 'long', 'ter', '...', 'desire', 'run', 'desire', 'compete', 'oneself', '...', 'refreshes', 'body', 'resets', 'natural', 'clock', '...', 'time', 'takes', 'lack', 'accomplishments', 'vulnerab', '...', 'quiet', 'room', 'dark', 'room', 'time', 'hunger', 'addressed', 'pro', '...', 'action', 'living', 'action', 'produces', 'consequences', '...', 'action', 'lead', 'bad', 'outcomes', 'action', 'har', '...', 'recognition', 'action', 'required', 'self-contr', '...', 'easier', 'safe', 'comforting', 'predictable', 'known', 'cauti', '...', 'risky', 'lazy', 'clueless', 'unaware', 'selfish', 'slothful', 'u', '...', 'nothing', 'steadfast', 'stubbornness', 'denial', 'closed-m', '...', 'improves', 'health', 'lose', 'weight', 'lowers', 'blood', 'press', '...', 'risk', 'injury', 'heat', 'stroke', 'plantar', 'fascitis', 'co', '...', 'energy', 'shoes', 'motivation', 'stamina', 'self-control', 'w', '...', 'good', 'brain', 'improves', 'memory', 'reduces', 'diabete', '...', 'less', 'time', 'work', 'less', 'time', 'exercise', 'less', 'time', '...', 'calm', 'bed', 'nighttime', 'low', 'light', 'low', 'temperature', 'q', '...', 'getting', 'things', 'done', 'productive', 'feeling', '...', 'thinking', 'long', 'enough', 'make', 'decision', 'ha', '...', 'thinking', 'time', 'initiative', 'charcter', 'personality', '...', 'time', 'relax', 'piece', 'mind', 'pondering', 'happyness', 'c', '...', 'acting', 'thinking', 'letting', 'things', 'pass', 'si', '...', 'lazy', 'confidence', 'content', 'thinking', '...', 'healthy', 'getting', 'somewhere', 'losing', 'weight', 'feelin', '...', 'injury', 'takes', 'time', \"'s\", 'hard', \"'s\", 'fun', '...', 'initiative', 'time', 'athleticism', 'ability', 'stand', '...', 'getting', 'rechached', 'getting', 'rest', 'feeling', 'fresh', 'f', '...', 'losing', 'time', 'nightmares', 'tired', 'wake', 'mi', '...', 'relaxing', 'comfort', 'time', 'piece', 'mind', 'bed', 'pi', '...', 'feel', 'like', 'control', 'make', '...', 'takes', 'time', 'takes', 'money', 'people', '...', 'feel', 'compelled', 'take', 'action', '...', 'dont', 'change', 'dont', 'sacri', '...', 'nothing', 'changes', 'good', 'loose', 'vo', '...', 'apathy', 'fear', 'lazyness', 'subjegation', 'motivation', '...', 'get', 'shape', 'healthy', 'joining', 'groups', 'maintain', '...', 'time', 'commitment', 'aches', 'injuries', 'change', 'lifes', '...', 'commitment', 'determination', 'small', 'goals', 'willing', '...', 'helps', 'loose', 'weight', 'helps', 'mental', 'health', 'feeling', '...', 'time', 'weigh', 'gain', 'unable', 'control', 'dre', '...', 'dark', 'room', 'disconnect', 'electronics', 'dont', 'wor', '...', 'control', 'happens', '.', 'things', 'g', '...', 'actions', 'may', 'adequately', 'planned', '.', 'mistake', '...', 'purpose', 'needs', 'identified', '.', 'impacted', '...', 'think', 'better', 'ways', 'things', '.', 'peo', '...', 'problems', 'might', 'get', 'worse', '.', 'money', 'lost', '.', 'w', '...', 'nobody', 'takes', 'responsibility', '.', 'resources', 'need', '...', 'improve', 'cardiovascular', 'fitness', '.', '...', 'injure', 'legs', '.', 'waste', 'time', '...', 'motivation', 'proper', 'shoes', 'place', 'run', 'plan', '...', 'avoid', 'getting', 'trouble', 'night', 'b', '...', 'waste', 'much', 'time', '.', 'lead', 'slothf', '...', 'comfortable', 'spot', 'sleep', '.', 'tem', '...', 'moving', 'forward', 'learning', 'something', 'better', '...', 'slow', 'unproductive', 'relaxation', '...', 'decide', 'take', 'action', 'right', 'time', 'right', 'pl', '...', 'leisure', 'time', \"n't\", 'move', 'obliga', '...', 'missing', 'life', 'possibilities', 'earning', 'mone', '...', \"n't\", 'go', 'work', 'enough', '...', 'outside', ',', 'fresh', 'air', 'heart', 'benefits', 'less', 'possibl', '...', 'move', 'even', \"n't\", 'want', 'knees', '...', 'good', 'shoes', 'time', 'motivated', '...', 'replenishing', 'healing', 'depression', 'healing', 'anxi', '...', 'waisting', 'time', 'sleeping', 'long', 'able', '...', 'tired', 'enough', 'time', 'worry', 'pr', '...', 'active', 'alert', 'knowledge', 'education', 'moral', 'lively', '...', 'death', 'boring', 'enemy', 'cheat', 'jealousy', 'envy', 'pain', 'agony', 'energy', 'alert', 'strength', 'active', 'lively', 'knowledge', '...', 'lazy', 'slow', 'cheat', 'poor', 'booring', 'weak', 'low', 'bad', 'save', 'friends', 'sweet', 'boring', 'nice', 'suspence', 'confus', '...', 'slow', 'poor', 'weak', 'lazy', 'slender', 'low', 'poor', 'nice', 'fast', 'training', 'stamina', 'strength', 'physique', 'body', 'b', '...', 'injury', 'muscle', 'tear', 'pains', 'time', 'comfort', 'stress', '...', 'active', 'strength', 'physique', 'body', 'balance', 'alert', 'st', '...', 'rest', 'healthy', 'good', 'strong', 'relaxed', 'fast', 'strong', '...', 'lazy', 'weak', 'poor', 'slow', 'low', 'less', 'energertic', 'bad', 'bo', '...', 'fatique', 'lazy', 'rest', 'stress', 'hadrwork', 'active', 'body', '...', 'take', 'action', 'elicit', 'change', '.', 'ac', '...', 'may', 'fail', 'action', 'took', '.', 'may', 'b', '...', 'somebody', 'prime', 'mover', '.', '...', 'lose', 'physical', 'asset', '.', '...', 'may', 'what-if', 'scenario', '.', 'whatever', 'acti', '...', 'somebody', 'think', 'taking', 'action', '...', 'weight', 'loss', '.', 'quality', 'life', '.', 'ability', 'compe', '...', 'physical', 'injury', 'death', 'getting', 'lost', 'much', '...', 'somebody', 'wants', '.', 'somebody', 'able', '...', 'physical', 'regeneration', 'mental', 'sanity', 'fun', '...', 'takes', 'time', 'accomplishing', 'things', 'may', 'ne', '...', 'conciousness', 'biological', 'need', 'tired', '...', 'results', 'progress', 'motivation', 'achievement', 'sucess', '...', 'succeeding', 'failing', 'tried', 'co', '...', 'self', 'determination', 'motivation', 'goals', 'gain', '...', 'less', 'involved', 'risking', 'anything', 'ne', '...', 'letting', 'someone', 'hurting', 'someone', \"'s\", 'feeling', '...', 'knowing', 'might', 'get', 'hurt', 'took', 'action', '...', 'health', 'losing', 'weight', 'gaining', 'muscle', 'longevity', '...', 'hurts', 'knees', 'might', 'lose', 'much', 'weight', 'g', '...', 'good', 'form', 'motivation', 'go', 'length', 'want', '...', 'mental', 'health', 'physical', 'health', 'reset', 'body', '...', 'sleeping', 'much', \"n't\", 'good', 'losing', 'ti', '...', 'comfortable', 'bed', 'soft', 'sheets', 'great', 'pillow', 'ca', '...', 'acquire', 'desire', '.', 'interact', 'wi', '...', 'action', 'takes', 'energy', '.', 'action', 'met', 'op', '...', 'action', 'requires', 'idea', '.', 'action', 'requires', 'dec', '...', 'inaction', 'prevents', 'failure', '.', 'inaction', 'prevents', 'p', '...', 'one', 'ca', \"n't\", 'acquire', 'one', \"'s\", 'desires', 'inaction', '.', '...', 'inaction', 'requires', 'idea', '.', 'inaction', 'requires', '...', 'running', 'good', 'one', \"'s\", 'overall', 'health', '.', 'runn', '...', 'running', 'takes', 'time', '.', 'running', 'requires', 'spending', '...', 'one', 'must', 'least', 'basic', 'knowledge', 'r', '...', 'sleeping', 'restores', 'energy', '.', 'sleeping', 'repairs', '...', 'sleeping', 'takes', 'time', '.', 'sleeping', 'leave', 'one', 'fe', '...', 'sleep', 'requires', 'place', 'sit', 'lie', '.', 'sle', '...', 'able', 'get', 'exercise', 'active', 'accomp', '...', 'becoming', 'overly', 'taxed', 'allowing', 'body', '...', 'acceptance', 'understanding', 'belief', 'movement', 'agree', '...', 'rest', 'relaxation', 'refreshment', 'peace', 'tranquility', '...', 'loss', 'fear', 'avoidance', 'selfishness', 'laziness', 'welfa', '...', 'loss', 'feeling', 'self', 'importance', 'shame', 'caring', '...', 'exercise', 'muscle', 'increased', 'heart', 'rate', 'stamina', '...', 'hurt', 'shock', 'knees', 'tiredsome', 'winded', 'damage', '...', 'action', 'support', 'stamina', 'determination', 'dedicatio', '...', 'rest', 'refreshment', 'renewal', 'health', 'dreams', 'relaxat', '...', 'unrest', 'getting', 'things', 'done', 'inactivity', 'loss', '...', 'place', 'sleep', 'quiet', 'coolness', 'inaction', 'blanket', '...', 'good', 'good', 'good', 'good', 'good', 'good', 'good', 'good', 'bad', 'bad', 'bad', 'bad', 'bad', 'bad', 'bad', 'bad', 'happy', 'happy', 'happy', 'happy', 'happy', 'happy', 'happy', 'happy', 'interesting', 'interesting', 'interesting', 'interestin', '...', 'boring', 'boring', 'boring', 'boring', 'boring', 'boring', 'bori', '...', 'good', 'good', 'good', 'good', 'good', 'good', 'good', 'good', 'fitness', 'fitness', 'fitness', 'fitness', 'fitness', 'fitnes', '...', 'tiredness', 'tiredness', 'tiredness', 'tiredness', 'tiredn', '...', 'yes', 'yes', 'yes', 'yes', 'yes', 'yes', 'yes', 'yes', 'freshness', 'freshness', 'freshness', 'freshness', 'freshn', '...', 'inactive', 'inactive', 'inactive', 'inactive', 'inactive', '...', 'yes', 'yes', 'yes', 'yes', 'yes', 'yes', 'yes', 'yes', 'exitement', 'joyful', 'drugs', 'comedy', 'sorrow', 'twis', '...', 'dry', 'money', 'dollars', 'water', 'wet', 'land', 'ground', 'house', '...', 'revenge', 'time', 'good', 'bad', 'erecton', 'water', 'tube', 'talk', 'anger', 'comedy', 'trigger', 'field', 'house', 'ground', 'rice', 'jug', 'tiger', 'epic', 'bill', 'rice', 'yelp', 'queen', 'king', 'liquid', 'bun', 'bread', 'jam', 'silver', '`', 'slim', 'fit', 'blood', 'circulation', 'leg', 'strong', 'breathe', '...', 'tiles', 'hiphop', 'hills', 'tree', 'highest', 'big', 'small', 'tri', '...', 'tripple', 'mouse', 'figure', 'tall', 'ginger', 'fall', 'small', 'hops', 'tyre', 'queen', 'pig', 'high', 'jug', 'green', 'hello', 'yellow', 'lazy', 'fat', 'mind', 'dead', 'low', 'blood', 'circulation', 'waste', '...', 'ginger', 'green', 'yellow', 'figure', 'tall', 'violet', 'nick', '...', 'happiness', 'moeny', 'time', 'joy', 'suprise', 'wealth', 'food', 'f', '...', 'sad', 'fear', 'angry', 'hungry', 'lose', 'deprewssion', 'knots', 'f', '...', 'thought', 'work', 'thinking', 'time', 'money', 'happy', 'grit', 'guts', 'nothing', 'sad', 'fear', 'time', 'money', 'loniilneess', 'awe', 'spent', 'nothign', 'sadness', 'fear', 'anger', 'hungriness', 'lonilnes', '...', 'fear', 'sadness', 'nothing', 'empty', 'loose', 'moeny', 'taxes', '...', 'loosing', 'weight', 'happy', 'hope', 'good', 'positive', 'slim', 'h', '...', 'pain', 'tired', 'sad', 'hunger', 'heat', 'cold', 'time', 'money', 'money', 'shoes', 'support', 'cheers', 'time', 'tredmill', 'hope', '...', 'resting', 'happy', 'goals', 'refreshed', 'relax', 'hope', 'prett', '...', 'time', 'anything', 'sore', 'reading', '...', 'bed', 'blankets', 'time', 'dark', 'cool', 'rquiet', 'free', 'night', 'fun', 'adventurous', 'getting', 'somethi', '...', 'much', 'making', 'tired', 'mindi', '...', 'commitment', 'willingness', 'devotion', 'dedication', '...', 'relaxing', 'comfort', 'mellow', 'taking', '...', 'lazy', 'unimportant', 'nothing', 'f', '...', 'unwillingless', 'lazyness', 'careless', 'immorality', 'b', '...', 'exercise', 'health', 'losing', 'weight', 'gaining', 'musc', '...', 'tiring', 'sun', 'exposure', 'pressure', '...', 'run', 'dedication', 'running', 'shoes', 'pla', '...', 'less', 'stress', 'helps', 'memory', 'lower', 'blood', 'pr', '...', 'depression', 'pain', 'risk', 'obesity', 'risk', '...', 'comfortable', 'bed', 'caffeine', 'bed', 'peacefu', '...', 'form', 'routine', 'get', 'results', 'body', 'building', 'achieve', '...', 'time', 'consuming', 'mistakes', 'made', 'bad', 'consequences', '...', 'think', 'goal', 'setting', 'planning', 'money', '...', 'rest', 'time', 'money', 'planning', 'bu', '...', 'achievement', 'fulfillment', 'price', 'goal', '...', 'goal', 'planning', 'achievement', 'risk', 'threat', 'push', 'pre', '...', 'health', 'muscles', 'strenght', 'cardio', 'training', 'goal', '...', 'tiredness', 'soreness', 'muscular', 'strain', 'muscular', 'sp', '...', 'goals', 'plans', 'health', 'threat', 'pressure', 'friends', 'imp', '...', 'rest', 'recharge', 'calm', 'destress', 'energy', 'revamp', 'heal', '...', 'boring', 'work', 'done', 'time', 'consuming', 'activity', '...', 'tiredness', 'health', 'stress', 'busyness', 'need', 'calm', '...', 'action', 'actual', 'response', \"'s\", 'end', '...', 'started', 'endless', 'effect', '.', 'one', 'ac', '...', 'action', 'always', 'combined', 'effect', 'smalle', '...', 'loss', 'energy', '.', 'chance', 'mishap', 'zero', '.', 'r', '...', 'nothing', 'gets', 'done', '.', 'creates', 'confusion', '.', 'inaction', '...', 'previous', 'action', 'done', 'right', '.', 'energy', '...', 'faster', 'way', 'move', '.', 'fastest', 'human', 'move', '.', '...', 'get', 'tired', 'easily', '.', 'cause', 'breathlessness', 'ca', '...', 'walking', 'slow', 'option', '.', 'catch', 'bus', '...', 'body', 'gets', 'rest', '.', 'repairs', 'done', '.', 'ready', '...', 'wastes', 'time', '.', 'causes', 'snooring', '.', '...', 'tired', '.', 'usually', 'night', 'time', 'sometimes', 'sed', '...', 'learning', 'new', 'thing', 'challenging', 'new', 'thing', 'enga', '...', 'stop', 'discourage', 'feeling', 'sad', 'feeling', 'blue', 'medit', '...', 'plan', 'courage', 'test', 'time', 'development', 'meeting', 'hop', '...', 'cancel', 'misleading', 'stop', 'discourage', 'disappointme', '...', 'hopeless', 'cancel', 'stop', 'disappoint', 'destroy', 'closed', '...', 'plan', 'order', 'call', 'stop', 'meet', 'disapporve', 'cancel', 'de', '...', 'plan', 'see', 'test', 'take', 'action', 'challenge', 'goal', 'rewar', '...', 'sick', 'hopeless', 'stop', 'dicourage', 'kick', 'cancel', 'p', '...', 'carry', 'passion', 'work', 'hard', 'set', 'goal', 'hope', 'le', '...', 'nuturine', 'relax', 'take', 'rest', 'health', 'reset', 'healin', '...', 'tired', 'wasting', 'time', 'depression', 'increase', 'p', '...', 'relax', 'reading', 'book', 'comfortable', 'temperature', 'c', '...', 'safety', 'deportment', 'mechanical', 'technology', 'commun', '...', 'time', 'energy', '.', 'people', 'seldom', 'aware', 'th', '...', 'software', 'design', 'growth', 'formal', 'methods', '.', 'instinc', '...', 'significant', 'progress', 'made', 'pa', '...', 'balancing', 'thought', 'action', 'always', '...', 'cost', 'inaction', 'playing', 'safe', 'medici', '...', 'running', 'burns', 'calories', 'exercise', '...', 'damage', 'weight-bearing', 'joints', 'increased', 'risk', '...', 'running', 'remains', 'one', 'best', 'fastest', 'wa', '...', 'sleep', 'keeps', 'heart', 'healthy', 'sleep', 'may', 'help', '...', 'sleepiness', 'causes', 'accidents', 'sleep', 'loss', 'dumbs', '...', 'increase', 'bright', 'light', 'exposure', 'day', '...']"
     ]
    },
    {
     "name": "stdout",
     "output_type": "stream",
     "text": [
      "\n"
     ]
    },
    {
     "name": "stdout",
     "output_type": "stream",
     "text": [
      "Stemmed Sentence: ['q1', 'q6', 'q13', 'q7', 'q15', 'q14', 'q8', 'q11', 'q16', 'q10', 'q9', 'q17', 'someth', 'activ', 'result', '...', 'could', 'make', 'wrong', 'choic', 'could', 'lead', 'wor', '...', 'drive', 'understand', 'plan', 'effort', 'desir', 'skill', '...', 'rest', 'need', 'plan', 'need', 'design', 'free', 'ti', '...', 'thing', 'could', 'get', 'wors', 'might', 'miss', 'someth', 'mi', '...', 'lazi', 'depress', 'drive', 'motiv', 'desi', '...', 'healthi', 'strong', 'build', 'muscl', 'burn', 'calori', 'gain', '...', 'take', 'time', 'take', 'energi', 'caus', 'pain', 'deal', 'wi', '...', 'good', 'routin', 'good', 'energi', 'level', 'good', 'sleep', 'goo', '...', 'better', 'health', 'feel', 'rest', 'better', 'mental', 'hea', '...', 'back', 'hurt', 'wake', 'feel', 'rest', '...', 'good', 'light', 'good', 'air', 'good', 'temp', 'good', 'blanket', '...', 'promot', 'process', 'test', 'idea', 'encourag', 'chang', '...', 'strenthen', 'self', 'esttem', 'strenthen', 'self', 'esttem', 'st', '...', 'goal', 'step', 'measur', 'creat', '...', 'dont', 'anyth', 'inact', ',', 'inact', ',', '...', 'inactiondo', 'specifi', 'note', 'inactiondo', '...', 'good', 'inactiondo', 'specifi', 'note', 'inactiondo', '...', 'run', 'advantag', 'sterenthern', 'musl', 'run', 'ad', '...', 'pain', 'occur', 'pain', 'occur', 'pa', '...', 'handl', 'handl', 'handl', '...', 'relax', 'work', 'relax', 'work', 'relax', 'work', '...', 'work', 'delaya', 'work', 'delaya', 'work', 'delaya', 'work', 'delay', '...', 'time', 'spend', 'take', 'rest', 'time', 'spend', 'tak', '...', 'thing', 'get', 'done', 'answer', 'found', 'progress', '...', 'fool', 'rush', 'well', 'thought', 'plan', '...', 'thought', 'motiv', 'desir', 'drive', 'gusto', 'pa', '...', 'time', 'think', 'wait', 'see', 'result', '...', 'pass', 'earli', 'adopt', 'miss', 'opprotunitit', '...', 'noth', 'lack', 'lack', 'desir', 'lack', 'st', '...', 'health', 'strength', 'fresh', 'air', 'wellb', 'alon', 'time', '...', 'time', 'consum', 'hard', 'joint', 'bore', 'tiresom', '...', 'drive', 'desir', 'strength', 'mental', 'fortitud', 'av', '...', 'rest', 'mental', 'strength', 'neces', 'clariti', 'rechargi', '...', 'loss', 'product', 'bad', 'dream', 'time', 'sign', '...', 'bed', 'time', 'tire', 'locat', 'comfort', 'exaust', '...', 'chang', 'movement', 'improv', 'justic', 'start', 'chan', '...', 'chang', 'unknown', 'forc', 'pain', 'fear', 'sudden', 'scare', '...', 'forc', 'idea', 'movement', 'chang', 'need', 'sudden', 'reactio', '...', 'unchang', 'disrupt', 'calm', 'surpris', '...', 'dull', 'stagnent', 'obsolet', 'date', 'fall', 'behind', '...', 'noth', 'stay', 'plan', 'vision', 'fut', '...', 'exercis', 'healthi', 'stay', 'shape', 'heart', 'rate', 'lo', '...', 'time', 'back', 'pain', 'foot', 'pain', 'ankl', 'pain', 'dull', 'bo', '...', 'put', 'shoe', 'start', 'run', 'buy', 'shoe', 'put', 'cl', '...', 'energi', 'rest', 'feel', 'better', 'reduc', 'stress', 'improv', '...', 'depress', '.', 'pain', 'obes', 'heart', 'diseas', 'lazi', 'u', '...', 'bed', 'pillow', 'close', 'eye', 'tire', 'dark', 'quiet', 'ex', '...', 'desir', 'manifest', 'desir', 'met', 'need', 'met', 'f', '...', 'mistak', 'undesir', 'result', 'regret', 'time', 'wast', '...', 'plan', 'account', 'time', 'confid', 'peac', '...', 'protect', 'time', 'think', 'time', 'plan', 'mista', '...', 'lose', 'miss', 'opportun', 'lack', 'resour', '...', 'doubt', 'self', 'doubt', 'other', 'trust', 'se', '...', 'healthi', 'lung', 'healthi', 'muscl', 'healthi', 'heart', '...', 'knee', 'joint', 'wear', 'tear', 'muscl', 'wear', 'tear', '...', 'good', 'pair', 'run', 'shoe', 'athletic/run', 'ap', '...', 'healthi', 'heal', 'good', 'memori', 'good', 'prope', '...', 'miss', 'opportun', 'enough', 'time', 'da', '...', 'hard', 'work', 'worri', 'depress', 'irrit', 'sickn', '...', 'accomplish', 'goal', \"'m\", 'happier', \"'m\", 'prod', '...', 'may', 'get', 'stress', 'easili', 'may', 'burn', 'f', '...', 'form', 'plan', 'align', 'right', 'peop', '...', 'time', 'reflect', 'new', 'idea', '...', 'noth', 'new', 'get', 'accomplish', \"n't\", 'maximi', '...', 'need', 'control', 'impuls', '.', 'need', 'reco', '...', 'maintain', 'strength', '.', 'lose', 'weight', '.', 'yo', '...', 'tire', '.', 'creat', 'sore', '.', 'lot', 'ac', '...', 'proper', 'run', 'cloth', 'sho', '...', 'refresh', 'next', 'day', '.', 'build', '...', 'less', 'product', '.', 'might', 'miss', '...', 'need', 'tire', '.', 'need', 'dark', '...', 'strength', 'intuit', 'movement', 'exercis', 'forwa', '...', 'pain', 'frustrat', 'anxieti', 'depress', 'suffocatio', '...', 'movement', 'thought', 'brain', 'connect', 'frustrat', '...', 'calm', 'peac', 'serin', 'love', 'self', 'mindful', '...', 'social', 'bad', 'thought', 'muscl', 'fatigu', 'b', '...', 'sleep', 'stay', 'bed', 'depress', 'anxieti', 'shut', '...', 'exercis', 'move', 'lymphat', 'system', 'pain', 'ach', 'ga', '...', 'sore', 'feet', 'sore', 'thigh', 'sweat', 'muscl', 'fat', '...', 'good', 'shoe', 'move', 'sock', 'headach', '...', 'clear', 'mind', 'think', 'suicid', 'attemp', '...', 'hear', 'husbnd', 'snore', 'wake', 'achi', 'bed', 'co', '...', 'light', 'comfort', 'bed', 'cool', 'temperatur', 'bla', '...', 'achiev', 'goal', 'complet', 'project', 'ensur', '...', 'chanc', 'harm', 'someon', 'chanc', 'materi', '...', 'agent', 'abstract', 'reason', 'principl', 'mat', '...', 'save', 'face', 'preserv', 'time', 'preserv', 'money', 'p', '...', 'loss', 'potenti', 'materi', 'gain', 'loss', 'potent', '...', 'fear', 'loss', 'mental', 'energi', 'fear', 'loss', '...', 'learn', 'peac', 'oneself', 'learn', '...', 'possibl', 'injuri', 'knee', 'possibl', 'injuri', 'fe', '...', 'motiv', 'begin', 'disciplin', '...', 'physic', 'health', 'mental', 'health', 'energi', 'regularit', '...', 'time', 'spent', 'work', 'critic', 'task', 'time', '...', 'quiet', 'dark', 'comfort', 'tired', 'avail', 'tim', '...', 'self', 'confid', 'good', 'physiqu', 'assert', 'le', '...', 'bad', 'imag', 'fighter', 'charact', 'responsibilti', 'fear', '...', 'good', 'bodi', 'talent', 'confid', 'mental', 'stabil', 'b', '...', 'safe', 'enemi', 'stabl', 'calm', 'good', 'direct', 'li', '...', 'fear', 'disbelief', 'depend', 'good', 'physiqu', 'warn', '...', 'mental', 'stabliti', 'calm', 'peac', 'inact', 'disbelief', '...', 'healthi', 'good', 'bodi', 'maintan', 'live', 'life', 'happi', '...', 'time', 'consum', 'back', 'pain', 'weight', 'bear', 'risk', '...', 'effort', 'focu', 'time', 'managemnet', 'good', 'shoe', 'good', 'p', '...', 'good', 'function', 'bodi', 'reduc', 'stress', 'peac', 'hap', '...', 'depress', 'inflamm', 'diabet', 'pain', 'heart', 'di', '...', 'avoid', 'irregular', 'nap', 'good', 'place', 'peac', 'mind', '...', 'someth', 'product', 'thing', 'fight', '...', 'attack', 'destroy', 'fast', 'wrong', 'se', '...', 'tend', 'war', 'fight', 'destroy', 'lost', 'slap', 'push', 'hit', '...', 'like', 'love', 'pull', 'affect', 'brave', 'courag', 'sister', '...', 'passion', 'aim', 'love', 'affect', 'entrepreneur', '...', 'loser', 'winner', 'procrastin', 'lover', 'lazi', '...', 'exercis', 'lose', 'fat', 'decreas', 'calori', 'fit', 'gym', 'dur', '...', 'time', 'wast', 'continu', 'work', 'wast', 'place', 'wast', '...', 'fit', 'bodi', 'fit', 'gym', 'bodi', 'bodi', 'builder', 'lover', 'f', '...', 'rest', 'heart', 'healthi', 'alert', 'improv', 'memori', 'reduc', '...', 'time', 'wast', 'dumb', 'accid', 'less', 'attent', '...', 'death', 'uneasi', 'less', 'attent', 'heart', 'diseas', 'irr', '...', 'get', 'thing', 'done', 'time', 'accomplish', 'go', '...', 'rush', 'abl', 'complet', 'task', '...', 'focus', 'specif', 'detail', 'stop', ',', 'listen', ',', '...', 'lack', 'movement', 'hypnot', 'mind', 'lack', '...', 'get', 'task', 'done', 'ontim', 'make', 'mistak', '...', 'listen', 'reason', 'put', 'good', 'smile', '...', 'feel', 'better', 'let', 'steam', 'let', 'str', '...', 'go', 'overboard', 'get', 'hurt', 'develop', 'heart', '...', 'stretch', 'bodi', 'good', 'run', 'shoe', 'comfortab', '...', 'get', 'rest', 'regul', 'blood', 'sugar', 'level', '...', 'overtir', 'depress', 'higher', 'risk', 'diab', '...', 'find', 'comfort', 'place', 'lay', 'musi', '...', 'get', 'thing', 'done', 'movement', 'better', 'tha', '...', 'done', 'wrongli', 'rush', 'much', '...', 'mind', 'open', 'moral', 'plan', 'brave', 'ha', '...', \"'re\", 'look', 'lazi', 'risk', 'diseas', '...', 'look', 'like', 'fool', 'noth', 'get', 'done', '...', 'sleep', 'low', 'energi', 'confus', 'bad', 'f', '...', 'healthi', 'use', 'potenti', 'mobil', '...', 'hurt', 'feel', 'tire', '...', 'mindset', 'good', 'start', 'plan', 'skinn', '...', 'rest', 'energi', 'afterward', 'immun', 'system', 'better', '...', 'sleep', 'long', 'miss', 'apoint', '...', 'tired', 'relax', 'prior', 'sleep', 'aid', 'sometim', '...', 'effect', 'product', 'experi', 'soft', 'ski', '...', 'emot', 'difficulti', 'problem', 'solut', 'irrita', '...', 'make', 'plan', 'measur', 'take', 'action', 'consid', '...', 'lazi', 'sleep', 'meaningless', 'life', 'bad', 'irresponsib', '...', 'lazi', 'irrespos', 'week', 'sleep', 'ill', 'ten', '...', 'sleep', 'lazi', 'lie', 'feel', 'relax', 'joyful', 'happi', '...', 'burn', 'colori', 'strength', 'muscl', 'strength', 'genera', '...', 'damag', 'bear', 'joint', 'increas', 'risk', 'heart', '...', 'plan', 'get', 'mot', 'consid', 'club', 'gait', '...', 'prevent', 'cancer', 'heart', 'healthi', 'reduc', 'stress', 'red', '...', 'depress', 'increas', 'inflam', 'increas', 'pai', '...', 'increas', 'bright', 'light', 'reduc', 'blue', 'light', '...', 'motiv', 'build', 'object', 'present', 'commun', '...', 'cool', 'learn', 'space', 'heat', 'leav', 'learn', 'speen', 'piec', 'good', 'bye', 'love', 'availab', 'carrier', 'gave', 'give', 'space', 'good', 'good', 'good', 'good', 'good', 'good', 'good', 'good', 'good', 'good', 'good', 'good', 'good', 'good', 'good', 'good', 'good', 'good', 'good', 'good', 'good', 'good', 'good', 'good', 'good', 'good', 'good', 'good', 'good', 'good', 'good', 'good', 'slow', 'slow', 'slow', 'slow', 'slow', 'slow', 'slow', 'slow', 'good', 'good', 'good', 'good', 'good', 'good', 'good', 'good', 'good', 'good', 'good', 'good', 'good', 'good', 'good', 'good', 'good', 'good', 'good', 'good', 'good', 'good', 'good', 'good', 'good', 'good', 'good', 'good', 'good', 'good', 'good', 'good', 'creat', 'ownership', 'peopl', 'involv', 'devel', '...', 'consid', 'suitabl', 'given', 'stu', '...', 'believ', 'true', 'futur', '...', 'get', 'clue', 'constitut', 'action', 'inact', '...', 'without', 'desir', 'feel', 'oppress', 'issu', '...', 'know', 'realli', 'understood', ',', 'w', '...', 'mind', 'relax', 'decreas', 'symptom', 'depress', 'de', '...', 'increas', 'risk', 'heart', 'attack', 'potenti', 'b', '...', 'increas', 'endur', ',', 'build', 'muscl', 'maintain', '...', 'healthi', 'better', 'regul', 'blood', 'sugar', 'level', 'im', '...', 'short', 'temper', 'diabet', 'obes', 'headach', 'back', 'p', '...', 'cognit', 'impair', 'irrit', 'delus', '...', 'interact', 'form', 'field', 'space', ',', 'ent', '...', 'click', 'download', 'copi', '...', 'write', 'info', '...', 'form', 'also', 'print', ',', 'either', 'blank', '...', 'interact', 'form', 'field', ',', 'space', ',', '...', 'coercion', 'public', 'punish', ',', 'fie', '...', 'none', 'type', 'form', 'request', 'servic', '...', 'benefit', 'run', '?', 'physic', 'ben', '...', 'go', 'run', 'fashion', 'sport', 'mo', '...', 'guid', 'start', 'run', 'scratch', 'di', '...', 'addit', 'great', 'pleasur', ',', 'sleepin', '...', 'consequ', 'littl', 'sleep', '?', '...', '...', 'sleep', 'becom', 'fundament', 'issu', '...', 'good', 'good', 'good', 'good', '...', 'good', 'good', 'good', '...', 'good', 'good', 'good', '...', 'good', 'good', 'good', 'good', '...', 'good', 'good', 'good', '...', 'good', 'good', 'good', '...', 'good', 'good', 'good', '...', 'good', 'good', 'good', '...', 'good', 'good', 'good', '...', 'good', 'good', 'good', '...', 'good', 'good', 'good', '...', 'good', 'good', 'good', '...', 'eat', 'drink', 'play', 'sleep', 'roam', 'swi', '...', 'sad', 'depress', 'dull', 'sweat', 'lazi', 'tire', 'bad', 'well', 'terribl', 'honour', 'clever', 'knowledg', 'gain', 'lost', 'swi', '...', 'swap', 'passion', 'wipe', 'seiz', 'well', 'disappoint', 'plea', '...', 'ca', \"n't\", 'digest', 'terribl', 'dishonour', 'nice', 'discomfor', '...', \"n't\", 'worst', 'bagon', 'best', 'gather', '...', 'fit', 'healthi', 'weight-loss', 'diet', 'good', 'swea', '...', 'sweat', 'discomfort', 'dull', 'dirti', 'wors', 'pain', 'notic', '...', 'energi', 'well', 'good', 'freak', 'wisher', 'passion', 'best', 'fine', 'good', 'fine', 'worri', 'best', 'super', 'feel', 'rest', 'soul', 'lazi', 'wors', 'good', 'even', 'one', 'one', '...', 'none', 'none', 'none', 'none', 'none', 'none', 'none', 'none', 'feel', 'good', 'satisfi', '...', 'caus', 'harm', 'draw', 'attent', '...', 'abl', 'think', '...', 'claim', \"n't\", '!', 'f', '...', 'might', 'troubl', 'act', 'wou', '...', 'certain', 'amount', 'stabil', 'plenti', 'food', 'p', '...', 'health', 'better', 'cardiovascular', 'system', 'look', 'bett', '...', 'injuri', 'hurt', 'achil', 'repetit', 'stre', '...', 'good', 'sport', 'bra', 'good', 'shoe', 'safe', 'place', 'okay', 'wea', '...', 'best', 'rest', 'mental', 'well', 'h', '...', 'lost', 'time', 'bad', 'dream', 'unsaf', \"n't\", 'know', 'what', 'h', '...', 'safe', 'place', 'tire', 'dark', 'good', 'temp', 'control', '...', 'get', 'good', 'join', 'core', 'field', 'settl', 'wea', '...', 'ride', 'dream', 'bike', 'go', 'tour', 'spend', 'fam', '...', 'miss', 'school', 'life', 'miss', 'school', 'friend', 'mi', '...', 'hate', 'privat', 'job', 'low', 'amount', 'h', '...', 'mesmeris', 'got', 'angri', 'long', 'frie', '...', 'like', 'buy', 'dream', 'car', 'like', 'drive', '...', 'good', 'health', 'fit', 'mind', 'fresh', 'bodi', 'wealth', '...', 'nil', 'good', 'health', 'nil', 'nil', 'nil', 'nil', 'nil', 'nil', 'good', 'action', 'great', 'health', 'good', 'bodi', 'condit', 'g', '...', 'good', 'health', 'great', 'wealth', 'good', 'mine', 'good', 'f', '...', 'anytim', 'think', 'caus', 'headach', 'affect', 'health', '...', 'nil', 'nil', 'nil', 'nil', 'nil', 'nil', 'nil', 'nil', 'work', 'love', 'experi', 'run', 'swim', 'write', 'danc', 'speak', 'sad', 'work', 'fuck', 'suck', 'look', 'book', 'read', 'write', 'book', 'write', 'wrote', 'stusi', 'danc', 'type', 'stay', 'act', 'work', 'work', 'work', 'work', 'work', 'work', 'work', 'work', 'work', 'work', 'work', 'work', 'work', 'work', 'work', 'work', 'work', 'work', 'work', 'work', 'work', 'work', 'work', 'work', 'work', 'work', 'work', 'work', 'work', 'work', 'work', 'work', 'work', 'work', 'work', 'work', 'work', 'work', 'work', 'work', 'work', 'work', 'work', 'work', 'work', 'work', 'work', 'work', 'work', 'work', 'work', 'work', 'work', 'work', 'work', 'work', 'work', 'work', 'work', 'work', 'work', 'work', 'work', 'work', 'work', 'work', 'work', 'work', 'work', 'work', 'work', 'work', 'chang', 'thing', 'real', 'world', 'improv', 'ps', '...', 'live', 'regret', 'feel', 'helpless', 'lose', '...', 'motiv', 'strength', 'charact', 'desir', 'cha', '...', 'becom', 'target', 'expos', 'oneself', '...', 'achiev', 'goal', 'lose', 'life', 'hav', '...', 'apathi', 'listless', 'indiffer', 'uninvolv', 'fe', '...', 'strong', 'leg', 'tone', 'physiqu', 'cardiovascular', 'heal', '...', 'injuri', 'feet', '-exert', 'excess', 'weigh', '...', 'place', 'run', 'good', 'leg', 'endur', 'good', 'shoe', '...', 'good', 'physic', 'health', 'good', 'mental', 'health', 'feeli', '...', 'potenti', 'achiev', 'less', 'feel', 'left', '...', 'tire', 'bed', 'hous', 'turnin', '...', 'enhanc', 'person', 'effect', 'productivit', '...', 'time', 'consum', '.', 'difficulti', 'plan', 'clo', '...', 'confid', 'self', 'esteem', 'action', 'list', 'forc', '...', 'econom', 'social', 'benefit', 'climat', 'inform', '...', 'gain', 'result', 'favour', 'econom', 'loss', '...', 'noth', 'oyu', 'know', 'depend', 'someon', '...', 'strengthen', 'muscl', '.', 'help', 'build', 'strong', 'bone', '...', 'increas', 'risk', 'heart', 'attack', '.', '...', 'potenti', '...', 'run', 'earli', 'morn', 'eat', 'healthi', 'increas', '...', 'sleep', 'keep', 'heart', 'healthi', '.', '...', 'may', 'help', 'p', '...', 'cognit', 'impair', '.', 'depress', '.', 'increas', '...', 'eat', 'eat', 'proper', 'time', 'dont', 'use', 'cell', 'phon', '...', 'better', 'health', 'make', 'chang', 'proactiv', '...', 'fear', 'impuls', 'unnecessari', 'chang', 'disconten', '...', 'good', 'health', 'energi', 'motiv', 'bold', 'cl', '...', 'stagnat', 'live', 'past', 'smolder', 'depr', '...', 'fear', 'anxieti', 'depress', 'chang', 'progr', '...', 'fear', 'anger', 'financi', 'insecur', 'fear', 'embarr', '...', 'better', 'health', 'better', 'fit', 'increas', 'energi', '...', 'exhaust', 'muscl', 'pain', 'strain', 'tired', 'burnou', '...', 'good', 'health', 'overal', 'good', 'outlook', 'drive', 'determ', '...', 'better', 'mood', 'better', 'health', 'energi', 'cal', '...', 'depress', 'bad', 'habit', 'addict', 'anxieti', 'sadn', '...', 'relax', 'tea', 'sooth', 'music', 'silenc', 'patienc', '...', 'bad', 'import', 'wast', 'time', '...', 'reduc', 'time', 'reduc', 'stress', 'alt', '...', 'alon', 'wast', 'time', 'good', 'childr', '...', 'ok', 'nice', 'none', 'sad', 'angri', 'fun', 'excel', 'excit', \"n't\", 'know', 'ok', 'excel', 'import', '...', 'ok', 'good', 'ok', 'bad', 'ok', 'ok', 'ok', 'ok', 'k', 'k', 'k', 'k', 'k', 'k', 'k', 'k', 'much', \"n't\", 'time', 'answer', '...', 'k', 'k', 'k', 'k', 'k', 'k', 'k', 'k', 'k', 'k', 'k', 'k', 'k', 'k', 'k', 'k', 'ujj', 'yh', 'f', 'gg', 'f', 'tf', 'g', 'f', 'h', 'h', 'g', 'r', 'g', 'get', 'healthi', 'get', 'thing', 'done', 'stay', '...', 'lose', 'time', 'becom', 'overtir', 'becom', 'overwo', '...', 'need', 'motiv', 'need', 'w', '...', 'get', 'enough', 'rest', 'time', 'famili', '...', 'gain', 'weight', 'get', 'bore', 'life', 'get', '...', 'need', 'stay', 'still', 'need', 'environ', '...', 'healthier', 'lose', 'weight', 'endu', '...', 'get', 'hurt', 'give', 'start', 'b', '...', 'motiv', 'right', 'shoe', 'certain', 'cloth', 'tim', '...', 'becom', 'healthi', 'energi', 'day', 'let', '...', 'sleep', 'much', 'feel', 'groggi', 'get', 'heada', '...', 'right', 'environ', 'bed', 'pillow', 'blanket', 'bein', '...', 'health', 'excit', 'progress', 'movement', 'adventur', '...', 'exhaust', 'risk', 'pain', 'wrong', 'decis', 'failur', 'sh', '...', 'mindset', 'financ', 'strength', 'emot', 'passion', 'dedi', '...', 'rest', 'saniti', 'lack', 'respons', 'wrong', 'c', '...', 'ownership', 'reward', 'benefit', 'glori', 'n', '...', 'fear', 'lack', 'skill', 'lack', 'intellig', 'lack', '...', 'strenth', 'weight', 'loss', 'bone', 'growth', 'mental', 'saniti', '...', 'pain', 'injuri', 'exhaust', 'tire', 'expens', 'sneak', '...', 'health', 'sneaker', 'mental', 'strength', 'good', 'form', 'dedi', '...', 'rest', 'heal', 'mental', 'relax', 'muscl', 'repair', 'p', '...', 'risk', 'diabet', 'heart', 'diseas', 'stroke', 'less', 'pro', '...', 'bed', 'tire', 'pillow', 'sheet', 'cool', 'temperatur', 'desir', '...', 'tri', 'new', 'thing', \"n't\", 'stay', 'stuck', 'yo', '...', 'hard', 'take', 'work', 'may', 'choos', 'wrong', '...', 'forc', 'power', 'resourc', 'persever', 'disc', '...', 'may', 'get', 'wors', 'less', 'effort', 'take', 'less', 'time', '...', 'less', 'growth', 'ca', \"n't\", 'move', 'forward', 'thing', 'may', 'get', '...', 'boredom', 'stress', 'overwhelm', 'forc', 'fe', '...', 'get', 'away', 'good', 'health', 'muscular', 'lose', 'weight', '...', 'hard', 'joint', 'injuri', 'take', 'time', 'loos', '...', 'muscl', 'joint', 'movement', 'feet', 'leg', 'strength', 'lun', '...', 'energi', 'alert', 'better', 'cognit', 'better', '...', 'take', 'time', 'social', 'get', 'less', 'done', 'might', '...', 'circadian', 'rythmn', 'sunlight', 'dark', 'quiet', 'mela', '...', 'health', 'learn', 'defens', 'accomplish', 'conduct', '...', 'war', 'poverti', 'sick', 'death', 'disast', 'accid', '...', 'brain', 'intellig', 'intent', 'accid', 'natur', '...', 'rest', 'relax', 'think', 'medit', 'ponderin', '...', 'lazi', 'inact', 'stale', 'mental', 'loss', 'unhealthi', 'sore', '...', 'imagin', 'forc', 'intent', 'lazi', 'mindless', '...', 'health', 'tone', 'mood', 'destress', 'strength', 'muscl', 'frie', '...', 'breath', 'heart', 'attack', 'foot', 'problem', 'shin', 'spli', '...', 'healthi', 'shoe', 'locat', 'warmup', 'cloth', 'enduran', '...', 'rest', 'beauti', 'destress', 'repair', 'calm', 'energ', '...', 'groggi', 'headach', 'nightmar', 'sleep', 'apena', 'bad', 'mat', '...', 'bed', 'pillow', 'temperatur', 'dark', 'silenc', 'tire', 'cal', '...', 'get', 'someth', 'done', 'produc', 'result', 'better', '...', 'make', 'mistak', 'help', 'detriment', '...', 'initi', 'motiv', 'good', 'intent', 'competen', '...', \"n't\", 'expend', 'energi', 'lazi', \"n't\", '...', 'lazi', 'peopl', \"n't\", 'respect', '...', 'lazi', 'motiv', 'compet', \"n't\", 'car', '...', 'cardio', 'health', 'heart', 'health', 'better', 'fit', 'good', '...', 'could', 'injur', 'hurt', 'knee', 'heart', '...', 'determin', 'fit', 'want', 'motiva', '...', 'mental', 'clariti', 'restor', 'bodi', 'good', 'r', '...', 'miss', 'event', 'ca', \"n't\", 'work', 'sleep', 'missi', '...', 'quiet', 'room', 'comfi', 'bed', 'cool', 'room', 'black', 'curta', '...', 'abil', 'get', 'someth', 'accomplish', 'stag', '...', 'reject', 'possibl', 'harm', 'bad', 'repercuss', 'mig', '...', 'initi', 'move', 'write', 'voic', 'get', '...', 'safe', 'comfort', 'zone', 'routin', 'opinion', 'made', 'yo', '...', 'complac', 'dont', 'get', 'voic', 'opinion', 'cant', '...', 'noth', 'dont', 'speak', 'dont', 'move', 'let', 'thing', 'pa', '...', 'healthi', 'get', 'shape', 'lazi', 'complac', '...', 'hurt', 'physic', 'hurt', 'mental', 'hurt', 'relationshi', '...', 'move', 'get', 'shoe', 'cloth', 'somewher', 'r', '...', 'rest', 'repair', 'good', 'physic', 'good', 'mental', 'good', '...', 'wast', 'time', 'lazi', 'unhealthi', 'hurt', 'physic', 'hur', '...', 'lay', 'close', 'eye', 'time', 'bed', 'surfac', 'l', '...', 'advantag', 'read', 'instruct', '...', 'consequ', 'impuls', 'stress', 'self', 'doubt', '...', 'brain', 'synaps', 'decis', 'make', 'reason', 'self', '...', 'risk', 'loss', 'risk', 'injuri', 'peac', 'str', '...', 'loss', 'person', 'growth', 'loss', 'emot', 'grow', '...', 'low', 'self', 'esteem', 'anxieti', 'fear', 'depress', 'unwil', '...', 'runner', \"'s\", 'high', 'real', '!', 'weight', 'loss', 'stamina', 'phi', '...', 'stress', 'knee', 'stress', 'gi', 'system', '...', 'decis', 'start', 'run', 'physic', 'threat', '...', 'rest', 'brain', 'rest', 'bodi', 'allow', '...', 'vulner', 'outsid', 'world', 'loss', 'tim', '...', 'tire', 'abl', 'releas', 'bodi', 'tension', '...', 'inform', 'help', 'relax', 'lea', '...', 'wast', 'time', 'take', 'day', '...', 'person', 'commit', 'technolog', 'tell', '...', 'less', 'work', 'part', \"'s\", 'big', '...', 'noth', 'chang', 'reflect', 'mean', '...', 'thing', 'alway', 'ignor', 'pr', '...', 'healthi', 'feel', 'good', 'sens', 'ac', '...', 'hard', 'knee', 'danger', 'de', '...', 'place', 'run', 'desir', 'run', 'good', 'pair', '...', 'need', 'live', 'refresh', '...', 'thing', 'enough', 'time', '...', 'need', 'comfort', 'need', 'feel', '...', 'act', 'help', 'overcom', 'lazi', 'action', 'allo', '...', 'action', 'take', 'time', 'action', 'requir', 'commitm', '...', 'take', 'willpow', 'take', 'money', 'take', 'fre', '...', 'lazi', 'leisur', 'comfort', 'life', 'slow', '...', 'bodi', 'age', 'faster', 'get', 'fat', 'increas', 'cho', '...', 'littl', 'imagin', 'littl', 'money', 'littl', 'health', '...', 'muscl', 'becom', 'stronger', 'increas', 'serotoni', '...', 'spine', 'problem', 'knee', 'problem', 'race', 'addi', '...', 'athlet', 'prepar', 'proper', 'shoe', 'free', 'time', 'co', '...', 'recharg', 'energi', 'rest', 'brain', 'rest', '...', 'take', 'away', 'time', 'activ', 'distract', '...', 'time', 'bed', 'comfort', 'sofa', 'tire', '...', 'critic', 'one', 'action', 'situat', 'whi', '...', 'take', 'action', 'correct', 'time', 'bad', '...', 'action', 'possibl', 'time', 'creat', 'action', 'corr', '...', 'good', 'great', 'correct', 'right', 'surpris', 'great', 'deal', '...', 'bad', 'adventuar', 'difficult', 'danger', 'accept', 'f', '...', 'quick', 'easi', 'happi', 'gather', 'oppurtun', 'help', 'b', '...', 'good', 'exercis', 'great', 'wonder', 'best', 'happi', 'mo', '...', 'good', 'exercis', 'reduc', 'obes', 'make', 'man', 'perfec', '...', 'free', 'dream', 'fresh', 'keep', 'man', 'perfect', 'gather', 'man', '...', 'unfre', 'unfre', 'unfre', 'unfre', 'unfre', 'unfre', 'unfr', '...', 'rest', 'rest', 'rest', 'rest', 'rest', 'rest', 'rest', 'rest', 'work', 'field', 'tabl', 'happi', 'behavoiur', 'happi', 'statifi', '...', 'happi', 'want', 'field', 'could', 'cloudi', 'write', 'fill', 'happi', 'hi', 'want', 'see', 'happi', 'thing', 'happi', 'see', 'field', 'thing', 'bag', 'thing', 'live', 'happie', 'seee', 'thing', 'world', 'thing', 'good', 'heart', 'reduc', 'cholestrol', 'reduc', 'th', '...', 'sudden', 'heart', 'attack', 'leg', 'pain', 'heart', 'pain', '...', 'good', 'heart', 'whole', 'bodi', 'full', 'bodi', 'rest', 'bresk', 'activ', '...', 'high', 'chloestrol', 'weight', 'increas', 'dull', 'day', 'u', '...', 'work', 'possibl', 'accomplish', 'achiev', 'get', 'chore', 'done', '...', 'enough', 'time', 'inner', 'reflect', 'lack', 'c', '...', 'motiv', 'energi', 'drive', 'time', 'distract', 'g', '...', 'lack', 'self-esteem', 'feel', 'stuck', 'depress', 'l', '...', 'feel', 'helpless', 'move', 'forward', 'life', 'la', '...', 'fear', 'failur', 'depress', 'afraid', 'mov', '...', 'increas', 'heart', 'rate', 'increas', 'circul', 'good', '...', 'physic', 'injuri', 'raini', 'weather', 'time', 'consum', '...', 'motiv', 'energi', 'stamina', 'good', 'health', 'time', 'goo', '...', 'rejuvin', 'clear', 'head', 'energi', 'dream', '...', 'lazi', 'motiv', 'accomplish', 'enoug', '...', 'comfort', 'good', 'bed', 'good', 'pillow', 'warm', 'c', '...', 'get', 'someth', 'done', 'get', 'exercis', 'lose', '...', 'much', '-', 'get', 'tire', 'much', '-', 'get', 'hurt', '...', 'determin', 'energi', 'time', 'patienc', 'money', 'luck', '...', 'wont', \"'\", 'get', 'tire', 'whatev', 'want', 'avoid', '...', 'call', 'lazi', 'get', 'enough', 'done', '...', 'depress', 'anxieti', 'panic', 'lazi', 'much', 'wor', '...', 'exercis', 'supposedli', 'get', 'healthier', 'strength', '...', 'high', 'impact', 'exercis', 'wear', 'tear', 'joi', '...', 'high', 'toler', 'pain', 'care', 'h', '...', 'less', 'tire', 'less', 'stress', 'studi', 'show', 'help', '...', 'wast', 'time', 'could', 'thi', '...', 'tire', 'comfort', 'bed', 'pillow', 'blanket', 'quiet', 'da', '...', 'healthi', 'excit', 'fun', 'friendli', 'eager', 'enthusiast', '...', 'tire', 'sleepi', 'enthusiast', 'exhaust', 'drain', 'wear', '...', 'act', 'move', 'run', 'work', 'activ', 'energet', 'spirit', 'sp', '...', 'rest', 'relax', 'nap', 'loosen', 'unbend', 'unwind', 'decreas', '...', 'fat', 'fat', 'greas', 'larg', 'chubbi', 'sleepi', 'ineffec', '...', 'lazi', 'idl', 'inact', 'slow', 'heavi', 'dull', 'lifeless', '...', 'strengthen', 'muscl', 'burn', 'calori', 'stay', 'fit', 'build', '...', 'sun', 'exposur', 'impact', 'ankl', 'possibl', 'injuri', 'b', '...', 'get', 'hous', 'action', 'strong', 'mental', '...', 'keep', 'healthi', 'prevent', 'cancer', 'reduc', 'stress', '...', 'back', 'pain', 'headach', 'make', 'lazi', 'depress', 'hi', '...', 'calm', 'mood', 'comfort', 'set', 'good', 'mood', '...', 'get', 'exercis', 'thing', 'get', 'done', 'peopl', 'sa', '...', 'someon', 'get', 'hurt', 'someon', 'get', 'discrimin', '...', 'take', 'movement', 'get', 'bed', 'turn', '...', 'rest', 'wo', \"n't\", 'get', 'caught', 'fight', 'eat', \"n't\", 'pro', '...', 'lazi', 'work', 'done', 'someon', 'die', 'accid', '...', 'lack', 'lack', 'tri', 'fear', 'worri', 'timid', '...', 'health', 'muscl', 'digest', 'system', 'natur', 'run', '...', 'injur', 'self', 'bad', 'heart', 'issu', 'tired', 'sweat', 'h', '...', 'willpow', 'run', 'shoe', 'park', 'run', 'pa', '...', 'brain', 'repair', 'rest', 'recharg', 'bed', 'break', 'ha', '...', 'oversleep', 'hard', 'get', 'miss', 'someth', 'alarm', '...', 'pajama', 'tea', 'turn', 'phone', 'mobil', 'devi', '...', 'get', 'ahead', 'succeed', '...', 'lose', 'someth', 'valuabl', '...', 'energi', 'willpow', 'determin', 'persever', '...', 'regret', 'misgiv', 'shame', 'anger', '...', 'remain', 'stagnant', 'never', 'get', 'ahead', 'stuck', '...', 'loss', 'control', 'loss', 'confid', 'loss', 'se', '...', 'health', 'strength', 'vital', 'energi', 'rejuven', '...', 'tire', 'overwork', 'pain', 'deplet', 'ach', 'lack', '...', 'inspir', 'willpow', 'confid', 'determinatio', '...', 'rest', 'health', 'vital', 'rejuven', 'well', 'rest', '...', 'oversleep', 'tired', 'fatigu', 'lazi', 'bore', '...', 'make', 'schedul', 'make', 'plan', 'time', 'everi', 'n', '...', 'make', 'posit', 'chang', 'get', 'thing', 'done', 'mak', '...', 'take', 'work', 'tire', 'anxieti', 'invoki', '...', 'mental', 'clariti', 'intern', 'motiv', 'set', 'goa', '...', \"n't\", 'take', 'effort', 'tire', 'thing', '...', \"n't\", 'get', 'thing', 'done', \"n't\", 'move', 'forward', 'li', '...', 'enabl', 'enough', 'money', 'unmotiv', '...', 'energi', 'physic', 'activ', 'posit', 'mood', 'good', 'fo', '...', 'get', 'injur', 'get', 'hit', 'car', 'must', 'buy', '...', 'motiv', 'treadmil', 'street', 'run', 'run', '...', 'function', 'better', 'next', 'day', 'dream', 'f', '...', 'never', 'enough', 'time', 'hard', 'fall', 'asleep', 'sometim', '...', 'tire', 'sometim', 'sleep', 'pill', 'relaxati', '...', 'inact', 'tend', 'reinforc', 'action', 'incr', '...', 'action', 'unintend', 'consequ', 'unthought', '...', 'physic', 'freedom', 'intellectu', 'freedom', 'self', 'con', '...', 'respons', 'outcom', 'physic', 'saf', '...', 'feel', 'helpless', 'lack', 'motiv', 'pow', '...', 'sometim', 'quiet', 'best', 'addit', '...', 'escap', 'danger', 'keep', 'fit', 'dopamin', 'manag', 'weight', '...', 'shin', 'splint', 'foot', 'injuri', 'bore', 'expens', '...', 'safe', 'place', 'run', 'time', 'good', 'feet', 'physic', 'abil', '...', 'dream', 'reset', 'brain', 'rejuven', 'bodi', 'w', '...', 'enough', 'time', 'import', 'thing', 'happen', '...', 'time', 'calm', 'lack', 'stress', 'blanket', 'stranger', '...', 'gain', 'someth', 'complet', 'someth', 'move', 'towa', '...', 'thing', 'happen', 'quick', 'think', 'thr', '...', 'person', 'listen', 'analyz', 'think', 'plannin', '...', 'chang', 'thing', 'stay', 'easi', \"n't\", 'hav', '...', 'thing', 'never', 'chang', 'caus', 'minor', 'problem', 'g', '...', 'drive', 'desir', 'like', 'way', 'thing', 'laz', '...', 'health', 'cardio', 'lung', 'heart', 'weight', 'look', 'blood', 'p', '...', 'knee', 'pain', 'ankl', 'pain', 'shin', 'splint', 'toe', 'problem', '...', 'shoe', 'cloth', 'healthi', 'heart', 'health', 'lung', 'kn', '...', 'rest', 'reenerg', 'repair', 'feel', 'better', 'help', '...', 'bed', 'sore', 'rash', 'bed', 'bug', 'flea', 'dirti', 'sheet', '...', 'bed', 'pillow', 'sheet', 'blanket', 'right', 'temperatur', '...', 'get', 'faster', 'result', 'action', 'get', 'faster', 'resu', '...', 'action', 'could', 'caus', 'disast', 'action', 'could', 'lea', '...', 'quick', 'think', 'reason', 'outcom', 'good', '...', 'think', 'action', 'slower', 'time', '...', 'could', 'lose', 'good', 'thing', 'could', 'produc', '...', 'unwis', 'think', 'slow', 'behavior', 'action', 'taken', '...', 'good', 'heart', 'health', 'good', 'lung', 'health', 'healthi', 'leg', '...', 'difficult', 'peopl', 'hard', 'leg', '...', 'good', 'heart', 'condit', 'good', 'lung', 'condit', 'healt', '...', 'better', 'health', 'better', 'brain', 'health', 'energi', 'e', '...', 'time', 'get', 'work', 'done', 'sleep', 'much', 'ha', '...', 'good', 'mattress', 'good', 'bed', 'sheet', 'quiet', 'room', 'sc', '...', 'speed', 'money', 'time', 'travel', 'saftey', 'attent', '...', 'adjust', 'save', 'counter', 'best', 'network', '...', 'strength', 'stamima', 'proccess', 'configurati', '...', 'gain', 'insent', 'peopl', 'gross', 'feild', 'heart', 'adv', '...', 'loss', 'pressur', 'fear', 'friction', 'distrat', 'failu', '...', 'hope', 'clariti', 'gain', 'take', 'speed', 'gear', 'food', 'manag', 'loss', 'pressur', 'spear', 'hemerg', 'corrupt', 'da', '...', 'loss', 'gain', 'failur', 'money', 'time', 'incestmemt', 'pre', '...', 'hope', 'love', 'destini', 'dam', 'dammag', 'get', 'confid', '...', 'time', 'money', 'pain', 'dream', 'headach', 'ratchet', 'ugl', '...', 'crust', 'pain', 'hope', 'joy', 'handl', 'tune', 'flow', 'long', 'drink', 'sex', 'food', 'good', 'vibe', 'comfi', 'joy', 'sala', 'action', 'result', 'outcom', 'result', 'occur', 'chan', '...', 'outcom', 'unknown', 'chang', 'alway', 'goo', '...', 'energi', 'movement', 'thought', 'coordin', 'cognitio', '...', 'variabl', 'remain', 'constant', \"n't\", 'need', 'w', '...', 'chang', 'occur', 'without', 'problem', 'ge', '...', 'ignor', 'will', 'neglig', 'misunderstandin', '...', 'heart', 'rate', 'increas', 'build', 'lean', 'muscl', 'creat', '...', 'limit', 'energi', 'abil', 'g', '...', 'need', 'healthi', 'heart', 'need', 'healthi', 'p', '...', 'feel', 'rest', 'reduc', 'stress', 'make', 'feel', '...', 'take', 'time', \"'re\", 'unproduct', 'sta', '...', 'typic', 'eye', 'must', 'close', \"'re\", '...', 'action', 'caus', 'progress', 'social', 'issu', 'thr', '...', 'action', 'lead', 'failur', 'action', 'lead', '...', 'desir', 'drive', 'energi', 'imagin', 'goal', 'com', '...', 'safeti', 'danger', 'secur', 'statu', 'quo', 'per', '...', 'miss', 'opportun', 'statu', 'quo', 'physic', 'deter', '...', 'lack', 'desir', 'lack', '...', 'health', 'increas', 'ward', 'diseas', 'weight', 'co', '...', 'physic', 'ailment', 'bodi', 'oder', 'isol', 'long', 'ter', '...', 'desir', 'run', 'desir', 'compet', 'oneself', '...', 'refresh', 'bodi', 'reset', 'natur', 'clock', '...', 'time', 'take', 'lack', 'accomplish', 'vulnerab', '...', 'quiet', 'room', 'dark', 'room', 'time', 'hunger', 'address', 'pro', '...', 'action', 'live', 'action', 'produc', 'consequ', '...', 'action', 'lead', 'bad', 'outcom', 'action', 'har', '...', 'recognit', 'action', 'requir', 'self-contr', '...', 'easier', 'safe', 'comfort', 'predict', 'known', 'cauti', '...', 'riski', 'lazi', 'clueless', 'unawar', 'selfish', 'sloth', 'u', '...', 'noth', 'steadfast', 'stubborn', 'denial', 'closed-m', '...', 'improv', 'health', 'lose', 'weight', 'lower', 'blood', 'press', '...', 'risk', 'injuri', 'heat', 'stroke', 'plantar', 'fasciti', 'co', '...', 'energi', 'shoe', 'motiv', 'stamina', 'self-control', 'w', '...', 'good', 'brain', 'improv', 'memori', 'reduc', 'diabet', '...', 'less', 'time', 'work', 'less', 'time', 'exercis', 'less', 'time', '...', 'calm', 'bed', 'nighttim', 'low', 'light', 'low', 'temperatur', 'q', '...', 'get', 'thing', 'done', 'product', 'feel', '...', 'think', 'long', 'enough', 'make', 'decis', 'ha', '...', 'think', 'time', 'initi', 'charcter', 'person', '...', 'time', 'relax', 'piec', 'mind', 'ponder', 'happy', 'c', '...', 'act', 'think', 'let', 'thing', 'pass', 'si', '...', 'lazi', 'confid', 'content', 'think', '...', 'healthi', 'get', 'somewher', 'lose', 'weight', 'feelin', '...', 'injuri', 'take', 'time', \"'s\", 'hard', \"'s\", 'fun', '...', 'initi', 'time', 'athletic', 'abil', 'stand', '...', 'get', 'rechach', 'get', 'rest', 'feel', 'fresh', 'f', '...', 'lose', 'time', 'nightmar', 'tire', 'wake', 'mi', '...', 'relax', 'comfort', 'time', 'piec', 'mind', 'bed', 'pi', '...', 'feel', 'like', 'control', 'make', '...', 'take', 'time', 'take', 'money', 'peopl', '...', 'feel', 'compel', 'take', 'action', '...', 'dont', 'chang', 'dont', 'sacri', '...', 'noth', 'chang', 'good', 'loos', 'vo', '...', 'apathi', 'fear', 'lazy', 'subjeg', 'motiv', '...', 'get', 'shape', 'healthi', 'join', 'group', 'maintain', '...', 'time', 'commit', 'ach', 'injuri', 'chang', 'life', '...', 'commit', 'determin', 'small', 'goal', 'will', '...', 'help', 'loos', 'weight', 'help', 'mental', 'health', 'feel', '...', 'time', 'weigh', 'gain', 'unabl', 'control', 'dre', '...', 'dark', 'room', 'disconnect', 'electron', 'dont', 'wor', '...', 'control', 'happen', '.', 'thing', 'g', '...', 'action', 'may', 'adequ', 'plan', '.', 'mistak', '...', 'purpos', 'need', 'identifi', '.', 'impact', '...', 'think', 'better', 'way', 'thing', '.', 'peo', '...', 'problem', 'might', 'get', 'wors', '.', 'money', 'lost', '.', 'w', '...', 'nobodi', 'take', 'respons', '.', 'resourc', 'need', '...', 'improv', 'cardiovascular', 'fit', '.', '...', 'injur', 'leg', '.', 'wast', 'time', '...', 'motiv', 'proper', 'shoe', 'place', 'run', 'plan', '...', 'avoid', 'get', 'troubl', 'night', 'b', '...', 'wast', 'much', 'time', '.', 'lead', 'slothf', '...', 'comfort', 'spot', 'sleep', '.', 'tem', '...', 'move', 'forward', 'learn', 'someth', 'better', '...', 'slow', 'unproduct', 'relax', '...', 'decid', 'take', 'action', 'right', 'time', 'right', 'pl', '...', 'leisur', 'time', \"n't\", 'move', 'obliga', '...', 'miss', 'life', 'possibl', 'earn', 'mone', '...', \"n't\", 'go', 'work', 'enough', '...', 'outsid', ',', 'fresh', 'air', 'heart', 'benefit', 'less', 'possibl', '...', 'move', 'even', \"n't\", 'want', 'knee', '...', 'good', 'shoe', 'time', 'motiv', '...', 'replenish', 'heal', 'depress', 'heal', 'anxi', '...', 'waist', 'time', 'sleep', 'long', 'abl', '...', 'tire', 'enough', 'time', 'worri', 'pr', '...', 'activ', 'alert', 'knowledg', 'educ', 'moral', 'live', '...', 'death', 'bore', 'enemi', 'cheat', 'jealousi', 'envi', 'pain', 'agoni', 'energi', 'alert', 'strength', 'activ', 'live', 'knowledg', '...', 'lazi', 'slow', 'cheat', 'poor', 'boor', 'weak', 'low', 'bad', 'save', 'friend', 'sweet', 'bore', 'nice', 'suspenc', 'confu', '...', 'slow', 'poor', 'weak', 'lazi', 'slender', 'low', 'poor', 'nice', 'fast', 'train', 'stamina', 'strength', 'physiqu', 'bodi', 'b', '...', 'injuri', 'muscl', 'tear', 'pain', 'time', 'comfort', 'stress', '...', 'activ', 'strength', 'physiqu', 'bodi', 'balanc', 'alert', 'st', '...', 'rest', 'healthi', 'good', 'strong', 'relax', 'fast', 'strong', '...', 'lazi', 'weak', 'poor', 'slow', 'low', 'less', 'energert', 'bad', 'bo', '...', 'fatiqu', 'lazi', 'rest', 'stress', 'hadrwork', 'activ', 'bodi', '...', 'take', 'action', 'elicit', 'chang', '.', 'ac', '...', 'may', 'fail', 'action', 'took', '.', 'may', 'b', '...', 'somebodi', 'prime', 'mover', '.', '...', 'lose', 'physic', 'asset', '.', '...', 'may', 'what-if', 'scenario', '.', 'whatev', 'acti', '...', 'somebodi', 'think', 'take', 'action', '...', 'weight', 'loss', '.', 'qualiti', 'life', '.', 'abil', 'comp', '...', 'physic', 'injuri', 'death', 'get', 'lost', 'much', '...', 'somebodi', 'want', '.', 'somebodi', 'abl', '...', 'physic', 'regener', 'mental', 'saniti', 'fun', '...', 'take', 'time', 'accomplish', 'thing', 'may', 'ne', '...', 'concious', 'biolog', 'need', 'tire', '...', 'result', 'progress', 'motiv', 'achiev', 'sucess', '...', 'succeed', 'fail', 'tri', 'co', '...', 'self', 'determin', 'motiv', 'goal', 'gain', '...', 'less', 'involv', 'risk', 'anyth', 'ne', '...', 'let', 'someon', 'hurt', 'someon', \"'s\", 'feel', '...', 'know', 'might', 'get', 'hurt', 'took', 'action', '...', 'health', 'lose', 'weight', 'gain', 'muscl', 'longev', '...', 'hurt', 'knee', 'might', 'lose', 'much', 'weight', 'g', '...', 'good', 'form', 'motiv', 'go', 'length', 'want', '...', 'mental', 'health', 'physic', 'health', 'reset', 'bodi', '...', 'sleep', 'much', \"n't\", 'good', 'lose', 'ti', '...', 'comfort', 'bed', 'soft', 'sheet', 'great', 'pillow', 'ca', '...', 'acquir', 'desir', '.', 'interact', 'wi', '...', 'action', 'take', 'energi', '.', 'action', 'met', 'op', '...', 'action', 'requir', 'idea', '.', 'action', 'requir', 'dec', '...', 'inact', 'prevent', 'failur', '.', 'inact', 'prevent', 'p', '...', 'one', 'ca', \"n't\", 'acquir', 'one', \"'s\", 'desir', 'inact', '.', '...', 'inact', 'requir', 'idea', '.', 'inact', 'requir', '...', 'run', 'good', 'one', \"'s\", 'overal', 'health', '.', 'runn', '...', 'run', 'take', 'time', '.', 'run', 'requir', 'spend', '...', 'one', 'must', 'least', 'basic', 'knowledg', 'r', '...', 'sleep', 'restor', 'energi', '.', 'sleep', 'repair', '...', 'sleep', 'take', 'time', '.', 'sleep', 'leav', 'one', 'fe', '...', 'sleep', 'requir', 'place', 'sit', 'lie', '.', 'sle', '...', 'abl', 'get', 'exercis', 'activ', 'accomp', '...', 'becom', 'overli', 'tax', 'allow', 'bodi', '...', 'accept', 'understand', 'belief', 'movement', 'agre', '...', 'rest', 'relax', 'refresh', 'peac', 'tranquil', '...', 'loss', 'fear', 'avoid', 'selfish', 'lazi', 'welfa', '...', 'loss', 'feel', 'self', 'import', 'shame', 'care', '...', 'exercis', 'muscl', 'increas', 'heart', 'rate', 'stamina', '...', 'hurt', 'shock', 'knee', 'tiredsom', 'wind', 'damag', '...', 'action', 'support', 'stamina', 'determin', 'dedicatio', '...', 'rest', 'refresh', 'renew', 'health', 'dream', 'relaxat', '...', 'unrest', 'get', 'thing', 'done', 'inact', 'loss', '...', 'place', 'sleep', 'quiet', 'cool', 'inact', 'blanket', '...', 'good', 'good', 'good', 'good', 'good', 'good', 'good', 'good', 'bad', 'bad', 'bad', 'bad', 'bad', 'bad', 'bad', 'bad', 'happi', 'happi', 'happi', 'happi', 'happi', 'happi', 'happi', 'happi', 'interest', 'interest', 'interest', 'interestin', '...', 'bore', 'bore', 'bore', 'bore', 'bore', 'bore', 'bori', '...', 'good', 'good', 'good', 'good', 'good', 'good', 'good', 'good', 'fit', 'fit', 'fit', 'fit', 'fit', 'fitn', '...', 'tired', 'tired', 'tired', 'tired', 'tiredn', '...', 'ye', 'ye', 'ye', 'ye', 'ye', 'ye', 'ye', 'ye', 'fresh', 'fresh', 'fresh', 'fresh', 'freshn', '...', 'inact', 'inact', 'inact', 'inact', 'inact', '...', 'ye', 'ye', 'ye', 'ye', 'ye', 'ye', 'ye', 'ye', 'exit', 'joy', 'drug', 'comedi', 'sorrow', 'twi', '...', 'dri', 'money', 'dollar', 'water', 'wet', 'land', 'ground', 'hous', '...', 'reveng', 'time', 'good', 'bad', 'erecton', 'water', 'tube', 'talk', 'anger', 'comedi', 'trigger', 'field', 'hous', 'ground', 'rice', 'jug', 'tiger', 'epic', 'bill', 'rice', 'yelp', 'queen', 'king', 'liquid', 'bun', 'bread', 'jam', 'silver', '`', 'slim', 'fit', 'blood', 'circul', 'leg', 'strong', 'breath', '...', 'tile', 'hiphop', 'hill', 'tree', 'highest', 'big', 'small', 'tri', '...', 'trippl', 'mous', 'figur', 'tall', 'ginger', 'fall', 'small', 'hop', 'tyre', 'queen', 'pig', 'high', 'jug', 'green', 'hello', 'yellow', 'lazi', 'fat', 'mind', 'dead', 'low', 'blood', 'circul', 'wast', '...', 'ginger', 'green', 'yellow', 'figur', 'tall', 'violet', 'nick', '...', 'happi', 'moeni', 'time', 'joy', 'supris', 'wealth', 'food', 'f', '...', 'sad', 'fear', 'angri', 'hungri', 'lose', 'deprewss', 'knot', 'f', '...', 'thought', 'work', 'think', 'time', 'money', 'happi', 'grit', 'gut', 'noth', 'sad', 'fear', 'time', 'money', 'loniilneess', 'awe', 'spent', 'nothign', 'sad', 'fear', 'anger', 'hungri', 'loniln', '...', 'fear', 'sad', 'noth', 'empti', 'loos', 'moeni', 'tax', '...', 'loos', 'weight', 'happi', 'hope', 'good', 'posit', 'slim', 'h', '...', 'pain', 'tire', 'sad', 'hunger', 'heat', 'cold', 'time', 'money', 'money', 'shoe', 'support', 'cheer', 'time', 'tredmil', 'hope', '...', 'rest', 'happi', 'goal', 'refresh', 'relax', 'hope', 'prett', '...', 'time', 'anyth', 'sore', 'read', '...', 'bed', 'blanket', 'time', 'dark', 'cool', 'rquiet', 'free', 'night', 'fun', 'adventur', 'get', 'somethi', '...', 'much', 'make', 'tire', 'mindi', '...', 'commit', 'willing', 'devot', 'dedic', '...', 'relax', 'comfort', 'mellow', 'take', '...', 'lazi', 'unimport', 'noth', 'f', '...', 'unwillingless', 'lazy', 'careless', 'immor', 'b', '...', 'exercis', 'health', 'lose', 'weight', 'gain', 'musc', '...', 'tire', 'sun', 'exposur', 'pressur', '...', 'run', 'dedic', 'run', 'shoe', 'pla', '...', 'less', 'stress', 'help', 'memori', 'lower', 'blood', 'pr', '...', 'depress', 'pain', 'risk', 'obes', 'risk', '...', 'comfort', 'bed', 'caffein', 'bed', 'peacefu', '...', 'form', 'routin', 'get', 'result', 'bodi', 'build', 'achiev', '...', 'time', 'consum', 'mistak', 'made', 'bad', 'consequ', '...', 'think', 'goal', 'set', 'plan', 'money', '...', 'rest', 'time', 'money', 'plan', 'bu', '...', 'achiev', 'fulfil', 'price', 'goal', '...', 'goal', 'plan', 'achiev', 'risk', 'threat', 'push', 'pre', '...', 'health', 'muscl', 'strenght', 'cardio', 'train', 'goal', '...', 'tired', 'sore', 'muscular', 'strain', 'muscular', 'sp', '...', 'goal', 'plan', 'health', 'threat', 'pressur', 'friend', 'imp', '...', 'rest', 'recharg', 'calm', 'destress', 'energi', 'revamp', 'heal', '...', 'bore', 'work', 'done', 'time', 'consum', 'activ', '...', 'tired', 'health', 'stress', 'busy', 'need', 'calm', '...', 'action', 'actual', 'respons', \"'s\", 'end', '...', 'start', 'endless', 'effect', '.', 'one', 'ac', '...', 'action', 'alway', 'combin', 'effect', 'small', '...', 'loss', 'energi', '.', 'chanc', 'mishap', 'zero', '.', 'r', '...', 'noth', 'get', 'done', '.', 'creat', 'confus', '.', 'inact', '...', 'previou', 'action', 'done', 'right', '.', 'energi', '...', 'faster', 'way', 'move', '.', 'fastest', 'human', 'move', '.', '...', 'get', 'tire', 'easili', '.', 'caus', 'breathless', 'ca', '...', 'walk', 'slow', 'option', '.', 'catch', 'bu', '...', 'bodi', 'get', 'rest', '.', 'repair', 'done', '.', 'readi', '...', 'wast', 'time', '.', 'caus', 'snoor', '.', '...', 'tire', '.', 'usual', 'night', 'time', 'sometim', 'sed', '...', 'learn', 'new', 'thing', 'challeng', 'new', 'thing', 'enga', '...', 'stop', 'discourag', 'feel', 'sad', 'feel', 'blue', 'medit', '...', 'plan', 'courag', 'test', 'time', 'develop', 'meet', 'hop', '...', 'cancel', 'mislead', 'stop', 'discourag', 'disappointm', '...', 'hopeless', 'cancel', 'stop', 'disappoint', 'destroy', 'close', '...', 'plan', 'order', 'call', 'stop', 'meet', 'disapporv', 'cancel', 'de', '...', 'plan', 'see', 'test', 'take', 'action', 'challeng', 'goal', 'rewar', '...', 'sick', 'hopeless', 'stop', 'dicourag', 'kick', 'cancel', 'p', '...', 'carri', 'passion', 'work', 'hard', 'set', 'goal', 'hope', 'le', '...', 'nuturin', 'relax', 'take', 'rest', 'health', 'reset', 'healin', '...', 'tire', 'wast', 'time', 'depress', 'increas', 'p', '...', 'relax', 'read', 'book', 'comfort', 'temperatur', 'c', '...', 'safeti', 'deport', 'mechan', 'technolog', 'commun', '...', 'time', 'energi', '.', 'peopl', 'seldom', 'awar', 'th', '...', 'softwar', 'design', 'growth', 'formal', 'method', '.', 'instinc', '...', 'signific', 'progress', 'made', 'pa', '...', 'balanc', 'thought', 'action', 'alway', '...', 'cost', 'inact', 'play', 'safe', 'medici', '...', 'run', 'burn', 'calori', 'exercis', '...', 'damag', 'weight-bear', 'joint', 'increas', 'risk', '...', 'run', 'remain', 'one', 'best', 'fastest', 'wa', '...', 'sleep', 'keep', 'heart', 'healthi', 'sleep', 'may', 'help', '...', 'sleepi', 'caus', 'accid', 'sleep', 'loss', 'dumb', '...', 'increas', 'bright', 'light', 'exposur', 'day', '...']\n"
     ]
    }
   ],
   "source": [
    "from nltk.stem import PorterStemmer\n",
    "from nltk.tokenize import sent_tokenize, word_tokenize\n",
    "\n",
    "ps = PorterStemmer()\n",
    "\n",
    "stemmed_words=[]\n",
    "for w in filtered_sent:\n",
    "    stemmed_words.append(ps.stem(w))\n",
    "\n",
    "print(\"Filtered Sentence:\",filtered_sent)\n",
    "print(\"Stemmed Sentence:\",stemmed_words)"
   ]
  },
  {
   "cell_type": "code",
   "execution_count": 96,
   "metadata": {},
   "outputs": [
    {
     "name": "stdout",
     "output_type": "stream",
     "text": [
      "['q1', 'q6', 'q13', 'q7', 'q15', 'q14', 'q8', 'q11', 'q16', 'q10', 'q9', 'q17', 'someth', 'activ', 'result', '...', 'could', 'make', 'wrong', 'choic', 'could', 'lead', 'wor', '...', 'drive', 'understand', 'plan', 'effort', 'desir', 'skill', '...', 'rest', 'need', 'plan', 'need', 'design', 'free', 'ti', '...', 'thing', 'could', 'get', 'wor', 'might', 'miss', 'someth', 'mi', '...', 'lazi', 'depress', 'drive', 'motiv', 'desi', '...', 'healthi', 'strong', 'build', 'muscl', 'burn', 'calori', 'gain', '...', 'take', 'time', 'take', 'energi', 'cau', 'pain', 'deal', 'wi', '...', 'good', 'routin', 'good', 'energi', 'level', 'good', 'sleep', 'goo', '...', 'better', 'health', 'feel', 'rest', 'better', 'mental', 'hea', '...', 'back', 'hurt', 'wake', 'feel', 'rest', '...', 'good', 'light', 'good', 'air', 'good', 'temp', 'good', 'blanket', '...', 'promot', 'process', 'test', 'idea', 'encourag', 'chang', '...', 'strenthen', 'self', 'esttem', 'strenthen', 'self', 'esttem', 'st', '...', 'goal', 'step', 'measur', 'creat', '...', 'dont', 'anyth', 'inact', ',', 'inact', ',', '...', 'inactiondo', 'specifi', 'note', 'inactiondo', '...', 'good', 'inactiondo', 'specifi', 'note', 'inactiondo', '...', 'run', 'advantag', 'sterenthern', 'musl', 'run', 'ad', '...', 'pain', 'occur', 'pain', 'occur', 'pa', '...', 'handl', 'handl', 'handl', '...', 'relax', 'work', 'relax', 'work', 'relax', 'work', '...', 'work', 'delaya', 'work', 'delaya', 'work', 'delaya', 'work', 'delay', '...', 'time', 'spend', 'take', 'rest', 'time', 'spend', 'tak', '...', 'thing', 'get', 'done', 'answer', 'found', 'progress', '...', 'fool', 'rush', 'well', 'thought', 'plan', '...', 'thought', 'motiv', 'desir', 'drive', 'gusto', 'pa', '...', 'time', 'think', 'wait', 'see', 'result', '...', 'pass', 'earli', 'adopt', 'miss', 'opprotunitit', '...', 'noth', 'lack', 'lack', 'desir', 'lack', 'st', '...', 'health', 'strength', 'fresh', 'air', 'wellb', 'alon', 'time', '...', 'time', 'consum', 'hard', 'joint', 'bore', 'tiresom', '...', 'drive', 'desir', 'strength', 'mental', 'fortitud', 'av', '...', 'rest', 'mental', 'strength', 'nece', 'clariti', 'rechargi', '...', 'loss', 'product', 'bad', 'dream', 'time', 'sign', '...', 'bed', 'time', 'tire', 'locat', 'comfort', 'exaust', '...', 'chang', 'movement', 'improv', 'justic', 'start', 'chan', '...', 'chang', 'unknown', 'forc', 'pain', 'fear', 'sudden', 'scare', '...', 'forc', 'idea', 'movement', 'chang', 'need', 'sudden', 'reactio', '...', 'unchang', 'disrupt', 'calm', 'surpri', '...', 'dull', 'stagnent', 'obsolet', 'date', 'fall', 'behind', '...', 'noth', 'stay', 'plan', 'vision', 'fut', '...', 'exerci', 'healthi', 'stay', 'shape', 'heart', 'rate', 'lo', '...', 'time', 'back', 'pain', 'foot', 'pain', 'ankl', 'pain', 'dull', 'bo', '...', 'put', 'shoe', 'start', 'run', 'buy', 'shoe', 'put', 'cl', '...', 'energi', 'rest', 'feel', 'better', 'reduc', 'stress', 'improv', '...', 'depress', '.', 'pain', 'obe', 'heart', 'disea', 'lazi', 'u', '...', 'bed', 'pillow', 'close', 'eye', 'tire', 'dark', 'quiet', 'ex', '...', 'desir', 'manifest', 'desir', 'met', 'need', 'met', 'f', '...', 'mistak', 'undesir', 'result', 'regret', 'time', 'wast', '...', 'plan', 'account', 'time', 'confid', 'peac', '...', 'protect', 'time', 'think', 'time', 'plan', 'mista', '...', 'lose', 'miss', 'opportun', 'lack', 'resour', '...', 'doubt', 'self', 'doubt', 'other', 'trust', 'se', '...', 'healthi', 'lung', 'healthi', 'muscl', 'healthi', 'heart', '...', 'knee', 'joint', 'wear', 'tear', 'muscl', 'wear', 'tear', '...', 'good', 'pair', 'run', 'shoe', 'athletic/run', 'ap', '...', 'healthi', 'heal', 'good', 'memori', 'good', 'prope', '...', 'miss', 'opportun', 'enough', 'time', 'da', '...', 'hard', 'work', 'worri', 'depress', 'irrit', 'sickn', '...', 'accomplish', 'goal', \"'m\", 'happier', \"'m\", 'prod', '...', 'may', 'get', 'stress', 'easili', 'may', 'burn', 'f', '...', 'form', 'plan', 'align', 'right', 'peop', '...', 'time', 'reflect', 'new', 'idea', '...', 'noth', 'new', 'get', 'accomplish', \"n't\", 'maximi', '...', 'need', 'control', 'impul', '.', 'need', 'reco', '...', 'maintain', 'strength', '.', 'lose', 'weight', '.', 'yo', '...', 'tire', '.', 'creat', 'sore', '.', 'lot', 'ac', '...', 'proper', 'run', 'cloth', 'sho', '...', 'refresh', 'next', 'day', '.', 'build', '...', 'less', 'product', '.', 'might', 'miss', '...', 'need', 'tire', '.', 'need', 'dark', '...', 'strength', 'intuit', 'movement', 'exerci', 'forwa', '...', 'pain', 'frustrat', 'anxieti', 'depress', 'suffocatio', '...', 'movement', 'thought', 'brain', 'connect', 'frustrat', '...', 'calm', 'peac', 'serin', 'love', 'self', 'mind', '...', 'social', 'bad', 'thought', 'muscl', 'fatigu', 'b', '...', 'sleep', 'stay', 'bed', 'depress', 'anxieti', 'shut', '...', 'exerci', 'move', 'lymphat', 'system', 'pain', 'ach', 'ga', '...', 'sore', 'feet', 'sore', 'thigh', 'sweat', 'muscl', 'fat', '...', 'good', 'shoe', 'move', 'sock', 'headach', '...', 'clear', 'mind', 'think', 'suicid', 'attemp', '...', 'hear', 'husbnd', 'snore', 'wake', 'achi', 'bed', 'co', '...', 'light', 'comfort', 'bed', 'cool', 'temperatur', 'bla', '...', 'achiev', 'goal', 'complet', 'project', 'ensur', '...', 'chanc', 'harm', 'someon', 'chanc', 'materi', '...', 'agent', 'abstract', 'reason', 'principl', 'mat', '...', 'save', 'face', 'preserv', 'time', 'preserv', 'money', 'p', '...', 'loss', 'potenti', 'materi', 'gain', 'loss', 'potent', '...', 'fear', 'loss', 'mental', 'energi', 'fear', 'loss', '...', 'learn', 'peac', 'oneself', 'learn', '...', 'possibl', 'injuri', 'knee', 'possibl', 'injuri', 'fe', '...', 'motiv', 'begin', 'disciplin', '...', 'physic', 'health', 'mental', 'health', 'energi', 'regularit', '...', 'time', 'spent', 'work', 'critic', 'task', 'time', '...', 'quiet', 'dark', 'comfort', 'tire', 'avail', 'tim', '...', 'self', 'confid', 'good', 'physiqu', 'assert', 'le', '...', 'bad', 'imag', 'fighter', 'charact', 'responsibilti', 'fear', '...', 'good', 'bodi', 'talent', 'confid', 'mental', 'stabil', 'b', '...', 'safe', 'enemi', 'stabl', 'calm', 'good', 'direct', 'li', '...', 'fear', 'disbelief', 'depend', 'good', 'physiqu', 'warn', '...', 'mental', 'stabliti', 'calm', 'peac', 'inact', 'disbelief', '...', 'healthi', 'good', 'bodi', 'maintan', 'live', 'life', 'happi', '...', 'time', 'consum', 'back', 'pain', 'weight', 'bear', 'risk', '...', 'effort', 'focu', 'time', 'managemnet', 'good', 'shoe', 'good', 'p', '...', 'good', 'function', 'bodi', 'reduc', 'stress', 'peac', 'hap', '...', 'depress', 'inflamm', 'diabet', 'pain', 'heart', 'di', '...', 'avoid', 'irregular', 'nap', 'good', 'place', 'peac', 'mind', '...', 'someth', 'product', 'thing', 'fight', '...', 'attack', 'destroy', 'fast', 'wrong', 'se', '...', 'tend', 'war', 'fight', 'destroy', 'lost', 'slap', 'push', 'hit', '...', 'like', 'love', 'pull', 'affect', 'brave', 'courag', 'sister', '...', 'passion', 'aim', 'love', 'affect', 'entrepreneur', '...', 'loser', 'winner', 'procrastin', 'lover', 'lazi', '...', 'exerci', 'lose', 'fat', 'decrea', 'calori', 'fit', 'gym', 'dur', '...', 'time', 'wast', 'continu', 'work', 'wast', 'place', 'wast', '...', 'fit', 'bodi', 'fit', 'gym', 'bodi', 'bodi', 'builder', 'lover', 'f', '...', 'rest', 'heart', 'healthi', 'alert', 'improv', 'memori', 'reduc', '...', 'time', 'wast', 'dumb', 'accid', 'less', 'attent', '...', 'death', 'uneasi', 'less', 'attent', 'heart', 'disea', 'irr', '...', 'get', 'thing', 'done', 'time', 'accomplish', 'go', '...', 'rush', 'abl', 'complet', 'task', '...', 'focu', 'specif', 'detail', 'stop', ',', 'listen', ',', '...', 'lack', 'movement', 'hypnot', 'mind', 'lack', '...', 'get', 'task', 'done', 'ontim', 'make', 'mistak', '...', 'listen', 'reason', 'put', 'good', 'smile', '...', 'feel', 'better', 'let', 'steam', 'let', 'str', '...', 'go', 'overboard', 'get', 'hurt', 'develop', 'heart', '...', 'stretch', 'bodi', 'good', 'run', 'shoe', 'comfortab', '...', 'get', 'rest', 'regul', 'blood', 'sugar', 'level', '...', 'overtir', 'depress', 'higher', 'risk', 'diab', '...', 'find', 'comfort', 'place', 'lay', 'musi', '...', 'get', 'thing', 'done', 'movement', 'better', 'tha', '...', 'done', 'wrongli', 'rush', 'much', '...', 'mind', 'open', 'moral', 'plan', 'brave', 'ha', '...', \"'re\", 'look', 'lazi', 'risk', 'disea', '...', 'look', 'like', 'fool', 'noth', 'get', 'done', '...', 'sleep', 'low', 'energi', 'confu', 'bad', 'f', '...', 'healthi', 'use', 'potenti', 'mobil', '...', 'hurt', 'feel', 'tire', '...', 'mindset', 'good', 'start', 'plan', 'skinn', '...', 'rest', 'energi', 'afterward', 'immun', 'system', 'better', '...', 'sleep', 'long', 'miss', 'apoint', '...', 'tire', 'relax', 'prior', 'sleep', 'aid', 'sometim', '...', 'effect', 'product', 'experi', 'soft', 'ski', '...', 'emot', 'difficulti', 'problem', 'solut', 'irrita', '...', 'make', 'plan', 'measur', 'take', 'action', 'consid', '...', 'lazi', 'sleep', 'meaningless', 'life', 'bad', 'irresponsib', '...', 'lazi', 'irrespo', 'week', 'sleep', 'ill', 'ten', '...', 'sleep', 'lazi', 'lie', 'feel', 'relax', 'joy', 'happi', '...', 'burn', 'colori', 'strength', 'muscl', 'strength', 'genera', '...', 'damag', 'bear', 'joint', 'increa', 'risk', 'heart', '...', 'plan', 'get', 'mot', 'consid', 'club', 'gait', '...', 'prevent', 'cancer', 'heart', 'healthi', 'reduc', 'stress', 'red', '...', 'depress', 'increa', 'inflam', 'increa', 'pai', '...', 'increa', 'bright', 'light', 'reduc', 'blue', 'light', '...', 'motiv', 'build', 'object', 'present', 'commun', '...', 'cool', 'learn', 'space', 'heat', 'leav', 'learn', 'speen', 'piec', 'good', 'bye', 'love', 'availab', 'carrier', 'gave', 'give', 'space', 'good', 'good', 'good', 'good', 'good', 'good', 'good', 'good', 'good', 'good', 'good', 'good', 'good', 'good', 'good', 'good', 'good', 'good', 'good', 'good', 'good', 'good', 'good', 'good', 'good', 'good', 'good', 'good', 'good', 'good', 'good', 'good', 'slow', 'slow', 'slow', 'slow', 'slow', 'slow', 'slow', 'slow', 'good', 'good', 'good', 'good', 'good', 'good', 'good', 'good', 'good', 'good', 'good', 'good', 'good', 'good', 'good', 'good', 'good', 'good', 'good', 'good', 'good', 'good', 'good', 'good', 'good', 'good', 'good', 'good', 'good', 'good', 'good', 'good', 'creat', 'ownership', 'peopl', 'involv', 'devel', '...', 'consid', 'suitabl', 'given', 'stu', '...', 'believ', 'true', 'futur', '...', 'get', 'clue', 'constitut', 'action', 'inact', '...', 'without', 'desir', 'feel', 'oppress', 'issu', '...', 'know', 'realli', 'understood', ',', 'w', '...', 'mind', 'relax', 'decrea', 'symptom', 'depress', 'de', '...', 'increa', 'risk', 'heart', 'attack', 'potenti', 'b', '...', 'increa', 'endur', ',', 'build', 'muscl', 'maintain', '...', 'healthi', 'better', 'regul', 'blood', 'sugar', 'level', 'im', '...', 'short', 'temper', 'diabet', 'obe', 'headach', 'back', 'p', '...', 'cognit', 'impair', 'irrit', 'delu', '...', 'interact', 'form', 'field', 'space', ',', 'ent', '...', 'click', 'download', 'copi', '...', 'write', 'info', '...', 'form', 'also', 'print', ',', 'either', 'blank', '...', 'interact', 'form', 'field', ',', 'space', ',', '...', 'coercion', 'public', 'punish', ',', 'fie', '...', 'none', 'type', 'form', 'request', 'servic', '...', 'benefit', 'run', '?', 'physic', 'ben', '...', 'go', 'run', 'fashion', 'sport', 'mo', '...', 'guid', 'start', 'run', 'scratch', 'di', '...', 'addit', 'great', 'pleasur', ',', 'sleepin', '...', 'consequ', 'littl', 'sleep', '?', '...', '...', 'sleep', 'becom', 'fundament', 'issu', '...', 'good', 'good', 'good', 'good', '...', 'good', 'good', 'good', '...', 'good', 'good', 'good', '...', 'good', 'good', 'good', 'good', '...', 'good', 'good', 'good', '...', 'good', 'good', 'good', '...', 'good', 'good', 'good', '...', 'good', 'good', 'good', '...', 'good', 'good', 'good', '...', 'good', 'good', 'good', '...', 'good', 'good', 'good', '...', 'good', 'good', 'good', '...', 'eat', 'drink', 'play', 'sleep', 'roam', 'swi', '...', 'sad', 'depress', 'dull', 'sweat', 'lazi', 'tire', 'bad', 'well', 'terribl', 'honour', 'clever', 'knowledg', 'gain', 'lost', 'swi', '...', 'swap', 'passion', 'wipe', 'seiz', 'well', 'disappoint', 'plea', '...', 'ca', \"n't\", 'digest', 'terribl', 'dishonour', 'nice', 'discomfor', '...', \"n't\", 'worst', 'bagon', 'best', 'gather', '...', 'fit', 'healthi', 'weight-loss', 'diet', 'good', 'swea', '...', 'sweat', 'discomfort', 'dull', 'dirti', 'wor', 'pain', 'notic', '...', 'energi', 'well', 'good', 'freak', 'wisher', 'passion', 'best', 'fine', 'good', 'fine', 'worri', 'best', 'super', 'feel', 'rest', 'soul', 'lazi', 'wor', 'good', 'even', 'one', 'one', '...', 'none', 'none', 'none', 'none', 'none', 'none', 'none', 'none', 'feel', 'good', 'satisfi', '...', 'cau', 'harm', 'draw', 'attent', '...', 'abl', 'think', '...', 'claim', \"n't\", '!', 'f', '...', 'might', 'troubl', 'act', 'wou', '...', 'certain', 'amount', 'stabil', 'plenti', 'food', 'p', '...', 'health', 'better', 'cardiovascular', 'system', 'look', 'bett', '...', 'injuri', 'hurt', 'achil', 'repetit', 'stre', '...', 'good', 'sport', 'bra', 'good', 'shoe', 'safe', 'place', 'okay', 'wea', '...', 'best', 'rest', 'mental', 'well', 'h', '...', 'lost', 'time', 'bad', 'dream', 'unsaf', \"n't\", 'know', 'what', 'h', '...', 'safe', 'place', 'tire', 'dark', 'good', 'temp', 'control', '...', 'get', 'good', 'join', 'core', 'field', 'settl', 'wea', '...', 'ride', 'dream', 'bike', 'go', 'tour', 'spend', 'fam', '...', 'miss', 'school', 'life', 'miss', 'school', 'friend', 'mi', '...', 'hate', 'privat', 'job', 'low', 'amount', 'h', '...', 'mesmeri', 'got', 'angri', 'long', 'frie', '...', 'like', 'buy', 'dream', 'car', 'like', 'drive', '...', 'good', 'health', 'fit', 'mind', 'fresh', 'bodi', 'wealth', '...', 'nil', 'good', 'health', 'nil', 'nil', 'nil', 'nil', 'nil', 'nil', 'good', 'action', 'great', 'health', 'good', 'bodi', 'condit', 'g', '...', 'good', 'health', 'great', 'wealth', 'good', 'mine', 'good', 'f', '...', 'anytim', 'think', 'cau', 'headach', 'affect', 'health', '...', 'nil', 'nil', 'nil', 'nil', 'nil', 'nil', 'nil', 'nil', 'work', 'love', 'experi', 'run', 'swim', 'write', 'danc', 'speak', 'sad', 'work', 'fuck', 'suck', 'look', 'book', 'read', 'write', 'book', 'write', 'wrote', 'stusi', 'danc', 'type', 'stay', 'act', 'work', 'work', 'work', 'work', 'work', 'work', 'work', 'work', 'work', 'work', 'work', 'work', 'work', 'work', 'work', 'work', 'work', 'work', 'work', 'work', 'work', 'work', 'work', 'work', 'work', 'work', 'work', 'work', 'work', 'work', 'work', 'work', 'work', 'work', 'work', 'work', 'work', 'work', 'work', 'work', 'work', 'work', 'work', 'work', 'work', 'work', 'work', 'work', 'work', 'work', 'work', 'work', 'work', 'work', 'work', 'work', 'work', 'work', 'work', 'work', 'work', 'work', 'work', 'work', 'work', 'work', 'work', 'work', 'work', 'work', 'work', 'work', 'chang', 'thing', 'real', 'world', 'improv', 'ps', '...', 'live', 'regret', 'feel', 'helpless', 'lose', '...', 'motiv', 'strength', 'charact', 'desir', 'cha', '...', 'becom', 'target', 'expo', 'oneself', '...', 'achiev', 'goal', 'lose', 'life', 'hav', '...', 'apathi', 'listless', 'indiff', 'uninvolv', 'fe', '...', 'strong', 'leg', 'tone', 'physiqu', 'cardiovascular', 'heal', '...', 'injuri', 'feet', '-exert', 'excess', 'weigh', '...', 'place', 'run', 'good', 'leg', 'endur', 'good', 'shoe', '...', 'good', 'physic', 'health', 'good', 'mental', 'health', 'feeli', '...', 'potenti', 'achiev', 'less', 'feel', 'left', '...', 'tire', 'bed', 'hou', 'turnin', '...', 'enhanc', 'person', 'effect', 'productivit', '...', 'time', 'consum', '.', 'difficulti', 'plan', 'clo', '...', 'confid', 'self', 'esteem', 'action', 'list', 'forc', '...', 'econom', 'social', 'benefit', 'climat', 'inform', '...', 'gain', 'result', 'favour', 'econom', 'loss', '...', 'noth', 'oyu', 'know', 'depend', 'someon', '...', 'strengthen', 'muscl', '.', 'help', 'build', 'strong', 'bone', '...', 'increa', 'risk', 'heart', 'attack', '.', '...', 'potenti', '...', 'run', 'earli', 'morn', 'eat', 'healthi', 'increa', '...', 'sleep', 'keep', 'heart', 'healthi', '.', '...', 'may', 'help', 'p', '...', 'cognit', 'impair', '.', 'depress', '.', 'increa', '...', 'eat', 'eat', 'proper', 'time', 'dont', 'use', 'cell', 'phon', '...', 'better', 'health', 'make', 'chang', 'proactiv', '...', 'fear', 'impul', 'unnecessari', 'chang', 'disconten', '...', 'good', 'health', 'energi', 'motiv', 'bold', 'cl', '...', 'stagnat', 'live', 'past', 'smolder', 'depr', '...', 'fear', 'anxieti', 'depress', 'chang', 'progr', '...', 'fear', 'anger', 'financ', 'insecur', 'fear', 'embarr', '...', 'better', 'health', 'better', 'fit', 'increa', 'energi', '...', 'exhaust', 'muscl', 'pain', 'strain', 'tire', 'burnou', '...', 'good', 'health', 'over', 'good', 'outlook', 'drive', 'determ', '...', 'better', 'mood', 'better', 'health', 'energi', 'cal', '...', 'depress', 'bad', 'habit', 'addict', 'anxieti', 'sadn', '...', 'relax', 'tea', 'sooth', 'music', 'silenc', 'patienc', '...', 'bad', 'import', 'wast', 'time', '...', 'reduc', 'time', 'reduc', 'stress', 'alt', '...', 'alon', 'wast', 'time', 'good', 'childr', '...', 'ok', 'nice', 'none', 'sad', 'angri', 'fun', 'excel', 'excit', \"n't\", 'know', 'ok', 'excel', 'import', '...', 'ok', 'good', 'ok', 'bad', 'ok', 'ok', 'ok', 'ok', 'k', 'k', 'k', 'k', 'k', 'k', 'k', 'k', 'much', \"n't\", 'time', 'answer', '...', 'k', 'k', 'k', 'k', 'k', 'k', 'k', 'k', 'k', 'k', 'k', 'k', 'k', 'k', 'k', 'k', 'ujj', 'yh', 'f', 'gg', 'f', 'tf', 'g', 'f', 'h', 'h', 'g', 'r', 'g', 'get', 'healthi', 'get', 'thing', 'done', 'stay', '...', 'lose', 'time', 'becom', 'overtir', 'becom', 'overwo', '...', 'need', 'motiv', 'need', 'w', '...', 'get', 'enough', 'rest', 'time', 'famili', '...', 'gain', 'weight', 'get', 'bore', 'life', 'get', '...', 'need', 'stay', 'still', 'need', 'environ', '...', 'healthier', 'lose', 'weight', 'endu', '...', 'get', 'hurt', 'give', 'start', 'b', '...', 'motiv', 'right', 'shoe', 'certain', 'cloth', 'tim', '...', 'becom', 'healthi', 'energi', 'day', 'let', '...', 'sleep', 'much', 'feel', 'groggi', 'get', 'heada', '...', 'right', 'environ', 'bed', 'pillow', 'blanket', 'bein', '...', 'health', 'excit', 'progress', 'movement', 'adventur', '...', 'exhaust', 'risk', 'pain', 'wrong', 'deci', 'failur', 'sh', '...', 'mindset', 'financ', 'strength', 'emot', 'passion', 'dedi', '...', 'rest', 'saniti', 'lack', 'respon', 'wrong', 'c', '...', 'ownership', 'reward', 'benefit', 'glori', 'n', '...', 'fear', 'lack', 'skill', 'lack', 'intellig', 'lack', '...', 'strenth', 'weight', 'loss', 'bone', 'growth', 'mental', 'saniti', '...', 'pain', 'injuri', 'exhaust', 'tire', 'expen', 'sneak', '...', 'health', 'sneaker', 'mental', 'strength', 'good', 'form', 'dedi', '...', 'rest', 'heal', 'mental', 'relax', 'muscl', 'repair', 'p', '...', 'risk', 'diabet', 'heart', 'disea', 'stroke', 'less', 'pro', '...', 'bed', 'tire', 'pillow', 'sheet', 'cool', 'temperatur', 'desir', '...', 'tri', 'new', 'thing', \"n't\", 'stay', 'stuck', 'yo', '...', 'hard', 'take', 'work', 'may', 'choo', 'wrong', '...', 'forc', 'power', 'resourc', 'persev', 'disc', '...', 'may', 'get', 'wor', 'less', 'effort', 'take', 'less', 'time', '...', 'less', 'growth', 'ca', \"n't\", 'move', 'forward', 'thing', 'may', 'get', '...', 'boredom', 'stress', 'overwhelm', 'forc', 'fe', '...', 'get', 'away', 'good', 'health', 'muscular', 'lose', 'weight', '...', 'hard', 'joint', 'injuri', 'take', 'time', 'loo', '...', 'muscl', 'joint', 'movement', 'feet', 'leg', 'strength', 'lun', '...', 'energi', 'alert', 'better', 'cognit', 'better', '...', 'take', 'time', 'social', 'get', 'less', 'done', 'might', '...', 'circadian', 'rythmn', 'sunlight', 'dark', 'quiet', 'mela', '...', 'health', 'learn', 'defen', 'accomplish', 'conduct', '...', 'war', 'poverti', 'sick', 'death', 'disast', 'accid', '...', 'brain', 'intellig', 'intent', 'accid', 'natur', '...', 'rest', 'relax', 'think', 'medit', 'ponderin', '...', 'lazi', 'inact', 'stale', 'mental', 'loss', 'unhealthi', 'sore', '...', 'imagin', 'forc', 'intent', 'lazi', 'mindless', '...', 'health', 'tone', 'mood', 'destress', 'strength', 'muscl', 'frie', '...', 'breath', 'heart', 'attack', 'foot', 'problem', 'shin', 'spli', '...', 'healthi', 'shoe', 'locat', 'warmup', 'cloth', 'enduran', '...', 'rest', 'beauti', 'destress', 'repair', 'calm', 'energ', '...', 'groggi', 'headach', 'nightmar', 'sleep', 'apena', 'bad', 'mat', '...', 'bed', 'pillow', 'temperatur', 'dark', 'silenc', 'tire', 'cal', '...', 'get', 'someth', 'done', 'produc', 'result', 'better', '...', 'make', 'mistak', 'help', 'detriment', '...', 'initi', 'motiv', 'good', 'intent', 'competen', '...', \"n't\", 'expend', 'energi', 'lazi', \"n't\", '...', 'lazi', 'peopl', \"n't\", 'respect', '...', 'lazi', 'motiv', 'compet', \"n't\", 'car', '...', 'cardio', 'health', 'heart', 'health', 'better', 'fit', 'good', '...', 'could', 'injur', 'hurt', 'knee', 'heart', '...', 'determin', 'fit', 'want', 'motiva', '...', 'mental', 'clariti', 'restor', 'bodi', 'good', 'r', '...', 'miss', 'event', 'ca', \"n't\", 'work', 'sleep', 'missi', '...', 'quiet', 'room', 'comfi', 'bed', 'cool', 'room', 'black', 'curta', '...', 'abil', 'get', 'someth', 'accomplish', 'stag', '...', 'reject', 'possibl', 'harm', 'bad', 'repercuss', 'mig', '...', 'initi', 'move', 'write', 'voic', 'get', '...', 'safe', 'comfort', 'zone', 'routin', 'opinion', 'made', 'yo', '...', 'complac', 'dont', 'get', 'voic', 'opinion', 'cant', '...', 'noth', 'dont', 'speak', 'dont', 'move', 'let', 'thing', 'pa', '...', 'healthi', 'get', 'shape', 'lazi', 'complac', '...', 'hurt', 'physic', 'hurt', 'mental', 'hurt', 'relationshi', '...', 'move', 'get', 'shoe', 'cloth', 'somewh', 'r', '...', 'rest', 'repair', 'good', 'physic', 'good', 'mental', 'good', '...', 'wast', 'time', 'lazi', 'unhealthi', 'hurt', 'physic', 'hur', '...', 'lay', 'close', 'eye', 'time', 'bed', 'surfac', 'l', '...', 'advantag', 'read', 'instruct', '...', 'consequ', 'impul', 'stress', 'self', 'doubt', '...', 'brain', 'synap', 'deci', 'make', 'reason', 'self', '...', 'risk', 'loss', 'risk', 'injuri', 'peac', 'str', '...', 'loss', 'person', 'growth', 'loss', 'emot', 'grow', '...', 'low', 'self', 'esteem', 'anxieti', 'fear', 'depress', 'unwil', '...', 'runner', \"'s\", 'high', 'real', '!', 'weight', 'loss', 'stamina', 'phi', '...', 'stress', 'knee', 'stress', 'gi', 'system', '...', 'deci', 'start', 'run', 'physic', 'threat', '...', 'rest', 'brain', 'rest', 'bodi', 'allow', '...', 'vulner', 'outsid', 'world', 'loss', 'tim', '...', 'tire', 'abl', 'relea', 'bodi', 'tension', '...', 'inform', 'help', 'relax', 'lea', '...', 'wast', 'time', 'take', 'day', '...', 'person', 'commit', 'technolog', 'tell', '...', 'less', 'work', 'part', \"'s\", 'big', '...', 'noth', 'chang', 'reflect', 'mean', '...', 'thing', 'alway', 'ignor', 'pr', '...', 'healthi', 'feel', 'good', 'sen', 'ac', '...', 'hard', 'knee', 'danger', 'de', '...', 'place', 'run', 'desir', 'run', 'good', 'pair', '...', 'need', 'live', 'refresh', '...', 'thing', 'enough', 'time', '...', 'need', 'comfort', 'need', 'feel', '...', 'act', 'help', 'overcom', 'lazi', 'action', 'allo', '...', 'action', 'take', 'time', 'action', 'requir', 'commitm', '...', 'take', 'willpow', 'take', 'money', 'take', 'fre', '...', 'lazi', 'leisur', 'comfort', 'life', 'slow', '...', 'bodi', 'age', 'faster', 'get', 'fat', 'increa', 'cho', '...', 'littl', 'imagin', 'littl', 'money', 'littl', 'health', '...', 'muscl', 'becom', 'stronger', 'increa', 'serotoni', '...', 'spine', 'problem', 'knee', 'problem', 'race', 'addi', '...', 'athlet', 'prepar', 'proper', 'shoe', 'free', 'time', 'co', '...', 'recharg', 'energi', 'rest', 'brain', 'rest', '...', 'take', 'away', 'time', 'activ', 'distract', '...', 'time', 'bed', 'comfort', 'sofa', 'tire', '...', 'critic', 'one', 'action', 'situat', 'whi', '...', 'take', 'action', 'correct', 'time', 'bad', '...', 'action', 'possibl', 'time', 'creat', 'action', 'corr', '...', 'good', 'great', 'correct', 'right', 'surpri', 'great', 'deal', '...', 'bad', 'adventuar', 'difficult', 'danger', 'accept', 'f', '...', 'quick', 'easi', 'happi', 'gather', 'oppurtun', 'help', 'b', '...', 'good', 'exerci', 'great', 'wonder', 'best', 'happi', 'mo', '...', 'good', 'exerci', 'reduc', 'obe', 'make', 'man', 'perfec', '...', 'free', 'dream', 'fresh', 'keep', 'man', 'perfect', 'gather', 'man', '...', 'unfr', 'unfr', 'unfr', 'unfr', 'unfr', 'unfr', 'unfr', '...', 'rest', 'rest', 'rest', 'rest', 'rest', 'rest', 'rest', 'rest', 'work', 'field', 'tabl', 'happi', 'behavoiur', 'happi', 'statifi', '...', 'happi', 'want', 'field', 'could', 'cloudi', 'write', 'fill', 'happi', 'hi', 'want', 'see', 'happi', 'thing', 'happi', 'see', 'field', 'thing', 'bag', 'thing', 'live', 'happi', 'seee', 'thing', 'world', 'thing', 'good', 'heart', 'reduc', 'cholestrol', 'reduc', 'th', '...', 'sudden', 'heart', 'attack', 'leg', 'pain', 'heart', 'pain', '...', 'good', 'heart', 'whole', 'bodi', 'full', 'bodi', 'rest', 'bresk', 'activ', '...', 'high', 'chloestrol', 'weight', 'increa', 'dull', 'day', 'u', '...', 'work', 'possibl', 'accomplish', 'achiev', 'get', 'chore', 'done', '...', 'enough', 'time', 'inner', 'reflect', 'lack', 'c', '...', 'motiv', 'energi', 'drive', 'time', 'distract', 'g', '...', 'lack', 'self-esteem', 'feel', 'stuck', 'depress', 'l', '...', 'feel', 'helpless', 'move', 'forward', 'life', 'la', '...', 'fear', 'failur', 'depress', 'afraid', 'mov', '...', 'increa', 'heart', 'rate', 'increa', 'circul', 'good', '...', 'physic', 'injuri', 'raini', 'weather', 'time', 'consum', '...', 'motiv', 'energi', 'stamina', 'good', 'health', 'time', 'goo', '...', 'rejuvin', 'clear', 'head', 'energi', 'dream', '...', 'lazi', 'motiv', 'accomplish', 'enoug', '...', 'comfort', 'good', 'bed', 'good', 'pillow', 'warm', 'c', '...', 'get', 'someth', 'done', 'get', 'exerci', 'lose', '...', 'much', '-', 'get', 'tire', 'much', '-', 'get', 'hurt', '...', 'determin', 'energi', 'time', 'patienc', 'money', 'luck', '...', 'wont', \"'\", 'get', 'tire', 'whatev', 'want', 'avoid', '...', 'call', 'lazi', 'get', 'enough', 'done', '...', 'depress', 'anxieti', 'panic', 'lazi', 'much', 'wor', '...', 'exerci', 'supposedli', 'get', 'healthier', 'strength', '...', 'high', 'impact', 'exerci', 'wear', 'tear', 'joi', '...', 'high', 'toler', 'pain', 'care', 'h', '...', 'less', 'tire', 'less', 'stress', 'studi', 'show', 'help', '...', 'wast', 'time', 'could', 'thi', '...', 'tire', 'comfort', 'bed', 'pillow', 'blanket', 'quiet', 'da', '...', 'healthi', 'excit', 'fun', 'friendli', 'eager', 'enthusiast', '...', 'tire', 'sleepi', 'enthusiast', 'exhaust', 'drain', 'wear', '...', 'act', 'move', 'run', 'work', 'activ', 'energet', 'spirit', 'sp', '...', 'rest', 'relax', 'nap', 'loosen', 'unbend', 'unwind', 'decrea', '...', 'fat', 'fat', 'grea', 'larg', 'chubbi', 'sleepi', 'ineffec', '...', 'lazi', 'idl', 'inact', 'slow', 'heavi', 'dull', 'lifeless', '...', 'strengthen', 'muscl', 'burn', 'calori', 'stay', 'fit', 'build', '...', 'sun', 'exposur', 'impact', 'ankl', 'possibl', 'injuri', 'b', '...', 'get', 'hou', 'action', 'strong', 'mental', '...', 'keep', 'healthi', 'prevent', 'cancer', 'reduc', 'stress', '...', 'back', 'pain', 'headach', 'make', 'lazi', 'depress', 'hi', '...', 'calm', 'mood', 'comfort', 'set', 'good', 'mood', '...', 'get', 'exerci', 'thing', 'get', 'done', 'peopl', 'sa', '...', 'someon', 'get', 'hurt', 'someon', 'get', 'discrimin', '...', 'take', 'movement', 'get', 'bed', 'turn', '...', 'rest', 'wo', \"n't\", 'get', 'caught', 'fight', 'eat', \"n't\", 'pro', '...', 'lazi', 'work', 'done', 'someon', 'die', 'accid', '...', 'lack', 'lack', 'tri', 'fear', 'worri', 'timid', '...', 'health', 'muscl', 'digest', 'system', 'natur', 'run', '...', 'injur', 'self', 'bad', 'heart', 'issu', 'tire', 'sweat', 'h', '...', 'willpow', 'run', 'shoe', 'park', 'run', 'pa', '...', 'brain', 'repair', 'rest', 'recharg', 'bed', 'break', 'ha', '...', 'oversleep', 'hard', 'get', 'miss', 'someth', 'alarm', '...', 'pajama', 'tea', 'turn', 'phone', 'mobil', 'devi', '...', 'get', 'ahead', 'succeed', '...', 'lose', 'someth', 'valuabl', '...', 'energi', 'willpow', 'determin', 'persev', '...', 'regret', 'misgiv', 'shame', 'anger', '...', 'remain', 'stagnant', 'never', 'get', 'ahead', 'stuck', '...', 'loss', 'control', 'loss', 'confid', 'loss', 'se', '...', 'health', 'strength', 'vital', 'energi', 'rejuven', '...', 'tire', 'overwork', 'pain', 'deplet', 'ach', 'lack', '...', 'inspir', 'willpow', 'confid', 'determinatio', '...', 'rest', 'health', 'vital', 'rejuven', 'well', 'rest', '...', 'oversleep', 'tire', 'fatigu', 'lazi', 'bore', '...', 'make', 'schedul', 'make', 'plan', 'time', 'everi', 'n', '...', 'make', 'posit', 'chang', 'get', 'thing', 'done', 'mak', '...', 'take', 'work', 'tire', 'anxieti', 'invoki', '...', 'mental', 'clariti', 'intern', 'motiv', 'set', 'goa', '...', \"n't\", 'take', 'effort', 'tire', 'thing', '...', \"n't\", 'get', 'thing', 'done', \"n't\", 'move', 'forward', 'li', '...', 'enabl', 'enough', 'money', 'unmotiv', '...', 'energi', 'physic', 'activ', 'posit', 'mood', 'good', 'fo', '...', 'get', 'injur', 'get', 'hit', 'car', 'must', 'buy', '...', 'motiv', 'treadmil', 'street', 'run', 'run', '...', 'function', 'better', 'next', 'day', 'dream', 'f', '...', 'never', 'enough', 'time', 'hard', 'fall', 'asleep', 'sometim', '...', 'tire', 'sometim', 'sleep', 'pill', 'relaxati', '...', 'inact', 'tend', 'reinforc', 'action', 'incr', '...', 'action', 'unintend', 'consequ', 'unthought', '...', 'physic', 'freedom', 'intellectu', 'freedom', 'self', 'con', '...', 'respon', 'outcom', 'physic', 'saf', '...', 'feel', 'helpless', 'lack', 'motiv', 'pow', '...', 'sometim', 'quiet', 'best', 'addit', '...', 'escap', 'danger', 'keep', 'fit', 'dopamin', 'manag', 'weight', '...', 'shin', 'splint', 'foot', 'injuri', 'bore', 'expen', '...', 'safe', 'place', 'run', 'time', 'good', 'feet', 'physic', 'abil', '...', 'dream', 'reset', 'brain', 'rejuven', 'bodi', 'w', '...', 'enough', 'time', 'import', 'thing', 'happen', '...', 'time', 'calm', 'lack', 'stress', 'blanket', 'stranger', '...', 'gain', 'someth', 'complet', 'someth', 'move', 'towa', '...', 'thing', 'happen', 'quick', 'think', 'thr', '...', 'person', 'listen', 'analyz', 'think', 'plannin', '...', 'chang', 'thing', 'stay', 'easi', \"n't\", 'hav', '...', 'thing', 'never', 'chang', 'cau', 'minor', 'problem', 'g', '...', 'drive', 'desir', 'like', 'way', 'thing', 'laz', '...', 'health', 'cardio', 'lung', 'heart', 'weight', 'look', 'blood', 'p', '...', 'knee', 'pain', 'ankl', 'pain', 'shin', 'splint', 'toe', 'problem', '...', 'shoe', 'cloth', 'healthi', 'heart', 'health', 'lung', 'kn', '...', 'rest', 'reenerg', 'repair', 'feel', 'better', 'help', '...', 'bed', 'sore', 'rash', 'bed', 'bug', 'flea', 'dirti', 'sheet', '...', 'bed', 'pillow', 'sheet', 'blanket', 'right', 'temperatur', '...', 'get', 'faster', 'result', 'action', 'get', 'faster', 'resu', '...', 'action', 'could', 'cau', 'disast', 'action', 'could', 'lea', '...', 'quick', 'think', 'reason', 'outcom', 'good', '...', 'think', 'action', 'slower', 'time', '...', 'could', 'lose', 'good', 'thing', 'could', 'produc', '...', 'unwi', 'think', 'slow', 'behavior', 'action', 'taken', '...', 'good', 'heart', 'health', 'good', 'lung', 'health', 'healthi', 'leg', '...', 'difficult', 'peopl', 'hard', 'leg', '...', 'good', 'heart', 'condit', 'good', 'lung', 'condit', 'healt', '...', 'better', 'health', 'better', 'brain', 'health', 'energi', 'e', '...', 'time', 'get', 'work', 'done', 'sleep', 'much', 'ha', '...', 'good', 'mattress', 'good', 'bed', 'sheet', 'quiet', 'room', 'sc', '...', 'speed', 'money', 'time', 'travel', 'saftey', 'attent', '...', 'adjust', 'save', 'counter', 'best', 'network', '...', 'strength', 'stamima', 'proccess', 'configurati', '...', 'gain', 'insent', 'peopl', 'gross', 'feild', 'heart', 'adv', '...', 'loss', 'pressur', 'fear', 'friction', 'distrat', 'failu', '...', 'hope', 'clariti', 'gain', 'take', 'speed', 'gear', 'food', 'manag', 'loss', 'pressur', 'spear', 'hemerg', 'corrupt', 'da', '...', 'loss', 'gain', 'failur', 'money', 'time', 'incestmemt', 'pre', '...', 'hope', 'love', 'destini', 'dam', 'dammag', 'get', 'confid', '...', 'time', 'money', 'pain', 'dream', 'headach', 'ratchet', 'ugl', '...', 'crust', 'pain', 'hope', 'joy', 'handl', 'tune', 'flow', 'long', 'drink', 'sex', 'food', 'good', 'vibe', 'comfi', 'joy', 'sala', 'action', 'result', 'outcom', 'result', 'occur', 'chan', '...', 'outcom', 'unknown', 'chang', 'alway', 'goo', '...', 'energi', 'movement', 'thought', 'coordin', 'cognitio', '...', 'variabl', 'remain', 'constant', \"n't\", 'need', 'w', '...', 'chang', 'occur', 'without', 'problem', 'ge', '...', 'ignor', 'will', 'neglig', 'misunderstandin', '...', 'heart', 'rate', 'increa', 'build', 'lean', 'muscl', 'creat', '...', 'limit', 'energi', 'abil', 'g', '...', 'need', 'healthi', 'heart', 'need', 'healthi', 'p', '...', 'feel', 'rest', 'reduc', 'stress', 'make', 'feel', '...', 'take', 'time', \"'re\", 'unproduct', 'sta', '...', 'typic', 'eye', 'must', 'close', \"'re\", '...', 'action', 'cau', 'progress', 'social', 'issu', 'thr', '...', 'action', 'lead', 'failur', 'action', 'lead', '...', 'desir', 'drive', 'energi', 'imagin', 'goal', 'com', '...', 'safeti', 'danger', 'secur', 'statu', 'quo', 'per', '...', 'miss', 'opportun', 'statu', 'quo', 'physic', 'deter', '...', 'lack', 'desir', 'lack', '...', 'health', 'increa', 'ward', 'disea', 'weight', 'co', '...', 'physic', 'ailment', 'bodi', 'oder', 'isol', 'long', 'ter', '...', 'desir', 'run', 'desir', 'compet', 'oneself', '...', 'refresh', 'bodi', 'reset', 'natur', 'clock', '...', 'time', 'take', 'lack', 'accomplish', 'vulnerab', '...', 'quiet', 'room', 'dark', 'room', 'time', 'hunger', 'address', 'pro', '...', 'action', 'live', 'action', 'produc', 'consequ', '...', 'action', 'lead', 'bad', 'outcom', 'action', 'har', '...', 'recognit', 'action', 'requir', 'self-contr', '...', 'easier', 'safe', 'comfort', 'predict', 'known', 'cauti', '...', 'riski', 'lazi', 'clueless', 'unawar', 'selfish', 'sloth', 'u', '...', 'noth', 'steadfast', 'stubborn', 'denial', 'closed-m', '...', 'improv', 'health', 'lose', 'weight', 'lower', 'blood', 'press', '...', 'risk', 'injuri', 'heat', 'stroke', 'plantar', 'fasciti', 'co', '...', 'energi', 'shoe', 'motiv', 'stamina', 'self-control', 'w', '...', 'good', 'brain', 'improv', 'memori', 'reduc', 'diabet', '...', 'less', 'time', 'work', 'less', 'time', 'exerci', 'less', 'time', '...', 'calm', 'bed', 'nighttim', 'low', 'light', 'low', 'temperatur', 'q', '...', 'get', 'thing', 'done', 'product', 'feel', '...', 'think', 'long', 'enough', 'make', 'deci', 'ha', '...', 'think', 'time', 'initi', 'charcter', 'person', '...', 'time', 'relax', 'piec', 'mind', 'ponder', 'happi', 'c', '...', 'act', 'think', 'let', 'thing', 'pass', 'si', '...', 'lazi', 'confid', 'content', 'think', '...', 'healthi', 'get', 'somewh', 'lose', 'weight', 'feelin', '...', 'injuri', 'take', 'time', \"'s\", 'hard', \"'s\", 'fun', '...', 'initi', 'time', 'athlet', 'abil', 'stand', '...', 'get', 'rechach', 'get', 'rest', 'feel', 'fresh', 'f', '...', 'lose', 'time', 'nightmar', 'tire', 'wake', 'mi', '...', 'relax', 'comfort', 'time', 'piec', 'mind', 'bed', 'pi', '...', 'feel', 'like', 'control', 'make', '...', 'take', 'time', 'take', 'money', 'peopl', '...', 'feel', 'compel', 'take', 'action', '...', 'dont', 'chang', 'dont', 'sacri', '...', 'noth', 'chang', 'good', 'loo', 'vo', '...', 'apathi', 'fear', 'lazi', 'subjeg', 'motiv', '...', 'get', 'shape', 'healthi', 'join', 'group', 'maintain', '...', 'time', 'commit', 'ach', 'injuri', 'chang', 'life', '...', 'commit', 'determin', 'small', 'goal', 'will', '...', 'help', 'loo', 'weight', 'help', 'mental', 'health', 'feel', '...', 'time', 'weigh', 'gain', 'unabl', 'control', 'dre', '...', 'dark', 'room', 'disconnect', 'electron', 'dont', 'wor', '...', 'control', 'happen', '.', 'thing', 'g', '...', 'action', 'may', 'adequ', 'plan', '.', 'mistak', '...', 'purpo', 'need', 'identifi', '.', 'impact', '...', 'think', 'better', 'way', 'thing', '.', 'peo', '...', 'problem', 'might', 'get', 'wor', '.', 'money', 'lost', '.', 'w', '...', 'nobodi', 'take', 'respon', '.', 'resourc', 'need', '...', 'improv', 'cardiovascular', 'fit', '.', '...', 'injur', 'leg', '.', 'wast', 'time', '...', 'motiv', 'proper', 'shoe', 'place', 'run', 'plan', '...', 'avoid', 'get', 'troubl', 'night', 'b', '...', 'wast', 'much', 'time', '.', 'lead', 'slothf', '...', 'comfort', 'spot', 'sleep', '.', 'tem', '...', 'move', 'forward', 'learn', 'someth', 'better', '...', 'slow', 'unproduct', 'relax', '...', 'decid', 'take', 'action', 'right', 'time', 'right', 'pl', '...', 'leisur', 'time', \"n't\", 'move', 'obliga', '...', 'miss', 'life', 'possibl', 'earn', 'mone', '...', \"n't\", 'go', 'work', 'enough', '...', 'outsid', ',', 'fresh', 'air', 'heart', 'benefit', 'less', 'possibl', '...', 'move', 'even', \"n't\", 'want', 'knee', '...', 'good', 'shoe', 'time', 'motiv', '...', 'replenish', 'heal', 'depress', 'heal', 'anxi', '...', 'waist', 'time', 'sleep', 'long', 'abl', '...', 'tire', 'enough', 'time', 'worri', 'pr', '...', 'activ', 'alert', 'knowledg', 'educ', 'moral', 'live', '...', 'death', 'bore', 'enemi', 'cheat', 'jealousi', 'envi', 'pain', 'agoni', 'energi', 'alert', 'strength', 'activ', 'live', 'knowledg', '...', 'lazi', 'slow', 'cheat', 'poor', 'boor', 'weak', 'low', 'bad', 'save', 'friend', 'sweet', 'bore', 'nice', 'suspenc', 'confu', '...', 'slow', 'poor', 'weak', 'lazi', 'slender', 'low', 'poor', 'nice', 'fast', 'train', 'stamina', 'strength', 'physiqu', 'bodi', 'b', '...', 'injuri', 'muscl', 'tear', 'pain', 'time', 'comfort', 'stress', '...', 'activ', 'strength', 'physiqu', 'bodi', 'balanc', 'alert', 'st', '...', 'rest', 'healthi', 'good', 'strong', 'relax', 'fast', 'strong', '...', 'lazi', 'weak', 'poor', 'slow', 'low', 'less', 'energert', 'bad', 'bo', '...', 'fatiqu', 'lazi', 'rest', 'stress', 'hadrwork', 'activ', 'bodi', '...', 'take', 'action', 'elicit', 'chang', '.', 'ac', '...', 'may', 'fail', 'action', 'took', '.', 'may', 'b', '...', 'somebodi', 'prime', 'mover', '.', '...', 'lose', 'physic', 'asset', '.', '...', 'may', 'what-if', 'scenario', '.', 'whatev', 'acti', '...', 'somebodi', 'think', 'take', 'action', '...', 'weight', 'loss', '.', 'qualiti', 'life', '.', 'abil', 'comp', '...', 'physic', 'injuri', 'death', 'get', 'lost', 'much', '...', 'somebodi', 'want', '.', 'somebodi', 'abl', '...', 'physic', 'regen', 'mental', 'saniti', 'fun', '...', 'take', 'time', 'accomplish', 'thing', 'may', 'ne', '...', 'conciou', 'biolog', 'need', 'tire', '...', 'result', 'progress', 'motiv', 'achiev', 'sucess', '...', 'succeed', 'fail', 'tri', 'co', '...', 'self', 'determin', 'motiv', 'goal', 'gain', '...', 'less', 'involv', 'risk', 'anyth', 'ne', '...', 'let', 'someon', 'hurt', 'someon', \"'s\", 'feel', '...', 'know', 'might', 'get', 'hurt', 'took', 'action', '...', 'health', 'lose', 'weight', 'gain', 'muscl', 'longev', '...', 'hurt', 'knee', 'might', 'lose', 'much', 'weight', 'g', '...', 'good', 'form', 'motiv', 'go', 'length', 'want', '...', 'mental', 'health', 'physic', 'health', 'reset', 'bodi', '...', 'sleep', 'much', \"n't\", 'good', 'lose', 'ti', '...', 'comfort', 'bed', 'soft', 'sheet', 'great', 'pillow', 'ca', '...', 'acquir', 'desir', '.', 'interact', 'wi', '...', 'action', 'take', 'energi', '.', 'action', 'met', 'op', '...', 'action', 'requir', 'idea', '.', 'action', 'requir', 'dec', '...', 'inact', 'prevent', 'failur', '.', 'inact', 'prevent', 'p', '...', 'one', 'ca', \"n't\", 'acquir', 'one', \"'s\", 'desir', 'inact', '.', '...', 'inact', 'requir', 'idea', '.', 'inact', 'requir', '...', 'run', 'good', 'one', \"'s\", 'over', 'health', '.', 'runn', '...', 'run', 'take', 'time', '.', 'run', 'requir', 'spend', '...', 'one', 'must', 'least', 'basic', 'knowledg', 'r', '...', 'sleep', 'restor', 'energi', '.', 'sleep', 'repair', '...', 'sleep', 'take', 'time', '.', 'sleep', 'leav', 'one', 'fe', '...', 'sleep', 'requir', 'place', 'sit', 'lie', '.', 'sle', '...', 'abl', 'get', 'exerci', 'activ', 'accomp', '...', 'becom', 'overli', 'tax', 'allow', 'bodi', '...', 'accept', 'understand', 'belief', 'movement', 'agr', '...', 'rest', 'relax', 'refresh', 'peac', 'tranquil', '...', 'loss', 'fear', 'avoid', 'selfish', 'lazi', 'welfa', '...', 'loss', 'feel', 'self', 'import', 'shame', 'care', '...', 'exerci', 'muscl', 'increa', 'heart', 'rate', 'stamina', '...', 'hurt', 'shock', 'knee', 'tiredsom', 'wind', 'damag', '...', 'action', 'support', 'stamina', 'determin', 'dedicatio', '...', 'rest', 'refresh', 'renew', 'health', 'dream', 'relaxat', '...', 'unrest', 'get', 'thing', 'done', 'inact', 'loss', '...', 'place', 'sleep', 'quiet', 'cool', 'inact', 'blanket', '...', 'good', 'good', 'good', 'good', 'good', 'good', 'good', 'good', 'bad', 'bad', 'bad', 'bad', 'bad', 'bad', 'bad', 'bad', 'happi', 'happi', 'happi', 'happi', 'happi', 'happi', 'happi', 'happi', 'interest', 'interest', 'interest', 'interestin', '...', 'bore', 'bore', 'bore', 'bore', 'bore', 'bore', 'bori', '...', 'good', 'good', 'good', 'good', 'good', 'good', 'good', 'good', 'fit', 'fit', 'fit', 'fit', 'fit', 'fitn', '...', 'tire', 'tire', 'tire', 'tire', 'tiredn', '...', 'ye', 'ye', 'ye', 'ye', 'ye', 'ye', 'ye', 'ye', 'fresh', 'fresh', 'fresh', 'fresh', 'freshn', '...', 'inact', 'inact', 'inact', 'inact', 'inact', '...', 'ye', 'ye', 'ye', 'ye', 'ye', 'ye', 'ye', 'ye', 'exit', 'joy', 'drug', 'comedi', 'sorrow', 'twi', '...', 'dri', 'money', 'dollar', 'water', 'wet', 'land', 'ground', 'hou', '...', 'reveng', 'time', 'good', 'bad', 'erecton', 'water', 'tube', 'talk', 'anger', 'comedi', 'trigger', 'field', 'hou', 'ground', 'rice', 'jug', 'tiger', 'epic', 'bill', 'rice', 'yelp', 'queen', 'king', 'liquid', 'bun', 'bread', 'jam', 'silver', '`', 'slim', 'fit', 'blood', 'circul', 'leg', 'strong', 'breath', '...', 'tile', 'hiphop', 'hill', 'tree', 'highest', 'big', 'small', 'tri', '...', 'trippl', 'mou', 'figur', 'tall', 'ginger', 'fall', 'small', 'hop', 'tyre', 'queen', 'pig', 'high', 'jug', 'green', 'hello', 'yellow', 'lazi', 'fat', 'mind', 'dead', 'low', 'blood', 'circul', 'wast', '...', 'ginger', 'green', 'yellow', 'figur', 'tall', 'violet', 'nick', '...', 'happi', 'moeni', 'time', 'joy', 'supri', 'wealth', 'food', 'f', '...', 'sad', 'fear', 'angri', 'hungri', 'lose', 'deprewss', 'knot', 'f', '...', 'thought', 'work', 'think', 'time', 'money', 'happi', 'grit', 'gut', 'noth', 'sad', 'fear', 'time', 'money', 'loniilneess', 'awe', 'spent', 'nothign', 'sad', 'fear', 'anger', 'hungri', 'loniln', '...', 'fear', 'sad', 'noth', 'empti', 'loo', 'moeni', 'tax', '...', 'loo', 'weight', 'happi', 'hope', 'good', 'posit', 'slim', 'h', '...', 'pain', 'tire', 'sad', 'hunger', 'heat', 'cold', 'time', 'money', 'money', 'shoe', 'support', 'cheer', 'time', 'tredmil', 'hope', '...', 'rest', 'happi', 'goal', 'refresh', 'relax', 'hope', 'prett', '...', 'time', 'anyth', 'sore', 'read', '...', 'bed', 'blanket', 'time', 'dark', 'cool', 'rquiet', 'free', 'night', 'fun', 'adventur', 'get', 'somethi', '...', 'much', 'make', 'tire', 'mindi', '...', 'commit', 'will', 'devot', 'dedic', '...', 'relax', 'comfort', 'mellow', 'take', '...', 'lazi', 'unimport', 'noth', 'f', '...', 'unwillingless', 'lazi', 'careless', 'immor', 'b', '...', 'exerci', 'health', 'lose', 'weight', 'gain', 'musc', '...', 'tire', 'sun', 'exposur', 'pressur', '...', 'run', 'dedic', 'run', 'shoe', 'pla', '...', 'less', 'stress', 'help', 'memori', 'lower', 'blood', 'pr', '...', 'depress', 'pain', 'risk', 'obe', 'risk', '...', 'comfort', 'bed', 'caffein', 'bed', 'peacefu', '...', 'form', 'routin', 'get', 'result', 'bodi', 'build', 'achiev', '...', 'time', 'consum', 'mistak', 'made', 'bad', 'consequ', '...', 'think', 'goal', 'set', 'plan', 'money', '...', 'rest', 'time', 'money', 'plan', 'bu', '...', 'achiev', 'fulfil', 'price', 'goal', '...', 'goal', 'plan', 'achiev', 'risk', 'threat', 'push', 'pre', '...', 'health', 'muscl', 'strenght', 'cardio', 'train', 'goal', '...', 'tire', 'sore', 'muscular', 'strain', 'muscular', 'sp', '...', 'goal', 'plan', 'health', 'threat', 'pressur', 'friend', 'imp', '...', 'rest', 'recharg', 'calm', 'destress', 'energi', 'revamp', 'heal', '...', 'bore', 'work', 'done', 'time', 'consum', 'activ', '...', 'tire', 'health', 'stress', 'busi', 'need', 'calm', '...', 'action', 'actual', 'respon', \"'s\", 'end', '...', 'start', 'endless', 'effect', '.', 'one', 'ac', '...', 'action', 'alway', 'combin', 'effect', 'small', '...', 'loss', 'energi', '.', 'chanc', 'mishap', 'zero', '.', 'r', '...', 'noth', 'get', 'done', '.', 'creat', 'confu', '.', 'inact', '...', 'previou', 'action', 'done', 'right', '.', 'energi', '...', 'faster', 'way', 'move', '.', 'fastest', 'human', 'move', '.', '...', 'get', 'tire', 'easili', '.', 'cau', 'breathless', 'ca', '...', 'walk', 'slow', 'option', '.', 'catch', 'bu', '...', 'bodi', 'get', 'rest', '.', 'repair', 'done', '.', 'readi', '...', 'wast', 'time', '.', 'cau', 'snoor', '.', '...', 'tire', '.', 'usual', 'night', 'time', 'sometim', 'sed', '...', 'learn', 'new', 'thing', 'challeng', 'new', 'thing', 'enga', '...', 'stop', 'discourag', 'feel', 'sad', 'feel', 'blue', 'medit', '...', 'plan', 'courag', 'test', 'time', 'develop', 'meet', 'hop', '...', 'cancel', 'mislead', 'stop', 'discourag', 'disappointm', '...', 'hopeless', 'cancel', 'stop', 'disappoint', 'destroy', 'close', '...', 'plan', 'order', 'call', 'stop', 'meet', 'disapporv', 'cancel', 'de', '...', 'plan', 'see', 'test', 'take', 'action', 'challeng', 'goal', 'rewar', '...', 'sick', 'hopeless', 'stop', 'dicourag', 'kick', 'cancel', 'p', '...', 'carri', 'passion', 'work', 'hard', 'set', 'goal', 'hope', 'le', '...', 'nuturin', 'relax', 'take', 'rest', 'health', 'reset', 'healin', '...', 'tire', 'wast', 'time', 'depress', 'increa', 'p', '...', 'relax', 'read', 'book', 'comfort', 'temperatur', 'c', '...', 'safeti', 'deport', 'mechan', 'technolog', 'commun', '...', 'time', 'energi', '.', 'peopl', 'seldom', 'awar', 'th', '...', 'softwar', 'design', 'growth', 'formal', 'method', '.', 'instinc', '...', 'signif', 'progress', 'made', 'pa', '...', 'balanc', 'thought', 'action', 'alway', '...', 'cost', 'inact', 'play', 'safe', 'medici', '...', 'run', 'burn', 'calori', 'exerci', '...', 'damag', 'weight-bear', 'joint', 'increa', 'risk', '...', 'run', 'remain', 'one', 'best', 'fastest', 'wa', '...', 'sleep', 'keep', 'heart', 'healthi', 'sleep', 'may', 'help', '...', 'sleepi', 'cau', 'accid', 'sleep', 'loss', 'dumb', '...', 'increa', 'bright', 'light', 'exposur', 'day', '...']"
     ]
    },
    {
     "name": "stdout",
     "output_type": "stream",
     "text": [
      "\n"
     ]
    }
   ],
   "source": [
    "from nltk.stem.wordnet import WordNetLemmatizer\n",
    "lem = WordNetLemmatizer()\n",
    "\n",
    "lemmatized_words=[]\n",
    "for q in stemmed_words:\n",
    "    lemmatized_words.append(ps.stem(q))\n",
    "print(lemmatized_words)"
   ]
  },
  {
   "cell_type": "code",
   "execution_count": 97,
   "metadata": {},
   "outputs": [
    {
     "name": "stdout",
     "output_type": "stream",
     "text": [
      "<FreqDist with 1368 samples and 5467 outcomes>\n"
     ]
    }
   ],
   "source": [
    "fdist = FreqDist(lemmatized_words)\n",
    "print(fdist)"
   ]
  },
  {
   "cell_type": "code",
   "execution_count": 98,
   "metadata": {},
   "outputs": [
    {
     "data": {
      "text/plain": [
       "[('...', 729), ('good', 208)]"
      ]
     },
     "execution_count": 98,
     "metadata": {},
     "output_type": "execute_result"
    }
   ],
   "source": [
    "fdist.most_common(2)"
   ]
  },
  {
   "cell_type": "code",
   "execution_count": 99,
   "metadata": {},
   "outputs": [
    {
     "data": {
      "image/png": "[encoded data removed]",
      "text/plain": [
       "<Figure size 432x288 with 1 Axes>"
      ]
     },
     "metadata": {
      "needs_background": "light"
     },
     "output_type": "display_data"
    }
   ],
   "source": [
    "fdist.plot(30,cumulative=False)\n",
    "plt.show(lemmatized_words)"
   ]
  },
  {
   "cell_type": "code",
   "execution_count": 100,
   "metadata": {},
   "outputs": [],
   "source": [
    "# good, work, get, health, rest\n",
    "# https://www.datacamp.com/community/tutorials/absolute-weighted-word-frequency"
   ]
  },
  {
   "cell_type": "code",
   "execution_count": 101,
   "metadata": {},
   "outputs": [],
   "source": [
    "dfaction = ldf[['Q1', 'Q6','Q13']].copy()\n",
    "dfinaction = ldf[['Q7', 'Q15','Q14']].copy()\n",
    "dfrunning = ldf[['Q8', 'Q11','Q16']].copy()\n",
    "dfsleeping = ldf[['Q10', 'Q9','Q17']].copy()"
   ]
  },
  {
   "cell_type": "code",
   "execution_count": 102,
   "metadata": {},
   "outputs": [],
   "source": [
    "textn = dfaction.to_string(index = False)\n",
    "strn = ''.join(textn)\n",
    "strn=str1.lower()"
   ]
  },
  {
   "cell_type": "code",
   "execution_count": 103,
   "metadata": {},
   "outputs": [],
   "source": [
    "text_list=['good', 'work', 'get', 'health', 'rest']"
   ]
  },
  {
   "cell_type": "code",
   "execution_count": 104,
   "metadata": {},
   "outputs": [],
   "source": [
    "from collections import defaultdict\n",
    "word_freq = defaultdict(int)\n",
    "for text in text_list:\n",
    "    for word in strn.split():\n",
    "        word_freq[word] += 1"
   ]
  },
  {
   "cell_type": "code",
   "execution_count": 105,
   "metadata": {},
   "outputs": [
    {
     "data": {
      "text/html": [
       "<div>\n",
       "<style scoped>\n",
       "    .dataframe tbody tr th:only-of-type {\n",
       "        vertical-align: middle;\n",
       "    }\n",
       "\n",
       "    .dataframe tbody tr th {\n",
       "        vertical-align: top;\n",
       "    }\n",
       "\n",
       "    .dataframe thead th {\n",
       "        text-align: right;\n",
       "    }\n",
       "</style>\n",
       "<table border=\"1\" class=\"dataframe\">\n",
       "  <thead>\n",
       "    <tr style=\"text-align: right;\">\n",
       "      <th></th>\n",
       "      <th>abs_freq</th>\n",
       "    </tr>\n",
       "  </thead>\n",
       "  <tbody>\n",
       "    <tr>\n",
       "      <th>good</th>\n",
       "      <td>975</td>\n",
       "    </tr>\n",
       "    <tr>\n",
       "      <th>to</th>\n",
       "      <td>645</td>\n",
       "    </tr>\n",
       "    <tr>\n",
       "      <th>...</th>\n",
       "      <td>580</td>\n",
       "    </tr>\n",
       "    <tr>\n",
       "      <th>you</th>\n",
       "      <td>510</td>\n",
       "    </tr>\n",
       "    <tr>\n",
       "      <th>work</th>\n",
       "      <td>480</td>\n",
       "    </tr>\n",
       "    <tr>\n",
       "      <th>time</th>\n",
       "      <td>480</td>\n",
       "    </tr>\n",
       "    <tr>\n",
       "      <th>a</th>\n",
       "      <td>400</td>\n",
       "    </tr>\n",
       "    <tr>\n",
       "      <th>of</th>\n",
       "      <td>395</td>\n",
       "    </tr>\n",
       "    <tr>\n",
       "      <th>no</th>\n",
       "      <td>360</td>\n",
       "    </tr>\n",
       "    <tr>\n",
       "      <th>not</th>\n",
       "      <td>360</td>\n",
       "    </tr>\n",
       "    <tr>\n",
       "      <th>the</th>\n",
       "      <td>315</td>\n",
       "    </tr>\n",
       "    <tr>\n",
       "      <th>can</th>\n",
       "      <td>310</td>\n",
       "    </tr>\n",
       "    <tr>\n",
       "      <th>is</th>\n",
       "      <td>305</td>\n",
       "    </tr>\n",
       "    <tr>\n",
       "      <th>be</th>\n",
       "      <td>240</td>\n",
       "    </tr>\n",
       "    <tr>\n",
       "      <th>it</th>\n",
       "      <td>235</td>\n",
       "    </tr>\n",
       "    <tr>\n",
       "      <th>health</th>\n",
       "      <td>235</td>\n",
       "    </tr>\n",
       "    <tr>\n",
       "      <th>action</th>\n",
       "      <td>210</td>\n",
       "    </tr>\n",
       "    <tr>\n",
       "      <th>have</th>\n",
       "      <td>200</td>\n",
       "    </tr>\n",
       "    <tr>\n",
       "      <th>rest</th>\n",
       "      <td>200</td>\n",
       "    </tr>\n",
       "    <tr>\n",
       "      <th>in</th>\n",
       "      <td>195</td>\n",
       "    </tr>\n",
       "    <tr>\n",
       "      <th>very</th>\n",
       "      <td>190</td>\n",
       "    </tr>\n",
       "    <tr>\n",
       "      <th>get</th>\n",
       "      <td>190</td>\n",
       "    </tr>\n",
       "    <tr>\n",
       "      <th>your</th>\n",
       "      <td>170</td>\n",
       "    </tr>\n",
       "    <tr>\n",
       "      <th>for</th>\n",
       "      <td>170</td>\n",
       "    </tr>\n",
       "    <tr>\n",
       "      <th>being</th>\n",
       "      <td>155</td>\n",
       "    </tr>\n",
       "    <tr>\n",
       "      <th>heart</th>\n",
       "      <td>155</td>\n",
       "    </tr>\n",
       "    <tr>\n",
       "      <th>energy</th>\n",
       "      <td>150</td>\n",
       "    </tr>\n",
       "    <tr>\n",
       "      <th>things</th>\n",
       "      <td>145</td>\n",
       "    </tr>\n",
       "    <tr>\n",
       "      <th>healthy</th>\n",
       "      <td>140</td>\n",
       "    </tr>\n",
       "    <tr>\n",
       "      <th>getting</th>\n",
       "      <td>140</td>\n",
       "    </tr>\n",
       "    <tr>\n",
       "      <th>...</th>\n",
       "      <td>...</td>\n",
       "    </tr>\n",
       "    <tr>\n",
       "      <th>because</th>\n",
       "      <td>5</td>\n",
       "    </tr>\n",
       "    <tr>\n",
       "      <th>cell</th>\n",
       "      <td>5</td>\n",
       "    </tr>\n",
       "    <tr>\n",
       "      <th>so...</th>\n",
       "      <td>5</td>\n",
       "    </tr>\n",
       "    <tr>\n",
       "      <th>favour</th>\n",
       "      <td>5</td>\n",
       "    </tr>\n",
       "    <tr>\n",
       "      <th>inform...</th>\n",
       "      <td>5</td>\n",
       "    </tr>\n",
       "    <tr>\n",
       "      <th>climate</th>\n",
       "      <td>5</td>\n",
       "    </tr>\n",
       "    <tr>\n",
       "      <th>forces</th>\n",
       "      <td>5</td>\n",
       "    </tr>\n",
       "    <tr>\n",
       "      <th>list</th>\n",
       "      <td>5</td>\n",
       "    </tr>\n",
       "    <tr>\n",
       "      <th>clos...</th>\n",
       "      <td>5</td>\n",
       "    </tr>\n",
       "    <tr>\n",
       "      <th>use</th>\n",
       "      <td>5</td>\n",
       "    </tr>\n",
       "    <tr>\n",
       "      <th>phon...</th>\n",
       "      <td>5</td>\n",
       "    </tr>\n",
       "    <tr>\n",
       "      <th>sadnes...</th>\n",
       "      <td>5</td>\n",
       "    </tr>\n",
       "    <tr>\n",
       "      <th>financial</th>\n",
       "      <td>5</td>\n",
       "    </tr>\n",
       "    <tr>\n",
       "      <th>addiction</th>\n",
       "      <td>5</td>\n",
       "    </tr>\n",
       "    <tr>\n",
       "      <th>habits</th>\n",
       "      <td>5</td>\n",
       "    </tr>\n",
       "    <tr>\n",
       "      <th>determ...</th>\n",
       "      <td>5</td>\n",
       "    </tr>\n",
       "    <tr>\n",
       "      <th>outlook</th>\n",
       "      <td>5</td>\n",
       "    </tr>\n",
       "    <tr>\n",
       "      <th>burnou...</th>\n",
       "      <td>5</td>\n",
       "    </tr>\n",
       "    <tr>\n",
       "      <th>embarr...</th>\n",
       "      <td>5</td>\n",
       "    </tr>\n",
       "    <tr>\n",
       "      <th>insecurity</th>\n",
       "      <td>5</td>\n",
       "    </tr>\n",
       "    <tr>\n",
       "      <th>progre...</th>\n",
       "      <td>5</td>\n",
       "    </tr>\n",
       "    <tr>\n",
       "      <th>proactive</th>\n",
       "      <td>5</td>\n",
       "    </tr>\n",
       "    <tr>\n",
       "      <th>depre...</th>\n",
       "      <td>5</td>\n",
       "    </tr>\n",
       "    <tr>\n",
       "      <th>smoldering</th>\n",
       "      <td>5</td>\n",
       "    </tr>\n",
       "    <tr>\n",
       "      <th>past</th>\n",
       "      <td>5</td>\n",
       "    </tr>\n",
       "    <tr>\n",
       "      <th>stagnating</th>\n",
       "      <td>5</td>\n",
       "    </tr>\n",
       "    <tr>\n",
       "      <th>boldness</th>\n",
       "      <td>5</td>\n",
       "    </tr>\n",
       "    <tr>\n",
       "      <th>disconten...</th>\n",
       "      <td>5</td>\n",
       "    </tr>\n",
       "    <tr>\n",
       "      <th>unnecessary</th>\n",
       "      <td>5</td>\n",
       "    </tr>\n",
       "    <tr>\n",
       "      <th>accidents</th>\n",
       "      <td>5</td>\n",
       "    </tr>\n",
       "  </tbody>\n",
       "</table>\n",
       "<p>1901 rows × 1 columns</p>\n",
       "</div>"
      ],
      "text/plain": [
       "              abs_freq\n",
       "good               975\n",
       "to                 645\n",
       "...                580\n",
       "you                510\n",
       "work               480\n",
       "...                ...\n",
       "stagnating           5\n",
       "boldness             5\n",
       "disconten...         5\n",
       "unnecessary          5\n",
       "accidents            5\n",
       "\n",
       "[1901 rows x 1 columns]"
      ]
     },
     "execution_count": 105,
     "metadata": {},
     "output_type": "execute_result"
    }
   ],
   "source": [
    "pd.DataFrame.from_dict(word_freq, orient='index') \\\n",
    ".sort_values(0, ascending=False) \\\n",
    ".rename(columns={0: 'abs_freq'})"
   ]
  },
  {
   "cell_type": "code",
   "execution_count": null,
   "metadata": {},
   "outputs": [],
   "source": []
  },
  {
   "cell_type": "code",
   "execution_count": null,
   "metadata": {},
   "outputs": [],
   "source": []
  },
  {
   "cell_type": "code",
   "execution_count": null,
   "metadata": {},
   "outputs": [],
   "source": []
  },
  {
   "cell_type": "code",
   "execution_count": null,
   "metadata": {},
   "outputs": [],
   "source": []
  },
  {
   "cell_type": "code",
   "execution_count": 106,
   "metadata": {},
   "outputs": [],
   "source": [
    "#https://towardsdatascience.com/topic-modelling-in-python-with-nltk-and-gensim-4ef03213cd21"
   ]
  },
  {
   "cell_type": "code",
   "execution_count": 123,
   "metadata": {},
   "outputs": [],
   "source": [
    "import spacy\n",
    "spacy.load('en')\n",
    "from spacy.lang.en import English\n",
    "parser = English()\n",
    "\n",
    "def tokenize(text):\n",
    "    lda_tokens = []\n",
    "    tokens = parser(text)\n",
    "    for token in tokens:\n",
    "        if token.orth_.isspace():\n",
    "            continue\n",
    "        elif token.like_url:\n",
    "            lda_tokens.append('URL')\n",
    "        elif token.orth_.startswith('@'):\n",
    "            lda_tokens.append('SCREEN_NAME')\n",
    "        else:\n",
    "            lda_tokens.append(token.lower_)\n",
    "    return lda_tokens"
   ]
  },
  {
   "cell_type": "code",
   "execution_count": 124,
   "metadata": {},
   "outputs": [
    {
     "name": "stderr",
     "output_type": "stream",
     "text": [
      "[nltk_data] Downloading package wordnet to\n",
      "[nltk_data]     C:\\Users\\avich\\AppData\\Roaming\\nltk_data...\n",
      "[nltk_data]   Package wordnet is already up-to-date!\n"
     ]
    },
    {
     "data": {
      "text/plain": [
       "True"
      ]
     },
     "execution_count": 124,
     "metadata": {},
     "output_type": "execute_result"
    }
   ],
   "source": [
    "import nltk\n",
    "nltk.download('wordnet')"
   ]
  },
  {
   "cell_type": "code",
   "execution_count": 125,
   "metadata": {},
   "outputs": [],
   "source": [
    "from nltk.corpus import wordnet as wn\n",
    "def get_lemma(word):\n",
    "    lemma = wn.morphy(word)\n",
    "    if lemma is None:\n",
    "        return word\n",
    "    else:\n",
    "        return lemma\n",
    "    \n",
    "from nltk.stem.wordnet import WordNetLemmatizer\n",
    "def get_lemma2(word):\n",
    "    return WordNetLemmatizer().lemmatize(word)"
   ]
  },
  {
   "cell_type": "code",
   "execution_count": 126,
   "metadata": {},
   "outputs": [
    {
     "name": "stdout",
     "output_type": "stream",
     "text": [
      "dogs dog dog\n",
      "ran run ran\n",
      "discouraged discourage discouraged\n"
     ]
    }
   ],
   "source": [
    "for w in ['dogs', 'ran', 'discouraged']:\n",
    "    print(w, get_lemma(w), get_lemma2(w))"
   ]
  },
  {
   "cell_type": "code",
   "execution_count": 127,
   "metadata": {},
   "outputs": [
    {
     "name": "stderr",
     "output_type": "stream",
     "text": [
      "[nltk_data] Downloading package stopwords to\n",
      "[nltk_data]     C:\\Users\\avich\\AppData\\Roaming\\nltk_data...\n",
      "[nltk_data]   Package stopwords is already up-to-date!\n"
     ]
    }
   ],
   "source": [
    "nltk.download('stopwords')\n",
    "en_stop = set(nltk.corpus.stopwords.words('english'))"
   ]
  },
  {
   "cell_type": "code",
   "execution_count": 128,
   "metadata": {},
   "outputs": [],
   "source": [
    "def prepare_text_for_lda(text):\n",
    "    tokens = tokenize(text)\n",
    "    tokens = [token for token in tokens if len(token) > 4]\n",
    "    tokens = [token for token in tokens if token not in en_stop]\n",
    "    tokens = [get_lemma(token) for token in tokens]\n",
    "    return tokens"
   ]
  },
  {
   "cell_type": "code",
   "execution_count": 129,
   "metadata": {},
   "outputs": [],
   "source": [
    "import random\n",
    "text_data = []\n",
    "with open('part3NLP.csv', encoding=\"utf8\") as f:\n",
    "    for line in f:\n",
    "        tokens = prepare_text_for_lda(line)\n",
    "        text_data.append(tokens)"
   ]
  },
  {
   "cell_type": "code",
   "execution_count": null,
   "metadata": {},
   "outputs": [],
   "source": []
  },
  {
   "cell_type": "code",
   "execution_count": 130,
   "metadata": {},
   "outputs": [],
   "source": [
    "from gensim import corpora\n",
    "dictionary = corpora.Dictionary(text_data)"
   ]
  },
  {
   "cell_type": "code",
   "execution_count": 131,
   "metadata": {},
   "outputs": [],
   "source": [
    "id2word=dictionary"
   ]
  },
  {
   "cell_type": "code",
   "execution_count": 132,
   "metadata": {},
   "outputs": [],
   "source": [
    "corpus = [dictionary.doc2bow(text) for text in text_data]"
   ]
  },
  {
   "cell_type": "code",
   "execution_count": 133,
   "metadata": {},
   "outputs": [],
   "source": [
    "import pickle\n",
    "pickle.dump(corpus, open('corpus.pkl', 'wb'))\n",
    "dictionary.save('dictionary.gensim')"
   ]
  },
  {
   "cell_type": "code",
   "execution_count": 136,
   "metadata": {},
   "outputs": [],
   "source": [
    "import gensim\n",
    "NUM_TOPICS = 8\n",
    "ldamodel = gensim.models.ldamodel.LdaModel(corpus, num_topics = NUM_TOPICS, id2word=dictionary, passes=15)\n",
    "ldamodel.save('model8.gensim')"
   ]
  },
  {
   "cell_type": "code",
   "execution_count": 137,
   "metadata": {},
   "outputs": [
    {
     "name": "stdout",
     "output_type": "stream",
     "text": [
      "(0, '0.016*\"sleep\" + 0.012*\"drought\" + 0.011*\"heart\" + 0.010*\"things\"')\n",
      "(1, '0.020*\"boring\" + 0.018*\"fitness\" + 0.018*\"interest\" + 0.016*\"tiredness\"')\n",
      "(2, '0.030*\"action\" + 0.027*\"running\" + 0.022*\"require\" + 0.019*\"inaction\"')\n",
      "(3, '0.023*\"sleep\" + 0.016*\"running\" + 0.009*\"getting\" + 0.008*\"sleeping\"')\n",
      "(4, '0.011*\"heart\" + 0.010*\"action\" + 0.008*\"better\" + 0.008*\"health\"')\n",
      "(5, '0.011*\"strength\" + 0.009*\"cancel\" + 0.008*\"action\" + 0.008*\"feeling\"')\n",
      "(6, '0.016*\"action\" + 0.014*\"energy\" + 0.013*\"health\" + 0.010*\"things\"')\n",
      "(7, '0.051*\"action\" + 0.016*\"could\" + 0.013*\"getting\" + 0.013*\"health\"')\n"
     ]
    }
   ],
   "source": [
    "topics = ldamodel.print_topics(num_words=4)\n",
    "for topic in topics:\n",
    "    print(topic)"
   ]
  },
  {
   "cell_type": "code",
   "execution_count": 120,
   "metadata": {},
   "outputs": [
    {
     "name": "stdout",
     "output_type": "stream",
     "text": [
      "\n",
      "Perplexity:  -7.207649990650931\n"
     ]
    }
   ],
   "source": [
    "# Compute Perplexity\n",
    "print('\\nPerplexity: ', ldamodel.log_perplexity(corpus))  # a measure of how good the model is. lower the better."
   ]
  },
  {
   "cell_type": "code",
   "execution_count": 75,
   "metadata": {},
   "outputs": [
    {
     "data": {
      "text/plain": [
       "\"new_doc = 'Practical Bayesian Optimization of Machine Learning Algorithms'\\nnew_doc = prepare_text_for_lda(new_doc)\\nnew_doc_bow = dictionary.doc2bow(new_doc)\\nprint(new_doc_bow)\\nprint(ldamodel.get_document_topics(new_doc_bow))\""
      ]
     },
     "execution_count": 75,
     "metadata": {},
     "output_type": "execute_result"
    }
   ],
   "source": [
    "'''new_doc = 'Practical Bayesian Optimization of Machine Learning Algorithms'\n",
    "new_doc = prepare_text_for_lda(new_doc)\n",
    "new_doc_bow = dictionary.doc2bow(new_doc)\n",
    "print(new_doc_bow)\n",
    "print(ldamodel.get_document_topics(new_doc_bow))'''"
   ]
  },
  {
   "cell_type": "code",
   "execution_count": 76,
   "metadata": {},
   "outputs": [
    {
     "data": {
      "text/plain": [
       "\"ldamodel = gensim.models.ldamodel.LdaModel(corpus, num_topics = 300, id2word=dictionary, passes=15)\\nldamodel.save('model300.gensim')\\ntopics = ldamodel.print_topics(num_words=4)\\nfor topic in topics:\\n    print(topic)\""
      ]
     },
     "execution_count": 76,
     "metadata": {},
     "output_type": "execute_result"
    }
   ],
   "source": [
    "'''ldamodel = gensim.models.ldamodel.LdaModel(corpus, num_topics = 300, id2word=dictionary, passes=15)\n",
    "ldamodel.save('model300.gensim')\n",
    "topics = ldamodel.print_topics(num_words=4)\n",
    "for topic in topics:\n",
    "    print(topic)'''"
   ]
  },
  {
   "cell_type": "code",
   "execution_count": 77,
   "metadata": {},
   "outputs": [
    {
     "name": "stdout",
     "output_type": "stream",
     "text": [
      "\n",
      "Perplexity:  -7.23149769187714\n"
     ]
    }
   ],
   "source": [
    "# Compute Perplexity\n",
    "print('\\nPerplexity: ', ldamodel.log_perplexity(corpus))  # a measure of how good the model is. lower the better."
   ]
  },
  {
   "cell_type": "code",
   "execution_count": 78,
   "metadata": {},
   "outputs": [
    {
     "name": "stdout",
     "output_type": "stream",
     "text": [
      "(0, '0.015*\"might\" + 0.012*\"stress\" + 0.010*\"energy\" + 0.009*\"physical\"')\n",
      "(1, '0.021*\"feeling\" + 0.015*\"better\" + 0.012*\"getting\" + 0.011*\"change\"')\n",
      "(2, '0.013*\"something\" + 0.013*\"things\" + 0.011*\"sleep\" + 0.011*\"anything\"')\n",
      "(3, '0.028*\"getting\" + 0.011*\"miss\" + 0.010*\"health\" + 0.010*\"healthy\"')\n",
      "(4, '0.013*\"energy\" + 0.010*\"confidence\" + 0.009*\"sleep\" + 0.008*\"strength\"')\n",
      "(5, '0.015*\"depression\" + 0.011*\"things\" + 0.011*\"heart\" + 0.011*\"better\"')\n",
      "(6, '0.027*\"sleep\" + 0.026*\"running\" + 0.013*\"spend\" + 0.013*\"sleeping\"')\n",
      "(7, '0.024*\"running\" + 0.019*\"inaction\" + 0.017*\"require\" + 0.017*\"action\"')\n",
      "(8, '0.017*\"action\" + 0.014*\"better\" + 0.013*\"boring\" + 0.011*\"tiredness\"')\n",
      "(9, '0.069*\"action\" + 0.012*\"inaction\" + 0.011*\"could\" + 0.011*\"take\"')\n"
     ]
    }
   ],
   "source": [
    "ldamodel = gensim.models.ldamodel.LdaModel(corpus, num_topics = 10, id2word=dictionary, passes=15)\n",
    "ldamodel.save('model10.gensim')\n",
    "topics = ldamodel.print_topics(num_words=4)\n",
    "for topic in topics:\n",
    "    print(topic)"
   ]
  },
  {
   "cell_type": "code",
   "execution_count": 79,
   "metadata": {},
   "outputs": [
    {
     "name": "stdout",
     "output_type": "stream",
     "text": [
      "\n",
      "Perplexity:  -7.211254114282798\n"
     ]
    }
   ],
   "source": [
    "# Compute Perplexity\n",
    "print('\\nPerplexity: ', ldamodel.log_perplexity(corpus))  # a measure of how good the model is. lower the better."
   ]
  },
  {
   "cell_type": "code",
   "execution_count": 80,
   "metadata": {},
   "outputs": [],
   "source": [
    "dictionary = gensim.corpora.Dictionary.load('dictionary.gensim')\n",
    "corpus = pickle.load(open('corpus.pkl', 'rb'))\n",
    "lda = gensim.models.ldamodel.LdaModel.load('model5.gensim')"
   ]
  },
  {
   "cell_type": "code",
   "execution_count": 81,
   "metadata": {},
   "outputs": [
    {
     "name": "stderr",
     "output_type": "stream",
     "text": [
      "C:\\Users\\avich\\Anaconda3\\lib\\site-packages\\pyLDAvis\\_prepare.py:257: FutureWarning: Sorting because non-concatenation axis is not aligned. A future version\n",
      "of pandas will change to not sort by default.\n",
      "\n",
      "To accept the future behavior, pass 'sort=False'.\n",
      "\n",
      "To retain the current behavior and silence the warning, pass 'sort=True'.\n",
      "\n",
      "  return pd.concat([default_term_info] + list(topic_dfs))\n"
     ]
    },
    {
     "data": {
      "text/html": [
       "\n",
       "<link rel=\"stylesheet\" type=\"text/css\" href=\"https://cdn.rawgit.com/bmabey/pyLDAvis/files/ldavis.v1.0.0.css\">\n",
       "\n",
       "\n",
       "<div id=\"ldavis_el3198427887668049927776533619\"></div>\n",
       "<script type=\"text/javascript\">\n",
       "\n",
       "var ldavis_el3198427887668049927776533619_data = {\"mdsDat\": {\"x\": [0.12433230321819502, -0.013126729085970444, 0.06401318969563961, -0.07394578475114044, -0.09008557115364683, -0.09120219736855466, 0.07825685073619096, 0.00175793870928694], \"y\": [0.08099006134581327, -0.08719652484321631, -0.04678598890946422, -0.05106367732418279, 0.05337627374297516, 0.0903589896782085, 0.014690596761626653, -0.05436973045176025], \"topics\": [1, 2, 3, 4, 5, 6, 7, 8], \"cluster\": [1, 1, 1, 1, 1, 1, 1, 1], \"Freq\": [8.667012214660645, 9.453765869140625, 5.163074493408203, 15.325592041015625, 27.27527618408203, 19.769840240478516, 4.100673675537109, 10.244768142700195]}, \"tinfo\": {\"Category\": [\"Default\", \"Default\", \"Default\", \"Default\", \"Default\", \"Default\", \"Default\", \"Default\", \"Default\", \"Default\", \"Default\", \"Default\", \"Default\", \"Default\", \"Default\", \"Default\", \"Default\", \"Default\", \"Default\", \"Default\", \"Default\", \"Default\", \"Default\", \"Default\", \"Default\", \"Default\", \"Default\", \"Default\", \"Default\", \"Default\", \"Topic1\", \"Topic1\", \"Topic1\", \"Topic1\", \"Topic1\", \"Topic1\", \"Topic1\", \"Topic1\", \"Topic1\", \"Topic1\", \"Topic1\", \"Topic1\", \"Topic1\", \"Topic1\", \"Topic1\", \"Topic1\", \"Topic1\", \"Topic1\", \"Topic1\", \"Topic1\", \"Topic1\", \"Topic1\", \"Topic1\", \"Topic1\", \"Topic1\", \"Topic1\", \"Topic1\", \"Topic1\", \"Topic1\", \"Topic1\", \"Topic1\", \"Topic1\", \"Topic1\", \"Topic1\", \"Topic1\", \"Topic1\", \"Topic1\", \"Topic1\", \"Topic1\", \"Topic1\", \"Topic1\", \"Topic1\", \"Topic1\", \"Topic1\", \"Topic1\", \"Topic1\", \"Topic1\", \"Topic1\", \"Topic1\", \"Topic1\", \"Topic1\", \"Topic1\", \"Topic1\", \"Topic1\", \"Topic1\", \"Topic2\", \"Topic2\", \"Topic2\", \"Topic2\", \"Topic2\", \"Topic2\", \"Topic2\", \"Topic2\", \"Topic2\", \"Topic2\", \"Topic2\", \"Topic2\", \"Topic2\", \"Topic2\", \"Topic2\", \"Topic2\", \"Topic2\", \"Topic2\", \"Topic2\", \"Topic2\", \"Topic2\", \"Topic2\", \"Topic2\", \"Topic2\", \"Topic2\", \"Topic2\", \"Topic2\", \"Topic2\", \"Topic2\", \"Topic2\", \"Topic2\", \"Topic2\", \"Topic2\", \"Topic2\", \"Topic2\", \"Topic2\", \"Topic2\", \"Topic2\", \"Topic2\", \"Topic2\", \"Topic2\", \"Topic2\", \"Topic2\", \"Topic2\", \"Topic2\", \"Topic2\", \"Topic2\", \"Topic2\", \"Topic2\", \"Topic2\", \"Topic2\", \"Topic2\", \"Topic2\", \"Topic2\", \"Topic2\", \"Topic2\", \"Topic2\", \"Topic2\", \"Topic2\", \"Topic2\", \"Topic2\", \"Topic2\", \"Topic2\", \"Topic2\", \"Topic2\", \"Topic2\", \"Topic3\", \"Topic3\", \"Topic3\", \"Topic3\", \"Topic3\", \"Topic3\", \"Topic3\", \"Topic3\", \"Topic3\", \"Topic3\", \"Topic3\", \"Topic3\", \"Topic3\", \"Topic3\", \"Topic3\", \"Topic3\", \"Topic3\", \"Topic3\", \"Topic3\", \"Topic3\", \"Topic3\", \"Topic3\", \"Topic3\", \"Topic3\", \"Topic3\", \"Topic3\", \"Topic3\", \"Topic3\", \"Topic3\", \"Topic3\", \"Topic3\", \"Topic3\", \"Topic3\", \"Topic3\", \"Topic3\", \"Topic3\", \"Topic3\", \"Topic3\", \"Topic3\", \"Topic3\", \"Topic3\", \"Topic3\", \"Topic3\", \"Topic3\", \"Topic3\", \"Topic3\", \"Topic3\", \"Topic3\", \"Topic3\", \"Topic3\", \"Topic3\", \"Topic3\", \"Topic3\", \"Topic3\", \"Topic3\", \"Topic3\", \"Topic3\", \"Topic3\", \"Topic3\", \"Topic3\", \"Topic3\", \"Topic3\", \"Topic3\", \"Topic3\", \"Topic3\", \"Topic3\", \"Topic3\", \"Topic3\", \"Topic4\", \"Topic4\", \"Topic4\", \"Topic4\", \"Topic4\", \"Topic4\", \"Topic4\", \"Topic4\", \"Topic4\", \"Topic4\", \"Topic4\", \"Topic4\", \"Topic4\", \"Topic4\", \"Topic4\", \"Topic4\", \"Topic4\", \"Topic4\", \"Topic4\", \"Topic4\", \"Topic4\", \"Topic4\", \"Topic4\", \"Topic4\", \"Topic4\", \"Topic4\", \"Topic4\", \"Topic4\", \"Topic4\", \"Topic4\", \"Topic4\", \"Topic4\", \"Topic4\", \"Topic4\", \"Topic4\", \"Topic4\", \"Topic4\", \"Topic4\", \"Topic4\", \"Topic4\", \"Topic4\", \"Topic4\", \"Topic4\", \"Topic4\", \"Topic4\", \"Topic4\", \"Topic4\", \"Topic4\", \"Topic4\", \"Topic4\", \"Topic4\", \"Topic4\", \"Topic4\", \"Topic4\", \"Topic4\", \"Topic4\", \"Topic4\", \"Topic4\", \"Topic4\", \"Topic4\", \"Topic4\", \"Topic4\", \"Topic4\", \"Topic4\", \"Topic4\", \"Topic4\", \"Topic4\", \"Topic5\", \"Topic5\", \"Topic5\", \"Topic5\", \"Topic5\", \"Topic5\", \"Topic5\", \"Topic5\", \"Topic5\", \"Topic5\", \"Topic5\", \"Topic5\", \"Topic5\", \"Topic5\", \"Topic5\", \"Topic5\", \"Topic5\", \"Topic5\", \"Topic5\", \"Topic5\", \"Topic5\", \"Topic5\", \"Topic5\", \"Topic5\", \"Topic5\", \"Topic5\", \"Topic5\", \"Topic5\", \"Topic5\", \"Topic5\", \"Topic5\", \"Topic5\", \"Topic5\", \"Topic5\", \"Topic5\", \"Topic5\", \"Topic5\", \"Topic5\", \"Topic5\", \"Topic5\", \"Topic5\", \"Topic5\", \"Topic5\", \"Topic5\", \"Topic5\", \"Topic5\", \"Topic5\", \"Topic5\", \"Topic5\", \"Topic5\", \"Topic5\", \"Topic5\", \"Topic5\", \"Topic5\", \"Topic5\", \"Topic5\", \"Topic5\", \"Topic5\", \"Topic5\", \"Topic5\", \"Topic5\", \"Topic5\", \"Topic5\", \"Topic5\", \"Topic5\", \"Topic5\", \"Topic5\", \"Topic6\", \"Topic6\", \"Topic6\", \"Topic6\", \"Topic6\", \"Topic6\", \"Topic6\", \"Topic6\", \"Topic6\", \"Topic6\", \"Topic6\", \"Topic6\", \"Topic6\", \"Topic6\", \"Topic6\", \"Topic6\", \"Topic6\", \"Topic6\", \"Topic6\", \"Topic6\", \"Topic6\", \"Topic6\", \"Topic6\", \"Topic6\", \"Topic6\", \"Topic6\", \"Topic6\", \"Topic6\", \"Topic6\", \"Topic6\", \"Topic6\", \"Topic6\", \"Topic6\", \"Topic6\", \"Topic6\", \"Topic6\", \"Topic6\", \"Topic6\", \"Topic6\", \"Topic6\", \"Topic6\", \"Topic6\", \"Topic6\", \"Topic6\", \"Topic6\", \"Topic6\", \"Topic6\", \"Topic6\", \"Topic6\", \"Topic6\", \"Topic6\", \"Topic6\", \"Topic6\", \"Topic6\", \"Topic6\", \"Topic6\", \"Topic6\", \"Topic6\", \"Topic6\", \"Topic6\", \"Topic6\", \"Topic6\", \"Topic6\", \"Topic6\", \"Topic6\", \"Topic6\", \"Topic6\", \"Topic6\", \"Topic6\", \"Topic6\", \"Topic6\", \"Topic6\", \"Topic7\", \"Topic7\", \"Topic7\", \"Topic7\", \"Topic7\", \"Topic7\", \"Topic7\", \"Topic7\", \"Topic7\", \"Topic7\", \"Topic7\", \"Topic7\", \"Topic7\", \"Topic7\", \"Topic7\", \"Topic7\", \"Topic7\", \"Topic7\", \"Topic7\", \"Topic7\", \"Topic7\", \"Topic7\", \"Topic7\", \"Topic7\", \"Topic7\", \"Topic7\", \"Topic7\", \"Topic7\", \"Topic7\", \"Topic7\", \"Topic7\", \"Topic7\", \"Topic7\", \"Topic7\", \"Topic7\", \"Topic7\", \"Topic7\", \"Topic7\", \"Topic7\", \"Topic7\", \"Topic7\", \"Topic7\", \"Topic7\", \"Topic7\", \"Topic7\", \"Topic7\", \"Topic7\", \"Topic7\", \"Topic7\", \"Topic7\", \"Topic7\", \"Topic7\", \"Topic7\", \"Topic7\", \"Topic7\", \"Topic7\", \"Topic7\", \"Topic7\", \"Topic7\", \"Topic7\", \"Topic7\", \"Topic7\", \"Topic7\", \"Topic7\", \"Topic7\", \"Topic7\", \"Topic7\", \"Topic7\", \"Topic8\", \"Topic8\", \"Topic8\", \"Topic8\", \"Topic8\", \"Topic8\", \"Topic8\", \"Topic8\", \"Topic8\", \"Topic8\", \"Topic8\", \"Topic8\", \"Topic8\", \"Topic8\", \"Topic8\", \"Topic8\", \"Topic8\", \"Topic8\", \"Topic8\", \"Topic8\", \"Topic8\", \"Topic8\", \"Topic8\", \"Topic8\", \"Topic8\", \"Topic8\", \"Topic8\", \"Topic8\", \"Topic8\", \"Topic8\", \"Topic8\", \"Topic8\", \"Topic8\", \"Topic8\", \"Topic8\", \"Topic8\", \"Topic8\", \"Topic8\", \"Topic8\", \"Topic8\", \"Topic8\", \"Topic8\", \"Topic8\", \"Topic8\", \"Topic8\", \"Topic8\", \"Topic8\", \"Topic8\", \"Topic8\", \"Topic8\", \"Topic8\", \"Topic8\", \"Topic8\", \"Topic8\", \"Topic8\", \"Topic8\", \"Topic8\", \"Topic8\", \"Topic8\", \"Topic8\", \"Topic8\", \"Topic8\", \"Topic8\", \"Topic8\", \"Topic8\", \"Topic8\", \"Topic8\", \"Topic8\", \"Topic8\", \"Topic8\", \"Topic8\"], \"Freq\": [214.0, 60.0, 41.0, 11.0, 48.0, 55.0, 57.0, 10.0, 30.0, 27.0, 22.0, 45.0, 27.0, 68.0, 46.0, 30.0, 60.0, 10.0, 28.0, 33.0, 27.0, 20.0, 79.0, 8.0, 11.0, 19.0, 94.0, 22.0, 16.0, 18.0, 10.986156463623047, 10.260625839233398, 7.353872776031494, 6.627641677856445, 6.623922824859619, 5.902198314666748, 5.901755332946777, 5.901106834411621, 3.7223739624023438, 2.99621844291687, 2.269758701324463, 2.2676680088043213, 8.027570724487305, 3.7227652072906494, 1.54500412940979, 1.5449981689453125, 1.5449938774108887, 1.5449872016906738, 1.5449875593185425, 1.544976830482483, 1.5449625253677368, 1.5449471473693848, 1.544683814048767, 1.5446592569351196, 1.544039011001587, 1.5436978340148926, 1.5432956218719482, 1.5427979230880737, 1.5426084995269775, 1.5415459871292114, 5.901732921600342, 2.9103176593780518, 5.902230739593506, 4.89811372756958, 6.621603012084961, 7.218356609344482, 4.451224327087402, 2.9977009296417236, 3.724855422973633, 4.357190132141113, 2.2685229778289795, 2.930586338043213, 8.81021499633789, 5.096579074859619, 3.723038673400879, 2.9986960887908936, 4.3598833084106445, 6.849372863769531, 4.262295246124268, 4.079874515533447, 3.8459537029266357, 4.481691837310791, 3.736342430114746, 3.9888858795166016, 3.7285029888153076, 2.3486201763153076, 2.3473172187805176, 2.3470919132232666, 3.8494961261749268, 3.850698232650757, 1.5977863073349, 1.5973001718521118, 1.5970044136047363, 1.5967317819595337, 1.5964337587356567, 1.5961835384368896, 1.596031665802002, 1.596112847328186, 1.5959842205047607, 1.5959703922271729, 1.5959086418151855, 1.5957953929901123, 1.5957527160644531, 1.5956517457962036, 3.0990734100341797, 3.849320888519287, 1.5959748029708862, 1.595914363861084, 0.8457870483398438, 0.845642626285553, 0.8456383347511292, 0.8456372618675232, 0.8456291556358337, 0.8456280827522278, 0.8456165194511414, 3.1001203060150146, 2.3480589389801025, 1.596948266029358, 1.5964938402175903, 1.5963232517242432, 1.5960583686828613, 2.3478474617004395, 4.601973533630371, 15.871269226074219, 6.854298114776611, 6.108543395996094, 13.622849464416504, 6.107409954071045, 6.110189437866211, 6.107046127319336, 7.617574214935303, 6.10817813873291, 5.353329181671143, 3.8515608310699463, 3.8495380878448486, 4.599946975708008, 6.1068925857543945, 6.855975151062012, 3.8526055812835693, 3.102574586868286, 6.10686731338501, 6.862145900726318, 4.603527545928955, 5.3580241203308105, 5.353480815887451, 4.603287696838379, 3.8521859645843506, 3.852017879486084, 3.8529484272003174, 3.8509981632232666, 4.609822750091553, 2.585977077484131, 1.9583842754364014, 1.3322694301605225, 1.3321672677993774, 1.3320703506469727, 1.3320664167404175, 1.331838846206665, 1.3318564891815186, 1.331811547279358, 1.3315891027450562, 1.3315203189849854, 1.9581979513168335, 1.956533670425415, 1.9591509103775024, 2.5864417552948, 0.7052759528160095, 0.7052692770957947, 0.705267608165741, 0.7052559852600098, 0.705251932144165, 0.7052476406097412, 0.7052347660064697, 0.7052298188209534, 0.7052298188209534, 0.7052169442176819, 0.7052180171012878, 0.7052146196365356, 0.7052055597305298, 0.7051984071731567, 0.7051916122436523, 1.3313603401184082, 3.1086137294769287, 1.3316516876220703, 1.9554493427276611, 5.625154495239258, 1.9593513011932373, 3.8384902477264404, 4.189872741699219, 7.859516620635986, 2.5858969688415527, 1.3316402435302734, 2.5856714248657227, 2.586061477661133, 1.3321462869644165, 1.9592050313949585, 4.466020107269287, 4.624300956726074, 6.6816511154174805, 3.204500675201416, 2.5855250358581543, 3.365713357925415, 2.5856025218963623, 2.5868442058563232, 2.586068630218506, 1.9596116542816162, 1.9584492444992065, 1.9582571983337402, 2.586751937866211, 3.364924192428589, 2.7220494747161865, 2.7075958251953125, 2.5885274410247803, 2.1322014331817627, 2.0419204235076904, 1.9646636247634888, 1.9607195854187012, 1.9606059789657593, 1.9602131843566895, 3.4255120754241943, 2.59574556350708, 2.59543776512146, 2.594691038131714, 2.594618558883667, 2.5941691398620605, 2.5923988819122314, 2.591827154159546, 2.591801643371582, 2.489758253097534, 6.752231121063232, 5.644773483276367, 1.7663429975509644, 1.7648437023162842, 1.7646727561950684, 1.7643905878067017, 1.7643615007400513, 1.7643173933029175, 1.7642297744750977, 1.7641887664794922, 1.7641496658325195, 1.7641713619232178, 1.7640537023544312, 1.7639590501785278, 1.7605870962142944, 5.915720462799072, 6.725783348083496, 2.595714569091797, 2.593386650085449, 6.754019260406494, 15.85692024230957, 12.345918655395508, 6.030311107635498, 7.589959621429443, 13.225603103637695, 14.394556045532227, 4.251478672027588, 17.459768295288086, 6.752934455871582, 7.558627128601074, 8.184290885925293, 2.55216646194458, 5.087010383605957, 7.486579895019531, 16.25564956665039, 10.655717849731445, 16.125892639160156, 19.233518600463867, 16.092432022094727, 12.294522285461426, 13.299575805664062, 8.1775541305542, 7.4139885902404785, 5.843445301055908, 4.161437034606934, 10.249979972839355, 8.253329277038574, 8.95134162902832, 15.700758934020996, 8.692511558532715, 8.211858749389648, 7.116179943084717, 7.146488666534424, 7.375626087188721, 7.243805885314941, 7.147286891937256, 6.775143623352051, 12.62890911102295, 11.734452247619629, 9.052433967590332, 7.26467227935791, 4.581902503967285, 4.581933975219727, 4.5817413330078125, 3.6885194778442383, 3.6884889602661133, 3.6883513927459717, 3.6882896423339844, 3.6880276203155518, 3.688061475753784, 3.687938690185547, 3.687901496887207, 3.68784761428833, 3.687741756439209, 3.6877291202545166, 3.687641143798828, 3.6876375675201416, 3.687537431716919, 3.6870791912078857, 3.6806981563568115, 25.96824836730957, 6.363250732421875, 3.55180025100708, 2.794830560684204, 2.794511079788208, 2.7943127155303955, 2.794266939163208, 33.619178771972656, 9.94754695892334, 17.910987854003906, 67.0846176147461, 18.59315299987793, 57.682945251464844, 11.736054420471191, 11.462752342224121, 6.371776580810547, 5.477789878845215, 27.38349151611328, 11.134921073913574, 6.33510160446167, 20.818159103393555, 8.159478187561035, 19.506725311279297, 15.691567420959473, 4.583671569824219, 24.580883026123047, 16.2170467376709, 9.526597023010254, 8.81484317779541, 22.44883918762207, 22.438159942626953, 18.625526428222656, 12.575922012329102, 17.108654022216797, 14.022401809692383, 19.239830017089844, 13.388461112976074, 13.945305824279785, 28.101247787475586, 16.3768253326416, 15.819937705993652, 13.522523880004883, 12.797566413879395, 11.962705612182617, 7.0877604484558105, 5.338924407958984, 4.47083044052124, 3.5977976322174072, 3.5966150760650635, 3.5387983322143555, 3.5018343925476074, 2.725599765777588, 2.7255117893218994, 2.7247626781463623, 2.7247066497802734, 2.7246038913726807, 2.7246038913726807, 2.7242748737335205, 2.7171144485473633, 2.6863584518432617, 3.897243022918701, 1.8532850742340088, 1.853316068649292, 1.85317862033844, 1.8532432317733765, 1.852895736694336, 1.8528404235839844, 1.8529285192489624, 1.8529268503189087, 1.8527790307998657, 1.8527923822402954, 1.852778673171997, 1.8527615070343018, 1.8528428077697754, 150.56129455566406, 11.132564544677734, 8.531872749328613, 3.59363055229187, 3.5961384773254395, 4.195621490478516, 6.22878360748291, 3.5970091819763184, 6.1454901695251465, 4.197834014892578, 5.340273857116699, 15.907435417175293, 4.370392799377441, 26.36722755432129, 21.10161590576172, 19.834278106689453, 7.798048496246338, 6.2050089836120605, 10.431404113769531, 11.231294631958008, 11.629672050476074, 6.100091457366943, 14.743515014648438, 12.984774589538574, 17.808950424194336, 7.892665386199951, 12.622344017028809, 8.136357307434082, 12.694085121154785, 7.532740592956543, 11.41759967803955, 9.499950408935547, 9.805891990661621, 13.534078598022461, 8.178703308105469, 10.132207870483398, 9.494283676147461, 9.961139678955078, 9.760793685913086, 8.358282089233398, 10.195460319519043, 9.492870330810547, 1.779126763343811, 2.3515985012054443, 1.212259292602539, 1.2120426893234253, 1.2118706703186035, 1.2110203504562378, 1.781013011932373, 2.2902119159698486, 0.6416740417480469, 0.6416658163070679, 0.6416440606117249, 0.6416433453559875, 0.6416394114494324, 0.6416252255439758, 0.6416244506835938, 0.6416152715682983, 0.6416143178939819, 0.6416107416152954, 0.6416060924530029, 0.6415621042251587, 0.6415579319000244, 0.6415433287620544, 0.6412230730056763, 0.6412153244018555, 0.6412197947502136, 0.6412016153335571, 0.6411842703819275, 0.6411926746368408, 0.6411875486373901, 0.6411783695220947, 1.2116787433624268, 1.2110031843185425, 1.7807409763336182, 1.210928201675415, 1.2116934061050415, 1.780892014503479, 4.8763837814331055, 1.7819663286209106, 4.63508415222168, 1.212035059928894, 2.148735284805298, 1.2111586332321167, 3.732012987136841, 1.2116647958755493, 2.3522958755493164, 2.3522021770477295, 1.210799217224121, 1.2117825746536255, 1.2118216753005981, 1.2118332386016846, 1.7813546657562256, 1.2119712829589844, 4.064655780792236, 1.7824335098266602, 1.7819461822509766, 2.922837495803833, 2.9234297275543213, 1.7823145389556885, 1.9526536464691162, 1.782265067100525, 3.640458106994629, 2.3550825119018555, 1.7830859422683716, 2.4163382053375244, 2.006816864013672, 1.7825568914413452, 1.9213511943817139, 1.8621323108673096, 3.9345343112945557, 3.934433698654175, 3.116375207901001, 2.3988196849823, 2.3972954750061035, 1.6319109201431274, 1.6317014694213867, 1.6317325830459595, 1.631542682647705, 1.6314648389816284, 1.631588339805603, 1.6314096450805664, 1.6313540935516357, 1.6313107013702393, 1.631286382675171, 1.6311681270599365, 1.6309788227081299, 7.774825096130371, 2.399681329727173, 3.1675381660461426, 3.928295850753784, 0.8639663457870483, 0.8640027046203613, 0.863960862159729, 0.8639024496078491, 0.8639415502548218, 0.8638688325881958, 0.8639135956764221, 0.8638523817062378, 0.8638582229614258, 3.166707992553711, 3.16753888130188, 2.399717330932617, 2.3997724056243896, 1.6320973634719849, 1.6317206621170044, 1.631712794303894, 1.6317417621612549, 3.9366486072540283, 7.009223937988281, 15.062182426452637, 14.689528465270996, 7.010620594024658, 9.232905387878418, 4.7058329582214355, 6.700817584991455, 4.707278728485107, 4.704589366912842, 3.938168525695801, 3.1692309379577637, 8.314526557922363, 7.014902114868164, 5.47724723815918, 3.938222885131836, 2.3999197483062744, 7.013227939605713, 4.705915927886963, 3.821837902069092, 3.9399330615997314, 6.255955219268799, 4.4483747482299805, 3.9390647411346436, 4.711745262145996, 5.484639644622803, 4.324307918548584, 4.710647106170654, 4.710393905639648, 6.273246765136719, 3.9411122798919678, 3.94106388092041, 3.9407896995544434], \"Term\": [\"action\", \"better\", \"stress\", \"specify\", \"could\", \"feeling\", \"getting\", \"inactiondo\", \"increase\", \"reduce\", \"strength\", \"sleeping\", \"improve\", \"energy\", \"heart\", \"require\", \"inaction\", \"occur\", \"brain\", \"depression\", \"desire\", \"miss\", \"health\", \"strenthen\", \"learning\", \"movement\", \"running\", \"situation\", \"anxiety\", \"fitness\", \"specify\", \"inactiondo\", \"strenthen\", \"esttem\", \"inactivity\", \"delaya\", \"musle\", \"sterenthern\", \"recruit\", \"drafting\", \"distrust\", \"later\", \"occur\", \"member\", \"yellow\", \"ginger\", \"queen\", \"green\", \"revenge\", \"figure\", \"comedy\", \"trigger\", \"refreshment\", \"avoidance\", \"twist\", \"warning\", \"clock\", \"grab\", \"natural\", \"variable\", \"handle\", \"compete\", \"advantage\", \"allow\", \"spend\", \"relax\", \"avoid\", \"house\", \"peace\", \"issue\", \"burns\", \"focus\", \"running\", \"cause\", \"opportunity\", \"water\", \"mental\", \"action\", \"place\", \"stress\", \"muscle\", \"health\", \"someone\", \"heart\", \"getting\", \"college\", \"sadness\", \"happiness\", \"trouble\", \"wealth\", \"dance\", \"crust\", \"travel\", \"enthusiastic\", \"appetite\", \"lethargy\", \"moeny\", \"charisma\", \"misgiving\", \"agency\", \"perseverance\", \"mix\", \"rejuvenation\", \"vitality\", \"comfy\", \"anger\", \"plenty\", \"ahead\", \"stusy\", \"stamima\", \"salas\", \"ratchetness\", \"spear\", \"best\", \"adjustment\", \"affect\", \"respect\", \"school\", \"peaceful\", \"outlook\", \"excitement\", \"helping\", \"determination\", \"better\", \"situation\", \"miss\", \"health\", \"dream\", \"motivation\", \"enough\", \"getting\", \"money\", \"improve\", \"confidence\", \"control\", \"nothing\", \"tire\", \"feeling\", \"friend\", \"write\", \"something\", \"energy\", \"think\", \"heart\", \"could\", \"depression\", \"fitness\", \"taking\", \"exercise\", \"happy\", \"sleep\", \"source\", \"threat\", \"gasp\", \"calmness\", \"frustration\", \"weekend\", \"synapsis\", \"pains\", \"balance\", \"cheat\", \"atrophy\", \"fulfillment\", \"fatigue\", \"excellent\", \"sore\", \"smiling\", \"cotton\", \"paycheck\", \"suffocation\", \"aching\", \"serinity\", \"chaos\", \"clearing\", \"worthlessness\", \"cutting\", \"ardor\", \"appreciate\", \"suicide\", \"firing\", \"attempt\", \"lively\", \"growth\", \"fulfil\", \"enjoyment\", \"strength\", \"physique\", \"active\", \"anxiety\", \"stress\", \"headache\", \"deterioration\", \"consume\", \"training\", \"connection\", \"breath\", \"brain\", \"depression\", \"energy\", \"movement\", \"strong\", \"muscle\", \"achieve\", \"opportunity\", \"boring\", \"dangerous\", \"stamina\", \"planning\", \"think\", \"health\", \"physical\", \"money\", \"shoes\", \"injury\", \"progress\", \"running\", \"goal\", \"thought\", \"important\", \"sacrifice\", \"appearing\", \"feel\", \"student\", \"quote\", \"emotionally\", \"humiliation\", \"finances\", \"disappointment\", \"stressful\", \"freshness\", \"relationship\", \"whole\", \"favorite\", \"connect\", \"mindfulness\", \"bigger\", \"verbal\", \"collective\", \"buying\", \"sharpen\", \"wellbeing\", \"symptom\", \"repercussion\", \"sneaker\", \"mentally\", \"physically\", \"difference\", \"lonely\", \"inactive\", \"desire\", \"happy\", \"involve\", \"interest\", \"mental\", \"change\", \"power\", \"could\", \"tiredness\", \"boring\", \"fitness\", \"community\", \"understanding\", \"accomplish\", \"feeling\", \"motivation\", \"things\", \"health\", \"better\", \"might\", \"take\", \"strength\", \"goal\", \"wrong\", \"knowing\", \"something\", \"physical\", \"weight\", \"action\", \"heart\", \"tire\", \"improve\", \"relax\", \"shoes\", \"inaction\", \"energy\", \"getting\", \"click\", \"disadvantage\", \"hours\", \"drought\", \"solve\", \"services\", \"although\", \"orientation\", \"share\", \"print\", \"request\", \"however\", \"recognize\", \"evaluate\", \"ideally\", \"website\", \"increasingly\", \"trade\", \"snapshot\", \"mission\", \"three\", \"doctor\", \"common\", \"require\", \"costs\", \"often\", \"driving\", \"least\", \"country\", \"sleepiness\", \"sleeping\", \"asleep\", \"start\", \"sleep\", \"need\", \"running\", \"field\", \"benefit\", \"runner\", \"spending\", \"others\", \"important\", \"ready\", \"people\", \"information\", \"might\", \"become\", \"inside\", \"inaction\", \"enough\", \"right\", \"sport\", \"getting\", \"things\", \"weight\", \"spend\", \"something\", \"money\", \"energy\", \"problem\", \"place\", \"action\", \"better\", \"health\", \"shoes\", \"physical\", \"stress\", \"unfree\", \"reaction\", \"perfect\", \"correct\", \"somebody\", \"effect\", \"gather\", \"usually\", \"words\", \"paradox\", \"universe\", \"criticize\", \"\\\",\\\"you\", \"young\", \"alive\", \"terrible\", \"equipment\", \"greatful\", \"digest\", \"stomach\", \"seize\", \"repeatedly\", \"\\\",somebody\", \"stranger\", \"object\", \"unconsciously\", \"scenario\", \"behaviour\", \"book\", \"train\", \"action\", \"waste\", \"fast\", \"produce\", \"watch\", \"give\", \"keep\", \"response\", \"event\", \"danger\", \"always\", \"cause\", \"first\", \"inaction\", \"could\", \"take\", \"create\", \"acting\", \"situation\", \"brain\", \"result\", \"outcome\", \"something\", \"tire\", \"energy\", \"consequence\", \"place\", \"movement\", \"heart\", \"thought\", \"healthy\", \"increase\", \"problem\", \"health\", \"dream\", \"shoes\", \"people\", \"others\", \"things\", \"change\", \"running\", \"sleep\", \"slothfulness\", \"illness\", \"irritate\", \"weekness\", \"inflamation\", \"noone\", \"economic\", \"leadership\", \"trial\", \"colories\", \"ashamed\", \"strom\", \"sweting\", \"irresposibility\", \"dinner\", \"enviroment\", \"raising\", \"meaningless\", \"joyfull\", \"optimize\", \"experiecnce\", \"irresponsibility\", \"organizational\", \"confidence\\\",increased\", \"favour\", \"racism\", \"kilojoules\", \"bother\", \"impose\", \"adaptability\", \"effectiveness\", \"assertiveness\", \"awareness\", \"enhance\", \"daytime\", \"develop\", \"reduce\", \"higher\", \"increase\", \"sag\", \"morning\", \"climate\", \"improve\", \"satisfaction\", \"disease\", \"social\", \"afraid\", \"caffeine\", \"irregular\", \"breast\", \"early\", \"excessive\", \"heart\", \"consume\", \"light\", \"healthy\", \"weight\", \"prevent\", \"fitness\", \"confidence\", \"action\", \"sleeping\", \"potential\", \"better\", \"stress\", \"make\", \"might\", \"running\", \"material\", \"preserve\", \"cancel\", \"meditation\", \"hopeless\", \"slowly\", \"ponder\", \"ontime\", \"bedding\", \"indicative\", \"surgery\", \"desirable\", \"ideal\", \"relevant\", \"endure\", \"integrity\", \"capability\", \"learning\", \"daily\", \"trust\", \"challenge\", \"disrespect\", \"glasses\", \"focusing\", \"tune\", \"anything,\\\"focusing\", \"compound\", \"costly\", \"guidance\", \"gratification\", \"attitude\", \"reason\", \"independence\", \"risk\", \"energize\", \"regrets\", \"expose\", \"piece\", \"letting\", \"miss\", \"feeling\", \"getting\", \"injury\", \"healthy\", \"opportunity\", \"depression\", \"issue\", \"taking\", \"confidence\", \"mistake\", \"health\", \"things\", \"enough\", \"move\", \"negative\", \"energy\", \"motivation\", \"pillow\", \"thinking\", \"sleep\", \"increase\", \"lose\", \"stress\", \"running\", \"relax\", \"heart\", \"weight\", \"action\", \"others\", \"shoes\", \"problem\"], \"Total\": [214.0, 60.0, 41.0, 11.0, 48.0, 55.0, 57.0, 10.0, 30.0, 27.0, 22.0, 45.0, 27.0, 68.0, 46.0, 30.0, 60.0, 10.0, 28.0, 33.0, 27.0, 20.0, 79.0, 8.0, 11.0, 19.0, 94.0, 22.0, 16.0, 18.0, 11.663690567016602, 10.936716079711914, 8.0276517868042, 7.300571441650391, 7.299978256225586, 6.573281764984131, 6.5733723640441895, 6.573390960693359, 4.3916521072387695, 3.664429187774658, 2.937206506729126, 2.9371938705444336, 10.468792915344238, 5.1602864265441895, 2.209865093231201, 2.2098655700683594, 2.2098677158355713, 2.2098684310913086, 2.209869623184204, 2.209869146347046, 2.209873676300049, 2.2098755836486816, 2.2099061012268066, 2.2099077701568604, 2.2099740505218506, 2.2098278999328613, 2.209970712661743, 2.210162401199341, 2.210048198699951, 2.2100510597229004, 8.949450492858887, 5.448578834533691, 14.985851287841797, 15.118939399719238, 26.09236717224121, 30.480369567871094, 14.127605438232422, 7.789210319519043, 12.028194427490234, 17.253602981567383, 4.704595565795898, 8.499570846557617, 94.3393325805664, 31.13273811340332, 15.912931442260742, 10.121116638183594, 30.476652145385742, 214.94305419921875, 39.14539337158203, 41.23268508911133, 31.968353271484375, 79.06971740722656, 27.810489654541016, 46.75894546508789, 57.04207992553711, 3.0115861892700195, 3.011444091796875, 3.011478900909424, 5.088085174560547, 5.142817497253418, 2.259430170059204, 2.2595207691192627, 2.259572744369507, 2.259589672088623, 2.259376287460327, 2.259528398513794, 2.259352207183838, 2.259521722793579, 2.259509801864624, 2.25957989692688, 2.2595174312591553, 2.259524345397949, 2.259521484375, 2.2595221996307373, 4.635759353637695, 6.696987628936768, 2.830608606338501, 2.830657958984375, 1.507430911064148, 1.5074697732925415, 1.5074706077575684, 1.507470726966858, 1.507472038269043, 1.5074721574783325, 1.5074738264083862, 5.530528545379639, 4.350803375244141, 2.9866573810577393, 2.9866061210632324, 2.9867300987243652, 3.0901613235473633, 4.800987720489502, 11.956544876098633, 60.61975860595703, 22.85097885131836, 20.362655639648438, 79.06971740722656, 25.042177200317383, 31.776948928833008, 34.20726013183594, 57.04207992553711, 36.020694732666016, 27.98971939086914, 14.525738716125488, 14.563560485839844, 21.723405838012695, 40.43909454345703, 55.795047760009766, 15.937215805053711, 9.900435447692871, 49.30364990234375, 68.07925415039062, 26.745765686035156, 46.75894546508789, 48.77106857299805, 33.93617630004883, 18.73090171813965, 20.688020706176758, 22.95211410522461, 24.0983829498291, 99.44133758544922, 3.2645554542541504, 2.6374645233154297, 2.010006904602051, 2.010030746459961, 2.010040521621704, 2.0100667476654053, 2.0100584030151367, 2.0101301670074463, 2.010132074356079, 2.010193109512329, 2.010127305984497, 3.3647477626800537, 3.3897252082824707, 3.4057726860046387, 5.054157257080078, 1.3827663660049438, 1.3827733993530273, 1.3827778100967407, 1.382774829864502, 1.3827717304229736, 1.3827757835388184, 1.3827794790267944, 1.3827776908874512, 1.3827792406082153, 1.382785677909851, 1.3827883005142212, 1.3827837705612183, 1.3827813863754272, 1.3827836513519287, 1.3827848434448242, 2.7621023654937744, 7.356130123138428, 2.8825936317443848, 5.0533246994018555, 22.32497215270996, 5.649655342102051, 14.678976058959961, 16.74637222290039, 41.23268508911133, 8.946983337402344, 3.4644806385040283, 9.804259300231934, 10.161389350891113, 3.673199415206909, 6.731370449066162, 28.037681579589844, 33.93617630004883, 68.07925415039062, 19.096540451049805, 12.599959373474121, 31.968353271484375, 15.745638847351074, 15.912931442260742, 16.5338077545166, 7.0031046867370605, 7.9428205490112305, 8.109930992126465, 26.745765686035156, 79.06971740722656, 36.879886627197266, 36.020694732666016, 44.30064010620117, 27.544885635375977, 14.093057632446289, 94.3393325805664, 24.30128288269043, 18.757308959960938, 16.764873504638672, 4.080310821533203, 3.24914288520813, 3.249192953109741, 3.249055862426758, 3.249094247817993, 3.2492175102233887, 3.248276948928833, 3.248063564300537, 3.2486650943756104, 3.2567827701568604, 8.90979290008545, 7.4673027992248535, 2.418067216873169, 2.41787052154541, 2.4179153442382812, 2.417877674102783, 2.4178860187530518, 2.4178507328033447, 2.417811632156372, 2.417816162109375, 2.4178383350372314, 2.417975902557373, 2.417849540710449, 2.4178221225738525, 2.4166905879974365, 8.19870662689209, 10.025028228759766, 4.001140594482422, 4.017974853515625, 10.548081398010254, 27.245519638061523, 24.0983829498291, 11.009886741638184, 14.896795272827148, 30.476652145385742, 34.05889129638672, 7.428969860076904, 48.77106857299805, 14.034146308898926, 16.5338077545166, 18.73090171813965, 4.020894527435303, 10.56521987915039, 18.243928909301758, 55.795047760009766, 31.776948928833008, 59.76219177246094, 79.06971740722656, 60.61975860595703, 40.62060546875, 46.87955093383789, 22.32497215270996, 24.30128288269043, 15.464024543762207, 8.188881874084473, 49.30364990234375, 36.879886627197266, 47.353851318359375, 214.94305419921875, 46.75894546508789, 40.43909454345703, 27.98971939086914, 30.480369567871094, 44.30064010620117, 60.838844299316406, 68.07925415039062, 57.04207992553711, 13.285736083984375, 12.390608787536621, 9.705344200134277, 7.915173053741455, 5.230177879333496, 5.230447769165039, 5.2303314208984375, 4.335409641265869, 4.335494041442871, 4.335442543029785, 4.335421085357666, 4.3354315757751465, 4.335482120513916, 4.335350513458252, 4.3354172706604, 4.335371017456055, 4.3353495597839355, 4.335348129272461, 4.335330963134766, 4.335346221923828, 4.335290908813477, 4.334855079650879, 4.334946632385254, 30.826183319091797, 7.646812915802002, 4.323446750640869, 3.440462112426758, 3.440486192703247, 3.4403250217437744, 3.4402801990509033, 45.92231369018555, 13.014913558959961, 24.323955535888672, 99.44133758544922, 26.548919677734375, 94.3393325805664, 16.363311767578125, 15.974164962768555, 8.374547958374023, 6.998189449310303, 50.896141052246094, 16.764873504638672, 8.642184257507324, 40.12389373779297, 12.179162979125977, 40.62060546875, 30.86435317993164, 5.857821464538574, 60.838844299316406, 34.20726013183594, 16.204830169677734, 14.798032760620117, 57.04207992553711, 59.76219177246094, 47.353851318359375, 26.09236717224121, 49.30364990234375, 36.020694732666016, 68.07925415039062, 35.572486877441406, 39.14539337158203, 214.94305419921875, 60.61975860595703, 79.06971740722656, 44.30064010620117, 36.879886627197266, 41.23268508911133, 7.737525939941406, 5.99150276184082, 5.119222640991211, 4.246351718902588, 4.246152400970459, 4.228901386260986, 4.21466064453125, 3.373802900314331, 3.3737740516662598, 3.3734166622161865, 3.373492479324341, 3.373378038406372, 3.37339448928833, 3.373739242553711, 3.3721437454223633, 3.373023509979248, 5.020323753356934, 2.5008580684661865, 2.50103497505188, 2.5009407997131348, 2.5010430812835693, 2.500770330429077, 2.500715494155884, 2.500910997390747, 2.5009267330169678, 2.500744581222534, 2.5007874965667725, 2.5008389949798584, 2.5008223056793213, 2.5009686946868896, 214.94305419921875, 15.736796379089355, 12.029962539672852, 4.997787952423096, 5.0148749351501465, 5.904914379119873, 9.059853553771973, 5.0774335861206055, 9.394524574279785, 6.428012371063232, 8.601638793945312, 31.13273811340332, 6.900242328643799, 60.838844299316406, 48.77106857299805, 46.87955093383789, 14.339881896972656, 10.799068450927734, 22.85097885131836, 28.037681579589844, 30.31198501586914, 11.655967712402344, 49.30364990234375, 40.43909454345703, 68.07925415039062, 18.02574920654297, 39.14539337158203, 19.096540451049805, 46.75894546508789, 18.757308959960938, 43.584327697753906, 30.36054229736328, 35.572486877441406, 79.06971740722656, 25.042177200317383, 44.30064010620117, 40.12389373779297, 50.896141052246094, 59.76219177246094, 34.05889129638672, 94.3393325805664, 99.44133758544922, 2.4696860313415527, 3.6668834686279297, 1.8973379135131836, 1.8974487781524658, 1.8975117206573486, 1.8977859020233154, 3.3634145259857178, 4.697896480560303, 1.32648766040802, 1.3264895677566528, 1.326500654220581, 1.3264992237091064, 1.3265013694763184, 1.3265058994293213, 1.3265060186386108, 1.326511263847351, 1.326513648033142, 1.3265128135681152, 1.326512336730957, 1.3265407085418701, 1.3265401124954224, 1.3265455961227417, 1.3266469240188599, 1.32664954662323, 1.3266593217849731, 1.326646327972412, 1.3266494274139404, 1.326673984527588, 1.326675295829773, 1.3266656398773193, 2.624641180038452, 2.624829053878784, 4.109489440917969, 2.7702879905700684, 2.7921297550201416, 5.899656772613525, 27.43821907043457, 6.457940101623535, 30.36054229736328, 3.6229560375213623, 9.15186595916748, 3.6647236347198486, 27.98971939086914, 4.124216556549072, 13.777989387512207, 14.918083190917969, 4.328765869140625, 4.388792514801025, 4.391529083251953, 4.3916120529174805, 9.300738334655762, 4.454334259033203, 46.75894546508789, 9.804259300231934, 10.624914169311523, 43.584327697753906, 47.353851318359375, 13.380407333374023, 18.73090171813965, 14.525738716125488, 214.94305419921875, 45.92231369018555, 14.98341178894043, 60.61975860595703, 41.23268508911133, 21.520381927490234, 40.62060546875, 94.3393325805664, 4.598707675933838, 4.598719120025635, 3.8345980644226074, 3.0616466999053955, 3.061901807785034, 2.2929649353027344, 2.292926073074341, 2.292975902557373, 2.292753219604492, 2.2927169799804688, 2.292917251586914, 2.2927634716033936, 2.2927322387695312, 2.292747735977173, 2.2927463054656982, 2.2927215099334717, 2.2926902770996094, 11.104228973388672, 3.6324357986450195, 5.128145217895508, 6.389461517333984, 1.5241169929504395, 1.5241878032684326, 1.5241973400115967, 1.5241060256958008, 1.5241954326629639, 1.5240919589996338, 1.5241929292678833, 1.5240859985351562, 1.5240998268127441, 5.905740737915039, 6.469786643981934, 4.762717247009277, 4.799613952636719, 3.123878002166748, 3.1237692832946777, 3.123826503753662, 3.123997211456299, 8.788228034973145, 20.362655639648438, 55.795047760009766, 57.04207992553711, 27.544885635375977, 43.584327697753906, 15.912931442260742, 33.93617630004883, 17.253602981567383, 20.688020706176758, 14.525738716125488, 9.30378532409668, 79.06971740722656, 59.76219177246094, 34.20726013183594, 16.592098236083984, 5.580183982849121, 68.07925415039062, 31.776948928833008, 17.77497100830078, 19.843931198120117, 99.44133758544922, 30.36054229736328, 19.901838302612305, 41.23268508911133, 94.3393325805664, 30.480369567871094, 46.75894546508789, 47.353851318359375, 214.94305419921875, 50.896141052246094, 44.30064010620117, 35.572486877441406], \"loglift\": [30.0, 29.0, 28.0, 27.0, 26.0, 25.0, 24.0, 23.0, 22.0, 21.0, 20.0, 19.0, 18.0, 17.0, 16.0, 15.0, 14.0, 13.0, 12.0, 11.0, 10.0, 9.0, 8.0, 7.0, 6.0, 5.0, 4.0, 3.0, 2.0, 1.0, 2.3857998847961426, 2.3817999362945557, 2.3580000400543213, 2.348900079727173, 2.3485000133514404, 2.3380000591278076, 2.337899923324585, 2.3378000259399414, 2.2802999019622803, 2.24429988861084, 2.1879000663757324, 2.1868999004364014, 2.1800999641418457, 2.1191000938415527, 2.0876998901367188, 2.0876998901367188, 2.0876998901367188, 2.0876998901367188, 2.0876998901367188, 2.0876998901367188, 2.0876998901367188, 2.0876998901367188, 2.0875000953674316, 2.0875000953674316, 2.087100028991699, 2.086899995803833, 2.0866000652313232, 2.086199998855591, 2.0861001014709473, 2.085400104522705, 2.0292999744415283, 1.818600058555603, 1.5139000415802002, 1.31850004196167, 1.0743000507354736, 1.0052000284194946, 1.2906999588012695, 1.4908000230789185, 1.2733999490737915, 1.0694999694824219, 1.7161999940872192, 1.3808000087738037, 0.0746999979019165, 0.6359999775886536, 0.9930999875068665, 1.229200005531311, 0.5011000037193298, -1.000599980354309, 0.2282000035047531, 0.13249999284744263, 0.3278999924659729, -0.424699991941452, 0.4383000135421753, -0.015799999237060547, -0.28209999203681946, 2.110100030899048, 2.109600067138672, 2.109499931335449, 2.0797998905181885, 2.0694000720977783, 2.0123000144958496, 2.011899948120117, 2.011699914932251, 2.0114998817443848, 2.011399984359741, 2.011199951171875, 2.011199951171875, 2.011199951171875, 2.0111000537872314, 2.0111000537872314, 2.010999917984009, 2.010999917984009, 2.0109000205993652, 2.0109000205993652, 1.9560999870300293, 1.8049999475479126, 1.7857999801635742, 1.7856999635696411, 1.780900001525879, 1.7806999683380127, 1.7806999683380127, 1.7806999683380127, 1.7805999517440796, 1.7805999517440796, 1.7805999517440796, 1.7798999547958374, 1.7419999837875366, 1.732699990272522, 1.7323999404907227, 1.732300043106079, 1.698099970817566, 1.643399953842163, 1.4040000438690186, 1.0185999870300293, 1.1546000242233276, 1.1547000408172607, 0.6001999974250793, 0.947700023651123, 0.7099999785423279, 0.6358000040054321, 0.34540000557899475, 0.5842999815940857, 0.7045999765396118, 1.0312999486923218, 1.0282000303268433, 0.8064000010490417, 0.4684000015258789, 0.2621999979019165, 0.9387999773025513, 1.1984000205993652, 0.2702000141143799, 0.0640999972820282, 0.5992000102996826, 0.1923000067472458, 0.149399995803833, 0.3610000014305115, 0.7771999835968018, 0.6777999997138977, 0.5741999745368958, 0.5249000191688538, -0.7125999927520752, 2.730600118637085, 2.6658999919891357, 2.5524001121520996, 2.552299976348877, 2.5522000789642334, 2.5522000789642334, 2.552000045776367, 2.552000045776367, 2.552000045776367, 2.551800012588501, 2.551800012588501, 2.422300100326538, 2.414099931716919, 2.4107000827789307, 2.2936999797821045, 2.2904000282287598, 2.2904000282287598, 2.2904000282287598, 2.2904000282287598, 2.290299892425537, 2.290299892425537, 2.290299892425537, 2.290299892425537, 2.290299892425537, 2.290299892425537, 2.290299892425537, 2.290299892425537, 2.290299892425537, 2.290299892425537, 2.290299892425537, 2.233799934387207, 2.102299928665161, 2.1914000511169434, 2.01419997215271, 1.5851999521255493, 1.9047000408172607, 1.6223000288009644, 1.5780999660491943, 1.3061000108718872, 1.7223999500274658, 2.007499933242798, 1.6308000087738037, 1.5951999425888062, 1.9493999481201172, 1.7294000387191772, 1.1266000270843506, 0.9704999923706055, 0.642300009727478, 1.1786999702453613, 1.3798999786376953, 0.7124999761581421, 1.156999945640564, 1.1469000577926636, 1.1083999872207642, 1.690000057220459, 1.5635000467300415, 1.5426000356674194, 0.6276999711990356, -0.19329999387264252, 0.35740000009536743, 0.37560001015663147, 0.12370000034570694, 0.4050000011920929, 1.0318000316619873, -0.9078999757766724, 0.446399986743927, 0.705299973487854, 0.8173999786376953, 1.700700044631958, 1.6511000394821167, 1.6510000228881836, 1.6506999731063843, 1.6506999731063843, 1.6505000591278076, 1.6500999927520752, 1.649999976158142, 1.6497999429702759, 1.607100009918213, 1.5983999967575073, 1.5958000421524048, 1.5615999698638916, 1.5607999563217163, 1.5607000589370728, 1.5606000423431396, 1.5605000257492065, 1.5605000257492065, 1.5605000257492065, 1.5605000257492065, 1.5604000091552734, 1.5604000091552734, 1.5604000091552734, 1.5602999925613403, 1.558899998664856, 1.549299955368042, 1.4765000343322754, 1.4428999423980713, 1.4378000497817993, 1.429800033569336, 1.3344000577926636, 1.2067999839782715, 1.2736999988555908, 1.201300024986267, 1.0407999753952026, 1.0144000053405762, 1.3174999952316284, 0.8483999967575073, 1.1440999507904053, 1.092900037765503, 1.047700047492981, 1.4211000204086304, 1.1447999477386475, 0.9848999977111816, 0.6424000263214111, 0.7829999923706055, 0.5656999945640564, 0.4620000123977661, 0.5493999719619751, 0.6804999709129333, 0.6158000230789185, 0.8712999820709229, 0.6884999871253967, 0.9024999737739563, 1.198699951171875, 0.30489999055862427, 0.37860000133514404, 0.20980000495910645, -0.7409999966621399, 0.1931000053882599, 0.28139999508857727, 0.5062000155448914, 0.4251999855041504, 0.0828000009059906, -0.2524000108242035, -0.3783000111579895, -0.2549000084400177, 1.2484999895095825, 1.2447999715805054, 1.2295000553131104, 1.2134000062942505, 1.1669000387191772, 1.1668000221252441, 1.1668000221252441, 1.1375999450683594, 1.1375999450683594, 1.1375000476837158, 1.1375000476837158, 1.1375000476837158, 1.1375000476837158, 1.1375000476837158, 1.1374000310897827, 1.1374000310897827, 1.1374000310897827, 1.1374000310897827, 1.1374000310897827, 1.1374000310897827, 1.1374000310897827, 1.1373000144958496, 1.135599970817566, 1.1276999711990356, 1.115399956703186, 1.1025999784469604, 1.0914000272750854, 1.0911999940872192, 1.0911999940872192, 1.0911999940872192, 0.9872999787330627, 1.030400037765503, 0.9930999875068665, 0.9056000113487244, 0.9430000185966492, 0.8072999715805054, 0.9667999744415283, 0.9672999978065491, 1.0259000062942505, 1.0542000532150269, 0.6793000102043152, 0.8899999856948853, 0.9886000156402588, 0.6430000066757202, 0.8985999822616577, 0.5656999945640564, 0.6226999759674072, 1.0539000034332275, 0.3928999900817871, 0.5527999997138977, 0.7680000066757202, 0.7810999751091003, 0.36660000681877136, 0.319599986076355, 0.366100013256073, 0.5692999958992004, 0.24079999327659607, 0.35580000281333923, 0.03550000116229057, 0.32199999690055847, 0.2669999897480011, -0.7354000210762024, -0.009600000455975533, -0.3098999857902527, 0.11249999701976776, 0.24079999327659607, 0.061799999326467514, 1.5333000421524048, 1.5056999921798706, 1.4855999946594238, 1.455299973487854, 1.4550000429153442, 1.4428999423980713, 1.4357000589370728, 1.4076999425888062, 1.4076000452041626, 1.4075000286102295, 1.4074000120162964, 1.4074000120162964, 1.4074000120162964, 1.4071999788284302, 1.4049999713897705, 1.393399953842163, 1.367799997329712, 1.3213000297546387, 1.3213000297546387, 1.3212000131607056, 1.3212000131607056, 1.3212000131607056, 1.3212000131607056, 1.3210999965667725, 1.3210999965667725, 1.3210999965667725, 1.3210999965667725, 1.3210999965667725, 1.3210999965667725, 1.3210999965667725, 1.2649999856948853, 1.274899959564209, 1.277400016784668, 1.291200041770935, 1.2884999513626099, 1.2792999744415283, 1.2462999820709229, 1.2762999534606934, 1.1965999603271484, 1.1949000358581543, 1.1442999839782715, 0.9495000243186951, 1.1642999649047852, 0.7849000096321106, 0.7832000255584717, 0.7608000040054321, 1.0118000507354736, 1.0669000148773193, 0.8367999792098999, 0.7062000036239624, 0.6629999876022339, 0.9735000133514404, 0.4138000011444092, 0.48500001430511475, 0.2800000011920929, 0.7950999736785889, 0.48919999599456787, 0.767799973487854, 0.31709998846054077, 0.7087000012397766, 0.2815000116825104, 0.459199994802475, 0.33239999413490295, -0.14409999549388885, 0.5019999742507935, 0.14569999277591705, 0.17970000207424164, -0.010099999606609344, -0.19099999964237213, 0.21619999408721924, -0.6039000153541565, -0.7279999852180481, 2.8661000728607178, 2.749799966812134, 2.7460999488830566, 2.745800018310547, 2.7455999851226807, 2.744800090789795, 2.558199882507324, 2.4755001068115234, 2.4677999019622803, 2.4677999019622803, 2.4677999019622803, 2.4677999019622803, 2.4677000045776367, 2.4677000045776367, 2.4677000045776367, 2.4677000045776367, 2.4677000045776367, 2.4677000045776367, 2.4677000045776367, 2.467600107192993, 2.467600107192993, 2.467600107192993, 2.4670000076293945, 2.4670000076293945, 2.4670000076293945, 2.4670000076293945, 2.466900110244751, 2.466900110244751, 2.466900110244751, 2.466900110244751, 2.421099901199341, 2.4205000400543213, 2.3577001094818115, 2.366499900817871, 2.3592000007629395, 1.9961999654769897, 1.4665000438690186, 1.9063999652862549, 1.3144999742507935, 2.0989999771118164, 1.7448999881744385, 2.0868000984191895, 1.1791000366210938, 1.969099998474121, 1.426300048828125, 1.3467999696731567, 1.9199999570846558, 1.907099962234497, 1.906499981880188, 1.906499981880188, 1.5413000583648682, 1.8924000263214111, 0.7512999773025513, 1.4891999959945679, 1.4084999561309814, 0.4918999969959259, 0.4090999960899353, 1.1780999898910522, 0.9330000281333923, 1.0959999561309814, -0.8841999769210815, 0.22360000014305115, 1.0654000043869019, -0.028300000354647636, 0.1712999939918518, 0.7031000256538391, 0.1428000032901764, -0.7311999797821045, 2.1224000453948975, 2.1224000453948975, 2.071000099182129, 2.03439998626709, 2.0336999893188477, 1.9383000135421753, 1.9381999969482422, 1.9381999969482422, 1.9381999969482422, 1.938099980354309, 1.938099980354309, 1.938099980354309, 1.938099980354309, 1.937999963760376, 1.937999963760376, 1.937999963760376, 1.9378999471664429, 1.9220000505447388, 1.863800048828125, 1.7965999841690063, 1.7920000553131104, 1.710800051689148, 1.710800051689148, 1.7107000350952148, 1.7107000350952148, 1.7107000350952148, 1.7107000350952148, 1.7107000350952148, 1.7107000350952148, 1.7107000350952148, 1.6552000045776367, 1.5642000436782837, 1.592900037765503, 1.5851999521255493, 1.6291999816894531, 1.628999948501587, 1.628999948501587, 1.6289000511169434, 1.4752999544143677, 1.211899995803833, 0.9689000248908997, 0.9217000007629395, 0.9100000262260437, 0.7264999747276306, 1.0600999593734741, 0.6561999917030334, 0.9794999957084656, 0.7973999977111816, 0.9732000231742859, 1.2015000581741333, 0.026100000366568565, 0.13609999418258667, 0.4465999901294708, 0.8402000069618225, 1.4345999956130981, 0.005499999970197678, 0.3684999942779541, 0.7412999868392944, 0.6617000102996826, -0.4875999987125397, 0.3578000068664551, 0.6585000157356262, 0.10920000076293945, -0.5665000081062317, 0.3255999982357025, -0.01679999940097332, -0.029500000178813934, -1.2556999921798706, -0.2799000144004822, -0.14110000431537628, 0.07819999754428864], \"logprob\": [30.0, 29.0, 28.0, 27.0, 26.0, 25.0, 24.0, 23.0, 22.0, 21.0, 20.0, 19.0, 18.0, 17.0, 16.0, 15.0, 14.0, 13.0, 12.0, 11.0, 10.0, 9.0, 8.0, 7.0, 6.0, 5.0, 4.0, 3.0, 2.0, 1.0, -4.333499908447266, -4.401800155639648, -4.734899997711182, -4.838900089263916, -4.839399814605713, -4.954800128936768, -4.954899787902832, -4.954999923706055, -5.4156999588012695, -5.632800102233887, -5.910399913787842, -5.911399841308594, -4.647200107574463, -5.415599822998047, -6.295100212097168, -6.295100212097168, -6.295100212097168, -6.295100212097168, -6.295100212097168, -6.295100212097168, -6.295100212097168, -6.295100212097168, -6.295300006866455, -6.295300006866455, -6.2957000732421875, -6.295899868011475, -6.296199798583984, -6.296500205993652, -6.296599864959717, -6.297299861907959, -4.954899787902832, -5.661799907684326, -4.954800128936768, -5.141300201416016, -4.839799880981445, -4.753499984741211, -5.2368998527526855, -5.632299900054932, -5.41510009765625, -5.258299827575684, -5.910999774932861, -5.654900074005127, -4.554200172424316, -5.101500034332275, -5.415599822998047, -5.631899833679199, -5.257699966430664, -4.8059000968933105, -5.280300140380859, -5.323999881744385, -5.3831000328063965, -5.230100154876709, -5.4120001792907715, -5.34660005569458, -5.414100170135498, -5.963200092315674, -5.963699817657471, -5.963799953460693, -5.468999862670898, -5.468699932098389, -6.348400115966797, -6.348700046539307, -6.348899841308594, -6.348999977111816, -6.3491997718811035, -6.349400043487549, -6.3495001792907715, -6.349400043487549, -6.3495001792907715, -6.3495001792907715, -6.3495001792907715, -6.349599838256836, -6.349599838256836, -6.349699974060059, -5.6859002113342285, -5.469099998474121, -6.3495001792907715, -6.3495001792907715, -6.984499931335449, -6.984600067138672, -6.9847002029418945, -6.9847002029418945, -6.9847002029418945, -6.9847002029418945, -6.9847002029418945, -5.6855998039245605, -5.963399887084961, -6.348899841308594, -6.3491997718811035, -6.349299907684326, -6.3495001792907715, -5.963500022888184, -5.290500164031982, -4.052499771118164, -4.892099857330322, -5.007299900054932, -4.2052001953125, -5.007500171661377, -5.006999969482422, -5.007500171661377, -4.786499977111816, -5.007400035858154, -5.1392998695373535, -5.468500137329102, -5.468999862670898, -5.290900230407715, -5.007599830627441, -4.891900062561035, -5.468200206756592, -5.684800148010254, -5.007599830627441, -4.890999794006348, -5.290200233459473, -5.138400077819824, -5.139200210571289, -5.290200233459473, -5.468400001525879, -5.468400001525879, -5.468200206756592, -5.468699932098389, -5.28879976272583, -5.26200008392334, -5.539999961853027, -5.92519998550415, -5.925300121307373, -5.9253997802734375, -5.9253997802734375, -5.925600051879883, -5.92549991607666, -5.925600051879883, -5.9257001876831055, -5.92579984664917, -5.54010009765625, -5.540900230407715, -5.539599895477295, -5.2617998123168945, -6.561299800872803, -6.561299800872803, -6.561299800872803, -6.561299800872803, -6.561299800872803, -6.561299800872803, -6.561299800872803, -6.561299800872803, -6.561299800872803, -6.561399936676025, -6.561399936676025, -6.561399936676025, -6.561399936676025, -6.561399936676025, -6.561399936676025, -5.925899982452393, -5.077899932861328, -5.9257001876831055, -5.541500091552734, -4.484899997711182, -5.5395002365112305, -4.867000102996826, -4.779399871826172, -4.150400161743164, -5.26200008392334, -5.9257001876831055, -5.2621002197265625, -5.26200008392334, -5.925300121307373, -5.539599895477295, -4.71560001373291, -4.680799961090088, -4.312699794769287, -5.047599792480469, -5.262199878692627, -4.998499870300293, -5.262199878692627, -5.26170015335083, -5.26200008392334, -5.539400100708008, -5.539999961853027, -5.54010009765625, -5.26170015335083, -4.998700141906738, -5.210700035095215, -5.216000080108643, -5.261000156402588, -5.454999923706055, -5.498199939727783, -5.536799907684326, -5.53879976272583, -5.538899898529053, -5.539100170135498, -6.068900108337402, -6.346199989318848, -6.34630012512207, -6.34660005569458, -6.346700191497803, -6.346799850463867, -6.347499847412109, -6.347700119018555, -6.347700119018555, -6.387899875640869, -5.390200138092041, -5.569399833679199, -6.731200218200684, -6.73199987411499, -6.732100009918213, -6.7322998046875, -6.7322998046875, -6.7322998046875, -6.732399940490723, -6.732399940490723, -6.732399940490723, -6.732399940490723, -6.732500076293945, -6.732500076293945, -6.734499931335449, -5.522500038146973, -5.394199848175049, -6.346199989318848, -6.347099781036377, -5.389999866485596, -4.536499977111816, -4.786799907684326, -5.503300189971924, -5.2733001708984375, -4.717899799346924, -4.633299827575684, -5.852799892425537, -4.440199851989746, -5.390100002288818, -5.277400016784668, -5.19789981842041, -6.3632001876831055, -5.673399925231934, -5.2870001792907715, -4.51170015335083, -4.934000015258789, -4.519700050354004, -4.343400001525879, -4.5218000411987305, -4.790900230407715, -4.712399959564209, -5.198699951171875, -5.2967000007629395, -5.534800052642822, -5.874199867248535, -4.972799777984619, -5.189499855041504, -5.10830020904541, -4.54640007019043, -5.137599945068359, -5.194499969482422, -5.337699890136719, -5.333499908447266, -5.3018999099731445, -5.320000171661377, -5.333399772644043, -5.3867998123168945, -5.34060001373291, -5.414000034332275, -5.673500061035156, -5.893499851226807, -6.354400157928467, -6.354400157928467, -6.354499816894531, -6.571300029754639, -6.571300029754639, -6.571400165557861, -6.571400165557861, -6.571499824523926, -6.571499824523926, -6.571499824523926, -6.571499824523926, -6.571499824523926, -6.571499824523926, -6.571499824523926, -6.571599960327148, -6.571599960327148, -6.571599960327148, -6.571700096130371, -6.573500156402588, -4.619699954986572, -6.026000022888184, -6.609099864959717, -6.848800182342529, -6.848899841308594, -6.848999977111816, -6.848999977111816, -4.361499786376953, -5.57919979095459, -4.991099834442139, -3.670599937438965, -4.953800201416016, -3.8215999603271484, -5.413899898529053, -5.4375, -6.024700164794922, -6.175899982452393, -4.5665998458862305, -5.4664998054504395, -6.0304999351501465, -4.840700149536133, -5.777400016784668, -4.905799865722656, -5.1234002113342285, -6.354100227355957, -4.674600124359131, -5.0904998779296875, -5.622499942779541, -5.700099945068359, -4.7652997970581055, -4.7657999992370605, -4.952000141143799, -5.344799995422363, -5.0370001792907715, -5.235899925231934, -4.919600009918213, -5.282199859619141, -5.241399765014648, -4.5406999588012695, -5.080699920654297, -5.115300178527832, -5.272200107574463, -5.327300071716309, -5.394800186157227, -5.596399784088135, -5.879700183868408, -6.057199954986572, -6.274400234222412, -6.274700164794922, -6.290900230407715, -6.301400184631348, -6.552000045776367, -6.55210018157959, -6.5524001121521, -6.5524001121521, -6.5524001121521, -6.5524001121521, -6.552499771118164, -6.555200099945068, -6.5665998458862305, -6.194499969482422, -6.93779993057251, -6.93779993057251, -6.93779993057251, -6.93779993057251, -6.938000202178955, -6.938000202178955, -6.938000202178955, -6.938000202178955, -6.938000202178955, -6.938000202178955, -6.938000202178955, -6.9380998611450195, -6.938000202178955, -2.5404000282287598, -5.144899845123291, -5.410900115966797, -6.275599956512451, -6.274899959564209, -6.120699882507324, -5.725599765777588, -6.274600028991699, -5.738999843597412, -6.120200157165527, -5.879499912261963, -4.787899971008301, -6.079899787902832, -4.282599925994873, -4.50540018081665, -4.567299842834473, -5.500899791717529, -5.729400157928467, -5.20989990234375, -5.136000156402588, -5.101200103759766, -5.746399879455566, -4.863900184631348, -4.991000175476074, -4.675000190734863, -5.488800048828125, -5.0192999839782715, -5.458399772644043, -5.013599872589111, -5.5355000495910645, -5.11959981918335, -5.303400039672852, -5.2718000411987305, -4.94950008392334, -5.453199863433838, -5.238999843597412, -5.303999900817871, -5.25600004196167, -5.276400089263916, -5.43149995803833, -5.232800006866455, -5.304200172424316, -5.405600070953369, -5.1265997886657715, -5.7891998291015625, -5.789400100708008, -5.789599895477295, -5.790299892425537, -5.4045000076293945, -5.15310001373291, -6.4253997802734375, -6.4253997802734375, -6.42549991607666, -6.42549991607666, -6.42549991607666, -6.42549991607666, -6.42549991607666, -6.42549991607666, -6.42549991607666, -6.42549991607666, -6.42549991607666, -6.425600051879883, -6.425600051879883, -6.425600051879883, -6.42609977722168, -6.42609977722168, -6.42609977722168, -6.42609977722168, -6.426199913024902, -6.426199913024902, -6.426199913024902, -6.426199913024902, -5.789700031280518, -5.790299892425537, -5.404699802398682, -5.790299892425537, -5.789700031280518, -5.404600143432617, -4.397299766540527, -5.4039998054504395, -4.4481000900268555, -5.789400100708008, -5.216899871826172, -5.790200233459473, -4.66480016708374, -5.789700031280518, -5.126299858093262, -5.126399993896484, -5.79040002822876, -5.789599895477295, -5.789599895477295, -5.789599895477295, -5.404399871826172, -5.7895002365112305, -4.579400062561035, -5.403800010681152, -5.4039998054504395, -4.909200191497803, -4.908999919891357, -5.403800010681152, -5.3125, -5.403800010681152, -4.689599990844727, -5.125199794769287, -5.40339994430542, -5.0995001792907715, -5.285200119018555, -5.40369987487793, -5.328700065612793, -5.360000133514404, -5.527599811553955, -5.527599811553955, -5.760700225830078, -6.02239990234375, -6.0229997634887695, -6.407599925994873, -6.407700061798096, -6.407700061798096, -6.407800197601318, -6.407899856567383, -6.407800197601318, -6.407899856567383, -6.407899856567383, -6.4079999923706055, -6.4079999923706055, -6.4079999923706055, -6.408199787139893, -4.846499919891357, -6.021999835968018, -5.7444000244140625, -5.529099941253662, -7.043600082397461, -7.043499946594238, -7.043600082397461, -7.043600082397461, -7.043600082397461, -7.043700218200684, -7.043600082397461, -7.043700218200684, -7.043700218200684, -5.744699954986572, -5.7444000244140625, -6.021999835968018, -6.021999835968018, -6.40749979019165, -6.407700061798096, -6.407700061798096, -6.407700061798096, -5.5269999504089355, -4.950099945068359, -4.185200214385986, -4.21019983291626, -4.949900150299072, -4.674600124359131, -5.348499774932861, -4.995100021362305, -5.348199844360352, -5.348800182342529, -5.526599884033203, -5.743899822235107, -4.779300212860107, -4.9492998123168945, -5.196700096130371, -5.526599884033203, -6.021900177001953, -4.94950008392334, -5.348499774932861, -5.556600093841553, -5.526199817657471, -5.063799858093262, -5.404799938201904, -5.526400089263916, -5.347300052642822, -5.195400238037109, -5.43310022354126, -5.347499847412109, -5.347599983215332, -5.061100006103516, -5.525899887084961, -5.525899887084961, -5.526000022888184]}, \"token.table\": {\"Topic\": [6, 6, 1, 4, 5, 6, 8, 1, 2, 3, 4, 5, 6, 8, 3, 2, 5, 6, 8, 1, 2, 3, 4, 5, 6, 7, 8, 1, 2, 3, 4, 6, 8, 7, 2, 1, 2, 3, 5, 8, 2, 5, 6, 4, 7, 8, 2, 2, 7, 6, 1, 2, 3, 4, 5, 6, 5, 4, 5, 6, 1, 2, 2, 3, 4, 5, 6, 8, 8, 4, 2, 3, 3, 7, 2, 4, 5, 1, 7, 3, 3, 2, 7, 8, 1, 2, 5, 7, 8, 1, 6, 7, 8, 3, 1, 2, 4, 5, 6, 8, 6, 1, 3, 4, 5, 6, 7, 2, 1, 2, 4, 5, 6, 7, 8, 4, 6, 2, 3, 4, 5, 6, 8, 7, 1, 2, 3, 4, 5, 6, 7, 8, 4, 5, 7, 8, 3, 4, 5, 8, 1, 5, 6, 4, 2, 4, 5, 7, 3, 8, 8, 1, 2, 3, 4, 5, 6, 7, 8, 5, 8, 1, 2, 4, 5, 6, 8, 3, 2, 3, 3, 5, 5, 6, 7, 1, 4, 2, 7, 1, 2, 6, 5, 4, 8, 1, 5, 6, 8, 1, 2, 3, 6, 7, 8, 7, 4, 3, 5, 8, 2, 3, 4, 5, 6, 8, 1, 3, 4, 5, 6, 7, 8, 2, 3, 4, 6, 6, 8, 3, 5, 3, 2, 4, 5, 6, 8, 5, 1, 4, 5, 6, 8, 6, 2, 3, 7, 8, 2, 1, 3, 6, 3, 4, 5, 6, 5, 7, 1, 1, 2, 3, 4, 5, 6, 7, 8, 8, 1, 4, 5, 6, 8, 1, 3, 1, 2, 4, 5, 6, 5, 6, 7, 8, 2, 4, 6, 7, 5, 4, 1, 2, 3, 4, 5, 6, 7, 8, 8, 1, 5, 1, 1, 2, 3, 4, 5, 6, 8, 5, 5, 4, 5, 6, 7, 8, 5, 7, 6, 1, 7, 4, 8, 4, 8, 1, 2, 3, 4, 5, 6, 8, 6, 7, 2, 3, 5, 8, 2, 4, 5, 6, 8, 2, 7, 6, 1, 5, 2, 5, 6, 3, 8, 4, 5, 7, 2, 4, 1, 2, 3, 5, 6, 7, 8, 7, 4, 8, 4, 5, 6, 2, 3, 4, 7, 4, 1, 2, 3, 4, 5, 6, 8, 1, 2, 4, 5, 1, 4, 3, 5, 6, 2, 4, 6, 7, 8, 1, 4, 5, 6, 7, 8, 8, 2, 4, 1, 2, 3, 4, 5, 6, 8, 3, 3, 6, 1, 3, 3, 6, 1, 2, 3, 4, 5, 6, 8, 1, 4, 6, 8, 1, 2, 3, 4, 5, 6, 7, 8, 1, 8, 6, 1, 3, 5, 6, 8, 8, 1, 2, 6, 2, 1, 2, 4, 5, 6, 7, 8, 2, 3, 4, 5, 8, 1, 2, 3, 4, 5, 6, 7, 8, 1, 2, 3, 4, 5, 6, 7, 8, 1, 2, 4, 5, 6, 7, 8, 2, 5, 1, 4, 7, 8, 8, 5, 1, 2, 4, 5, 5, 4, 8, 5, 3, 7, 3, 4, 5, 6, 7, 2, 4, 5, 6, 7, 8, 1, 4, 5, 6, 8, 1, 1, 2, 4, 5, 8, 1, 1, 2, 4, 5, 6, 7, 8, 5, 4, 6, 8, 8, 7, 3, 4, 5, 7, 8, 1, 2, 3, 4, 5, 6, 7, 8, 3, 5, 8, 2, 3, 4, 5, 6, 7, 8, 4, 5, 6, 1, 5, 6, 7, 7, 7, 7, 1, 4, 5, 6, 7, 8, 7, 1, 5, 6, 7, 7, 2, 4, 5, 6, 1, 1, 6, 7, 5, 6, 8, 5, 2, 3, 5, 8, 1, 3, 4, 5, 6, 7, 8, 2, 3, 4, 8, 2, 3, 4, 5, 8, 1, 2, 3, 4, 5, 6, 7, 8, 8, 7, 8, 1, 8, 1, 2, 3, 4, 5, 6, 8, 2, 4, 6, 1, 2, 3, 4, 5, 6, 7, 8, 4, 2, 1, 2, 4, 5, 8, 5, 2, 3, 4, 6, 8, 2, 2, 1, 2, 3, 4, 5, 6, 8, 3, 5, 7, 1, 2, 4, 5, 6, 8, 1, 2, 3, 4, 5, 6, 8, 1, 3, 5, 6, 8, 1, 2, 3, 4, 5, 6, 7, 8, 1, 1, 1, 3, 5, 6, 8, 2, 5, 6, 8, 7, 2, 3, 4, 5, 6, 7, 6, 1, 4, 6, 5, 8, 1, 3, 4, 5, 8, 7, 7, 5, 2, 3, 4, 5, 6, 7, 8, 4, 6, 8, 1, 2, 3, 6, 3, 1, 3, 4, 6, 8, 1, 2, 1, 2, 4, 5, 6, 7, 6, 2, 1, 2, 3, 4, 5, 6, 8, 4, 6, 1, 3, 4, 4, 8, 1, 2, 3, 4, 5, 8, 1, 2, 4, 5, 6, 7, 8, 3, 4, 5, 6, 7, 2, 7, 8, 4, 5, 7, 8, 2, 4, 5, 6, 8, 2, 3, 5, 6, 7, 5, 1, 2, 4, 5, 6, 7, 8, 2, 6, 1, 3, 4, 5, 1, 4, 7, 7, 2, 6, 2, 5, 6, 5, 6, 8, 5, 1, 1, 2, 3, 4, 5, 6, 7, 8, 1, 4, 8, 2, 4, 6, 1, 2, 3, 4, 5, 6, 7, 8, 8, 6, 4, 5, 3, 5, 6, 2, 7, 8, 4, 6, 2, 3, 4, 5, 6, 7, 8, 1, 2, 4, 5, 6, 8, 4, 5, 8, 1, 3, 5, 1, 2, 3, 4, 5, 6, 7, 8, 4, 2, 4, 5, 7, 2, 3, 4, 7, 8, 6, 1, 2, 6, 3, 5, 5, 4, 1, 2, 3, 4, 5, 6, 8, 2, 4, 5, 6, 8, 1, 2, 3, 4, 5, 6, 7, 8, 5, 2, 4, 5, 6, 7, 8, 7, 8, 3, 5, 4, 1, 3, 5, 6, 7, 8, 5, 6, 1, 2, 4, 5, 6, 7, 8, 1, 2, 4, 5, 6, 3, 5, 3, 2, 1, 1, 2, 4, 5, 6, 8, 5, 6, 2, 5, 6, 2, 1, 3, 6, 7, 8, 3, 4, 5, 6, 8, 1, 6, 6, 1, 2, 3, 4, 5, 6, 7, 8, 1, 1, 2, 3, 4, 5, 6, 7, 8, 4, 7, 1, 2, 3, 4, 5, 6, 7, 8, 4, 2, 3, 3, 8, 7, 4, 3, 1, 3, 4, 5, 6, 8, 2, 3, 4, 6, 8, 6, 1, 2, 3, 4, 5, 6, 8, 2, 3, 4, 5, 6, 8, 2, 5, 6, 7, 8, 2, 3, 4, 5, 6, 8, 3, 5, 2, 3, 4, 5, 6, 7, 8, 1, 2, 3, 4, 5, 8, 5, 6, 3, 4, 5, 6, 8, 2, 7, 1, 2, 7, 1, 7, 8, 8, 1, 6, 1, 4, 5, 8, 6, 6, 6, 1, 4, 2, 1, 1, 3, 4, 6, 8, 6, 8, 1, 2, 3, 5, 6, 8, 2, 3, 5, 3, 7, 1, 2, 3, 4, 5, 6, 7, 8, 4, 4, 6, 3, 2, 4, 5, 2, 3, 4, 5, 6, 8, 1, 6], \"Freq\": [0.8893119692802429, 0.7997711300849915, 0.054812755435705185, 0.383689284324646, 0.21925102174282074, 0.16443826258182526, 0.16443826258182526, 0.06350965052843094, 0.12701930105686188, 0.19052894413471222, 0.19052894413471222, 0.3175482451915741, 0.12701930105686188, 0.12701930105686188, 0.7231851816177368, 0.18520115315914154, 0.09260057657957077, 0.5556035041809082, 0.18520115315914154, 0.03256676346063614, 0.013957184739410877, 0.004652394913136959, 0.07443831861019135, 0.13026705384254456, 0.7025116682052612, 0.018609579652547836, 0.027914369478821754, 0.13624928891658783, 0.13624928891658783, 0.27249857783317566, 0.20437392592430115, 0.06812464445829391, 0.20437392592430115, 0.7537694573402405, 0.6633614301681519, 0.40037766098976135, 0.06672961264848709, 0.06672961264848709, 0.40037766098976135, 0.06672961264848709, 0.5424436330795288, 0.18081454932689667, 0.18081454932689667, 0.4620254635810852, 0.2310127317905426, 0.2310127317905426, 0.8851202726364136, 0.7065495252609253, 0.35327476263046265, 0.8896417617797852, 0.3307110369205475, 0.06614220887422562, 0.06614220887422562, 0.13228441774845123, 0.19842661917209625, 0.26456883549690247, 0.9559623599052429, 0.11625691503286362, 0.23251383006572723, 0.5812845826148987, 0.29864174127578735, 0.5972834825515747, 0.119428850710392, 0.238857701420784, 0.238857701420784, 0.1791432797908783, 0.059714425355196, 0.059714425355196, 0.6560838222503662, 0.9233204126358032, 0.885200023651123, 0.7231788635253906, 0.7231764793395996, 0.7538631558418274, 0.07683493196964264, 0.15366986393928528, 0.7683493494987488, 0.38097718358039856, 0.38097718358039856, 0.49748092889785767, 0.7231783270835876, 0.3386535346508026, 0.1693267673254013, 0.5079802870750427, 0.2831336259841919, 0.07078340649604797, 0.42470040917396545, 0.07078340649604797, 0.14156681299209595, 0.9050151705741882, 0.24333922564983368, 0.48667845129966736, 0.24333922564983368, 0.49747973680496216, 0.06479967385530472, 0.06479967385530472, 0.12959934771060944, 0.5183973908424377, 0.2267988622188568, 0.8723136782646179, 0.7997316122055054, 0.06260108202695847, 0.06260108202695847, 0.06260108202695847, 0.6886118650436401, 0.06260108202695847, 0.06260108202695847, 0.6633621454238892, 0.016496270895004272, 0.26394033432006836, 0.26394033432006836, 0.26394033432006836, 0.09897763282060623, 0.032992541790008545, 0.032992541790008545, 0.8271688222885132, 0.7997369766235352, 0.12096427381038666, 0.1814464032649994, 0.48385709524154663, 0.06048213690519333, 0.1814464032649994, 0.06048213690519333, 0.7537646889686584, 0.03566628694534302, 0.03566628694534302, 0.14266514778137207, 0.03566628694534302, 0.28533029556274414, 0.3923291563987732, 0.03566628694534302, 0.03566628694534302, 0.22770681977272034, 0.22770681977272034, 0.22770681977272034, 0.22770681977272034, 0.29711630940437317, 0.29711630940437317, 0.14855815470218658, 0.29711630940437317, 0.42511624097824097, 0.21255812048912048, 0.21255812048912048, 0.8271927237510681, 0.22785310447216034, 0.22785310447216034, 0.22785310447216034, 0.22785310447216034, 0.4975048303604126, 0.7823505997657776, 0.8723376393318176, 0.1606026440858841, 0.03212052956223488, 0.03212052956223488, 0.09636158496141434, 0.12848211824893951, 0.5139284729957581, 0.03212052956223488, 0.06424105912446976, 0.3130154311656952, 0.6260308623313904, 0.058721818029880524, 0.058721818029880524, 0.41105273365974426, 0.146804541349411, 0.2348872721195221, 0.08808272331953049, 0.7231811285018921, 0.8851431012153625, 0.497464656829834, 0.7231820225715637, 0.9784930348396301, 0.27287188172340393, 0.27287188172340393, 0.27287188172340393, 0.9049893617630005, 0.8271942734718323, 0.6641018390655518, 0.7538694739341736, 0.9050291180610657, 0.6471431851387024, 0.21571439504623413, 0.9227333664894104, 0.7461026310920715, 0.24870087206363678, 0.5506023168563843, 0.18353410065174103, 0.18353410065174103, 0.6561284065246582, 0.137686625123024, 0.275373250246048, 0.068843312561512, 0.137686625123024, 0.137686625123024, 0.275373250246048, 0.7537785768508911, 0.8271588087081909, 0.2722422182559967, 0.2722422182559967, 0.2722422182559967, 0.055476196110248566, 0.11095239222049713, 0.1664285957813263, 0.1664285957813263, 0.4438095688819885, 0.055476196110248566, 0.20399297773838043, 0.30598944425582886, 0.10199648886919022, 0.10199648886919022, 0.10199648886919022, 0.20399297773838043, 0.10199648886919022, 0.27465811371803284, 0.06866452842950821, 0.20599357783794403, 0.41198715567588806, 0.9419850707054138, 0.6560848951339722, 0.13077344000339508, 0.7846406102180481, 0.7231842875480652, 0.10251979529857635, 0.34856730699539185, 0.08201583474874496, 0.4305831491947174, 0.02050395868718624, 0.8720106482505798, 0.0697355791926384, 0.0697355791926384, 0.1394711583852768, 0.5578846335411072, 0.1394711583852768, 0.8893162608146667, 0.8851434588432312, 0.7231778502464294, 0.2752973735332489, 0.5505947470664978, 0.8851789236068726, 0.15556909143924713, 0.15556909143924713, 0.6222763657569885, 0.2855876088142395, 0.14279380440711975, 0.2855876088142395, 0.2855876088142395, 0.35814955830574036, 0.35814955830574036, 0.912786066532135, 0.029467079788446426, 0.14733539521694183, 0.14733539521694183, 0.14733539521694183, 0.1178683191537857, 0.20626956224441528, 0.029467079788446426, 0.20626956224441528, 0.8723098039627075, 0.1101098507642746, 0.5872524976730347, 0.18351641297340393, 0.07340656220912933, 0.07340656220912933, 0.5772870779037476, 0.2886435389518738, 0.1672724038362503, 0.41818100214004517, 0.1672724038362503, 0.25090861320495605, 0.08363620191812515, 0.3390027582645416, 0.1695013791322708, 0.3390027582645416, 0.1695013791322708, 0.24992872774600983, 0.7497861981391907, 0.7996689677238464, 0.7538601160049438, 0.9684754014015198, 0.9234562516212463, 0.21773859858512878, 0.0725795328617096, 0.1451590657234192, 0.1451590657234192, 0.0725795328617096, 0.1451590657234192, 0.1451590657234192, 0.1451590657234192, 0.6561176180839539, 0.6809191107749939, 0.922752857208252, 0.8186814188957214, 0.07986526191234589, 0.23959578573703766, 0.03993263095617294, 0.07986526191234589, 0.11979789286851883, 0.31946104764938354, 0.07986526191234589, 0.8719758987426758, 0.8843773603439331, 0.21503669023513794, 0.3225550353527069, 0.10751834511756897, 0.21503669023513794, 0.10751834511756897, 0.29731690883636475, 0.5946338176727295, 0.9458721280097961, 0.3810044527053833, 0.3810044527053833, 0.9232991933822632, 0.872316300868988, 0.32011494040489197, 0.6402298808097839, 0.04406628757715225, 0.10282133519649506, 0.10282133519649506, 0.10282133519649506, 0.27908650040626526, 0.2643977403640747, 0.10282133519649506, 0.3609732985496521, 0.3609732985496521, 0.1978895217180252, 0.3957790434360504, 0.1978895217180252, 0.1978895217180252, 0.17540135979652405, 0.08770067989826202, 0.46773695945739746, 0.08770067989826202, 0.1461677998304367, 0.885116457939148, 0.7538571357727051, 0.7967613339424133, 0.9588290452957153, 0.9226474165916443, 0.10644498467445374, 0.21288996934890747, 0.6386699080467224, 0.5872382521629333, 0.2936191260814667, 0.44900086522102356, 0.22450043261051178, 0.22450043261051178, 0.6472154259681702, 0.3236077129840851, 0.08713794499635696, 0.17427588999271393, 0.04356897249817848, 0.2178448587656021, 0.2614138424396515, 0.04356897249817848, 0.17427588999271393, 0.7538407444953918, 0.3201202154159546, 0.6402404308319092, 0.1662515550851822, 0.0831257775425911, 0.7481319904327393, 0.29500916600227356, 0.5900183320045471, 0.8271741271018982, 0.753773033618927, 0.9233062267303467, 0.017922736704349518, 0.12545916438102722, 0.017922736704349518, 0.2867637872695923, 0.17922738194465637, 0.08961369097232819, 0.26884105801582336, 0.06111232191324234, 0.06111232191324234, 0.18333697319030762, 0.7333478927612305, 0.9050309658050537, 0.9236272573471069, 0.7231789231300354, 0.28984490036964417, 0.5796898007392883, 0.2135508507490158, 0.4271017014980316, 0.16016313433647156, 0.1067754253745079, 0.05338771268725395, 0.352959007024765, 0.1176529973745346, 0.2353059947490692, 0.1176529973745346, 0.1176529973745346, 0.1176529973745346, 0.6560830473899841, 0.22447210550308228, 0.7856523990631104, 0.06274621933698654, 0.25098487734794617, 0.06274621933698654, 0.18823865056037903, 0.18823865056037903, 0.18823865056037903, 0.06274621933698654, 0.4975024163722992, 0.3469098210334778, 0.3469098210334778, 0.2971991002559662, 0.5943982005119324, 0.49751073122024536, 0.9490681290626526, 0.07012367248535156, 0.14024734497070312, 0.01753091812133789, 0.12271641939878464, 0.3856801986694336, 0.01753091812133789, 0.26296377182006836, 0.9050324559211731, 0.16935046017169952, 0.6774018406867981, 0.6560871005058289, 0.12345027178525925, 0.08230017870664597, 0.08230017870664597, 0.2880506217479706, 0.16460035741329193, 0.08230017870664597, 0.04115008935332298, 0.12345027178525925, 0.9049108624458313, 0.656125009059906, 0.7997255325317383, 0.9050312638282776, 0.4078231155872345, 0.2718820869922638, 0.1359410434961319, 0.1359410434961319, 0.6561309695243835, 0.6704322099685669, 0.22347740828990936, 0.11173870414495468, 0.6641255021095276, 0.08299311995506287, 0.16598623991012573, 0.4979587197303772, 0.08299311995506287, 0.08299311995506287, 0.04149655997753143, 0.04149655997753143, 0.11176951974630356, 0.3353085517883301, 0.11176951974630356, 0.22353903949260712, 0.22353903949260712, 0.05058826878666878, 0.17705893516540527, 0.03794119879603386, 0.24029426276683807, 0.2023530751466751, 0.17705893516540527, 0.012647067196667194, 0.10117653757333755, 0.06883208453655243, 0.04588805511593819, 0.022944027557969093, 0.13766416907310486, 0.1606081873178482, 0.2523843050003052, 0.06883208453655243, 0.2064962387084961, 0.0855451300740242, 0.1069314107298851, 0.1924765408039093, 0.1497039794921875, 0.2780216634273529, 0.0855451300740242, 0.1069314107298851, 0.4165809452533722, 0.4165809452533722, 0.1548481434583664, 0.464544415473938, 0.3096962869167328, 0.1548481434583664, 0.6531888246536255, 0.927324116230011, 0.38514816761016846, 0.2567654252052307, 0.12838271260261536, 0.2567654252052307, 0.9226301908493042, 0.9235665798187256, 0.8723216652870178, 0.9226332306861877, 0.2727111577987671, 0.5454223155975342, 0.11929704993963242, 0.11929704993963242, 0.656133770942688, 0.05964852496981621, 0.7537639141082764, 0.17863701283931732, 0.2500918209552765, 0.14290961623191833, 0.17863701283931732, 0.14290961623191833, 0.07145480811595917, 0.03287373483181, 0.11505807191133499, 0.41092169284820557, 0.4273585379123688, 0.016436867415905, 0.914351224899292, 0.09480397403240204, 0.09480397403240204, 0.6636278033256531, 0.09480397403240204, 0.09480397403240204, 0.9589069485664368, 0.06587497889995575, 0.032937489449977875, 0.16468743979930878, 0.16468743979930878, 0.2964373826980591, 0.16468743979930878, 0.1317499577999115, 0.9226476550102234, 0.20996417105197906, 0.20996417105197906, 0.41992834210395813, 0.872327446937561, 0.5270059704780579, 0.08210744708776474, 0.08210744708776474, 0.6568595767021179, 0.08210744708776474, 0.08210744708776474, 0.07260876148939133, 0.07260876148939133, 0.07260876148939133, 0.18152190744876862, 0.14521752297878265, 0.18152190744876862, 0.03630438074469566, 0.25413066148757935, 0.1707119345664978, 0.853559672832489, 0.8723257184028625, 0.06712853163480759, 0.06712853163480759, 0.5370282530784607, 0.06712853163480759, 0.13425706326961517, 0.06712853163480759, 0.06712853163480759, 0.5449647307395935, 0.27248236536979675, 0.09082745760679245, 0.22771111130714417, 0.22771111130714417, 0.22771111130714417, 0.22771111130714417, 0.7538376450538635, 0.7538601756095886, 0.5270542502403259, 0.23183563351631165, 0.11591781675815582, 0.17387673258781433, 0.11591781675815582, 0.05795890837907791, 0.28979453444480896, 0.7538565397262573, 0.11037705838680267, 0.11037705838680267, 0.6622623801231384, 0.11037705838680267, 0.7537786364555359, 0.24423359334468842, 0.48846718668937683, 0.12211679667234421, 0.12211679667234421, 0.6809220314025879, 0.21286122500896454, 0.21286122500896454, 0.4257224500179291, 0.18011155724525452, 0.09005577862262726, 0.7204462289810181, 0.8719697594642639, 0.8851404786109924, 0.11378858238458633, 0.3413657546043396, 0.45515432953834534, 0.09411840885877609, 0.09411840885877609, 0.2823552191257477, 0.18823681771755219, 0.18823681771755219, 0.18823681771755219, 0.09411840885877609, 0.3620430529117584, 0.3620430529117584, 0.7466447949409485, 0.24888159334659576, 0.05024661496281624, 0.05024661496281624, 0.2512330710887909, 0.45221954584121704, 0.20098645985126495, 0.046467576175928116, 0.046467576175928116, 0.046467576175928116, 0.13940273225307465, 0.23233787715435028, 0.2788054645061493, 0.09293515235185623, 0.09293515235185623, 0.8698095679283142, 0.7538562417030334, 0.6532432436943054, 0.7751507759094238, 0.19378769397735596, 0.13124801218509674, 0.06562400609254837, 0.032812003046274185, 0.4265560507774353, 0.16406001150608063, 0.06562400609254837, 0.09843600541353226, 0.12197045981884003, 0.7318227291107178, 0.12197045981884003, 0.04923609644174576, 0.02461804822087288, 0.02461804822087288, 0.29541656374931335, 0.4923609495162964, 0.04923609644174576, 0.04923609644174576, 0.02461804822087288, 0.8271716833114624, 0.885147750377655, 0.049109507352113724, 0.29465705156326294, 0.1964380294084549, 0.09821901470422745, 0.34376657009124756, 0.9226483702659607, 0.10748313367366791, 0.10748313367366791, 0.21496626734733582, 0.21496626734733582, 0.32244938611984253, 0.8851420283317566, 0.8852095007896423, 0.05552363768219948, 0.16657091677188873, 0.08328545838594437, 0.11104727536439896, 0.38866546750068665, 0.16657091677188873, 0.02776181884109974, 0.10926733165979385, 0.6556040048599243, 0.2185346633195877, 0.031469352543354034, 0.1888161152601242, 0.346162885427475, 0.15734675526618958, 0.12587741017341614, 0.15734675526618958, 0.18080896139144897, 0.12053930759429932, 0.06026965379714966, 0.18080896139144897, 0.18080896139144897, 0.12053930759429932, 0.24107861518859863, 0.1570965200662613, 0.1570965200662613, 0.2094620168209076, 0.4189240336418152, 0.0523655042052269, 0.1251237392425537, 0.06256186962127686, 0.09384280443191528, 0.1251237392425537, 0.18768560886383057, 0.218966543674469, 0.03128093481063843, 0.1251237392425537, 0.9127734899520874, 0.90495765209198, 0.0753326341509819, 0.03766631707549095, 0.7156599760055542, 0.11299894750118256, 0.0753326341509819, 0.17920556664466858, 0.17920556664466858, 0.17920556664466858, 0.35841113328933716, 0.5269298553466797, 0.2301664799451828, 0.04603329673409462, 0.2301664799451828, 0.09206659346818924, 0.32223308086395264, 0.04603329673409462, 0.7997035384178162, 0.7641759514808655, 0.09552199393510818, 0.09552199393510818, 0.9251877665519714, 0.8722289800643921, 0.2513678967952728, 0.18852591514587402, 0.0628419741988182, 0.2513678967952728, 0.31420984864234924, 0.7538403868675232, 0.7537800669670105, 0.9226348400115967, 0.03929571062326431, 0.019647855311632156, 0.09823927283287048, 0.5304920673370361, 0.19647854566574097, 0.019647855311632156, 0.07859142124652863, 0.17158591747283936, 0.5147577524185181, 0.17158591747283936, 0.33481431007385254, 0.6696286201477051, 0.49748021364212036, 0.8893060684204102, 0.723181962966919, 0.3325519859790802, 0.1662759929895401, 0.08313799649477005, 0.24941399693489075, 0.1662759929895401, 0.3348282277584076, 0.6696564555168152, 0.049845609813928604, 0.07476841658353806, 0.09969121962785721, 0.5233789086341858, 0.22430524230003357, 0.024922804906964302, 0.781368613243103, 0.8851447701454163, 0.08134515583515167, 0.027115050703287125, 0.08134515583515167, 0.216920405626297, 0.3524956703186035, 0.16269031167030334, 0.08134515583515167, 0.6982523798942566, 0.2992510199546814, 0.35400390625, 0.35400390625, 0.177001953125, 0.320102721452713, 0.640205442905426, 0.11251776665449142, 0.11251776665449142, 0.05625888332724571, 0.16877664625644684, 0.3375532925128937, 0.22503553330898285, 0.10218316316604614, 0.05109158158302307, 0.10218316316604614, 0.3576410710811615, 0.33209526538848877, 0.025545790791511536, 0.025545790791511536, 0.24661122262477875, 0.12330561131238937, 0.24661122262477875, 0.24661122262477875, 0.12330561131238937, 0.706561803817749, 0.3532809019088745, 0.8722479343414307, 0.33370235562324524, 0.2669619023799896, 0.1334809511899948, 0.20022141933441162, 0.1346081644296646, 0.5384326577186584, 0.1346081644296646, 0.1346081644296646, 0.8698074221611023, 0.07473614066839218, 0.07473614066839218, 0.5231530070304871, 0.14947228133678436, 0.14947228133678436, 0.922627866268158, 0.0843348428606987, 0.028111614286899567, 0.0843348428606987, 0.36545097827911377, 0.2811161279678345, 0.05622322857379913, 0.11244645714759827, 0.2000885158777237, 0.8003540635108948, 0.2128707617521286, 0.14191384613513947, 0.35478460788726807, 0.28382769227027893, 0.9050315618515015, 0.9233342409133911, 0.7537804245948792, 0.7538557648658752, 0.6633628010749817, 0.8345151543617249, 0.11571148782968521, 0.6942689418792725, 0.11571148782968521, 0.15456460416316986, 0.3091292083263397, 0.4636937975883484, 0.9226194024085999, 0.9108189344406128, 0.03644551336765289, 0.07289102673530579, 0.03644551336765289, 0.14578205347061157, 0.18222756683826447, 0.29156410694122314, 0.18222756683826447, 0.07289102673530579, 0.9050158262252808, 0.32012608647346497, 0.6402521729469299, 0.8851431608200073, 0.8035029768943787, 0.1339171677827835, 0.22965601086616516, 0.06561600416898727, 0.03280800208449364, 0.22965601086616516, 0.09842400252819061, 0.1640399992465973, 0.03280800208449364, 0.13123200833797455, 0.8723157644271851, 0.7997535467147827, 0.8271906971931458, 0.9226323962211609, 0.032439954578876495, 0.8434388041496277, 0.12975981831550598, 0.45968520641326904, 0.22984260320663452, 0.22984260320663452, 0.19694989919662476, 0.787799596786499, 0.03299025073647499, 0.03299025073647499, 0.13196100294589996, 0.3628927767276764, 0.3958830237388611, 0.03299025073647499, 0.03299025073647499, 0.9050307869911194, 0.061709996312856674, 0.061709996312856674, 0.617099940776825, 0.12341999262571335, 0.12341999262571335, 0.20835009217262268, 0.20835009217262268, 0.41670018434524536, 0.11940942704677582, 0.11940942704677582, 0.7164565920829773, 0.09540029615163803, 0.021200064569711685, 0.021200064569711685, 0.07420022785663605, 0.6148018836975098, 0.10600032657384872, 0.021200064569711685, 0.05300016328692436, 0.7352381348609924, 0.6641331911087036, 0.2760176956653595, 0.2760176956653595, 0.2760176956653595, 0.6633628606796265, 0.24247029423713684, 0.24247029423713684, 0.24247029423713684, 0.24247029423713684, 0.7997480630874634, 0.33482247591018677, 0.6696449518203735, 0.7996663451194763, 0.7231830358505249, 0.9559410810470581, 0.9226168990135193, 0.8271851539611816, 0.09029214829206467, 0.06771910935640335, 0.06771910935640335, 0.15801125764846802, 0.31602251529693604, 0.22573037445545197, 0.09029214829206467, 0.30633261799812317, 0.08752360194921494, 0.04376180097460747, 0.4376180171966553, 0.08752360194921494, 0.03016854077577591, 0.05028089880943298, 0.010056179948151112, 0.07039326429367065, 0.6737640500068665, 0.09050562232732773, 0.010056179948151112, 0.06033708155155182, 0.8720219731330872, 0.043551813811063766, 0.0653277188539505, 0.7403808236122131, 0.0653277188539505, 0.043551813811063766, 0.043551813811063766, 0.8098195195198059, 0.8722331523895264, 0.7231879830360413, 0.9226515889167786, 0.8275780081748962, 0.13406547904014587, 0.06703273952007294, 0.26813095808029175, 0.06703273952007294, 0.13406547904014587, 0.2010982185602188, 0.9559904336929321, 0.9420292973518372, 0.14383062720298767, 0.07191531360149384, 0.10787296295166016, 0.32361888885498047, 0.2517035901546478, 0.03595765680074692, 0.03595765680074692, 0.020282473415136337, 0.12169484794139862, 0.20282474160194397, 0.34480205178260803, 0.30423709750175476, 0.5935707688331604, 0.39571383595466614, 0.9189612865447998, 0.6633622050285339, 0.943097710609436, 0.26827770471572876, 0.07665076851844788, 0.03832538425922394, 0.4982300102710724, 0.03832538425922394, 0.07665076851844788, 0.7144705057144165, 0.14289410412311554, 0.06757654994726181, 0.6081889271736145, 0.33788275718688965, 0.6633632183074951, 0.25179973244667053, 0.25179973244667053, 0.25179973244667053, 0.12589986622333527, 0.25179973244667053, 0.04111173376441002, 0.08222346752882004, 0.7400112152099609, 0.12333520501852036, 0.04111173376441002, 0.9127709269523621, 0.799699068069458, 0.7997086048126221, 0.044792890548706055, 0.08958578109741211, 0.26875734329223633, 0.35834312438964844, 0.08958578109741211, 0.044792890548706055, 0.044792890548706055, 0.044792890548706055, 0.8719860315322876, 0.09701041877269745, 0.048505209386348724, 0.1940208375453949, 0.09701041877269745, 0.29103124141693115, 0.09701041877269745, 0.048505209386348724, 0.12126301974058151, 0.6141029596328735, 0.7538639903068542, 0.0793653354048729, 0.23809599876403809, 0.23809599876403809, 0.23809599876403809, 0.0793653354048729, 0.0793653354048729, 0.0793653354048729, 0.0793653354048729, 0.923345148563385, 0.6633803248405457, 0.7231835722923279, 0.7231801152229309, 0.8722512722015381, 0.7538627982139587, 0.827181339263916, 0.4974979758262634, 0.021331261843442917, 0.021331261843442917, 0.2773064076900482, 0.23464389145374298, 0.42662525177001953, 0.021331261843442917, 0.19334860146045685, 0.04833715036511421, 0.14501145482063293, 0.338360071182251, 0.24168576300144196, 0.8894097805023193, 0.050198961049318314, 0.016732987016439438, 0.016732987016439438, 0.267727792263031, 0.3681257367134094, 0.16732987761497498, 0.11713091284036636, 0.18694548308849335, 0.11216729134321213, 0.11216729134321213, 0.3738909661769867, 0.14955638349056244, 0.07477819174528122, 0.1007864847779274, 0.4031459391117096, 0.2015729695558548, 0.0503932423889637, 0.2015729695558548, 0.053312551230192184, 0.10662510246038437, 0.15993764996528625, 0.15993764996528625, 0.4265004098415375, 0.10662510246038437, 0.7583040595054626, 0.9226601123809814, 0.14837127923965454, 0.024728545919060707, 0.19782836735248566, 0.2225569188594818, 0.32147109508514404, 0.024728545919060707, 0.07418563961982727, 0.1425095647573471, 0.1425095647573471, 0.07125478237867355, 0.4987834692001343, 0.07125478237867355, 0.07125478237867355, 0.9226479530334473, 0.7996901273727417, 0.29523521661758423, 0.19682347774505615, 0.3936469554901123, 0.09841173887252808, 0.09841173887252808, 0.885123074054718, 0.7538705468177795, 0.9050283432006836, 0.786150336265564, 0.196537584066391, 0.19500227272510529, 0.19500227272510529, 0.585006833076477, 0.6561223268508911, 0.9049879908561707, 0.7997618317604065, 0.09465018659830093, 0.4732509255409241, 0.18930037319660187, 0.18930037319660187, 0.904681921005249, 0.8892861008644104, 0.8892042636871338, 0.9049564599990845, 0.8271809220314026, 0.8851428627967834, 0.9050478339195251, 0.0635453388094902, 0.0635453388094902, 0.0635453388094902, 0.6989986896514893, 0.1270906776189804, 0.7976270914077759, 0.19940677285194397, 0.2964099943637848, 0.1976066529750824, 0.0988033264875412, 0.2964099943637848, 0.0988033264875412, 0.0988033264875412, 0.7777837514877319, 0.19444593787193298, 0.9226430654525757, 0.4974959194660187, 0.527023434638977, 0.04223521426320076, 0.06335282325744629, 0.02111760713160038, 0.19005845487117767, 0.40123453736305237, 0.1478232443332672, 0.06335282325744629, 0.10558803379535675, 0.8271381258964539, 0.8271068930625916, 0.889211893081665, 0.7231812477111816, 0.3030169606208801, 0.2020113170146942, 0.5050283074378967, 0.12933243811130524, 0.06466621905565262, 0.3879973292350769, 0.19399866461753845, 0.12933243811130524, 0.06466621905565262, 0.9050326347351074, 0.8892210721969604], \"Term\": [\"\\\",\\\"you\", \"\\\",somebody\", \"accomplish\", \"accomplish\", \"accomplish\", \"accomplish\", \"accomplish\", \"achieve\", \"achieve\", \"achieve\", \"achieve\", \"achieve\", \"achieve\", \"achieve\", \"aching\", \"acting\", \"acting\", \"acting\", \"acting\", \"action\", \"action\", \"action\", \"action\", \"action\", \"action\", \"action\", \"action\", \"active\", \"active\", \"active\", \"active\", \"active\", \"active\", \"adaptability\", \"adjustment\", \"advantage\", \"advantage\", \"advantage\", \"advantage\", \"advantage\", \"affect\", \"affect\", \"affect\", \"afraid\", \"afraid\", \"afraid\", \"agency\", \"ahead\", \"ahead\", \"alive\", \"allow\", \"allow\", \"allow\", \"allow\", \"allow\", \"allow\", \"although\", \"always\", \"always\", \"always\", \"anger\", \"anger\", \"anxiety\", \"anxiety\", \"anxiety\", \"anxiety\", \"anxiety\", \"anxiety\", \"anything,\\\"focusing\", \"appearing\", \"appetite\", \"appreciate\", \"ardor\", \"ashamed\", \"asleep\", \"asleep\", \"asleep\", \"assertiveness\", \"assertiveness\", \"atrophy\", \"attempt\", \"attitude\", \"attitude\", \"attitude\", \"avoid\", \"avoid\", \"avoid\", \"avoid\", \"avoid\", \"avoidance\", \"awareness\", \"awareness\", \"awareness\", \"balance\", \"become\", \"become\", \"become\", \"become\", \"become\", \"bedding\", \"behaviour\", \"benefit\", \"benefit\", \"benefit\", \"benefit\", \"benefit\", \"benefit\", \"best\", \"better\", \"better\", \"better\", \"better\", \"better\", \"better\", \"better\", \"bigger\", \"book\", \"boring\", \"boring\", \"boring\", \"boring\", \"boring\", \"boring\", \"bother\", \"brain\", \"brain\", \"brain\", \"brain\", \"brain\", \"brain\", \"brain\", \"brain\", \"breast\", \"breast\", \"breast\", \"breast\", \"breath\", \"breath\", \"breath\", \"breath\", \"burns\", \"burns\", \"burns\", \"buying\", \"caffeine\", \"caffeine\", \"caffeine\", \"caffeine\", \"calmness\", \"cancel\", \"capability\", \"cause\", \"cause\", \"cause\", \"cause\", \"cause\", \"cause\", \"cause\", \"cause\", \"challenge\", \"challenge\", \"change\", \"change\", \"change\", \"change\", \"change\", \"change\", \"chaos\", \"charisma\", \"cheat\", \"clearing\", \"click\", \"climate\", \"climate\", \"climate\", \"clock\", \"collective\", \"college\", \"colories\", \"comedy\", \"comfy\", \"comfy\", \"common\", \"community\", \"community\", \"compete\", \"compete\", \"compete\", \"compound\", \"confidence\", \"confidence\", \"confidence\", \"confidence\", \"confidence\", \"confidence\", \"confidence\\\",increased\", \"connect\", \"connection\", \"connection\", \"connection\", \"consequence\", \"consequence\", \"consequence\", \"consequence\", \"consequence\", \"consequence\", \"consume\", \"consume\", \"consume\", \"consume\", \"consume\", \"consume\", \"consume\", \"control\", \"control\", \"control\", \"control\", \"correct\", \"costly\", \"costs\", \"costs\", \"cotton\", \"could\", \"could\", \"could\", \"could\", \"could\", \"country\", \"create\", \"create\", \"create\", \"create\", \"create\", \"criticize\", \"crust\", \"cutting\", \"daily\", \"daily\", \"dance\", \"danger\", \"danger\", \"danger\", \"dangerous\", \"dangerous\", \"dangerous\", \"dangerous\", \"daytime\", \"daytime\", \"delaya\", \"depression\", \"depression\", \"depression\", \"depression\", \"depression\", \"depression\", \"depression\", \"depression\", \"desirable\", \"desire\", \"desire\", \"desire\", \"desire\", \"desire\", \"deterioration\", \"deterioration\", \"determination\", \"determination\", \"determination\", \"determination\", \"determination\", \"develop\", \"develop\", \"develop\", \"develop\", \"difference\", \"difference\", \"digest\", \"dinner\", \"disadvantage\", \"disappointment\", \"disease\", \"disease\", \"disease\", \"disease\", \"disease\", \"disease\", \"disease\", \"disease\", \"disrespect\", \"distrust\", \"doctor\", \"drafting\", \"dream\", \"dream\", \"dream\", \"dream\", \"dream\", \"dream\", \"dream\", \"driving\", \"drought\", \"early\", \"early\", \"early\", \"early\", \"early\", \"economic\", \"economic\", \"effect\", \"effectiveness\", \"effectiveness\", \"emotionally\", \"endure\", \"energize\", \"energize\", \"energy\", \"energy\", \"energy\", \"energy\", \"energy\", \"energy\", \"energy\", \"enhance\", \"enhance\", \"enjoyment\", \"enjoyment\", \"enjoyment\", \"enjoyment\", \"enough\", \"enough\", \"enough\", \"enough\", \"enough\", \"enthusiastic\", \"enviroment\", \"equipment\", \"esttem\", \"evaluate\", \"event\", \"event\", \"event\", \"excellent\", \"excellent\", \"excessive\", \"excessive\", \"excessive\", \"excitement\", \"excitement\", \"exercise\", \"exercise\", \"exercise\", \"exercise\", \"exercise\", \"exercise\", \"exercise\", \"experiecnce\", \"expose\", \"expose\", \"fast\", \"fast\", \"fast\", \"fatigue\", \"fatigue\", \"favorite\", \"favour\", \"feel\", \"feeling\", \"feeling\", \"feeling\", \"feeling\", \"feeling\", \"feeling\", \"feeling\", \"field\", \"field\", \"field\", \"field\", \"figure\", \"finances\", \"firing\", \"first\", \"first\", \"fitness\", \"fitness\", \"fitness\", \"fitness\", \"fitness\", \"focus\", \"focus\", \"focus\", \"focus\", \"focus\", \"focus\", \"focusing\", \"freshness\", \"freshness\", \"friend\", \"friend\", \"friend\", \"friend\", \"friend\", \"friend\", \"friend\", \"frustration\", \"fulfil\", \"fulfil\", \"fulfillment\", \"fulfillment\", \"gasp\", \"gather\", \"getting\", \"getting\", \"getting\", \"getting\", \"getting\", \"getting\", \"getting\", \"ginger\", \"give\", \"give\", \"glasses\", \"goal\", \"goal\", \"goal\", \"goal\", \"goal\", \"goal\", \"goal\", \"goal\", \"grab\", \"gratification\", \"greatful\", \"green\", \"growth\", \"growth\", \"growth\", \"growth\", \"guidance\", \"handle\", \"handle\", \"handle\", \"happiness\", \"happy\", \"happy\", \"happy\", \"happy\", \"happy\", \"happy\", \"happy\", \"headache\", \"headache\", \"headache\", \"headache\", \"headache\", \"health\", \"health\", \"health\", \"health\", \"health\", \"health\", \"health\", \"health\", \"healthy\", \"healthy\", \"healthy\", \"healthy\", \"healthy\", \"healthy\", \"healthy\", \"healthy\", \"heart\", \"heart\", \"heart\", \"heart\", \"heart\", \"heart\", \"heart\", \"helping\", \"helping\", \"higher\", \"higher\", \"higher\", \"higher\", \"hopeless\", \"hours\", \"house\", \"house\", \"house\", \"house\", \"however\", \"humiliation\", \"ideal\", \"ideally\", \"illness\", \"illness\", \"important\", \"important\", \"important\", \"important\", \"impose\", \"improve\", \"improve\", \"improve\", \"improve\", \"improve\", \"improve\", \"inaction\", \"inaction\", \"inaction\", \"inaction\", \"inaction\", \"inactiondo\", \"inactive\", \"inactive\", \"inactive\", \"inactive\", \"inactive\", \"inactivity\", \"increase\", \"increase\", \"increase\", \"increase\", \"increase\", \"increase\", \"increase\", \"increasingly\", \"independence\", \"independence\", \"independence\", \"indicative\", \"inflamation\", \"information\", \"information\", \"information\", \"information\", \"information\", \"injury\", \"injury\", \"injury\", \"injury\", \"injury\", \"injury\", \"injury\", \"injury\", \"inside\", \"inside\", \"integrity\", \"interest\", \"interest\", \"interest\", \"interest\", \"interest\", \"interest\", \"interest\", \"involve\", \"involve\", \"involve\", \"irregular\", \"irregular\", \"irregular\", \"irregular\", \"irresponsibility\", \"irresposibility\", \"irritate\", \"issue\", \"issue\", \"issue\", \"issue\", \"issue\", \"issue\", \"joyfull\", \"keep\", \"keep\", \"keep\", \"keep\", \"kilojoules\", \"knowing\", \"knowing\", \"knowing\", \"knowing\", \"later\", \"leadership\", \"leadership\", \"leadership\", \"learning\", \"learning\", \"learning\", \"least\", \"lethargy\", \"letting\", \"letting\", \"letting\", \"light\", \"light\", \"light\", \"light\", \"light\", \"light\", \"light\", \"lively\", \"lively\", \"lonely\", \"lonely\", \"lose\", \"lose\", \"lose\", \"lose\", \"lose\", \"make\", \"make\", \"make\", \"make\", \"make\", \"make\", \"make\", \"make\", \"material\", \"meaningless\", \"meditation\", \"member\", \"member\", \"mental\", \"mental\", \"mental\", \"mental\", \"mental\", \"mental\", \"mental\", \"mentally\", \"mentally\", \"mentally\", \"might\", \"might\", \"might\", \"might\", \"might\", \"might\", \"might\", \"might\", \"mindfulness\", \"misgiving\", \"miss\", \"miss\", \"miss\", \"miss\", \"miss\", \"mission\", \"mistake\", \"mistake\", \"mistake\", \"mistake\", \"mistake\", \"mix\", \"moeny\", \"money\", \"money\", \"money\", \"money\", \"money\", \"money\", \"money\", \"morning\", \"morning\", \"morning\", \"motivation\", \"motivation\", \"motivation\", \"motivation\", \"motivation\", \"motivation\", \"move\", \"move\", \"move\", \"move\", \"move\", \"move\", \"move\", \"movement\", \"movement\", \"movement\", \"movement\", \"movement\", \"muscle\", \"muscle\", \"muscle\", \"muscle\", \"muscle\", \"muscle\", \"muscle\", \"muscle\", \"musle\", \"natural\", \"need\", \"need\", \"need\", \"need\", \"need\", \"negative\", \"negative\", \"negative\", \"negative\", \"noone\", \"nothing\", \"nothing\", \"nothing\", \"nothing\", \"nothing\", \"nothing\", \"object\", \"occur\", \"occur\", \"occur\", \"often\", \"ontime\", \"opportunity\", \"opportunity\", \"opportunity\", \"opportunity\", \"opportunity\", \"optimize\", \"organizational\", \"orientation\", \"others\", \"others\", \"others\", \"others\", \"others\", \"others\", \"others\", \"outcome\", \"outcome\", \"outcome\", \"outlook\", \"outlook\", \"pains\", \"paradox\", \"paycheck\", \"peace\", \"peace\", \"peace\", \"peace\", \"peace\", \"peaceful\", \"peaceful\", \"people\", \"people\", \"people\", \"people\", \"people\", \"people\", \"perfect\", \"perseverance\", \"physical\", \"physical\", \"physical\", \"physical\", \"physical\", \"physical\", \"physical\", \"physically\", \"physically\", \"physique\", \"physique\", \"physique\", \"piece\", \"piece\", \"pillow\", \"pillow\", \"pillow\", \"pillow\", \"pillow\", \"pillow\", \"place\", \"place\", \"place\", \"place\", \"place\", \"place\", \"place\", \"planning\", \"planning\", \"planning\", \"planning\", \"planning\", \"plenty\", \"plenty\", \"ponder\", \"potential\", \"potential\", \"potential\", \"potential\", \"power\", \"power\", \"power\", \"power\", \"preserve\", \"prevent\", \"prevent\", \"prevent\", \"prevent\", \"prevent\", \"print\", \"problem\", \"problem\", \"problem\", \"problem\", \"problem\", \"problem\", \"problem\", \"produce\", \"produce\", \"progress\", \"progress\", \"progress\", \"progress\", \"queen\", \"quote\", \"racism\", \"raising\", \"ratchetness\", \"reaction\", \"ready\", \"ready\", \"ready\", \"reason\", \"reason\", \"reason\", \"recognize\", \"recruit\", \"reduce\", \"reduce\", \"reduce\", \"reduce\", \"reduce\", \"reduce\", \"reduce\", \"reduce\", \"refreshment\", \"regrets\", \"regrets\", \"rejuvenation\", \"relationship\", \"relationship\", \"relax\", \"relax\", \"relax\", \"relax\", \"relax\", \"relax\", \"relax\", \"relax\", \"relevant\", \"repeatedly\", \"repercussion\", \"request\", \"require\", \"require\", \"require\", \"respect\", \"respect\", \"respect\", \"response\", \"response\", \"result\", \"result\", \"result\", \"result\", \"result\", \"result\", \"result\", \"revenge\", \"right\", \"right\", \"right\", \"right\", \"right\", \"risk\", \"risk\", \"risk\", \"runner\", \"runner\", \"runner\", \"running\", \"running\", \"running\", \"running\", \"running\", \"running\", \"running\", \"running\", \"sacrifice\", \"sadness\", \"sag\", \"sag\", \"sag\", \"salas\", \"satisfaction\", \"satisfaction\", \"satisfaction\", \"satisfaction\", \"scenario\", \"school\", \"school\", \"seize\", \"serinity\", \"services\", \"share\", \"sharpen\", \"shoes\", \"shoes\", \"shoes\", \"shoes\", \"shoes\", \"shoes\", \"shoes\", \"situation\", \"situation\", \"situation\", \"situation\", \"situation\", \"sleep\", \"sleep\", \"sleep\", \"sleep\", \"sleep\", \"sleep\", \"sleep\", \"sleep\", \"sleepiness\", \"sleeping\", \"sleeping\", \"sleeping\", \"sleeping\", \"sleeping\", \"sleeping\", \"slothfulness\", \"slowly\", \"smiling\", \"snapshot\", \"sneaker\", \"social\", \"social\", \"social\", \"social\", \"social\", \"social\", \"solve\", \"somebody\", \"someone\", \"someone\", \"someone\", \"someone\", \"someone\", \"someone\", \"someone\", \"something\", \"something\", \"something\", \"something\", \"something\", \"sore\", \"sore\", \"source\", \"spear\", \"specify\", \"spend\", \"spend\", \"spend\", \"spend\", \"spend\", \"spend\", \"spending\", \"spending\", \"sport\", \"sport\", \"sport\", \"stamima\", \"stamina\", \"stamina\", \"stamina\", \"stamina\", \"stamina\", \"start\", \"start\", \"start\", \"start\", \"start\", \"sterenthern\", \"stomach\", \"stranger\", \"strength\", \"strength\", \"strength\", \"strength\", \"strength\", \"strength\", \"strength\", \"strength\", \"strenthen\", \"stress\", \"stress\", \"stress\", \"stress\", \"stress\", \"stress\", \"stress\", \"stress\", \"stressful\", \"strom\", \"strong\", \"strong\", \"strong\", \"strong\", \"strong\", \"strong\", \"strong\", \"strong\", \"student\", \"stusy\", \"suffocation\", \"suicide\", \"surgery\", \"sweting\", \"symptom\", \"synapsis\", \"take\", \"take\", \"take\", \"take\", \"take\", \"take\", \"taking\", \"taking\", \"taking\", \"taking\", \"taking\", \"terrible\", \"things\", \"things\", \"things\", \"things\", \"things\", \"things\", \"things\", \"think\", \"think\", \"think\", \"think\", \"think\", \"think\", \"thinking\", \"thinking\", \"thinking\", \"thinking\", \"thinking\", \"thought\", \"thought\", \"thought\", \"thought\", \"thought\", \"thought\", \"threat\", \"three\", \"tire\", \"tire\", \"tire\", \"tire\", \"tire\", \"tire\", \"tire\", \"tiredness\", \"tiredness\", \"tiredness\", \"tiredness\", \"tiredness\", \"tiredness\", \"trade\", \"train\", \"training\", \"training\", \"training\", \"training\", \"training\", \"travel\", \"trial\", \"trigger\", \"trouble\", \"trouble\", \"trust\", \"trust\", \"trust\", \"tune\", \"twist\", \"unconsciously\", \"understanding\", \"understanding\", \"understanding\", \"understanding\", \"unfree\", \"universe\", \"usually\", \"variable\", \"verbal\", \"vitality\", \"warning\", \"waste\", \"waste\", \"waste\", \"waste\", \"waste\", \"watch\", \"watch\", \"water\", \"water\", \"water\", \"water\", \"water\", \"water\", \"wealth\", \"wealth\", \"website\", \"weekend\", \"weekness\", \"weight\", \"weight\", \"weight\", \"weight\", \"weight\", \"weight\", \"weight\", \"weight\", \"wellbeing\", \"whole\", \"words\", \"worthlessness\", \"write\", \"write\", \"write\", \"wrong\", \"wrong\", \"wrong\", \"wrong\", \"wrong\", \"wrong\", \"yellow\", \"young\"]}, \"R\": 30, \"lambda.step\": 0.01, \"plot.opts\": {\"xlab\": \"PC1\", \"ylab\": \"PC2\"}, \"topic.order\": [1, 2, 3, 4, 5, 6, 7, 8]};\n",
       "\n",
       "function LDAvis_load_lib(url, callback){\n",
       "  var s = document.createElement('script');\n",
       "  s.src = url;\n",
       "  s.async = true;\n",
       "  s.onreadystatechange = s.onload = callback;\n",
       "  s.onerror = function(){console.warn(\"failed to load library \" + url);};\n",
       "  document.getElementsByTagName(\"head\")[0].appendChild(s);\n",
       "}\n",
       "\n",
       "if(typeof(LDAvis) !== \"undefined\"){\n",
       "   // already loaded: just create the visualization\n",
       "   !function(LDAvis){\n",
       "       new LDAvis(\"#\" + \"ldavis_el3198427887668049927776533619\", ldavis_el3198427887668049927776533619_data);\n",
       "   }(LDAvis);\n",
       "}else if(typeof define === \"function\" && define.amd){\n",
       "   // require.js is available: use it to load d3/LDAvis\n",
       "   require.config({paths: {d3: \"https://cdnjs.cloudflare.com/ajax/libs/d3/3.5.5/d3.min\"}});\n",
       "   require([\"d3\"], function(d3){\n",
       "      window.d3 = d3;\n",
       "      LDAvis_load_lib(\"https://cdn.rawgit.com/bmabey/pyLDAvis/files/ldavis.v1.0.0.js\", function(){\n",
       "        new LDAvis(\"#\" + \"ldavis_el3198427887668049927776533619\", ldavis_el3198427887668049927776533619_data);\n",
       "      });\n",
       "    });\n",
       "}else{\n",
       "    // require.js not available: dynamically load d3 & LDAvis\n",
       "    LDAvis_load_lib(\"https://cdnjs.cloudflare.com/ajax/libs/d3/3.5.5/d3.min.js\", function(){\n",
       "         LDAvis_load_lib(\"https://cdn.rawgit.com/bmabey/pyLDAvis/files/ldavis.v1.0.0.js\", function(){\n",
       "                 new LDAvis(\"#\" + \"ldavis_el3198427887668049927776533619\", ldavis_el3198427887668049927776533619_data);\n",
       "            })\n",
       "         });\n",
       "}\n",
       "</script>"
      ],
      "text/plain": [
       "<IPython.core.display.HTML object>"
      ]
     },
     "execution_count": 81,
     "metadata": {},
     "output_type": "execute_result"
    }
   ],
   "source": [
    "import pyLDAvis.gensim\n",
    "lda_display = pyLDAvis.gensim.prepare(lda, corpus, dictionary, sort_topics=False)\n",
    "pyLDAvis.display(lda_display)"
   ]
  },
  {
   "cell_type": "code",
   "execution_count": 82,
   "metadata": {},
   "outputs": [
    {
     "ename": "IndexError",
     "evalue": "index 383 is out of bounds for axis 1 with size 383",
     "output_type": "error",
     "traceback": [
      "\u001b[1;31m---------------------------------------------------------------------------\u001b[0m",
      "\u001b[1;31mIndexError\u001b[0m                                Traceback (most recent call last)",
      "\u001b[1;32m<ipython-input-82-f5355aa06392>\u001b[0m in \u001b[0;36m<module>\u001b[1;34m\u001b[0m\n\u001b[0;32m      1\u001b[0m \u001b[0mlda3\u001b[0m \u001b[1;33m=\u001b[0m \u001b[0mgensim\u001b[0m\u001b[1;33m.\u001b[0m\u001b[0mmodels\u001b[0m\u001b[1;33m.\u001b[0m\u001b[0mldamodel\u001b[0m\u001b[1;33m.\u001b[0m\u001b[0mLdaModel\u001b[0m\u001b[1;33m.\u001b[0m\u001b[0mload\u001b[0m\u001b[1;33m(\u001b[0m\u001b[1;34m'model3.gensim'\u001b[0m\u001b[1;33m)\u001b[0m\u001b[1;33m\u001b[0m\u001b[1;33m\u001b[0m\u001b[0m\n\u001b[1;32m----> 2\u001b[1;33m \u001b[0mlda_display3\u001b[0m \u001b[1;33m=\u001b[0m \u001b[0mpyLDAvis\u001b[0m\u001b[1;33m.\u001b[0m\u001b[0mgensim\u001b[0m\u001b[1;33m.\u001b[0m\u001b[0mprepare\u001b[0m\u001b[1;33m(\u001b[0m\u001b[0mlda3\u001b[0m\u001b[1;33m,\u001b[0m \u001b[0mcorpus\u001b[0m\u001b[1;33m,\u001b[0m \u001b[0mdictionary\u001b[0m\u001b[1;33m,\u001b[0m \u001b[0msort_topics\u001b[0m\u001b[1;33m=\u001b[0m\u001b[1;32mFalse\u001b[0m\u001b[1;33m)\u001b[0m\u001b[1;33m\u001b[0m\u001b[1;33m\u001b[0m\u001b[0m\n\u001b[0m\u001b[0;32m      3\u001b[0m \u001b[0mpyLDAvis\u001b[0m\u001b[1;33m.\u001b[0m\u001b[0mdisplay\u001b[0m\u001b[1;33m(\u001b[0m\u001b[0mlda_display3\u001b[0m\u001b[1;33m)\u001b[0m\u001b[1;33m\u001b[0m\u001b[1;33m\u001b[0m\u001b[0m\n",
      "\u001b[1;32m~\\Anaconda3\\lib\\site-packages\\pyLDAvis\\gensim.py\u001b[0m in \u001b[0;36mprepare\u001b[1;34m(topic_model, corpus, dictionary, doc_topic_dist, **kwargs)\u001b[0m\n\u001b[0;32m    116\u001b[0m     \u001b[0mSee\u001b[0m\u001b[0;31m \u001b[0m\u001b[0;31m`\u001b[0m\u001b[0mpyLDAvis\u001b[0m\u001b[1;33m.\u001b[0m\u001b[0mprepare\u001b[0m\u001b[0;31m`\u001b[0m \u001b[1;32mfor\u001b[0m \u001b[1;33m**\u001b[0m\u001b[0mkwargs\u001b[0m\u001b[1;33m.\u001b[0m\u001b[1;33m\u001b[0m\u001b[1;33m\u001b[0m\u001b[0m\n\u001b[0;32m    117\u001b[0m     \"\"\"\n\u001b[1;32m--> 118\u001b[1;33m     \u001b[0mopts\u001b[0m \u001b[1;33m=\u001b[0m \u001b[0mfp\u001b[0m\u001b[1;33m.\u001b[0m\u001b[0mmerge\u001b[0m\u001b[1;33m(\u001b[0m\u001b[0m_extract_data\u001b[0m\u001b[1;33m(\u001b[0m\u001b[0mtopic_model\u001b[0m\u001b[1;33m,\u001b[0m \u001b[0mcorpus\u001b[0m\u001b[1;33m,\u001b[0m \u001b[0mdictionary\u001b[0m\u001b[1;33m,\u001b[0m \u001b[0mdoc_topic_dist\u001b[0m\u001b[1;33m)\u001b[0m\u001b[1;33m,\u001b[0m \u001b[0mkwargs\u001b[0m\u001b[1;33m)\u001b[0m\u001b[1;33m\u001b[0m\u001b[1;33m\u001b[0m\u001b[0m\n\u001b[0m\u001b[0;32m    119\u001b[0m     \u001b[1;32mreturn\u001b[0m \u001b[0mvis_prepare\u001b[0m\u001b[1;33m(\u001b[0m\u001b[1;33m**\u001b[0m\u001b[0mopts\u001b[0m\u001b[1;33m)\u001b[0m\u001b[1;33m\u001b[0m\u001b[1;33m\u001b[0m\u001b[0m\n",
      "\u001b[1;32m~\\Anaconda3\\lib\\site-packages\\pyLDAvis\\gensim.py\u001b[0m in \u001b[0;36m_extract_data\u001b[1;34m(topic_model, corpus, dictionary, doc_topic_dists)\u001b[0m\n\u001b[0;32m     46\u001b[0m           \u001b[0mgamma\u001b[0m \u001b[1;33m=\u001b[0m \u001b[0mtopic_model\u001b[0m\u001b[1;33m.\u001b[0m\u001b[0minference\u001b[0m\u001b[1;33m(\u001b[0m\u001b[0mcorpus\u001b[0m\u001b[1;33m)\u001b[0m\u001b[1;33m\u001b[0m\u001b[1;33m\u001b[0m\u001b[0m\n\u001b[0;32m     47\u001b[0m       \u001b[1;32melse\u001b[0m\u001b[1;33m:\u001b[0m\u001b[1;33m\u001b[0m\u001b[1;33m\u001b[0m\u001b[0m\n\u001b[1;32m---> 48\u001b[1;33m           \u001b[0mgamma\u001b[0m\u001b[1;33m,\u001b[0m \u001b[0m_\u001b[0m \u001b[1;33m=\u001b[0m \u001b[0mtopic_model\u001b[0m\u001b[1;33m.\u001b[0m\u001b[0minference\u001b[0m\u001b[1;33m(\u001b[0m\u001b[0mcorpus\u001b[0m\u001b[1;33m)\u001b[0m\u001b[1;33m\u001b[0m\u001b[1;33m\u001b[0m\u001b[0m\n\u001b[0m\u001b[0;32m     49\u001b[0m       \u001b[0mdoc_topic_dists\u001b[0m \u001b[1;33m=\u001b[0m \u001b[0mgamma\u001b[0m \u001b[1;33m/\u001b[0m \u001b[0mgamma\u001b[0m\u001b[1;33m.\u001b[0m\u001b[0msum\u001b[0m\u001b[1;33m(\u001b[0m\u001b[0maxis\u001b[0m\u001b[1;33m=\u001b[0m\u001b[1;36m1\u001b[0m\u001b[1;33m)\u001b[0m\u001b[1;33m[\u001b[0m\u001b[1;33m:\u001b[0m\u001b[1;33m,\u001b[0m \u001b[1;32mNone\u001b[0m\u001b[1;33m]\u001b[0m\u001b[1;33m\u001b[0m\u001b[1;33m\u001b[0m\u001b[0m\n\u001b[0;32m     50\u001b[0m    \u001b[1;32melse\u001b[0m\u001b[1;33m:\u001b[0m\u001b[1;33m\u001b[0m\u001b[1;33m\u001b[0m\u001b[0m\n",
      "\u001b[1;32m~\\Anaconda3\\lib\\site-packages\\gensim\\models\\ldamodel.py\u001b[0m in \u001b[0;36minference\u001b[1;34m(self, chunk, collect_sstats)\u001b[0m\n\u001b[0;32m    678\u001b[0m             \u001b[0mElogthetad\u001b[0m \u001b[1;33m=\u001b[0m \u001b[0mElogtheta\u001b[0m\u001b[1;33m[\u001b[0m\u001b[0md\u001b[0m\u001b[1;33m,\u001b[0m \u001b[1;33m:\u001b[0m\u001b[1;33m]\u001b[0m\u001b[1;33m\u001b[0m\u001b[1;33m\u001b[0m\u001b[0m\n\u001b[0;32m    679\u001b[0m             \u001b[0mexpElogthetad\u001b[0m \u001b[1;33m=\u001b[0m \u001b[0mexpElogtheta\u001b[0m\u001b[1;33m[\u001b[0m\u001b[0md\u001b[0m\u001b[1;33m,\u001b[0m \u001b[1;33m:\u001b[0m\u001b[1;33m]\u001b[0m\u001b[1;33m\u001b[0m\u001b[1;33m\u001b[0m\u001b[0m\n\u001b[1;32m--> 680\u001b[1;33m             \u001b[0mexpElogbetad\u001b[0m \u001b[1;33m=\u001b[0m \u001b[0mself\u001b[0m\u001b[1;33m.\u001b[0m\u001b[0mexpElogbeta\u001b[0m\u001b[1;33m[\u001b[0m\u001b[1;33m:\u001b[0m\u001b[1;33m,\u001b[0m \u001b[0mids\u001b[0m\u001b[1;33m]\u001b[0m\u001b[1;33m\u001b[0m\u001b[1;33m\u001b[0m\u001b[0m\n\u001b[0m\u001b[0;32m    681\u001b[0m \u001b[1;33m\u001b[0m\u001b[0m\n\u001b[0;32m    682\u001b[0m             \u001b[1;31m# The optimal phi_{dwk} is proportional to expElogthetad_k * expElogbetad_w.\u001b[0m\u001b[1;33m\u001b[0m\u001b[1;33m\u001b[0m\u001b[1;33m\u001b[0m\u001b[0m\n",
      "\u001b[1;31mIndexError\u001b[0m: index 383 is out of bounds for axis 1 with size 383"
     ]
    }
   ],
   "source": [
    "lda3 = gensim.models.ldamodel.LdaModel.load('model3.gensim')\n",
    "lda_display3 = pyLDAvis.gensim.prepare(lda3, corpus, dictionary, sort_topics=False)\n",
    "pyLDAvis.display(lda_display3)"
   ]
  },
  {
   "cell_type": "code",
   "execution_count": null,
   "metadata": {},
   "outputs": [],
   "source": [
    "lda10 = gensim.models.ldamodel.LdaModel.load('model10.gensim')\n",
    "lda_display10 = pyLDAvis.gensim.prepare(lda10, corpus, dictionary, sort_topics=False)\n",
    "pyLDAvis.display(lda_display10)"
   ]
  },
  {
   "cell_type": "code",
   "execution_count": null,
   "metadata": {},
   "outputs": [],
   "source": []
  },
  {
   "cell_type": "code",
   "execution_count": null,
   "metadata": {},
   "outputs": [],
   "source": []
  },
  {
   "cell_type": "code",
   "execution_count": null,
   "metadata": {},
   "outputs": [],
   "source": [
    "import gensim.corpora as corpora\n",
    "# Create Dictionary\n",
    "id2word = corpora.Dictionary(text_data)\n",
    "# Create Corpus\n",
    "texts = text_data\n",
    "# Term Document Frequency\n",
    "corpus = [id2word.doc2bow(text) for text in texts]\n",
    "# View\n",
    "print(corpus[:1])"
   ]
  },
  {
   "cell_type": "code",
   "execution_count": null,
   "metadata": {},
   "outputs": [],
   "source": [
    "# Build LDA model\n",
    "lda_model = gensim.models.LdaMulticore(corpus=corpus,\n",
    "                                       id2word=id2word,\n",
    "                                       num_topics=10, \n",
    "                                       random_state=100,\n",
    "                                       chunksize=100,\n",
    "                                       passes=10,\n",
    "                                       per_word_topics=True)"
   ]
  },
  {
   "cell_type": "code",
   "execution_count": null,
   "metadata": {},
   "outputs": [],
   "source": [
    "from pprint import pprint\n",
    "# Print the Keyword in the 10 topics\n",
    "pprint(lda_model.print_topics())\n",
    "doc_lda = lda_model[corpus]"
   ]
  },
  {
   "cell_type": "code",
   "execution_count": null,
   "metadata": {},
   "outputs": [],
   "source": [
    "from gensim.models import CoherenceModel\n",
    "# Compute Coherence Score\n",
    "coherence_model_lda = CoherenceModel(model=lda_model, texts=text_data, dictionary=id2word, coherence='c_v')\n",
    "coherence_lda = coherence_model_lda.get_coherence()\n",
    "print('\\nCoherence Score: ', coherence_lda)"
   ]
  },
  {
   "cell_type": "code",
   "execution_count": null,
   "metadata": {},
   "outputs": [],
   "source": [
    "# supporting function\n",
    "def compute_coherence_values(corpus, dictionary, k, a, b):\n",
    "    \n",
    "    lda_model = gensim.models.LdaMulticore(corpus=corpus,\n",
    "                                           id2word=id2word,\n",
    "                                           num_topics=10, \n",
    "                                           random_state=100,\n",
    "                                           chunksize=100,\n",
    "                                           passes=10,\n",
    "                                           alpha=a,\n",
    "                                           eta=b,\n",
    "                                           per_word_topics=True)\n",
    "    \n",
    "    coherence_model_lda = CoherenceModel(model=lda_model, texts=text_data, dictionary=id2word, coherence='c_v')\n",
    "    \n",
    "    return coherence_model_lda.get_coherence()"
   ]
  },
  {
   "cell_type": "code",
   "execution_count": null,
   "metadata": {},
   "outputs": [],
   "source": []
  },
  {
   "cell_type": "code",
   "execution_count": 102,
   "metadata": {},
   "outputs": [
    {
     "name": "stderr",
     "output_type": "stream",
     "text": [
      "  1%|▍                                                                               | 3/540 [01:15<3:45:07, 25.15s/it]"
     ]
    },
    {
     "ename": "KeyboardInterrupt",
     "evalue": "",
     "output_type": "error",
     "traceback": [
      "\u001b[1;31m---------------------------------------------------------------------------\u001b[0m",
      "\u001b[1;31mKeyboardInterrupt\u001b[0m                         Traceback (most recent call last)",
      "\u001b[1;32m<ipython-input-102-f1f1060f48d1>\u001b[0m in \u001b[0;36m<module>\u001b[1;34m\u001b[0m\n\u001b[0;32m     42\u001b[0m                     \u001b[1;31m# get the coherence score for the given parameters\u001b[0m\u001b[1;33m\u001b[0m\u001b[1;33m\u001b[0m\u001b[1;33m\u001b[0m\u001b[0m\n\u001b[0;32m     43\u001b[0m                     cv = compute_coherence_values(corpus=corpus_sets[i], dictionary=id2word, \n\u001b[1;32m---> 44\u001b[1;33m                                                   k=k, a=a, b=b)\n\u001b[0m\u001b[0;32m     45\u001b[0m                     \u001b[1;31m# Save the model results\u001b[0m\u001b[1;33m\u001b[0m\u001b[1;33m\u001b[0m\u001b[1;33m\u001b[0m\u001b[0m\n\u001b[0;32m     46\u001b[0m                     \u001b[0mmodel_results\u001b[0m\u001b[1;33m[\u001b[0m\u001b[1;34m'Validation_Set'\u001b[0m\u001b[1;33m]\u001b[0m\u001b[1;33m.\u001b[0m\u001b[0mappend\u001b[0m\u001b[1;33m(\u001b[0m\u001b[0mcorpus_title\u001b[0m\u001b[1;33m[\u001b[0m\u001b[0mi\u001b[0m\u001b[1;33m]\u001b[0m\u001b[1;33m)\u001b[0m\u001b[1;33m\u001b[0m\u001b[1;33m\u001b[0m\u001b[0m\n",
      "\u001b[1;32m<ipython-input-101-fcc9c492fcb9>\u001b[0m in \u001b[0;36mcompute_coherence_values\u001b[1;34m(corpus, dictionary, k, a, b)\u001b[0m\n\u001b[0;32m     14\u001b[0m     \u001b[0mcoherence_model_lda\u001b[0m \u001b[1;33m=\u001b[0m \u001b[0mCoherenceModel\u001b[0m\u001b[1;33m(\u001b[0m\u001b[0mmodel\u001b[0m\u001b[1;33m=\u001b[0m\u001b[0mlda_model\u001b[0m\u001b[1;33m,\u001b[0m \u001b[0mtexts\u001b[0m\u001b[1;33m=\u001b[0m\u001b[0mtext_data\u001b[0m\u001b[1;33m,\u001b[0m \u001b[0mdictionary\u001b[0m\u001b[1;33m=\u001b[0m\u001b[0mid2word\u001b[0m\u001b[1;33m,\u001b[0m \u001b[0mcoherence\u001b[0m\u001b[1;33m=\u001b[0m\u001b[1;34m'c_v'\u001b[0m\u001b[1;33m)\u001b[0m\u001b[1;33m\u001b[0m\u001b[1;33m\u001b[0m\u001b[0m\n\u001b[0;32m     15\u001b[0m \u001b[1;33m\u001b[0m\u001b[0m\n\u001b[1;32m---> 16\u001b[1;33m     \u001b[1;32mreturn\u001b[0m \u001b[0mcoherence_model_lda\u001b[0m\u001b[1;33m.\u001b[0m\u001b[0mget_coherence\u001b[0m\u001b[1;33m(\u001b[0m\u001b[1;33m)\u001b[0m\u001b[1;33m\u001b[0m\u001b[1;33m\u001b[0m\u001b[0m\n\u001b[0m",
      "\u001b[1;32m~\\Anaconda3\\lib\\site-packages\\gensim\\models\\coherencemodel.py\u001b[0m in \u001b[0;36mget_coherence\u001b[1;34m(self)\u001b[0m\n\u001b[0;32m    607\u001b[0m \u001b[1;33m\u001b[0m\u001b[0m\n\u001b[0;32m    608\u001b[0m         \"\"\"\n\u001b[1;32m--> 609\u001b[1;33m         \u001b[0mconfirmed_measures\u001b[0m \u001b[1;33m=\u001b[0m \u001b[0mself\u001b[0m\u001b[1;33m.\u001b[0m\u001b[0mget_coherence_per_topic\u001b[0m\u001b[1;33m(\u001b[0m\u001b[1;33m)\u001b[0m\u001b[1;33m\u001b[0m\u001b[1;33m\u001b[0m\u001b[0m\n\u001b[0m\u001b[0;32m    610\u001b[0m         \u001b[1;32mreturn\u001b[0m \u001b[0mself\u001b[0m\u001b[1;33m.\u001b[0m\u001b[0maggregate_measures\u001b[0m\u001b[1;33m(\u001b[0m\u001b[0mconfirmed_measures\u001b[0m\u001b[1;33m)\u001b[0m\u001b[1;33m\u001b[0m\u001b[1;33m\u001b[0m\u001b[0m\n\u001b[0;32m    611\u001b[0m \u001b[1;33m\u001b[0m\u001b[0m\n",
      "\u001b[1;32m~\\Anaconda3\\lib\\site-packages\\gensim\\models\\coherencemodel.py\u001b[0m in \u001b[0;36mget_coherence_per_topic\u001b[1;34m(self, segmented_topics, with_std, with_support)\u001b[0m\n\u001b[0;32m    567\u001b[0m             \u001b[0msegmented_topics\u001b[0m \u001b[1;33m=\u001b[0m \u001b[0mmeasure\u001b[0m\u001b[1;33m.\u001b[0m\u001b[0mseg\u001b[0m\u001b[1;33m(\u001b[0m\u001b[0mself\u001b[0m\u001b[1;33m.\u001b[0m\u001b[0mtopics\u001b[0m\u001b[1;33m)\u001b[0m\u001b[1;33m\u001b[0m\u001b[1;33m\u001b[0m\u001b[0m\n\u001b[0;32m    568\u001b[0m         \u001b[1;32mif\u001b[0m \u001b[0mself\u001b[0m\u001b[1;33m.\u001b[0m\u001b[0m_accumulator\u001b[0m \u001b[1;32mis\u001b[0m \u001b[1;32mNone\u001b[0m\u001b[1;33m:\u001b[0m\u001b[1;33m\u001b[0m\u001b[1;33m\u001b[0m\u001b[0m\n\u001b[1;32m--> 569\u001b[1;33m             \u001b[0mself\u001b[0m\u001b[1;33m.\u001b[0m\u001b[0mestimate_probabilities\u001b[0m\u001b[1;33m(\u001b[0m\u001b[0msegmented_topics\u001b[0m\u001b[1;33m)\u001b[0m\u001b[1;33m\u001b[0m\u001b[1;33m\u001b[0m\u001b[0m\n\u001b[0m\u001b[0;32m    570\u001b[0m \u001b[1;33m\u001b[0m\u001b[0m\n\u001b[0;32m    571\u001b[0m         \u001b[0mkwargs\u001b[0m \u001b[1;33m=\u001b[0m \u001b[0mdict\u001b[0m\u001b[1;33m(\u001b[0m\u001b[0mwith_std\u001b[0m\u001b[1;33m=\u001b[0m\u001b[0mwith_std\u001b[0m\u001b[1;33m,\u001b[0m \u001b[0mwith_support\u001b[0m\u001b[1;33m=\u001b[0m\u001b[0mwith_support\u001b[0m\u001b[1;33m)\u001b[0m\u001b[1;33m\u001b[0m\u001b[1;33m\u001b[0m\u001b[0m\n",
      "\u001b[1;32m~\\Anaconda3\\lib\\site-packages\\gensim\\models\\coherencemodel.py\u001b[0m in \u001b[0;36mestimate_probabilities\u001b[1;34m(self, segmented_topics)\u001b[0m\n\u001b[0;32m    539\u001b[0m                 \u001b[0mkwargs\u001b[0m\u001b[1;33m[\u001b[0m\u001b[1;34m'model'\u001b[0m\u001b[1;33m]\u001b[0m \u001b[1;33m=\u001b[0m \u001b[0mself\u001b[0m\u001b[1;33m.\u001b[0m\u001b[0mkeyed_vectors\u001b[0m\u001b[1;33m\u001b[0m\u001b[1;33m\u001b[0m\u001b[0m\n\u001b[0;32m    540\u001b[0m \u001b[1;33m\u001b[0m\u001b[0m\n\u001b[1;32m--> 541\u001b[1;33m             \u001b[0mself\u001b[0m\u001b[1;33m.\u001b[0m\u001b[0m_accumulator\u001b[0m \u001b[1;33m=\u001b[0m \u001b[0mself\u001b[0m\u001b[1;33m.\u001b[0m\u001b[0mmeasure\u001b[0m\u001b[1;33m.\u001b[0m\u001b[0mprob\u001b[0m\u001b[1;33m(\u001b[0m\u001b[1;33m**\u001b[0m\u001b[0mkwargs\u001b[0m\u001b[1;33m)\u001b[0m\u001b[1;33m\u001b[0m\u001b[1;33m\u001b[0m\u001b[0m\n\u001b[0m\u001b[0;32m    542\u001b[0m \u001b[1;33m\u001b[0m\u001b[0m\n\u001b[0;32m    543\u001b[0m         \u001b[1;32mreturn\u001b[0m \u001b[0mself\u001b[0m\u001b[1;33m.\u001b[0m\u001b[0m_accumulator\u001b[0m\u001b[1;33m\u001b[0m\u001b[1;33m\u001b[0m\u001b[0m\n",
      "\u001b[1;32m~\\Anaconda3\\lib\\site-packages\\gensim\\topic_coherence\\probability_estimation.py\u001b[0m in \u001b[0;36mp_boolean_sliding_window\u001b[1;34m(texts, segmented_topics, dictionary, window_size, processes)\u001b[0m\n\u001b[0;32m    154\u001b[0m         \u001b[0maccumulator\u001b[0m \u001b[1;33m=\u001b[0m \u001b[0mParallelWordOccurrenceAccumulator\u001b[0m\u001b[1;33m(\u001b[0m\u001b[0mprocesses\u001b[0m\u001b[1;33m,\u001b[0m \u001b[0mtop_ids\u001b[0m\u001b[1;33m,\u001b[0m \u001b[0mdictionary\u001b[0m\u001b[1;33m)\u001b[0m\u001b[1;33m\u001b[0m\u001b[1;33m\u001b[0m\u001b[0m\n\u001b[0;32m    155\u001b[0m     \u001b[0mlogger\u001b[0m\u001b[1;33m.\u001b[0m\u001b[0minfo\u001b[0m\u001b[1;33m(\u001b[0m\u001b[1;34m\"using %s to estimate probabilities from sliding windows\"\u001b[0m\u001b[1;33m,\u001b[0m \u001b[0maccumulator\u001b[0m\u001b[1;33m)\u001b[0m\u001b[1;33m\u001b[0m\u001b[1;33m\u001b[0m\u001b[0m\n\u001b[1;32m--> 156\u001b[1;33m     \u001b[1;32mreturn\u001b[0m \u001b[0maccumulator\u001b[0m\u001b[1;33m.\u001b[0m\u001b[0maccumulate\u001b[0m\u001b[1;33m(\u001b[0m\u001b[0mtexts\u001b[0m\u001b[1;33m,\u001b[0m \u001b[0mwindow_size\u001b[0m\u001b[1;33m)\u001b[0m\u001b[1;33m\u001b[0m\u001b[1;33m\u001b[0m\u001b[0m\n\u001b[0m\u001b[0;32m    157\u001b[0m \u001b[1;33m\u001b[0m\u001b[0m\n\u001b[0;32m    158\u001b[0m \u001b[1;33m\u001b[0m\u001b[0m\n",
      "\u001b[1;32m~\\Anaconda3\\lib\\site-packages\\gensim\\topic_coherence\\text_analysis.py\u001b[0m in \u001b[0;36maccumulate\u001b[1;34m(self, texts, window_size)\u001b[0m\n\u001b[0;32m    442\u001b[0m \u001b[1;33m\u001b[0m\u001b[0m\n\u001b[0;32m    443\u001b[0m     \u001b[1;32mdef\u001b[0m \u001b[0maccumulate\u001b[0m\u001b[1;33m(\u001b[0m\u001b[0mself\u001b[0m\u001b[1;33m,\u001b[0m \u001b[0mtexts\u001b[0m\u001b[1;33m,\u001b[0m \u001b[0mwindow_size\u001b[0m\u001b[1;33m)\u001b[0m\u001b[1;33m:\u001b[0m\u001b[1;33m\u001b[0m\u001b[1;33m\u001b[0m\u001b[0m\n\u001b[1;32m--> 444\u001b[1;33m         \u001b[0mworkers\u001b[0m\u001b[1;33m,\u001b[0m \u001b[0minput_q\u001b[0m\u001b[1;33m,\u001b[0m \u001b[0moutput_q\u001b[0m \u001b[1;33m=\u001b[0m \u001b[0mself\u001b[0m\u001b[1;33m.\u001b[0m\u001b[0mstart_workers\u001b[0m\u001b[1;33m(\u001b[0m\u001b[0mwindow_size\u001b[0m\u001b[1;33m)\u001b[0m\u001b[1;33m\u001b[0m\u001b[1;33m\u001b[0m\u001b[0m\n\u001b[0m\u001b[0;32m    445\u001b[0m         \u001b[1;32mtry\u001b[0m\u001b[1;33m:\u001b[0m\u001b[1;33m\u001b[0m\u001b[1;33m\u001b[0m\u001b[0m\n\u001b[0;32m    446\u001b[0m             \u001b[0mself\u001b[0m\u001b[1;33m.\u001b[0m\u001b[0mqueue_all_texts\u001b[0m\u001b[1;33m(\u001b[0m\u001b[0minput_q\u001b[0m\u001b[1;33m,\u001b[0m \u001b[0mtexts\u001b[0m\u001b[1;33m,\u001b[0m \u001b[0mwindow_size\u001b[0m\u001b[1;33m)\u001b[0m\u001b[1;33m\u001b[0m\u001b[1;33m\u001b[0m\u001b[0m\n",
      "\u001b[1;32m~\\Anaconda3\\lib\\site-packages\\gensim\\topic_coherence\\text_analysis.py\u001b[0m in \u001b[0;36mstart_workers\u001b[1;34m(self, window_size)\u001b[0m\n\u001b[0;32m    476\u001b[0m             \u001b[0maccumulator\u001b[0m \u001b[1;33m=\u001b[0m \u001b[0mPatchedWordOccurrenceAccumulator\u001b[0m\u001b[1;33m(\u001b[0m\u001b[0mself\u001b[0m\u001b[1;33m.\u001b[0m\u001b[0mrelevant_ids\u001b[0m\u001b[1;33m,\u001b[0m \u001b[0mself\u001b[0m\u001b[1;33m.\u001b[0m\u001b[0mdictionary\u001b[0m\u001b[1;33m)\u001b[0m\u001b[1;33m\u001b[0m\u001b[1;33m\u001b[0m\u001b[0m\n\u001b[0;32m    477\u001b[0m             \u001b[0mworker\u001b[0m \u001b[1;33m=\u001b[0m \u001b[0mAccumulatingWorker\u001b[0m\u001b[1;33m(\u001b[0m\u001b[0minput_q\u001b[0m\u001b[1;33m,\u001b[0m \u001b[0moutput_q\u001b[0m\u001b[1;33m,\u001b[0m \u001b[0maccumulator\u001b[0m\u001b[1;33m,\u001b[0m \u001b[0mwindow_size\u001b[0m\u001b[1;33m)\u001b[0m\u001b[1;33m\u001b[0m\u001b[1;33m\u001b[0m\u001b[0m\n\u001b[1;32m--> 478\u001b[1;33m             \u001b[0mworker\u001b[0m\u001b[1;33m.\u001b[0m\u001b[0mstart\u001b[0m\u001b[1;33m(\u001b[0m\u001b[1;33m)\u001b[0m\u001b[1;33m\u001b[0m\u001b[1;33m\u001b[0m\u001b[0m\n\u001b[0m\u001b[0;32m    479\u001b[0m             \u001b[0mworkers\u001b[0m\u001b[1;33m.\u001b[0m\u001b[0mappend\u001b[0m\u001b[1;33m(\u001b[0m\u001b[0mworker\u001b[0m\u001b[1;33m)\u001b[0m\u001b[1;33m\u001b[0m\u001b[1;33m\u001b[0m\u001b[0m\n\u001b[0;32m    480\u001b[0m \u001b[1;33m\u001b[0m\u001b[0m\n",
      "\u001b[1;32m~\\Anaconda3\\lib\\multiprocessing\\process.py\u001b[0m in \u001b[0;36mstart\u001b[1;34m(self)\u001b[0m\n\u001b[0;32m    110\u001b[0m                \u001b[1;34m'daemonic processes are not allowed to have children'\u001b[0m\u001b[1;33m\u001b[0m\u001b[1;33m\u001b[0m\u001b[0m\n\u001b[0;32m    111\u001b[0m         \u001b[0m_cleanup\u001b[0m\u001b[1;33m(\u001b[0m\u001b[1;33m)\u001b[0m\u001b[1;33m\u001b[0m\u001b[1;33m\u001b[0m\u001b[0m\n\u001b[1;32m--> 112\u001b[1;33m         \u001b[0mself\u001b[0m\u001b[1;33m.\u001b[0m\u001b[0m_popen\u001b[0m \u001b[1;33m=\u001b[0m \u001b[0mself\u001b[0m\u001b[1;33m.\u001b[0m\u001b[0m_Popen\u001b[0m\u001b[1;33m(\u001b[0m\u001b[0mself\u001b[0m\u001b[1;33m)\u001b[0m\u001b[1;33m\u001b[0m\u001b[1;33m\u001b[0m\u001b[0m\n\u001b[0m\u001b[0;32m    113\u001b[0m         \u001b[0mself\u001b[0m\u001b[1;33m.\u001b[0m\u001b[0m_sentinel\u001b[0m \u001b[1;33m=\u001b[0m \u001b[0mself\u001b[0m\u001b[1;33m.\u001b[0m\u001b[0m_popen\u001b[0m\u001b[1;33m.\u001b[0m\u001b[0msentinel\u001b[0m\u001b[1;33m\u001b[0m\u001b[1;33m\u001b[0m\u001b[0m\n\u001b[0;32m    114\u001b[0m         \u001b[1;31m# Avoid a refcycle if the target function holds an indirect\u001b[0m\u001b[1;33m\u001b[0m\u001b[1;33m\u001b[0m\u001b[1;33m\u001b[0m\u001b[0m\n",
      "\u001b[1;32m~\\Anaconda3\\lib\\multiprocessing\\context.py\u001b[0m in \u001b[0;36m_Popen\u001b[1;34m(process_obj)\u001b[0m\n\u001b[0;32m    221\u001b[0m     \u001b[1;33m@\u001b[0m\u001b[0mstaticmethod\u001b[0m\u001b[1;33m\u001b[0m\u001b[1;33m\u001b[0m\u001b[0m\n\u001b[0;32m    222\u001b[0m     \u001b[1;32mdef\u001b[0m \u001b[0m_Popen\u001b[0m\u001b[1;33m(\u001b[0m\u001b[0mprocess_obj\u001b[0m\u001b[1;33m)\u001b[0m\u001b[1;33m:\u001b[0m\u001b[1;33m\u001b[0m\u001b[1;33m\u001b[0m\u001b[0m\n\u001b[1;32m--> 223\u001b[1;33m         \u001b[1;32mreturn\u001b[0m \u001b[0m_default_context\u001b[0m\u001b[1;33m.\u001b[0m\u001b[0mget_context\u001b[0m\u001b[1;33m(\u001b[0m\u001b[1;33m)\u001b[0m\u001b[1;33m.\u001b[0m\u001b[0mProcess\u001b[0m\u001b[1;33m.\u001b[0m\u001b[0m_Popen\u001b[0m\u001b[1;33m(\u001b[0m\u001b[0mprocess_obj\u001b[0m\u001b[1;33m)\u001b[0m\u001b[1;33m\u001b[0m\u001b[1;33m\u001b[0m\u001b[0m\n\u001b[0m\u001b[0;32m    224\u001b[0m \u001b[1;33m\u001b[0m\u001b[0m\n\u001b[0;32m    225\u001b[0m \u001b[1;32mclass\u001b[0m \u001b[0mDefaultContext\u001b[0m\u001b[1;33m(\u001b[0m\u001b[0mBaseContext\u001b[0m\u001b[1;33m)\u001b[0m\u001b[1;33m:\u001b[0m\u001b[1;33m\u001b[0m\u001b[1;33m\u001b[0m\u001b[0m\n",
      "\u001b[1;32m~\\Anaconda3\\lib\\multiprocessing\\context.py\u001b[0m in \u001b[0;36m_Popen\u001b[1;34m(process_obj)\u001b[0m\n\u001b[0;32m    320\u001b[0m         \u001b[1;32mdef\u001b[0m \u001b[0m_Popen\u001b[0m\u001b[1;33m(\u001b[0m\u001b[0mprocess_obj\u001b[0m\u001b[1;33m)\u001b[0m\u001b[1;33m:\u001b[0m\u001b[1;33m\u001b[0m\u001b[1;33m\u001b[0m\u001b[0m\n\u001b[0;32m    321\u001b[0m             \u001b[1;32mfrom\u001b[0m \u001b[1;33m.\u001b[0m\u001b[0mpopen_spawn_win32\u001b[0m \u001b[1;32mimport\u001b[0m \u001b[0mPopen\u001b[0m\u001b[1;33m\u001b[0m\u001b[1;33m\u001b[0m\u001b[0m\n\u001b[1;32m--> 322\u001b[1;33m             \u001b[1;32mreturn\u001b[0m \u001b[0mPopen\u001b[0m\u001b[1;33m(\u001b[0m\u001b[0mprocess_obj\u001b[0m\u001b[1;33m)\u001b[0m\u001b[1;33m\u001b[0m\u001b[1;33m\u001b[0m\u001b[0m\n\u001b[0m\u001b[0;32m    323\u001b[0m \u001b[1;33m\u001b[0m\u001b[0m\n\u001b[0;32m    324\u001b[0m     \u001b[1;32mclass\u001b[0m \u001b[0mSpawnContext\u001b[0m\u001b[1;33m(\u001b[0m\u001b[0mBaseContext\u001b[0m\u001b[1;33m)\u001b[0m\u001b[1;33m:\u001b[0m\u001b[1;33m\u001b[0m\u001b[1;33m\u001b[0m\u001b[0m\n",
      "\u001b[1;32m~\\Anaconda3\\lib\\multiprocessing\\popen_spawn_win32.py\u001b[0m in \u001b[0;36m__init__\u001b[1;34m(self, process_obj)\u001b[0m\n\u001b[0;32m     63\u001b[0m             \u001b[1;32mtry\u001b[0m\u001b[1;33m:\u001b[0m\u001b[1;33m\u001b[0m\u001b[1;33m\u001b[0m\u001b[0m\n\u001b[0;32m     64\u001b[0m                 \u001b[0mreduction\u001b[0m\u001b[1;33m.\u001b[0m\u001b[0mdump\u001b[0m\u001b[1;33m(\u001b[0m\u001b[0mprep_data\u001b[0m\u001b[1;33m,\u001b[0m \u001b[0mto_child\u001b[0m\u001b[1;33m)\u001b[0m\u001b[1;33m\u001b[0m\u001b[1;33m\u001b[0m\u001b[0m\n\u001b[1;32m---> 65\u001b[1;33m                 \u001b[0mreduction\u001b[0m\u001b[1;33m.\u001b[0m\u001b[0mdump\u001b[0m\u001b[1;33m(\u001b[0m\u001b[0mprocess_obj\u001b[0m\u001b[1;33m,\u001b[0m \u001b[0mto_child\u001b[0m\u001b[1;33m)\u001b[0m\u001b[1;33m\u001b[0m\u001b[1;33m\u001b[0m\u001b[0m\n\u001b[0m\u001b[0;32m     66\u001b[0m             \u001b[1;32mfinally\u001b[0m\u001b[1;33m:\u001b[0m\u001b[1;33m\u001b[0m\u001b[1;33m\u001b[0m\u001b[0m\n\u001b[0;32m     67\u001b[0m                 \u001b[0mset_spawning_popen\u001b[0m\u001b[1;33m(\u001b[0m\u001b[1;32mNone\u001b[0m\u001b[1;33m)\u001b[0m\u001b[1;33m\u001b[0m\u001b[1;33m\u001b[0m\u001b[0m\n",
      "\u001b[1;32m~\\Anaconda3\\lib\\multiprocessing\\reduction.py\u001b[0m in \u001b[0;36mdump\u001b[1;34m(obj, file, protocol)\u001b[0m\n\u001b[0;32m     58\u001b[0m \u001b[1;32mdef\u001b[0m \u001b[0mdump\u001b[0m\u001b[1;33m(\u001b[0m\u001b[0mobj\u001b[0m\u001b[1;33m,\u001b[0m \u001b[0mfile\u001b[0m\u001b[1;33m,\u001b[0m \u001b[0mprotocol\u001b[0m\u001b[1;33m=\u001b[0m\u001b[1;32mNone\u001b[0m\u001b[1;33m)\u001b[0m\u001b[1;33m:\u001b[0m\u001b[1;33m\u001b[0m\u001b[1;33m\u001b[0m\u001b[0m\n\u001b[0;32m     59\u001b[0m     \u001b[1;34m'''Replacement for pickle.dump() using ForkingPickler.'''\u001b[0m\u001b[1;33m\u001b[0m\u001b[1;33m\u001b[0m\u001b[0m\n\u001b[1;32m---> 60\u001b[1;33m     \u001b[0mForkingPickler\u001b[0m\u001b[1;33m(\u001b[0m\u001b[0mfile\u001b[0m\u001b[1;33m,\u001b[0m \u001b[0mprotocol\u001b[0m\u001b[1;33m)\u001b[0m\u001b[1;33m.\u001b[0m\u001b[0mdump\u001b[0m\u001b[1;33m(\u001b[0m\u001b[0mobj\u001b[0m\u001b[1;33m)\u001b[0m\u001b[1;33m\u001b[0m\u001b[1;33m\u001b[0m\u001b[0m\n\u001b[0m\u001b[0;32m     61\u001b[0m \u001b[1;33m\u001b[0m\u001b[0m\n\u001b[0;32m     62\u001b[0m \u001b[1;31m#\u001b[0m\u001b[1;33m\u001b[0m\u001b[1;33m\u001b[0m\u001b[1;33m\u001b[0m\u001b[0m\n",
      "\u001b[1;31mKeyboardInterrupt\u001b[0m: "
     ]
    }
   ],
   "source": [
    "import numpy as np\n",
    "import tqdm\n",
    "grid = {}\n",
    "grid['Validation_Set'] = {}\n",
    "# Topics range\n",
    "min_topics = 2\n",
    "max_topics = 11\n",
    "step_size = 1\n",
    "topics_range = range(min_topics, max_topics, step_size)\n",
    "# Alpha parameter\n",
    "alpha = list(np.arange(0.01, 1, 0.3))\n",
    "alpha.append('symmetric')\n",
    "alpha.append('asymmetric')\n",
    "# Beta parameter\n",
    "beta = list(np.arange(0.01, 1, 0.3))\n",
    "beta.append('symmetric')\n",
    "# Validation sets\n",
    "num_of_docs = len(corpus)\n",
    "corpus_sets = [# gensim.utils.ClippedCorpus(corpus, num_of_docs*0.25), \n",
    "               # gensim.utils.ClippedCorpus(corpus, num_of_docs*0.5), \n",
    "               gensim.utils.ClippedCorpus(corpus, num_of_docs*0.75), \n",
    "               corpus]\n",
    "corpus_title = ['75% Corpus', '100% Corpus']\n",
    "model_results = {'Validation_Set': [],\n",
    "                 'Topics': [],\n",
    "                 'Alpha': [],\n",
    "                 'Beta': [],\n",
    "                 'Coherence': []\n",
    "                }\n",
    "# Can take a long time to run\n",
    "if 1 == 1:\n",
    "    pbar = tqdm.tqdm(total=540)\n",
    "    \n",
    "    # iterate through validation corpuses\n",
    "    for i in range(1,len(corpus_sets)):\n",
    "        # iterate through number of topics\n",
    "        for k in topics_range:\n",
    "            # iterate through alpha values\n",
    "            for a in alpha:\n",
    "                # iterare through beta values\n",
    "                for b in beta:\n",
    "                    # get the coherence score for the given parameters\n",
    "                    cv = compute_coherence_values(corpus=corpus_sets[i], dictionary=id2word, \n",
    "                                                  k=k, a=a, b=b)\n",
    "                    # Save the model results\n",
    "                    model_results['Validation_Set'].append(corpus_title[i])\n",
    "                    model_results['Topics'].append(k)\n",
    "                    model_results['Alpha'].append(a)\n",
    "                    model_results['Beta'].append(b)\n",
    "                    model_results['Coherence'].append(cv)\n",
    "                    \n",
    "                    pbar.update(1)\n",
    "    pd.DataFrame(model_results).to_csv('lda_tuning_results.csv', index=False)\n",
    "    pbar.close()"
   ]
  },
  {
   "cell_type": "code",
   "execution_count": null,
   "metadata": {},
   "outputs": [],
   "source": [
    "np.array(model_results['Coherence']).shape"
   ]
  },
  {
   "cell_type": "code",
   "execution_count": null,
   "metadata": {},
   "outputs": [],
   "source": [
    "model_results['Coherence']"
   ]
  },
  {
   "cell_type": "code",
   "execution_count": null,
   "metadata": {},
   "outputs": [],
   "source": [
    "limit=271; start=1; step=1;\n",
    "x = range(start, limit, step)\n",
    "plt.plot(x, model_results['Coherence'])\n",
    "plt.xlabel(\"Num Topics\")\n",
    "plt.ylabel(\"Coherence score\")\n",
    "plt.legend((\"coherence\"), loc='best')\n",
    "plt.show()"
   ]
  },
  {
   "cell_type": "code",
   "execution_count": null,
   "metadata": {},
   "outputs": [],
   "source": [
    "lda_model = gensim.models.LdaMulticore(corpus=corpus,\n",
    "                                           id2word=id2word,\n",
    "                                           num_topics=8, \n",
    "                                           random_state=100,\n",
    "                                           chunksize=100,\n",
    "                                           passes=10,\n",
    "                                           alpha=0.01,\n",
    "                                           eta=0.9)"
   ]
  },
  {
   "cell_type": "code",
   "execution_count": null,
   "metadata": {},
   "outputs": [],
   "source": [
    "import pyLDAvis.gensim\n",
    "import pickle \n",
    "import pyLDAvis\n",
    "# Visualize the topics\n",
    "pyLDAvis.enable_notebook()\n",
    "LDAvis_prepared = pyLDAvis.gensim.prepare(lda_model, corpus, id2word)\n",
    "LDAvis_prepared"
   ]
  },
  {
   "cell_type": "code",
   "execution_count": null,
   "metadata": {},
   "outputs": [],
   "source": [
    "pprint(lda_model.print_topics())\n",
    "doc_lda = lda_model[corpus]\n",
    "#https://towardsdatascience.com/evaluate-topic-model-in-python-latent-dirichlet-allocation-lda-7d57484bb5d0\n",
    "#https://www.machinelearningplus.com/nlp/topic-modeling-gensim-python/"
   ]
  },
  {
   "cell_type": "code",
   "execution_count": null,
   "metadata": {},
   "outputs": [],
   "source": [
    "def format_topics_sentences(ldamodel=lda_model, corpus=corpus, texts=text_data):\n",
    "    # Init output\n",
    "    sent_topics_df = pd.DataFrame()\n",
    "\n",
    "    # Get main topic in each document\n",
    "    for i, row in enumerate(ldamodel[corpus]):\n",
    "        row = sorted(row, key=lambda x: (x[1]), reverse=True)\n",
    "        # Get the Dominant topic, Perc Contribution and Keywords for each document\n",
    "        for j, (topic_num, prop_topic) in enumerate(row):\n",
    "            if j == 0:  # => dominant topic\n",
    "                wp = ldamodel.show_topic(topic_num)\n",
    "                topic_keywords = \", \".join([word for word, prop in wp])\n",
    "                sent_topics_df = sent_topics_df.append(pd.Series([int(topic_num), round(prop_topic,4), topic_keywords]), ignore_index=True)\n",
    "            else:\n",
    "                break\n",
    "    sent_topics_df.columns = ['Dominant_Topic', 'Perc_Contribution', 'Topic_Keywords']\n",
    "\n",
    "    # Add original text to the end of the output\n",
    "    contents = pd.Series(texts)\n",
    "    sent_topics_df = pd.concat([sent_topics_df, contents], axis=1)\n",
    "    return(sent_topics_df)\n",
    "\n",
    "\n",
    "df_topic_sents_keywords = format_topics_sentences(ldamodel=lda_model, corpus=corpus, texts=text_data)\n",
    "\n",
    "# Format\n",
    "df_dominant_topic = df_topic_sents_keywords.reset_index()\n",
    "df_dominant_topic.columns = ['Document_No', 'Dominant_Topic', 'Topic_Perc_Contrib', 'Keywords', 'Text']\n",
    "\n",
    "# Show\n",
    "df_dominant_topic.head(10)"
   ]
  },
  {
   "cell_type": "code",
   "execution_count": null,
   "metadata": {},
   "outputs": [],
   "source": [
    "# Group top 5 sentences under each topic\n",
    "sent_topics_sorteddf_mallet = pd.DataFrame()\n",
    "\n",
    "sent_topics_outdf_grpd = df_topic_sents_keywords.groupby('Dominant_Topic')\n",
    "\n",
    "for i, grp in sent_topics_outdf_grpd:\n",
    "    sent_topics_sorteddf_mallet = pd.concat([sent_topics_sorteddf_mallet, \n",
    "                                             grp.sort_values(['Perc_Contribution'], ascending=[0]).head(1)], \n",
    "                                            axis=0)\n",
    "\n",
    "# Reset Index    \n",
    "sent_topics_sorteddf_mallet.reset_index(drop=True, inplace=True)\n",
    "\n",
    "# Format\n",
    "sent_topics_sorteddf_mallet.columns = ['Topic_Num', \"Topic_Perc_Contrib\", \"Keywords\", \"Text\"]\n",
    "\n",
    "# Show\n",
    "sent_topics_sorteddf_mallet.head()"
   ]
  },
  {
   "cell_type": "code",
   "execution_count": null,
   "metadata": {},
   "outputs": [],
   "source": [
    "#https://www.machinelearningplus.com/nlp/topic-modeling-visualization-how-to-present-results-lda-models/\n",
    "#https://www.machinelearningplus.com/nlp/topic-modeling-gensim-python/\n",
    "\n",
    "# Number of Documents for Each Topic\n",
    "topic_counts = df_topic_sents_keywords['Dominant_Topic'].value_counts()\n",
    "\n",
    "# Percentage of Documents for Each Topic\n",
    "topic_contribution = round(topic_counts/topic_counts.sum(), 4)\n",
    "\n",
    "# Topic Number and Keywords\n",
    "topic_num_keywords = df_topic_sents_keywords[['Dominant_Topic', 'Topic_Keywords']]\n",
    "\n",
    "# Concatenate Column wise\n",
    "df_dominant_topics = pd.concat([topic_num_keywords, topic_counts, topic_contribution], axis=1)\n",
    "\n",
    "# Change Column names\n",
    "df_dominant_topics.columns = ['Dominant_Topic', 'Topic_Keywords', 'Num_Documents', 'Perc_Documents']\n",
    "\n",
    "# Show\n",
    "df_dominant_topics"
   ]
  },
  {
   "cell_type": "code",
   "execution_count": null,
   "metadata": {},
   "outputs": [],
   "source": [
    "def format_topics_sentences(ldamodel=None, corpus=corpus, texts=f):\n",
    "    # Init output\n",
    "    sent_topics_df = pd.DataFrame()\n",
    "\n",
    "    # Get main topic in each document\n",
    "    for i, row_list in enumerate(ldamodel[corpus]):\n",
    "        row = row_list[0] if ldamodel.per_word_topics else row_list            \n",
    "        # print(row)\n",
    "        row = sorted(row, key=lambda x: (x[1]), reverse=True)\n",
    "        # Get the Dominant topic, Perc Contribution and Keywords for each document\n",
    "        for j, (topic_num, prop_topic) in enumerate(row):\n",
    "            if j == 0:  # => dominant topic\n",
    "                wp = ldamodel.show_topic(topic_num)\n",
    "                topic_keywords = \", \".join([word for word, prop in wp])\n",
    "                sent_topics_df = sent_topics_df.append(pd.Series([int(topic_num), round(prop_topic,4), topic_keywords]), ignore_index=True)\n",
    "            else:\n",
    "                break\n",
    "    sent_topics_df.columns = ['Dominant_Topic', 'Perc_Contribution', 'Topic_Keywords']\n",
    "\n",
    "    # Add original text to the end of the output\n",
    "    contents = pd.Series(texts)\n",
    "    sent_topics_df = pd.concat([sent_topics_df, contents], axis=1)\n",
    "    return(sent_topics_df)\n",
    "\n",
    "\n",
    "df_topic_sents_keywords = format_topics_sentences(ldamodel=lda_model, corpus=corpus, texts=text_data)\n",
    "\n",
    "# Format\n",
    "df_dominant_topic = df_topic_sents_keywords.reset_index()\n",
    "df_dominant_topic.columns = ['Document_No', 'Dominant_Topic', 'Topic_Perc_Contrib', 'Keywords', 'Text']\n",
    "df_dominant_topic.head(10)"
   ]
  },
  {
   "cell_type": "code",
   "execution_count": null,
   "metadata": {},
   "outputs": [],
   "source": [
    "# Display setting to show more characters in column\n",
    "pd.options.display.max_colwidth = 100\n",
    "\n",
    "sent_topics_sorteddf_mallet = pd.DataFrame()\n",
    "sent_topics_outdf_grpd = df_topic_sents_keywords.groupby('Dominant_Topic')\n",
    "\n",
    "for i, grp in sent_topics_outdf_grpd:\n",
    "    sent_topics_sorteddf_mallet = pd.concat([sent_topics_sorteddf_mallet, \n",
    "                                             grp.sort_values(['Perc_Contribution'], ascending=False).head(1)], \n",
    "                                            axis=0)\n",
    "\n",
    "# Reset Index    \n",
    "sent_topics_sorteddf_mallet.reset_index(drop=True, inplace=True)\n",
    "\n",
    "# Format\n",
    "sent_topics_sorteddf_mallet.columns = ['Topic_Num', \"Topic_Perc_Contrib\", \"Keywords\", \"Representative Text\"]\n",
    "\n",
    "# Show\n",
    "sent_topics_sorteddf_mallet.head(10)"
   ]
  },
  {
   "cell_type": "code",
   "execution_count": null,
   "metadata": {},
   "outputs": [],
   "source": [
    "doc_lens = [len(d) for d in df_dominant_topic.Text]\n",
    "\n",
    "# Plot\n",
    "plt.figure(figsize=(16,7), dpi=160)\n",
    "plt.hist(doc_lens, bins = 1000, color='navy')\n",
    "plt.text(750, 100, \"Mean   : \" + str(round(np.mean(doc_lens))))\n",
    "plt.text(750,  90, \"Median : \" + str(round(np.median(doc_lens))))\n",
    "plt.text(750,  80, \"Stdev   : \" + str(round(np.std(doc_lens))))\n",
    "plt.text(750,  70, \"1%ile    : \" + str(round(np.quantile(doc_lens, q=0.01))))\n",
    "plt.text(750,  60, \"99%ile  : \" + str(round(np.quantile(doc_lens, q=0.99))))\n",
    "\n",
    "plt.gca().set(xlim=(0, 1000), ylabel='Number of Documents', xlabel='Document Word Count')\n",
    "plt.tick_params(size=16)\n",
    "plt.xticks(np.linspace(0,1000,9))\n",
    "plt.title('Distribution of Document Word Counts', fontdict=dict(size=22))\n",
    "plt.show()"
   ]
  },
  {
   "cell_type": "code",
   "execution_count": null,
   "metadata": {},
   "outputs": [],
   "source": [
    "import seaborn as sns\n",
    "import matplotlib.colors as mcolors\n",
    "cols = [color for name, color in mcolors.TABLEAU_COLORS.items()]  # more colors: 'mcolors.XKCD_COLORS'\n",
    "\n",
    "fig, axes = plt.subplots(2,2,figsize=(16,14), dpi=160, sharex=True, sharey=True)\n",
    "\n",
    "for i, ax in enumerate(axes.flatten()):    \n",
    "    df_dominant_topic_sub = df_dominant_topic.loc[df_dominant_topic.Dominant_Topic == i, :]\n",
    "    doc_lens = [len(d) for d in df_dominant_topic_sub.Text]\n",
    "    ax.hist(doc_lens, bins = 1000, color=cols[i])\n",
    "    ax.tick_params(axis='y', labelcolor=cols[i], color=cols[i])\n",
    "    sns.kdeplot(doc_lens, color=\"black\", shade=False, ax=ax.twinx())\n",
    "    ax.set(xlim=(0, 1000), xlabel='Document Word Count')\n",
    "    ax.set_ylabel('Number of Documents', color=cols[i])\n",
    "    ax.set_title('Topic: '+str(i), fontdict=dict(size=16, color=cols[i]))\n",
    "\n",
    "fig.tight_layout()\n",
    "fig.subplots_adjust(top=0.90)\n",
    "plt.xticks(np.linspace(0,1000,9))\n",
    "fig.suptitle('Distribution of Document Word Counts by Dominant Topic', fontsize=22)\n",
    "plt.show()"
   ]
  },
  {
   "cell_type": "code",
   "execution_count": null,
   "metadata": {},
   "outputs": [],
   "source": [
    "# 1. Wordcloud of Top N words in each topic\n",
    "from matplotlib import pyplot as plt\n",
    "from wordcloud import WordCloud, STOPWORDS\n",
    "import matplotlib.colors as mcolors\n",
    "\n",
    "cols = [color for name, color in mcolors.TABLEAU_COLORS.items()]  # more colors: 'mcolors.XKCD_COLORS'\n",
    "\n",
    "cloud = WordCloud(stopwords=stop_words,\n",
    "                  background_color='white',\n",
    "                  width=2500,\n",
    "                  height=1800,\n",
    "                  max_words=10,\n",
    "                  colormap='tab10',\n",
    "                  color_func=lambda *args, **kwargs: cols[i],\n",
    "                  prefer_horizontal=1.0)\n",
    "\n",
    "topics = lda_model.show_topics(formatted=False)\n",
    "\n",
    "fig, axes = plt.subplots(4, 2, figsize=(10,10), sharex=True, sharey=True)\n",
    "\n",
    "for i, ax in enumerate(axes.flatten()):\n",
    "    fig.add_subplot(ax)\n",
    "    topic_words = dict(topics[i][1])\n",
    "    cloud.generate_from_frequencies(topic_words, max_font_size=300)\n",
    "    plt.gca().imshow(cloud)\n",
    "    plt.gca().set_title('Topic ' + str(i), fontdict=dict(size=16))\n",
    "    plt.gca().axis('off')\n",
    "\n",
    "\n",
    "plt.subplots_adjust(wspace=0, hspace=0)\n",
    "plt.axis('off')\n",
    "plt.margins(x=0, y=0)\n",
    "plt.tight_layout()\n",
    "plt.show()"
   ]
  },
  {
   "cell_type": "code",
   "execution_count": null,
   "metadata": {},
   "outputs": [],
   "source": [
    "from collections import Counter\n",
    "topics = lda_model.show_topics(formatted=False)\n",
    "data_flat = [w for w_list in text_data for w in w_list]\n",
    "counter = Counter(data_flat)\n",
    "\n",
    "out = []\n",
    "for i, topic in topics:\n",
    "    for word, weight in topic:\n",
    "        out.append([word, i , weight, counter[word]])\n",
    "\n",
    "df = pd.DataFrame(out, columns=['word', 'topic_id', 'importance', 'word_count'])        \n",
    "\n",
    "# Plot Word Count and Weights of Topic Keywords\n",
    "fig, axes = plt.subplots(2, 2, figsize=(16,10), sharey=True, dpi=160)\n",
    "cols = [color for name, color in mcolors.TABLEAU_COLORS.items()]\n",
    "for i, ax in enumerate(axes.flatten()):\n",
    "    ax.bar(x='word', height=\"word_count\", data=df.loc[df.topic_id==i, :], color=cols[i], width=0.5, alpha=0.3, label='Word Count')\n",
    "    ax_twin = ax.twinx()\n",
    "    ax_twin.bar(x='word', height=\"importance\", data=df.loc[df.topic_id==i, :], color=cols[i], width=0.2, label='Weights')\n",
    "    ax.set_ylabel('Word Count', color=cols[i])\n",
    "    ax_twin.set_ylim(0, 0.030); ax.set_ylim(0, 3500)\n",
    "    ax.set_title('Topic: ' + str(i), color=cols[i], fontsize=16)\n",
    "    ax.tick_params(axis='y', left=False)\n",
    "    ax.set_xticklabels(df.loc[df.topic_id==i, 'word'], rotation=30, horizontalalignment= 'right')\n",
    "    ax.legend(loc='upper left'); ax_twin.legend(loc='upper right')\n",
    "\n",
    "fig.tight_layout(w_pad=2)    \n",
    "fig.suptitle('Word Count and Importance of Topic Keywords', fontsize=22, y=1.05)    \n",
    "plt.show()"
   ]
  },
  {
   "cell_type": "code",
   "execution_count": null,
   "metadata": {},
   "outputs": [],
   "source": [
    "# Sentence Coloring of N Sentences\n",
    "from matplotlib.patches import Rectangle\n",
    "\n",
    "def sentences_chart(lda_model=lda_model, corpus=corpus, start = 0, end = 13):\n",
    "    corp = corpus[start:end]\n",
    "    mycolors = [color for name, color in mcolors.TABLEAU_COLORS.items()]\n",
    "\n",
    "    fig, axes = plt.subplots(end-start, 1, figsize=(20, (end-start)*0.95), dpi=160)       \n",
    "    axes[0].axis('off')\n",
    "    for i, ax in enumerate(axes):\n",
    "        if i > 0:\n",
    "            corp_cur = corp[i-1] \n",
    "            topic_percs, wordid_topics, wordid_phivalues = lda_model[corp_cur]\n",
    "            word_dominanttopic = [(lda_model.id2word[wd], topic[0]) for wd, topic in wordid_topics]    \n",
    "            ax.text(0.01, 0.5, \"Doc \" + str(i-1) + \": \", verticalalignment='center',\n",
    "                    fontsize=16, color='black', transform=ax.transAxes, fontweight=700)\n",
    "\n",
    "            # Draw Rectange\n",
    "            topic_percs_sorted = sorted(topic_percs, key=lambda x: (x[1]), reverse=True)\n",
    "            ax.add_patch(Rectangle((0.0, 0.05), 0.99, 0.90, fill=None, alpha=1, \n",
    "                                   color=mycolors[topic_percs_sorted[0][0]], linewidth=2))\n",
    "\n",
    "            word_pos = 0.06\n",
    "            for j, (word, topics) in enumerate(word_dominanttopic):\n",
    "                if j < 14:\n",
    "                    ax.text(word_pos, 0.5, word,\n",
    "                            horizontalalignment='left',\n",
    "                            verticalalignment='center',\n",
    "                            fontsize=16, color=mycolors[topics],\n",
    "                            transform=ax.transAxes, fontweight=700)\n",
    "                    word_pos += .009 * len(word)  # to move the word for the next iter\n",
    "                    ax.axis('off')\n",
    "            ax.text(word_pos, 0.5, '. . .',\n",
    "                    horizontalalignment='left',\n",
    "                    verticalalignment='center',\n",
    "                    fontsize=16, color='black',\n",
    "                    transform=ax.transAxes)       \n",
    "\n",
    "    plt.subplots_adjust(wspace=0, hspace=0)\n",
    "    plt.suptitle('Sentence Topic Coloring for Documents: ' + str(start) + ' to ' + str(end-2), fontsize=22, y=0.95, fontweight=700)\n",
    "    plt.tight_layout()\n",
    "    plt.show()\n",
    "\n",
    "sentences_chart()    "
   ]
  },
  {
   "cell_type": "code",
   "execution_count": null,
   "metadata": {},
   "outputs": [],
   "source": [
    "# Sentence Coloring of N Sentences\n",
    "def topics_per_document(model, corpus, start=0, end=1):\n",
    "    corpus_sel = corpus[start:end]\n",
    "    dominant_topics = []\n",
    "    topic_percentages = []\n",
    "    for i, corp in enumerate(corpus_sel):\n",
    "        topic_percs, wordid_topics, wordid_phivalues = model[corp]\n",
    "        dominant_topic = sorted(topic_percs, key = lambda x: x[1], reverse=True)[0][0]\n",
    "        dominant_topics.append((i, dominant_topic))\n",
    "        topic_percentages.append(topic_percs)\n",
    "    return(dominant_topics, topic_percentages)\n",
    "\n",
    "dominant_topics, topic_percentages = topics_per_document(model=lda_model, corpus=corpus, end=-1)            \n",
    "\n",
    "# Distribution of Dominant Topics in Each Document\n",
    "df = pd.DataFrame(dominant_topics, columns=['Document_Id', 'Dominant_Topic'])\n",
    "dominant_topic_in_each_doc = df.groupby('Dominant_Topic').size()\n",
    "df_dominant_topic_in_each_doc = dominant_topic_in_each_doc.to_frame(name='count').reset_index()\n",
    "\n",
    "# Total Topic Distribution by actual weight\n",
    "topic_weightage_by_doc = pd.DataFrame([dict(t) for t in topic_percentages])\n",
    "df_topic_weightage_by_doc = topic_weightage_by_doc.sum().to_frame(name='count').reset_index()\n",
    "\n",
    "# Top 3 Keywords for each Topic\n",
    "topic_top3words = [(i, topic) for i, topics in lda_model.show_topics(formatted=False) \n",
    "                                 for j, (topic, wt) in enumerate(topics) if j < 3]\n",
    "\n",
    "df_top3words_stacked = pd.DataFrame(topic_top3words, columns=['topic_id', 'words'])\n",
    "df_top3words = df_top3words_stacked.groupby('topic_id').agg(', \\n'.join)\n",
    "df_top3words.reset_index(level=0,inplace=True)"
   ]
  },
  {
   "cell_type": "code",
   "execution_count": null,
   "metadata": {},
   "outputs": [],
   "source": [
    "from matplotlib.ticker import FuncFormatter\n",
    "\n",
    "# Plot\n",
    "fig, (ax1, ax2) = plt.subplots(1, 2, figsize=(10, 4), dpi=120, sharey=True)\n",
    "\n",
    "# Topic Distribution by Dominant Topics\n",
    "ax1.bar(x='Dominant_Topic', height='count', data=df_dominant_topic_in_each_doc, width=.5, color='firebrick')\n",
    "ax1.set_xticks(range(df_dominant_topic_in_each_doc.Dominant_Topic.unique().__len__()))\n",
    "tick_formatter = FuncFormatter(lambda x, pos: 'Topic ' + str(x)+ '\\n' + df_top3words.loc[df_top3words.topic_id==x, 'words'].values[0])\n",
    "ax1.xaxis.set_major_formatter(tick_formatter)\n",
    "ax1.set_title('Number of Documents by Dominant Topic', fontdict=dict(size=10))\n",
    "ax1.set_ylabel('Number of Documents')\n",
    "ax1.set_ylim(0, 1000)\n",
    "\n",
    "# Topic Distribution by Topic Weights\n",
    "ax2.bar(x='index', height='count', data=df_topic_weightage_by_doc, width=.5, color='steelblue')\n",
    "ax2.set_xticks(range(df_topic_weightage_by_doc.index.unique().__len__()))\n",
    "ax2.xaxis.set_major_formatter(tick_formatter)\n",
    "ax2.set_title('Number of Documents by Topic Weightage', fontdict=dict(size=10))\n",
    "\n",
    "plt.show()"
   ]
  },
  {
   "cell_type": "code",
   "execution_count": null,
   "metadata": {},
   "outputs": [],
   "source": [
    "# Get topic weights and dominant topics ------------\n",
    "from sklearn.manifold import TSNE\n",
    "from bokeh.plotting import figure, output_file, show\n",
    "from bokeh.models import Label\n",
    "from bokeh.io import output_notebook\n",
    "\n",
    "# Get topic weights\n",
    "topic_weights = []\n",
    "for i, row_list in enumerate(lda_model[corpus]):\n",
    "    topic_weights.append([w for i, w in row_list[0]])\n",
    "\n",
    "# Array of topic weights    \n",
    "arr = pd.DataFrame(topic_weights).fillna(0).values\n",
    "\n",
    "# Keep the well separated points (optional)\n",
    "arr = arr[np.amax(arr, axis=1) > 0.35]\n",
    "\n",
    "# Dominant topic number in each doc\n",
    "topic_num = np.argmax(arr, axis=1)\n",
    "\n",
    "# tSNE Dimension Reduction\n",
    "tsne_model = TSNE(n_components=2, verbose=1, random_state=0, angle=.99, init='pca')\n",
    "tsne_lda = tsne_model.fit_transform(arr)\n",
    "\n",
    "# Plot the Topic Clusters using Bokeh\n",
    "output_notebook()\n",
    "n_topics = 4\n",
    "mycolors = np.array([color for name, color in mcolors.TABLEAU_COLORS.items()])\n",
    "plot = figure(title=\"t-SNE Clustering of {} LDA Topics\".format(n_topics), \n",
    "              plot_width=900, plot_height=700)\n",
    "plot.scatter(x=tsne_lda[:,0], y=tsne_lda[:,1], color=mycolors[topic_num])\n",
    "show(plot)"
   ]
  },
  {
   "cell_type": "code",
   "execution_count": null,
   "metadata": {},
   "outputs": [],
   "source": []
  },
  {
   "cell_type": "code",
   "execution_count": null,
   "metadata": {},
   "outputs": [],
   "source": [
    "####https://stats.stackexchange.com/questions/102932/comparing-topic-distributions-between-corpora-using-latent-dirichlet-allocation\n",
    "\n",
    "\n",
    "# Get the mean of all topic distributions in one corpus\n",
    "national_topic_vectors = []\n",
    "for newspaper in national_corpus:\n",
    "    national_topic_vectors.append(lda[newspaper])\n",
    "national_average = numpy.average(numpy.array(national_topic_vectors), axis=0)\n",
    "\n",
    "# Get the mean of all topic distributions in another corpus\n",
    "regional_topic_vectors = []\n",
    "for newspaper in regional_corpus:\n",
    "    regional_topic_vectors.append(lda[newspaper])\n",
    "regional_average = numpy.average(numpy.array(regional_topic_vectors), axis=0)\n",
    "\n",
    "# Calculate the distance between the distribution of topics in both corpora\n",
    "difference_of_distributions = numpy.linalg.norm(national_average - regional_average)"
   ]
  },
  {
   "cell_type": "code",
   "execution_count": null,
   "metadata": {},
   "outputs": [],
   "source": []
  },
  {
   "cell_type": "code",
   "execution_count": null,
   "metadata": {},
   "outputs": [],
   "source": [
    "#Finalizing the model"
   ]
  },
  {
   "cell_type": "code",
   "execution_count": null,
   "metadata": {},
   "outputs": [],
   "source": []
  },
  {
   "cell_type": "code",
   "execution_count": null,
   "metadata": {},
   "outputs": [],
   "source": []
  },
  {
   "cell_type": "code",
   "execution_count": null,
   "metadata": {},
   "outputs": [],
   "source": []
  },
  {
   "cell_type": "code",
   "execution_count": null,
   "metadata": {},
   "outputs": [],
   "source": [
    "amorale4@keeling src: $ cat DataAnalyzer.py\n",
    "import pickle\n",
    "import random\n",
    "import re\n",
    "import glob\n",
    "\n",
    "import gensim\n",
    "import numpy as np\n",
    "import time\n",
    "from DataReader import DataReader\n",
    "from gensim.models import LdaModel\n",
    "from nltk.corpus import stopwords\n",
    "from sklearn.feature_extraction.text import CountVectorizer, TfidfVectorizer\n",
    "from sklearn.preprocessing import normalize\n",
    "from time import time\n",
    "\n",
    "\n",
    "from sklearn.cluster import KMeans\n",
    "import numpy as np\n",
    "\n",
    "RSEED = 420369180\n",
    "with open('stopwords.txt', 'r') as f_sw:\n",
    "    eng_stopwords = [ l.strip() for l in f_sw.readlines() ] + stopwords.words('english')\n",
    "\n",
    "pattern = re.compile(r'\\b(' + r'|'.join(eng_stopwords) + r')\\b\\s*')\n",
    "def preprocess_text(text):\n",
    "    #clean_data = [ w.strip() for w in text if w not in eng_stopwords]\n",
    "    clean_data = [pattern.sub('', example.lower())  for example in text ]\n",
    "    clean_data = [re.sub(r\"http\\S+\", \"\", example.lower()) for example in clean_data]\n",
    "    X_text = [re.sub(r\"\\.com/\\S+\", \"\", example) for example in clean_data]\n",
    "    X_text = [re.sub(\"^\\d+\\s|\\s\\d+\\s|\\s\\d+$\", \"\", example) for example in X_text]\n",
    "    X_text = [re.sub('&#[0-9]*', '', x) for x in X_text]\n",
    "    X_text = [re.sub('[0-9]+', '', x) for x in X_text]\n",
    "    X_text = [re.sub('[\\_]+', '', x) for x in X_text]\n",
    "    X_text = [re.sub('[\\n\\r(?./-]', ' ', x) for x in X_text]\n",
    "    return X_text\n",
    "\n",
    "def gen_feature_vectorizer(type, min_docFreq = 10, max_docFreq = 0.70, max_totFeatures = 50000, vocab = None,\n",
    "                           min_ngrams=1, max_ngrams=1, input_type='filename'):\n",
    "    if type is 'tf':\n",
    "        return CountVectorizer(input = input_type,stop_words=eng_stopwords, min_df=min_docFreq,ngram_range=(min_ngrams, max_ngrams),\n",
    "                               max_features=max_totFeatures, max_df=max_docFreq, vocabulary=vocab)\n",
    "    if type is 'tfb':\n",
    "        return CountVectorizer(input = input_type,stop_words=eng_stopwords, min_df=min_docFreq,\n",
    "                               max_features=max_totFeatures, max_df=max_docFreq, binary = True, vocabulary=vocab)\n",
    "    else:\n",
    "        return TfidfVectorizer(input = input_type,stop_words=eng_stopwords, min_df=min_docFreq,\n",
    "                               max_features=max_totFeatures, max_df=max_docFreq, vocabulary=vocab)\n",
    "\n",
    "def gen_glda_model_sv(vectorizer, n_topics, finalCorpus, update_mat = False, alpha='auto', eta=\"auto\", ittrs=300 ):\n",
    "    pprefix = '(gen_glda_model_sv):'\n",
    "    tfMatrix = None\n",
    "    if update_mat or tfMatrix == None:  # dont want to re-create the everytime we want to generate an lda_model (e.g. different topic numbers)\n",
    "        # unless this is a new vectorizer, or a new corpus\n",
    "        t0 = time()\n",
    "        tfMatrix = vectorizer.fit_transform(finalCorpus)\n",
    "        print(pprefix, \"transform done in %0.3fs.\" % (time() - t0))\n",
    "        print(pprefix, \"tfMatrix shape:\", tfMatrix.shape)\n",
    "\n",
    "        tfMatrix = normalize(tfMatrix, norm='l1', axis=1)\n",
    "        print(pprefix, 'type after normalize: ',type(tfMatrix))\n",
    "\n",
    "    # invert vocabulary\n",
    "    # idx_to_term\n",
    "    vocab_key = []\n",
    "    ind2vocab = None\n",
    "    if ind2vocab == None:\n",
    "        inv_vocabulary = {}\n",
    "        i = 0\n",
    "        for w in sorted(vectorizer.vocabulary_):\n",
    "            #inv_vocabulary[vectorizer.vocabulary_[w]] = w\n",
    "            inv_vocabulary[i] = w\n",
    "            i+=1\n",
    "            vocab_key.append(vectorizer.vocabulary_[w])\n",
    "            # if vectorizer.vocabulary_[w] == 0:\n",
    "            #     print(w)\n",
    "    ind2vocab = inv_vocabulary\n",
    "    tfMatrix = tfMatrix[:,vocab_key]\n",
    "    print( ind2vocab [0], ind2vocab [1], ind2vocab [2])\n",
    "    corpus = gensim.matutils.Sparse2Corpus(tfMatrix, documents_columns=False)\n",
    "\n",
    "    np.random.seed(RSEED)\n",
    "    random.seed(RSEED)\n",
    "    lda = LdaModel(corpus, num_topics=n_topics, id2word=ind2vocab, alpha=alpha, eta=1.0/n_topics,\n",
    "                   random_state= np.random.RandomState(RSEED), iterations=ittrs,\n",
    "                   minimum_probability=0.001, minimum_phi_value=0.001 )\n",
    "\n",
    "    print(pprefix, 'lda perplexity:', lda.log_perplexity(corpus))\n",
    "    return lda, vocab_key, tfMatrix\n",
    "\n",
    "def build_topic_model(text_data, n_topics=100, min_docFreq = 2, output_prefix = ''):\n",
    "    pprefix = '(build_topic_model):'\n",
    "    text = preprocess_text(text_data)\n",
    "    print(pprefix, 'building topic models...')\n",
    "    type = 'tf'\n",
    "    vectorizer = gen_feature_vectorizer(type, input_type='content', max_docFreq=0.80, min_docFreq=min_docFreq)\n",
    "    print(pprefix, 'vectorizer:', vectorizer)\n",
    "    t0 = time()\n",
    "    for t in text:\n",
    "        print(t)\n",
    "        break\n",
    "    lda_model, vocab_key, tfMatrix = gen_glda_model_sv(vectorizer, n_topics, text)\n",
    "    topics = lda_model.show_topics(num_topics=-1, num_words=30, formatted=False)\n",
    "    topic_strings = {}\n",
    "\n",
    "    for t_no, topic in topics:\n",
    "        half = len(topic) / 2.0\n",
    "        i = 0\n",
    "        t_str = []\n",
    "        for word, weight in topic:\n",
    "            t_str.append(word)\n",
    "            if i > half:\n",
    "                t_str.append('\\n')  # for display purposes\n",
    "\n",
    "                i = 0\n",
    "            i += 1\n",
    "\n",
    "        topic_strings[t_no] = ' '.join(t_str)\n",
    "        print(t_no, ':', topic_strings[t_no])\n",
    "\n",
    "\n",
    "    with open( output_prefix + 'topic_model_topics_n=' + str(n_topics) + '.pickle', 'wb') as handle:\n",
    "        pickle.dump(topic_strings, handle, protocol=pickle.HIGHEST_PROTOCOL)\n",
    "    print('[TopicFeatureVectorizer.py]: Time taken to build topics:', time() - t0)\n",
    "\n",
    "    return lda_model, vectorizer, topic_strings, vocab_key, tfMatrix\n",
    "\n",
    "def read_topic_model(filename = ''):\n",
    "    with open (filename, 'rb') as handle:\n",
    "        pkl_data = pickle.load(handle)\n",
    "\n",
    "    for i in pkl_data:\n",
    "        print( i, pkl_data[i] )\n",
    "\n",
    "def debug():\n",
    "    read_topic_model('observed_topic_model_topics_n=100.pickle')\n",
    "\n",
    "\n",
    "# the idea is that we can create topic models from the individual comments or we can group based on the inspection or inspector and then\n",
    "# create the topic models\n",
    "def get_doc_representation():\n",
    "\n",
    "    return\n",
    "\n",
    "def main():\n",
    "    # datafiles = ['dataset/FoodRep_2008.csv', 'dataset/FoodRep_2009.csv']\n",
    "    datafiles = glob.glob('dataset/*.csv')\n",
    "    output_prefix = 'msg_all'\n",
    "    print(datafiles)\n",
    "    dr = DataReader(filenames=datafiles)\n",
    "    dr.read()\n",
    "    inspector_dic = dr.read_by_inspector()\n",
    "    msgs = []\n",
    "    msg_len = []\n",
    "    tot = 0\n",
    "    for inspector in sorted(inspector_dic.keys()):\n",
    "        msgs += inspector_dic[inspector]\n",
    "        tot += len(inspector_dic[inspector])\n",
    "        msg_len.append(tot)\n",
    "\n",
    "\n",
    "    # print(dr.df['Insp Comm'].dropna())\n",
    "    # print(dr.df['Observed'].dropna())\n",
    "    # observed_data = dr.df['Observed'].dropna()\n",
    "    lda_model, vectorizer, topic_strings, vocab_key, X_data = build_topic_model(msgs, output_prefix=output_prefix)\n",
    "\n",
    "    if vocab_key:\n",
    "        X_data = X_data[:,vocab_key]\n",
    "    X_data = normalize(X_data, norm='l1', axis=1)  ## TODO: make this potentially optional\n",
    "    corpus = gensim.matutils.Sparse2Corpus(X_data, documents_columns=False)\n",
    "    # np.random.seed(self.RANDOM_SEED)\n",
    "    # random.seed(self.RANDOM_SEED)\n",
    "    result = lda_model[corpus]\n",
    "    X = gensim.matutils.corpus2csc(result).transpose().toarray()\n",
    "    print(np.shape(X))\n",
    "\n",
    "    prev = 0\n",
    "    inspectors = []\n",
    "    for l in msg_len:\n",
    "        inspectors.append(np.average(X[prev:l], axis=0))\n",
    "\n",
    "    inspct_topic_rep = np.array(inspectors)\n",
    "\n",
    "    kmeans = KMeans(n_clusters=15, random_state=RSEED).fit(inspct_topic_rep)\n",
    "    for (i,j) in zip(sorted(inspector_dic.keys()), kmeans.labels_ ):\n",
    "        print( j, ':', i)\n",
    "    print(kmeans.cluster_centers_)\n",
    "    print(kmeans.transform(inspct_topic_rep))\n",
    "\n",
    "    with open( output_prefix + 'data.pickle', 'wb') as handle:\n",
    "        pickle.dump({'kmeans':kmeans, 'inspct_topic_rep':inspct_topic_rep, 'lda_model':lda_model, 'tfidf_data':X_data,\n",
    "                     'vectorizer':vectorizer, 'vocab_key':vocab_key}, handle, protocol=pickle.HIGHEST_PROTOCOL)\n",
    "\n",
    "\n",
    "    return\n",
    "\n",
    "if __name__ == '__main__':\n",
    "    main()\n"
   ]
  },
  {
   "cell_type": "code",
   "execution_count": null,
   "metadata": {},
   "outputs": [],
   "source": []
  },
  {
   "cell_type": "code",
   "execution_count": null,
   "metadata": {},
   "outputs": [],
   "source": []
  },
  {
   "cell_type": "code",
   "execution_count": 79,
   "metadata": {},
   "outputs": [],
   "source": [
    "jdf.drop('IPAddress',axis=1)\n",
    "action=jdf[['Q1','Q6','Q13']]\n",
    "inaction=jdf[['Q7','Q15','Q14']]\n",
    "run=jdf[['Q8','Q11','Q16']]\n",
    "sleep=jdf[['Q10','Q9','Q17']]"
   ]
  },
  {
   "cell_type": "code",
   "execution_count": 83,
   "metadata": {},
   "outputs": [],
   "source": [
    "text_data1 = []\n",
    "#with open('part3NLP.csv', encoding=\"utf8\") as f:\n",
    "for line in action:\n",
    "    tokens1 = prepare_text_for_lda(line)\n",
    "    text_data1.append(tokens1)"
   ]
  },
  {
   "cell_type": "code",
   "execution_count": 84,
   "metadata": {},
   "outputs": [],
   "source": [
    "from gensim import corpora\n",
    "dictionary = corpora.Dictionary(text_data1)"
   ]
  },
  {
   "cell_type": "code",
   "execution_count": 85,
   "metadata": {},
   "outputs": [],
   "source": [
    "corpus = [dictionary.doc2bow(text) for text in text_data1]"
   ]
  },
  {
   "cell_type": "code",
   "execution_count": 122,
   "metadata": {},
   "outputs": [
    {
     "name": "stdout",
     "output_type": "stream",
     "text": [
      "[[0.58327359 0.         0.         0.         0.41085896 0.\n",
      "  0.         0.        ]\n",
      " [0.         0.99472696 0.         0.         0.         0.\n",
      "  0.         0.        ]\n",
      " [0.         0.         0.         0.         0.99275827 0.\n",
      "  0.         0.        ]\n",
      " [0.         0.         0.98969024 0.         0.         0.\n",
      "  0.         0.        ]\n",
      " [0.         0.         0.         0.         0.         0.\n",
      "  0.         0.99369723]\n",
      " [0.         0.         0.         0.         0.99614114 0.\n",
      "  0.         0.        ]\n",
      " [0.         0.         0.99244821 0.         0.         0.\n",
      "  0.         0.        ]\n",
      " [0.         0.         0.99659228 0.         0.         0.\n",
      "  0.         0.        ]\n",
      " [0.         0.         0.99097037 0.         0.         0.\n",
      "  0.         0.        ]\n",
      " [0.         0.         0.         0.         0.98905015 0.\n",
      "  0.         0.        ]\n",
      " [0.         0.         0.         0.         0.99478537 0.\n",
      "  0.         0.        ]\n",
      " [0.         0.         0.         0.         0.         0.\n",
      "  0.99382973 0.        ]\n",
      " [0.         0.         0.99263906 0.         0.         0.\n",
      "  0.         0.        ]\n",
      " [0.         0.         0.         0.95137006 0.         0.\n",
      "  0.         0.        ]\n",
      " [0.95708573 0.         0.         0.         0.         0.03990969\n",
      "  0.         0.        ]\n",
      " [0.99887902 0.         0.         0.         0.         0.\n",
      "  0.         0.        ]\n",
      " [0.125      0.125      0.125      0.125      0.125      0.125\n",
      "  0.125      0.125     ]\n",
      " [0.         0.         0.         0.         0.         0.98407906\n",
      "  0.         0.        ]\n",
      " [0.         0.         0.         0.         0.99423784 0.\n",
      "  0.         0.        ]\n",
      " [0.         0.         0.         0.         0.         0.\n",
      "  0.         0.9912405 ]\n",
      " [0.01251003 0.01250594 0.91247177 0.01250128 0.0125019  0.01250616\n",
      "  0.01250167 0.01250128]\n",
      " [0.         0.         0.         0.         0.         0.\n",
      "  0.99518758 0.        ]\n",
      " [0.         0.99572599 0.         0.         0.         0.\n",
      "  0.         0.        ]\n",
      " [0.         0.         0.         0.         0.         0.\n",
      "  0.9923842  0.        ]\n",
      " [0.         0.98010075 0.         0.         0.         0.\n",
      "  0.         0.        ]\n",
      " [0.99445474 0.         0.         0.         0.         0.\n",
      "  0.         0.        ]\n",
      " [0.         0.         0.99166    0.         0.         0.\n",
      "  0.         0.        ]\n",
      " [0.         0.         0.         0.         0.         0.\n",
      "  0.99132526 0.        ]\n",
      " [0.         0.         0.         0.         0.         0.98992985\n",
      "  0.         0.        ]\n",
      " [0.         0.         0.         0.99238151 0.         0.\n",
      "  0.         0.        ]\n",
      " [0.99231499 0.         0.         0.         0.         0.\n",
      "  0.         0.        ]\n",
      " [0.37013516 0.         0.62542027 0.         0.         0.\n",
      "  0.         0.        ]\n",
      " [0.         0.         0.         0.         0.9955315  0.\n",
      "  0.         0.        ]\n",
      " [0.         0.         0.         0.         0.99434745 0.\n",
      "  0.         0.        ]\n",
      " [0.         0.         0.         0.         0.         0.99293959\n",
      "  0.         0.        ]\n",
      " [0.         0.         0.         0.         0.         0.9831537\n",
      "  0.         0.        ]\n",
      " [0.         0.         0.         0.         0.99400043 0.\n",
      "  0.         0.        ]\n",
      " [0.99455726 0.         0.         0.         0.         0.\n",
      "  0.         0.        ]\n",
      " [0.         0.         0.         0.99106044 0.         0.\n",
      "  0.         0.        ]\n",
      " [0.         0.         0.         0.         0.99355841 0.\n",
      "  0.         0.        ]\n",
      " [0.         0.         0.         0.         0.         0.\n",
      "  0.99124432 0.        ]\n",
      " [0.         0.         0.         0.         0.99427545 0.\n",
      "  0.         0.        ]\n",
      " [0.         0.         0.         0.         0.         0.99553084\n",
      "  0.         0.        ]\n",
      " [0.         0.         0.         0.         0.         0.\n",
      "  0.99281943 0.        ]\n",
      " [0.99566245 0.         0.         0.         0.         0.\n",
      "  0.         0.        ]\n",
      " [0.         0.         0.         0.         0.         0.\n",
      "  0.         0.98540717]\n",
      " [0.         0.         0.         0.         0.         0.9949649\n",
      "  0.         0.        ]\n",
      " [0.         0.         0.99623984 0.         0.         0.\n",
      "  0.         0.        ]\n",
      " [0.         0.         0.         0.         0.         0.993559\n",
      "  0.         0.        ]\n",
      " [0.9933092  0.         0.         0.         0.         0.\n",
      "  0.         0.        ]\n",
      " [0.9936046  0.         0.         0.         0.         0.\n",
      "  0.         0.        ]\n",
      " [0.         0.         0.         0.         0.         0.\n",
      "  0.99588633 0.        ]\n",
      " [0.         0.         0.         0.         0.99465936 0.\n",
      "  0.         0.        ]\n",
      " [0.         0.         0.         0.98653066 0.         0.\n",
      "  0.         0.        ]\n",
      " [0.99688268 0.         0.         0.         0.         0.\n",
      "  0.         0.        ]\n",
      " [0.99505007 0.         0.         0.         0.         0.\n",
      "  0.         0.        ]\n",
      " [0.99728829 0.         0.         0.         0.         0.\n",
      "  0.         0.        ]\n",
      " [0.         0.         0.         0.         0.         0.\n",
      "  0.99257571 0.        ]\n",
      " [0.         0.         0.         0.         0.         0.\n",
      "  0.         0.98464721]\n",
      " [0.         0.         0.         0.98541141 0.         0.\n",
      "  0.         0.        ]\n",
      " [0.         0.         0.         0.         0.         0.\n",
      "  0.         0.98563927]\n",
      " [0.         0.         0.         0.99231362 0.         0.\n",
      "  0.         0.        ]\n",
      " [0.         0.         0.         0.99068397 0.         0.\n",
      "  0.         0.        ]\n",
      " [0.         0.         0.         0.         0.         0.99603736\n",
      "  0.         0.        ]\n",
      " [0.         0.         0.         0.         0.98981464 0.\n",
      "  0.         0.        ]\n",
      " [0.         0.99765193 0.         0.         0.         0.\n",
      "  0.         0.        ]]\n"
     ]
    }
   ],
   "source": [
    "result = ldamodel[corpus]\n",
    "X = gensim.matutils.corpus2csc(result).transpose().toarray()\n",
    "print(X)\n",
    "pd.DataFrame(X).to_csv(\"action1.csv\")"
   ]
  },
  {
   "cell_type": "code",
   "execution_count": 81,
   "metadata": {},
   "outputs": [],
   "source": [
    "#Done already\n",
    "import gensim\n",
    "NUM_TOPICS = 8\n",
    "ldamodel = gensim.models.ldamodel.LdaModel(corpus, num_topics = NUM_TOPICS, id2word=dictionary, passes=15)\n",
    "ldamodel.save('model8.gensim')"
   ]
  },
  {
   "cell_type": "code",
   "execution_count": null,
   "metadata": {},
   "outputs": [],
   "source": [
    "topics = ldamodel.print_topics(num_words=4)\n",
    "for topic in topics:\n",
    "    print(topic)"
   ]
  },
  {
   "cell_type": "code",
   "execution_count": null,
   "metadata": {},
   "outputs": [],
   "source": []
  },
  {
   "cell_type": "code",
   "execution_count": 117,
   "metadata": {},
   "outputs": [],
   "source": [
    "text_data1 = []\n",
    "#with open('part3NLP.csv', encoding=\"utf8\") as f:\n",
    "for line in inaction:\n",
    "    tokens1 = prepare_text_for_lda(line)\n",
    "    text_data1.append(tokens1)\n",
    "dictionary = corpora.Dictionary(text_data1)\n",
    "corpus = [dictionary.doc2bow(text) for text in text_data1]\n",
    "result = ldamodel[corpus]\n",
    "Xi = gensim.matutils.corpus2csc(result).transpose().toarray()\n",
    "pd.DataFrame(Xi).to_csv(\"inaction.csv\")"
   ]
  },
  {
   "cell_type": "code",
   "execution_count": 90,
   "metadata": {},
   "outputs": [],
   "source": [
    "text_data1 = []\n",
    "#with open('part3NLP.csv', encoding=\"utf8\") as f:\n",
    "for line in run:\n",
    "    tokens1 = prepare_text_for_lda(line)\n",
    "    text_data1.append(tokens1)\n",
    "dictionary = corpora.Dictionary(text_data1)\n",
    "corpus = [dictionary.doc2bow(text) for text in text_data1]\n",
    "result = ldamodel[corpus]\n",
    "Xi = gensim.matutils.corpus2csc(result).transpose().toarray()\n",
    "pd.DataFrame(Xi).to_csv(\"run.csv\")"
   ]
  },
  {
   "cell_type": "code",
   "execution_count": 91,
   "metadata": {},
   "outputs": [],
   "source": [
    "text_data1 = []\n",
    "#with open('part3NLP.csv', encoding=\"utf8\") as f:\n",
    "for line in sleep:\n",
    "    tokens1 = prepare_text_for_lda(line)\n",
    "    text_data1.append(tokens1)\n",
    "dictionary = corpora.Dictionary(text_data1)\n",
    "corpus = [dictionary.doc2bow(text) for text in text_data1]\n",
    "result = ldamodel[corpus]\n",
    "Xi = gensim.matutils.corpus2csc(result).transpose().toarray()\n",
    "pd.DataFrame(Xi).to_csv(\"sleep.csv\")"
   ]
  },
  {
   "cell_type": "code",
   "execution_count": null,
   "metadata": {},
   "outputs": [],
   "source": []
  }
 ],
 "metadata": {
  "kernelspec": {
   "display_name": "Python 3",
   "language": "python",
   "name": "python3"
  },
  "language_info": {
   "codemirror_mode": {
    "name": "ipython",
    "version": 3
   },
   "file_extension": ".py",
   "mimetype": "text/x-python",
   "name": "python",
   "nbconvert_exporter": "python",
   "pygments_lexer": "ipython3",
   "version": "3.7.1"
  }
 },
 "nbformat": 4,
 "nbformat_minor": 2
}
